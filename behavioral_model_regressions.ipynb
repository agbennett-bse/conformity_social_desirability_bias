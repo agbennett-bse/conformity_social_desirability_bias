{
 "cells": [
  {
   "cell_type": "code",
   "execution_count": 102,
   "metadata": {},
   "outputs": [],
   "source": [
    "import pandas as pd\n",
    "import numpy as np\n",
    "import matplotlib.pyplot as plt\n",
    "import seaborn as sns\n",
    "import plotly.express as px\n",
    "import statsmodels.api as sm"
   ]
  },
  {
   "cell_type": "code",
   "execution_count": 103,
   "metadata": {},
   "outputs": [
    {
     "data": {
      "text/html": [
       "<div>\n",
       "<style scoped>\n",
       "    .dataframe tbody tr th:only-of-type {\n",
       "        vertical-align: middle;\n",
       "    }\n",
       "\n",
       "    .dataframe tbody tr th {\n",
       "        vertical-align: top;\n",
       "    }\n",
       "\n",
       "    .dataframe thead th {\n",
       "        text-align: right;\n",
       "    }\n",
       "</style>\n",
       "<table border=\"1\" class=\"dataframe\">\n",
       "  <thead>\n",
       "    <tr style=\"text-align: right;\">\n",
       "      <th></th>\n",
       "      <th>male_lecturers</th>\n",
       "      <th>university_gender_quota</th>\n",
       "      <th>workload_stress</th>\n",
       "      <th>dei_policies</th>\n",
       "      <th>netflix</th>\n",
       "      <th>attention_test</th>\n",
       "      <th>age</th>\n",
       "      <th>gender_identity</th>\n",
       "      <th>schooling</th>\n",
       "      <th>political_alignment</th>\n",
       "      <th>lat</th>\n",
       "      <th>lng</th>\n",
       "      <th>duration</th>\n",
       "      <th>is_direct</th>\n",
       "      <th>has_conformity_trigger</th>\n",
       "      <th>male_lecturers_SDB</th>\n",
       "      <th>university_gender_quota_SDB</th>\n",
       "      <th>workload_stress_SDB</th>\n",
       "      <th>dei_policies_SDB</th>\n",
       "      <th>netflix_SDB</th>\n",
       "    </tr>\n",
       "  </thead>\n",
       "  <tbody>\n",
       "    <tr>\n",
       "      <th>0</th>\n",
       "      <td>2</td>\n",
       "      <td>1</td>\n",
       "      <td>2</td>\n",
       "      <td>1</td>\n",
       "      <td>3</td>\n",
       "      <td>5</td>\n",
       "      <td>4</td>\n",
       "      <td>1</td>\n",
       "      <td>5</td>\n",
       "      <td>11</td>\n",
       "      <td>41.3870</td>\n",
       "      <td>2.1701</td>\n",
       "      <td>166</td>\n",
       "      <td>0</td>\n",
       "      <td>0</td>\n",
       "      <td>0.046923</td>\n",
       "      <td>0.46</td>\n",
       "      <td>-0.23</td>\n",
       "      <td>0.076154</td>\n",
       "      <td>-0.050769</td>\n",
       "    </tr>\n",
       "    <tr>\n",
       "      <th>1</th>\n",
       "      <td>2</td>\n",
       "      <td>2</td>\n",
       "      <td>3</td>\n",
       "      <td>4</td>\n",
       "      <td>3</td>\n",
       "      <td>5</td>\n",
       "      <td>3</td>\n",
       "      <td>2</td>\n",
       "      <td>4</td>\n",
       "      <td>1</td>\n",
       "      <td>41.3870</td>\n",
       "      <td>2.1701</td>\n",
       "      <td>323</td>\n",
       "      <td>0</td>\n",
       "      <td>0</td>\n",
       "      <td>0.046923</td>\n",
       "      <td>0.46</td>\n",
       "      <td>-0.23</td>\n",
       "      <td>0.076154</td>\n",
       "      <td>-0.050769</td>\n",
       "    </tr>\n",
       "    <tr>\n",
       "      <th>2</th>\n",
       "      <td>2</td>\n",
       "      <td>2</td>\n",
       "      <td>2</td>\n",
       "      <td>3</td>\n",
       "      <td>3</td>\n",
       "      <td>5</td>\n",
       "      <td>2</td>\n",
       "      <td>2</td>\n",
       "      <td>4</td>\n",
       "      <td>-12</td>\n",
       "      <td>41.3870</td>\n",
       "      <td>2.1701</td>\n",
       "      <td>315</td>\n",
       "      <td>0</td>\n",
       "      <td>1</td>\n",
       "      <td>0.046923</td>\n",
       "      <td>0.46</td>\n",
       "      <td>-0.23</td>\n",
       "      <td>0.076154</td>\n",
       "      <td>-0.050769</td>\n",
       "    </tr>\n",
       "    <tr>\n",
       "      <th>3</th>\n",
       "      <td>5</td>\n",
       "      <td>4</td>\n",
       "      <td>4</td>\n",
       "      <td>2</td>\n",
       "      <td>2</td>\n",
       "      <td>5</td>\n",
       "      <td>2</td>\n",
       "      <td>1</td>\n",
       "      <td>4</td>\n",
       "      <td>3</td>\n",
       "      <td>34.0034</td>\n",
       "      <td>-84.4605</td>\n",
       "      <td>210</td>\n",
       "      <td>0</td>\n",
       "      <td>0</td>\n",
       "      <td>0.046923</td>\n",
       "      <td>0.46</td>\n",
       "      <td>-0.23</td>\n",
       "      <td>0.076154</td>\n",
       "      <td>-0.050769</td>\n",
       "    </tr>\n",
       "    <tr>\n",
       "      <th>4</th>\n",
       "      <td>2</td>\n",
       "      <td>1</td>\n",
       "      <td>2</td>\n",
       "      <td>3</td>\n",
       "      <td>3</td>\n",
       "      <td>5</td>\n",
       "      <td>3</td>\n",
       "      <td>2</td>\n",
       "      <td>4</td>\n",
       "      <td>-41</td>\n",
       "      <td>40.4172</td>\n",
       "      <td>-3.6840</td>\n",
       "      <td>572</td>\n",
       "      <td>0</td>\n",
       "      <td>0</td>\n",
       "      <td>0.046923</td>\n",
       "      <td>0.46</td>\n",
       "      <td>-0.23</td>\n",
       "      <td>0.076154</td>\n",
       "      <td>-0.050769</td>\n",
       "    </tr>\n",
       "  </tbody>\n",
       "</table>\n",
       "</div>"
      ],
      "text/plain": [
       "   male_lecturers  university_gender_quota  workload_stress  dei_policies  \\\n",
       "0               2                        1                2             1   \n",
       "1               2                        2                3             4   \n",
       "2               2                        2                2             3   \n",
       "3               5                        4                4             2   \n",
       "4               2                        1                2             3   \n",
       "\n",
       "   netflix  attention_test  age  gender_identity  schooling  \\\n",
       "0        3               5    4                1          5   \n",
       "1        3               5    3                2          4   \n",
       "2        3               5    2                2          4   \n",
       "3        2               5    2                1          4   \n",
       "4        3               5    3                2          4   \n",
       "\n",
       "   political_alignment      lat      lng  duration  is_direct  \\\n",
       "0                   11  41.3870   2.1701       166          0   \n",
       "1                    1  41.3870   2.1701       323          0   \n",
       "2                  -12  41.3870   2.1701       315          0   \n",
       "3                    3  34.0034 -84.4605       210          0   \n",
       "4                  -41  40.4172  -3.6840       572          0   \n",
       "\n",
       "   has_conformity_trigger  male_lecturers_SDB  university_gender_quota_SDB  \\\n",
       "0                       0            0.046923                         0.46   \n",
       "1                       0            0.046923                         0.46   \n",
       "2                       1            0.046923                         0.46   \n",
       "3                       0            0.046923                         0.46   \n",
       "4                       0            0.046923                         0.46   \n",
       "\n",
       "   workload_stress_SDB  dei_policies_SDB  netflix_SDB  \n",
       "0                -0.23          0.076154    -0.050769  \n",
       "1                -0.23          0.076154    -0.050769  \n",
       "2                -0.23          0.076154    -0.050769  \n",
       "3                -0.23          0.076154    -0.050769  \n",
       "4                -0.23          0.076154    -0.050769  "
      ]
     },
     "execution_count": 103,
     "metadata": {},
     "output_type": "execute_result"
    }
   ],
   "source": [
    "data = pd.read_csv('data/preprocessed_data.csv')\n",
    "data.head()"
   ]
  },
  {
   "cell_type": "code",
   "execution_count": 104,
   "metadata": {},
   "outputs": [],
   "source": [
    "questions = ['male_lecturers',\t'university_gender_quota',\t'workload_stress',\t'dei_policies',\t'netflix']\n",
    "ind_vars = ['age', 'gender_identity', 'schooling', 'political_alignment']\n",
    "\n",
    "SDB_columns = {}\n",
    "\n",
    "for question in questions: \n",
    "    col_name = question + '_SDB'\n",
    "    SDB_columns[question] = col_name"
   ]
  },
  {
   "cell_type": "markdown",
   "metadata": {},
   "source": [
    "first get summary statistics for each question with conformity and non conformity trigger"
   ]
  },
  {
   "cell_type": "code",
   "execution_count": 105,
   "metadata": {},
   "outputs": [
    {
     "name": "stdout",
     "output_type": "stream",
     "text": [
      "has_conformity_trigger\n",
      "0    50\n",
      "1    52\n",
      "Name: university_gender_quota, dtype: int64\n"
     ]
    }
   ],
   "source": [
    "print(data.groupby('has_conformity_trigger')['university_gender_quota'].count())"
   ]
  },
  {
   "cell_type": "markdown",
   "metadata": {},
   "source": [
    "run percentages for each question with conformity and without conformity"
   ]
  },
  {
   "cell_type": "code",
   "execution_count": 106,
   "metadata": {},
   "outputs": [
    {
     "data": {
      "text/html": [
       "<div>\n",
       "<style scoped>\n",
       "    .dataframe tbody tr th:only-of-type {\n",
       "        vertical-align: middle;\n",
       "    }\n",
       "\n",
       "    .dataframe tbody tr th {\n",
       "        vertical-align: top;\n",
       "    }\n",
       "\n",
       "    .dataframe thead th {\n",
       "        text-align: right;\n",
       "    }\n",
       "</style>\n",
       "<table border=\"1\" class=\"dataframe\">\n",
       "  <thead>\n",
       "    <tr style=\"text-align: right;\">\n",
       "      <th></th>\n",
       "      <th>all</th>\n",
       "      <th>conformity</th>\n",
       "      <th>non_conformity</th>\n",
       "    </tr>\n",
       "  </thead>\n",
       "  <tbody>\n",
       "    <tr>\n",
       "      <th>male_lecturers</th>\n",
       "      <td>2.159292</td>\n",
       "      <td>8.333333</td>\n",
       "      <td>-3.571429</td>\n",
       "    </tr>\n",
       "    <tr>\n",
       "      <th>university_gender_quota</th>\n",
       "      <td>30.666667</td>\n",
       "      <td>30.555556</td>\n",
       "      <td>30.769231</td>\n",
       "    </tr>\n",
       "    <tr>\n",
       "      <th>workload_stress</th>\n",
       "      <td>-8.363636</td>\n",
       "      <td>-15.410959</td>\n",
       "      <td>-1.428571</td>\n",
       "    </tr>\n",
       "    <tr>\n",
       "      <th>dei_policies</th>\n",
       "      <td>3.168000</td>\n",
       "      <td>13.411458</td>\n",
       "      <td>-6.557377</td>\n",
       "    </tr>\n",
       "    <tr>\n",
       "      <th>netflix</th>\n",
       "      <td>-1.859155</td>\n",
       "      <td>-5.208333</td>\n",
       "      <td>1.428571</td>\n",
       "    </tr>\n",
       "  </tbody>\n",
       "</table>\n",
       "</div>"
      ],
      "text/plain": [
       "                               all  conformity  non_conformity\n",
       "male_lecturers            2.159292    8.333333       -3.571429\n",
       "university_gender_quota  30.666667   30.555556       30.769231\n",
       "workload_stress          -8.363636  -15.410959       -1.428571\n",
       "dei_policies              3.168000   13.411458       -6.557377\n",
       "netflix                  -1.859155   -5.208333        1.428571"
      ]
     },
     "execution_count": 106,
     "metadata": {},
     "output_type": "execute_result"
    }
   ],
   "source": [
    "all_data = {'all':[], 'conformity':[], 'non_conformity':[]}\n",
    "\n",
    "for question in questions:\n",
    "\n",
    "    direct = data.loc[data['is_direct'] == 1, question].mean()\n",
    "    veiled = data.loc[data['is_direct'] == 0, question].mean()\n",
    "    pct_diff = ((veiled - direct)/direct) * 100\n",
    "    all_data['all'].append(pct_diff)\n",
    "\n",
    "    non_conformity = data[data['has_conformity_trigger'] == 0]\n",
    "    direct = non_conformity.loc[non_conformity['is_direct'] == 1, question].mean()\n",
    "    veiled = non_conformity.loc[non_conformity['is_direct'] == 0, question].mean()\n",
    "    pct_diff = ((veiled - direct)/direct) * 100\n",
    "    all_data['conformity'].append(pct_diff)\n",
    "\n",
    "    conformity = data[data['has_conformity_trigger'] == 1]\n",
    "    direct = conformity.loc[conformity['is_direct'] == 1, question].mean()\n",
    "    veiled = conformity.loc[conformity['is_direct'] == 0, question].mean()\n",
    "    pct_diff = ((veiled - direct)/direct) * 100\n",
    "    all_data['non_conformity'].append(pct_diff)\n",
    "\n",
    "plot_data = pd.DataFrame(all_data, index=questions)\n",
    "plot_data\n",
    "    "
   ]
  },
  {
   "cell_type": "code",
   "execution_count": 107,
   "metadata": {},
   "outputs": [
    {
     "data": {
      "application/vnd.plotly.v1+json": {
       "config": {
        "plotlyServerURL": "https://plot.ly"
       },
       "data": [
        {
         "alignmentgroup": "True",
         "hovertemplate": "Group=all<br>Questions=%{x}<br>Percentage Difference in Means=%{y}<extra></extra>",
         "legendgroup": "all",
         "marker": {
          "color": "#0293b0",
          "pattern": {
           "shape": ""
          }
         },
         "name": "all",
         "offsetgroup": "all",
         "orientation": "v",
         "showlegend": true,
         "textposition": "auto",
         "type": "bar",
         "x": [
          "male_lecturers",
          "university_gender_quota",
          "workload_stress",
          "dei_policies",
          "netflix"
         ],
         "xaxis": "x",
         "y": [
          2.1592920353982468,
          30.666666666666664,
          -8.363636363636363,
          3.1680000000000033,
          -1.8591549295774616
         ],
         "yaxis": "y"
        },
        {
         "alignmentgroup": "True",
         "hovertemplate": "Group=conformity<br>Questions=%{x}<br>Percentage Difference in Means=%{y}<extra></extra>",
         "legendgroup": "conformity",
         "marker": {
          "color": "#02697e",
          "pattern": {
           "shape": ""
          }
         },
         "name": "conformity",
         "offsetgroup": "conformity",
         "orientation": "v",
         "showlegend": true,
         "textposition": "auto",
         "type": "bar",
         "x": [
          "male_lecturers",
          "university_gender_quota",
          "workload_stress",
          "dei_policies",
          "netflix"
         ],
         "xaxis": "x",
         "y": [
          8.333333333333323,
          30.555555555555554,
          -15.410958904109584,
          13.41145833333332,
          -5.20833333333333
         ],
         "yaxis": "y"
        },
        {
         "alignmentgroup": "True",
         "hovertemplate": "Group=non_conformity<br>Questions=%{x}<br>Percentage Difference in Means=%{y}<extra></extra>",
         "legendgroup": "non_conformity",
         "marker": {
          "color": "#013f4c",
          "pattern": {
           "shape": ""
          }
         },
         "name": "non_conformity",
         "offsetgroup": "non_conformity",
         "orientation": "v",
         "showlegend": true,
         "textposition": "auto",
         "type": "bar",
         "x": [
          "male_lecturers",
          "university_gender_quota",
          "workload_stress",
          "dei_policies",
          "netflix"
         ],
         "xaxis": "x",
         "y": [
          -3.5714285714285587,
          30.769230769230766,
          -1.4285714285714397,
          -6.557377049180323,
          1.4285714285714233
         ],
         "yaxis": "y"
        }
       ],
       "layout": {
        "autosize": false,
        "barmode": "group",
        "height": 400,
        "legend": {
         "title": {
          "text": "Group"
         },
         "tracegroupgap": 0
        },
        "margin": {
         "b": 100,
         "l": 50,
         "pad": 4,
         "r": 50,
         "t": 100
        },
        "template": {
         "data": {
          "bar": [
           {
            "error_x": {
             "color": "#2a3f5f"
            },
            "error_y": {
             "color": "#2a3f5f"
            },
            "marker": {
             "line": {
              "color": "#E5ECF6",
              "width": 0.5
             },
             "pattern": {
              "fillmode": "overlay",
              "size": 10,
              "solidity": 0.2
             }
            },
            "type": "bar"
           }
          ],
          "barpolar": [
           {
            "marker": {
             "line": {
              "color": "#E5ECF6",
              "width": 0.5
             },
             "pattern": {
              "fillmode": "overlay",
              "size": 10,
              "solidity": 0.2
             }
            },
            "type": "barpolar"
           }
          ],
          "carpet": [
           {
            "aaxis": {
             "endlinecolor": "#2a3f5f",
             "gridcolor": "white",
             "linecolor": "white",
             "minorgridcolor": "white",
             "startlinecolor": "#2a3f5f"
            },
            "baxis": {
             "endlinecolor": "#2a3f5f",
             "gridcolor": "white",
             "linecolor": "white",
             "minorgridcolor": "white",
             "startlinecolor": "#2a3f5f"
            },
            "type": "carpet"
           }
          ],
          "choropleth": [
           {
            "colorbar": {
             "outlinewidth": 0,
             "ticks": ""
            },
            "type": "choropleth"
           }
          ],
          "contour": [
           {
            "colorbar": {
             "outlinewidth": 0,
             "ticks": ""
            },
            "colorscale": [
             [
              0,
              "#0d0887"
             ],
             [
              0.1111111111111111,
              "#46039f"
             ],
             [
              0.2222222222222222,
              "#7201a8"
             ],
             [
              0.3333333333333333,
              "#9c179e"
             ],
             [
              0.4444444444444444,
              "#bd3786"
             ],
             [
              0.5555555555555556,
              "#d8576b"
             ],
             [
              0.6666666666666666,
              "#ed7953"
             ],
             [
              0.7777777777777778,
              "#fb9f3a"
             ],
             [
              0.8888888888888888,
              "#fdca26"
             ],
             [
              1,
              "#f0f921"
             ]
            ],
            "type": "contour"
           }
          ],
          "contourcarpet": [
           {
            "colorbar": {
             "outlinewidth": 0,
             "ticks": ""
            },
            "type": "contourcarpet"
           }
          ],
          "heatmap": [
           {
            "colorbar": {
             "outlinewidth": 0,
             "ticks": ""
            },
            "colorscale": [
             [
              0,
              "#0d0887"
             ],
             [
              0.1111111111111111,
              "#46039f"
             ],
             [
              0.2222222222222222,
              "#7201a8"
             ],
             [
              0.3333333333333333,
              "#9c179e"
             ],
             [
              0.4444444444444444,
              "#bd3786"
             ],
             [
              0.5555555555555556,
              "#d8576b"
             ],
             [
              0.6666666666666666,
              "#ed7953"
             ],
             [
              0.7777777777777778,
              "#fb9f3a"
             ],
             [
              0.8888888888888888,
              "#fdca26"
             ],
             [
              1,
              "#f0f921"
             ]
            ],
            "type": "heatmap"
           }
          ],
          "heatmapgl": [
           {
            "colorbar": {
             "outlinewidth": 0,
             "ticks": ""
            },
            "colorscale": [
             [
              0,
              "#0d0887"
             ],
             [
              0.1111111111111111,
              "#46039f"
             ],
             [
              0.2222222222222222,
              "#7201a8"
             ],
             [
              0.3333333333333333,
              "#9c179e"
             ],
             [
              0.4444444444444444,
              "#bd3786"
             ],
             [
              0.5555555555555556,
              "#d8576b"
             ],
             [
              0.6666666666666666,
              "#ed7953"
             ],
             [
              0.7777777777777778,
              "#fb9f3a"
             ],
             [
              0.8888888888888888,
              "#fdca26"
             ],
             [
              1,
              "#f0f921"
             ]
            ],
            "type": "heatmapgl"
           }
          ],
          "histogram": [
           {
            "marker": {
             "pattern": {
              "fillmode": "overlay",
              "size": 10,
              "solidity": 0.2
             }
            },
            "type": "histogram"
           }
          ],
          "histogram2d": [
           {
            "colorbar": {
             "outlinewidth": 0,
             "ticks": ""
            },
            "colorscale": [
             [
              0,
              "#0d0887"
             ],
             [
              0.1111111111111111,
              "#46039f"
             ],
             [
              0.2222222222222222,
              "#7201a8"
             ],
             [
              0.3333333333333333,
              "#9c179e"
             ],
             [
              0.4444444444444444,
              "#bd3786"
             ],
             [
              0.5555555555555556,
              "#d8576b"
             ],
             [
              0.6666666666666666,
              "#ed7953"
             ],
             [
              0.7777777777777778,
              "#fb9f3a"
             ],
             [
              0.8888888888888888,
              "#fdca26"
             ],
             [
              1,
              "#f0f921"
             ]
            ],
            "type": "histogram2d"
           }
          ],
          "histogram2dcontour": [
           {
            "colorbar": {
             "outlinewidth": 0,
             "ticks": ""
            },
            "colorscale": [
             [
              0,
              "#0d0887"
             ],
             [
              0.1111111111111111,
              "#46039f"
             ],
             [
              0.2222222222222222,
              "#7201a8"
             ],
             [
              0.3333333333333333,
              "#9c179e"
             ],
             [
              0.4444444444444444,
              "#bd3786"
             ],
             [
              0.5555555555555556,
              "#d8576b"
             ],
             [
              0.6666666666666666,
              "#ed7953"
             ],
             [
              0.7777777777777778,
              "#fb9f3a"
             ],
             [
              0.8888888888888888,
              "#fdca26"
             ],
             [
              1,
              "#f0f921"
             ]
            ],
            "type": "histogram2dcontour"
           }
          ],
          "mesh3d": [
           {
            "colorbar": {
             "outlinewidth": 0,
             "ticks": ""
            },
            "type": "mesh3d"
           }
          ],
          "parcoords": [
           {
            "line": {
             "colorbar": {
              "outlinewidth": 0,
              "ticks": ""
             }
            },
            "type": "parcoords"
           }
          ],
          "pie": [
           {
            "automargin": true,
            "type": "pie"
           }
          ],
          "scatter": [
           {
            "fillpattern": {
             "fillmode": "overlay",
             "size": 10,
             "solidity": 0.2
            },
            "type": "scatter"
           }
          ],
          "scatter3d": [
           {
            "line": {
             "colorbar": {
              "outlinewidth": 0,
              "ticks": ""
             }
            },
            "marker": {
             "colorbar": {
              "outlinewidth": 0,
              "ticks": ""
             }
            },
            "type": "scatter3d"
           }
          ],
          "scattercarpet": [
           {
            "marker": {
             "colorbar": {
              "outlinewidth": 0,
              "ticks": ""
             }
            },
            "type": "scattercarpet"
           }
          ],
          "scattergeo": [
           {
            "marker": {
             "colorbar": {
              "outlinewidth": 0,
              "ticks": ""
             }
            },
            "type": "scattergeo"
           }
          ],
          "scattergl": [
           {
            "marker": {
             "colorbar": {
              "outlinewidth": 0,
              "ticks": ""
             }
            },
            "type": "scattergl"
           }
          ],
          "scattermapbox": [
           {
            "marker": {
             "colorbar": {
              "outlinewidth": 0,
              "ticks": ""
             }
            },
            "type": "scattermapbox"
           }
          ],
          "scatterpolar": [
           {
            "marker": {
             "colorbar": {
              "outlinewidth": 0,
              "ticks": ""
             }
            },
            "type": "scatterpolar"
           }
          ],
          "scatterpolargl": [
           {
            "marker": {
             "colorbar": {
              "outlinewidth": 0,
              "ticks": ""
             }
            },
            "type": "scatterpolargl"
           }
          ],
          "scatterternary": [
           {
            "marker": {
             "colorbar": {
              "outlinewidth": 0,
              "ticks": ""
             }
            },
            "type": "scatterternary"
           }
          ],
          "surface": [
           {
            "colorbar": {
             "outlinewidth": 0,
             "ticks": ""
            },
            "colorscale": [
             [
              0,
              "#0d0887"
             ],
             [
              0.1111111111111111,
              "#46039f"
             ],
             [
              0.2222222222222222,
              "#7201a8"
             ],
             [
              0.3333333333333333,
              "#9c179e"
             ],
             [
              0.4444444444444444,
              "#bd3786"
             ],
             [
              0.5555555555555556,
              "#d8576b"
             ],
             [
              0.6666666666666666,
              "#ed7953"
             ],
             [
              0.7777777777777778,
              "#fb9f3a"
             ],
             [
              0.8888888888888888,
              "#fdca26"
             ],
             [
              1,
              "#f0f921"
             ]
            ],
            "type": "surface"
           }
          ],
          "table": [
           {
            "cells": {
             "fill": {
              "color": "#EBF0F8"
             },
             "line": {
              "color": "white"
             }
            },
            "header": {
             "fill": {
              "color": "#C8D4E3"
             },
             "line": {
              "color": "white"
             }
            },
            "type": "table"
           }
          ]
         },
         "layout": {
          "annotationdefaults": {
           "arrowcolor": "#2a3f5f",
           "arrowhead": 0,
           "arrowwidth": 1
          },
          "autotypenumbers": "strict",
          "coloraxis": {
           "colorbar": {
            "outlinewidth": 0,
            "ticks": ""
           }
          },
          "colorscale": {
           "diverging": [
            [
             0,
             "#8e0152"
            ],
            [
             0.1,
             "#c51b7d"
            ],
            [
             0.2,
             "#de77ae"
            ],
            [
             0.3,
             "#f1b6da"
            ],
            [
             0.4,
             "#fde0ef"
            ],
            [
             0.5,
             "#f7f7f7"
            ],
            [
             0.6,
             "#e6f5d0"
            ],
            [
             0.7,
             "#b8e186"
            ],
            [
             0.8,
             "#7fbc41"
            ],
            [
             0.9,
             "#4d9221"
            ],
            [
             1,
             "#276419"
            ]
           ],
           "sequential": [
            [
             0,
             "#0d0887"
            ],
            [
             0.1111111111111111,
             "#46039f"
            ],
            [
             0.2222222222222222,
             "#7201a8"
            ],
            [
             0.3333333333333333,
             "#9c179e"
            ],
            [
             0.4444444444444444,
             "#bd3786"
            ],
            [
             0.5555555555555556,
             "#d8576b"
            ],
            [
             0.6666666666666666,
             "#ed7953"
            ],
            [
             0.7777777777777778,
             "#fb9f3a"
            ],
            [
             0.8888888888888888,
             "#fdca26"
            ],
            [
             1,
             "#f0f921"
            ]
           ],
           "sequentialminus": [
            [
             0,
             "#0d0887"
            ],
            [
             0.1111111111111111,
             "#46039f"
            ],
            [
             0.2222222222222222,
             "#7201a8"
            ],
            [
             0.3333333333333333,
             "#9c179e"
            ],
            [
             0.4444444444444444,
             "#bd3786"
            ],
            [
             0.5555555555555556,
             "#d8576b"
            ],
            [
             0.6666666666666666,
             "#ed7953"
            ],
            [
             0.7777777777777778,
             "#fb9f3a"
            ],
            [
             0.8888888888888888,
             "#fdca26"
            ],
            [
             1,
             "#f0f921"
            ]
           ]
          },
          "colorway": [
           "#636efa",
           "#EF553B",
           "#00cc96",
           "#ab63fa",
           "#FFA15A",
           "#19d3f3",
           "#FF6692",
           "#B6E880",
           "#FF97FF",
           "#FECB52"
          ],
          "font": {
           "color": "#2a3f5f"
          },
          "geo": {
           "bgcolor": "white",
           "lakecolor": "white",
           "landcolor": "#E5ECF6",
           "showlakes": true,
           "showland": true,
           "subunitcolor": "white"
          },
          "hoverlabel": {
           "align": "left"
          },
          "hovermode": "closest",
          "mapbox": {
           "style": "light"
          },
          "paper_bgcolor": "white",
          "plot_bgcolor": "#E5ECF6",
          "polar": {
           "angularaxis": {
            "gridcolor": "white",
            "linecolor": "white",
            "ticks": ""
           },
           "bgcolor": "#E5ECF6",
           "radialaxis": {
            "gridcolor": "white",
            "linecolor": "white",
            "ticks": ""
           }
          },
          "scene": {
           "xaxis": {
            "backgroundcolor": "#E5ECF6",
            "gridcolor": "white",
            "gridwidth": 2,
            "linecolor": "white",
            "showbackground": true,
            "ticks": "",
            "zerolinecolor": "white"
           },
           "yaxis": {
            "backgroundcolor": "#E5ECF6",
            "gridcolor": "white",
            "gridwidth": 2,
            "linecolor": "white",
            "showbackground": true,
            "ticks": "",
            "zerolinecolor": "white"
           },
           "zaxis": {
            "backgroundcolor": "#E5ECF6",
            "gridcolor": "white",
            "gridwidth": 2,
            "linecolor": "white",
            "showbackground": true,
            "ticks": "",
            "zerolinecolor": "white"
           }
          },
          "shapedefaults": {
           "line": {
            "color": "#2a3f5f"
           }
          },
          "ternary": {
           "aaxis": {
            "gridcolor": "white",
            "linecolor": "white",
            "ticks": ""
           },
           "baxis": {
            "gridcolor": "white",
            "linecolor": "white",
            "ticks": ""
           },
           "bgcolor": "#E5ECF6",
           "caxis": {
            "gridcolor": "white",
            "linecolor": "white",
            "ticks": ""
           }
          },
          "title": {
           "x": 0.05
          },
          "xaxis": {
           "automargin": true,
           "gridcolor": "white",
           "linecolor": "white",
           "ticks": "",
           "title": {
            "standoff": 15
           },
           "zerolinecolor": "white",
           "zerolinewidth": 2
          },
          "yaxis": {
           "automargin": true,
           "gridcolor": "white",
           "linecolor": "white",
           "ticks": "",
           "title": {
            "standoff": 15
           },
           "zerolinecolor": "white",
           "zerolinewidth": 2
          }
         }
        },
        "title": {
         "text": "Percentage Difference in Means of Questions"
        },
        "width": 800,
        "xaxis": {
         "anchor": "y",
         "domain": [
          0,
          1
         ],
         "title": {
          "text": "Questions"
         }
        },
        "yaxis": {
         "anchor": "x",
         "domain": [
          0,
          1
         ],
         "title": {
          "text": "Percentage Difference in Means"
         }
        }
       }
      }
     },
     "metadata": {},
     "output_type": "display_data"
    }
   ],
   "source": [
    "# log scale\n",
    "\n",
    "# create a grouped bar chart for the percentage differences in the means of the questions in plotly\n",
    "fig = px.bar(plot_data, x=plot_data.index, y=['all', 'conformity', 'non_conformity'], barmode='group', title='Percentage Difference in Means of Questions', color_discrete_map={'all':'#0293b0', 'conformity':'#02697e', 'non_conformity':'#013f4c'}, labels={'value':'Percentage Difference in Means', 'variable':'Group', 'index':'Questions'})\n",
    "#increase plot size\n",
    "fig.update_layout(\n",
    "    autosize=False,\n",
    "    width=800,\n",
    "    height=400,\n",
    "    margin=dict(\n",
    "        l=50,\n",
    "        r=50,\n",
    "        b=100,\n",
    "        t=100,\n",
    "        pad=4\n",
    "    )\n",
    ")    \n",
    "\n",
    "fig.show()"
   ]
  },
  {
   "cell_type": "code",
   "execution_count": 108,
   "metadata": {},
   "outputs": [],
   "source": [
    "plot_data.to_csv('data/percentage_difference_in_means.csv')"
   ]
  },
  {
   "cell_type": "markdown",
   "metadata": {},
   "source": [
    "run regression for each question"
   ]
  },
  {
   "cell_type": "code",
   "execution_count": 120,
   "metadata": {},
   "outputs": [
    {
     "name": "stdout",
     "output_type": "stream",
     "text": [
      "male_lecturers\n",
      "   const  age  gender_identity  schooling  political_alignment  SDB\n",
      "0    1.0    4                1          5                   11  0.0\n",
      "1    1.0    3                2          4                    1  0.0\n",
      "2    1.0    2                2          4                  -12  0.0\n",
      "3    1.0    2                1          4                    3  0.0\n",
      "4    1.0    3                2          4                  -41  0.0\n",
      "                            OLS Regression Results                            \n",
      "==============================================================================\n",
      "Dep. Variable:         male_lecturers   R-squared:                       0.103\n",
      "Model:                            OLS   Adj. R-squared:                  0.056\n",
      "Method:                 Least Squares   F-statistic:                     2.201\n",
      "Date:                Sun, 10 Mar 2024   Prob (F-statistic):             0.0604\n",
      "Time:                        22:25:04   Log-Likelihood:                -118.58\n",
      "No. Observations:                 102   AIC:                             249.2\n",
      "Df Residuals:                      96   BIC:                             264.9\n",
      "Df Model:                           5                                         \n",
      "Covariance Type:            nonrobust                                         \n",
      "=======================================================================================\n",
      "                          coef    std err          t      P>|t|      [0.025      0.975]\n",
      "---------------------------------------------------------------------------------------\n",
      "const                   3.0258      0.446      6.790      0.000       2.141       3.910\n",
      "age                    -0.2283      0.133     -1.714      0.090      -0.493       0.036\n",
      "gender_identity        -0.2118      0.173     -1.228      0.223      -0.554       0.131\n",
      "schooling               0.0448      0.075      0.594      0.554      -0.105       0.195\n",
      "political_alignment     0.0081      0.004      2.128      0.036       0.001       0.016\n",
      "SDB                    -1.7807      3.495     -0.510      0.612      -8.718       5.156\n",
      "==============================================================================\n",
      "Omnibus:                       16.574   Durbin-Watson:                   1.824\n",
      "Prob(Omnibus):                  0.000   Jarque-Bera (JB):               28.378\n",
      "Skew:                           0.678   Prob(JB):                     6.88e-07\n",
      "Kurtosis:                       5.199   Cond. No.                     1.14e+03\n",
      "==============================================================================\n",
      "\n",
      "Notes:\n",
      "[1] Standard Errors assume that the covariance matrix of the errors is correctly specified.\n",
      "[2] The condition number is large, 1.14e+03. This might indicate that there are\n",
      "strong multicollinearity or other numerical problems.\n",
      "university_gender_quota\n",
      "   const  age  gender_identity  schooling  political_alignment  SDB\n",
      "0    1.0    4                1          5                   11  0.0\n",
      "1    1.0    3                2          4                    1  0.0\n",
      "2    1.0    2                2          4                  -12  0.0\n",
      "3    1.0    2                1          4                    3  0.0\n",
      "4    1.0    3                2          4                  -41  0.0\n",
      "                               OLS Regression Results                              \n",
      "===================================================================================\n",
      "Dep. Variable:     university_gender_quota   R-squared:                       0.182\n",
      "Model:                                 OLS   Adj. R-squared:                  0.140\n",
      "Method:                      Least Squares   F-statistic:                     4.283\n",
      "Date:                     Sun, 10 Mar 2024   Prob (F-statistic):            0.00147\n",
      "Time:                             22:25:04   Log-Likelihood:                -105.95\n",
      "No. Observations:                      102   AIC:                             223.9\n",
      "Df Residuals:                           96   BIC:                             239.6\n",
      "Df Model:                                5                                         \n",
      "Covariance Type:                 nonrobust                                         \n",
      "=======================================================================================\n",
      "                          coef    std err          t      P>|t|      [0.025      0.975]\n",
      "---------------------------------------------------------------------------------------\n",
      "const                   2.9045      0.394      7.377      0.000       2.123       3.686\n",
      "age                    -0.2499      0.118     -2.123      0.036      -0.484      -0.016\n",
      "gender_identity        -0.0401      0.152     -0.263      0.793      -0.343       0.263\n",
      "schooling              -0.0410      0.067     -0.616      0.540      -0.173       0.091\n",
      "political_alignment     0.0067      0.003      1.986      0.050    3.19e-06       0.013\n",
      "SDB                    -1.1867      0.315     -3.768      0.000      -1.812      -0.561\n",
      "==============================================================================\n",
      "Omnibus:                        3.563   Durbin-Watson:                   1.954\n",
      "Prob(Omnibus):                  0.168   Jarque-Bera (JB):                3.011\n",
      "Skew:                          -0.293   Prob(JB):                        0.222\n",
      "Kurtosis:                       3.603   Cond. No.                         156.\n",
      "==============================================================================\n",
      "\n",
      "Notes:\n",
      "[1] Standard Errors assume that the covariance matrix of the errors is correctly specified.\n",
      "workload_stress\n",
      "   const  age  gender_identity  schooling  political_alignment  SDB\n",
      "0    1.0    4                1          5                   11 -0.0\n",
      "1    1.0    3                2          4                    1 -0.0\n",
      "2    1.0    2                2          4                  -12 -0.0\n",
      "3    1.0    2                1          4                    3 -0.0\n",
      "4    1.0    3                2          4                  -41 -0.0\n",
      "                            OLS Regression Results                            \n",
      "==============================================================================\n",
      "Dep. Variable:        workload_stress   R-squared:                       0.055\n",
      "Model:                            OLS   Adj. R-squared:                  0.006\n",
      "Method:                 Least Squares   F-statistic:                     1.125\n",
      "Date:                Sun, 10 Mar 2024   Prob (F-statistic):              0.353\n",
      "Time:                        22:25:04   Log-Likelihood:                -117.72\n",
      "No. Observations:                 102   AIC:                             247.4\n",
      "Df Residuals:                      96   BIC:                             263.2\n",
      "Df Model:                           5                                         \n",
      "Covariance Type:            nonrobust                                         \n",
      "=======================================================================================\n",
      "                          coef    std err          t      P>|t|      [0.025      0.975]\n",
      "---------------------------------------------------------------------------------------\n",
      "const                   3.0991      0.442      7.013      0.000       2.222       3.976\n",
      "age                    -0.0280      0.132     -0.212      0.833      -0.290       0.234\n",
      "gender_identity        -0.0059      0.171     -0.034      0.973      -0.346       0.334\n",
      "schooling              -0.1140      0.075     -1.523      0.131      -0.262       0.035\n",
      "political_alignment     0.0024      0.004      0.628      0.531      -0.005       0.010\n",
      "SDB                    -0.6830      0.707     -0.966      0.336      -2.086       0.720\n",
      "==============================================================================\n",
      "Omnibus:                        5.773   Durbin-Watson:                   2.162\n",
      "Prob(Omnibus):                  0.056   Jarque-Bera (JB):                5.239\n",
      "Skew:                          -0.453   Prob(JB):                       0.0728\n",
      "Kurtosis:                       3.643   Cond. No.                         238.\n",
      "==============================================================================\n",
      "\n",
      "Notes:\n",
      "[1] Standard Errors assume that the covariance matrix of the errors is correctly specified.\n",
      "dei_policies\n",
      "   const  age  gender_identity  schooling  political_alignment  SDB\n",
      "0    1.0    4                1          5                   11  0.0\n",
      "1    1.0    3                2          4                    1  0.0\n",
      "2    1.0    2                2          4                  -12  0.0\n",
      "3    1.0    2                1          4                    3  0.0\n",
      "4    1.0    3                2          4                  -41  0.0\n",
      "                            OLS Regression Results                            \n",
      "==============================================================================\n",
      "Dep. Variable:           dei_policies   R-squared:                       0.035\n",
      "Model:                            OLS   Adj. R-squared:                 -0.015\n",
      "Method:                 Least Squares   F-statistic:                    0.6975\n",
      "Date:                Sun, 10 Mar 2024   Prob (F-statistic):              0.627\n",
      "Time:                        22:25:04   Log-Likelihood:                -127.33\n",
      "No. Observations:                 102   AIC:                             266.7\n",
      "Df Residuals:                      96   BIC:                             282.4\n",
      "Df Model:                           5                                         \n",
      "Covariance Type:            nonrobust                                         \n",
      "=======================================================================================\n",
      "                          coef    std err          t      P>|t|      [0.025      0.975]\n",
      "---------------------------------------------------------------------------------------\n",
      "const                   1.9868      0.486      4.092      0.000       1.023       2.951\n",
      "age                    -0.0504      0.145     -0.347      0.729      -0.339       0.238\n",
      "gender_identity         0.1303      0.188      0.693      0.490      -0.243       0.504\n",
      "schooling               0.0931      0.082      1.132      0.260      -0.070       0.256\n",
      "political_alignment    -0.0036      0.004     -0.856      0.394      -0.012       0.005\n",
      "SDB                    -0.3388      2.346     -0.144      0.885      -4.996       4.319\n",
      "==============================================================================\n",
      "Omnibus:                        4.074   Durbin-Watson:                   1.800\n",
      "Prob(Omnibus):                  0.130   Jarque-Bera (JB):                5.023\n",
      "Skew:                          -0.011   Prob(JB):                       0.0812\n",
      "Kurtosis:                       4.087   Cond. No.                         703.\n",
      "==============================================================================\n",
      "\n",
      "Notes:\n",
      "[1] Standard Errors assume that the covariance matrix of the errors is correctly specified.\n",
      "netflix\n",
      "   const  age  gender_identity  schooling  political_alignment  SDB\n",
      "0    1.0    4                1          5                   11 -0.0\n",
      "1    1.0    3                2          4                    1 -0.0\n",
      "2    1.0    2                2          4                  -12 -0.0\n",
      "3    1.0    2                1          4                    3 -0.0\n",
      "4    1.0    3                2          4                  -41 -0.0\n",
      "                            OLS Regression Results                            \n",
      "==============================================================================\n",
      "Dep. Variable:                netflix   R-squared:                       0.081\n",
      "Model:                            OLS   Adj. R-squared:                  0.033\n",
      "Method:                 Least Squares   F-statistic:                     1.682\n",
      "Date:                Sun, 10 Mar 2024   Prob (F-statistic):              0.146\n",
      "Time:                        22:25:04   Log-Likelihood:                -109.11\n",
      "No. Observations:                 102   AIC:                             230.2\n",
      "Df Residuals:                      96   BIC:                             246.0\n",
      "Df Model:                           5                                         \n",
      "Covariance Type:            nonrobust                                         \n",
      "=======================================================================================\n",
      "                          coef    std err          t      P>|t|      [0.025      0.975]\n",
      "---------------------------------------------------------------------------------------\n",
      "const                   1.8587      0.406      4.577      0.000       1.053       2.665\n",
      "age                     0.1895      0.121      1.561      0.122      -0.052       0.431\n",
      "gender_identity         0.2950      0.157      1.876      0.064      -0.017       0.607\n",
      "schooling               0.0019      0.069      0.027      0.978      -0.135       0.138\n",
      "political_alignment     0.0061      0.003      1.745      0.084      -0.001       0.013\n",
      "SDB                    -0.5661      2.944     -0.192      0.848      -6.410       5.277\n",
      "==============================================================================\n",
      "Omnibus:                        3.200   Durbin-Watson:                   1.743\n",
      "Prob(Omnibus):                  0.202   Jarque-Bera (JB):                2.977\n",
      "Skew:                          -0.418   Prob(JB):                        0.226\n",
      "Kurtosis:                       2.963   Cond. No.                     1.05e+03\n",
      "==============================================================================\n",
      "\n",
      "Notes:\n",
      "[1] Standard Errors assume that the covariance matrix of the errors is correctly specified.\n",
      "[2] The condition number is large, 1.05e+03. This might indicate that there are\n",
      "strong multicollinearity or other numerical problems.\n"
     ]
    }
   ],
   "source": [
    "# run OLS regression\n",
    "import statsmodels.api as sm\n",
    "\n",
    "for column in questions:\n",
    "    print(column)\n",
    "    \n",
    "    X = data[ind_vars]\n",
    "    X = sm.add_constant(X)\n",
    "    X['SDB'] = data[SDB_columns[column]] * data['is_direct']\n",
    "    print(X.head())\n",
    "    y = data[column]\n",
    "    model = sm.OLS(y, X).fit()\n",
    "    print(model.summary())\n",
    "    # print summaries into excel like format \n",
    "    with open('data/model_summaries.txt', 'a') as f:\n",
    "        f.write(model.summary().as_text())\n",
    "\n",
    "    # print model summary to latex\n",
    "    with open('data/model_summaries_latex.txt', 'a') as f:\n",
    "        f.write(model.summary().as_latex())\n"
   ]
  },
  {
   "cell_type": "markdown",
   "metadata": {},
   "source": [
    "for male lecturers look into change in veiled unveiled at each age group"
   ]
  },
  {
   "cell_type": "code",
   "execution_count": 110,
   "metadata": {},
   "outputs": [
    {
     "data": {
      "text/plain": [
       "(102, 20)"
      ]
     },
     "execution_count": 110,
     "metadata": {},
     "output_type": "execute_result"
    }
   ],
   "source": [
    "data.shape"
   ]
  },
  {
   "cell_type": "code",
   "execution_count": 111,
   "metadata": {},
   "outputs": [],
   "source": [
    "\n",
    "age_mapping = {1:'Under 18',2:'18-24',3:'25-34',4:'35-44',5:'45-54',6:'55-64',7:'65+'}"
   ]
  },
  {
   "cell_type": "code",
   "execution_count": 112,
   "metadata": {},
   "outputs": [
    {
     "name": "stdout",
     "output_type": "stream",
     "text": [
      "35-44\n",
      "(1,)\n",
      "2.0\n",
      "25-34\n",
      "(35,)\n",
      "2.085714285714286\n",
      "18-24\n",
      "(64,)\n",
      "2.265625\n",
      "45-54\n",
      "(1,)\n",
      "2.0\n",
      "55-64\n",
      "(1,)\n",
      "2.0\n"
     ]
    }
   ],
   "source": [
    "for age in data.age.unique():\n",
    "    # for each age group get the difference in means for each the male_lecturers question\n",
    "    print(age_mapping[age])\n",
    "    direct = data.loc[(data['age'] == age), 'male_lecturers'].mean()\n",
    "    print( data.loc[(data['age'] == age), 'male_lecturers'].shape)\n",
    "    print(direct)"
   ]
  },
  {
   "cell_type": "code",
   "execution_count": 113,
   "metadata": {},
   "outputs": [
    {
     "name": "stdout",
     "output_type": "stream",
     "text": [
      "35-44\n",
      "{'age': [], 'conformity': [], 'non_conformity': [], 'all': [], 'count': [], 'mean': [], 'std': []}\n",
      "25-34\n",
      "{'age': ['25-34'], 'conformity': [-19.999999999999996], 'non_conformity': [21.33333333333334], 'all': [1.6129032258064457], 'count': [35], 'mean': [2.085714285714286], 'std': [0.8530715634909972]}\n",
      "18-24\n",
      "{'age': ['25-34', '18-24'], 'conformity': [-19.999999999999996, 7.3684210526315725], 'non_conformity': [21.33333333333334, 0.9157509157509092], 'all': [1.6129032258064457, 4.464285714285719], 'count': [35, 64], 'mean': [2.085714285714286, 2.265625], 'std': [0.8530715634909972, 0.8211913045875234]}\n",
      "45-54\n",
      "{'age': ['25-34', '18-24'], 'conformity': [-19.999999999999996, 7.3684210526315725], 'non_conformity': [21.33333333333334, 0.9157509157509092], 'all': [1.6129032258064457, 4.464285714285719], 'count': [35, 64], 'mean': [2.085714285714286, 2.265625], 'std': [0.8530715634909972, 0.8211913045875234]}\n",
      "55-64\n",
      "{'age': ['25-34', '18-24'], 'conformity': [-19.999999999999996, 7.3684210526315725], 'non_conformity': [21.33333333333334, 0.9157509157509092], 'all': [1.6129032258064457, 4.464285714285719], 'count': [35, 64], 'mean': [2.085714285714286, 2.265625], 'std': [0.8530715634909972, 0.8211913045875234]}\n"
     ]
    },
    {
     "data": {
      "text/html": [
       "<div>\n",
       "<style scoped>\n",
       "    .dataframe tbody tr th:only-of-type {\n",
       "        vertical-align: middle;\n",
       "    }\n",
       "\n",
       "    .dataframe tbody tr th {\n",
       "        vertical-align: top;\n",
       "    }\n",
       "\n",
       "    .dataframe thead th {\n",
       "        text-align: right;\n",
       "    }\n",
       "</style>\n",
       "<table border=\"1\" class=\"dataframe\">\n",
       "  <thead>\n",
       "    <tr style=\"text-align: right;\">\n",
       "      <th></th>\n",
       "      <th>age</th>\n",
       "      <th>conformity</th>\n",
       "      <th>non_conformity</th>\n",
       "      <th>all</th>\n",
       "      <th>count</th>\n",
       "      <th>mean</th>\n",
       "      <th>std</th>\n",
       "    </tr>\n",
       "  </thead>\n",
       "  <tbody>\n",
       "    <tr>\n",
       "      <th>0</th>\n",
       "      <td>25-34</td>\n",
       "      <td>-20.000000</td>\n",
       "      <td>21.333333</td>\n",
       "      <td>1.612903</td>\n",
       "      <td>35</td>\n",
       "      <td>2.085714</td>\n",
       "      <td>0.853072</td>\n",
       "    </tr>\n",
       "    <tr>\n",
       "      <th>1</th>\n",
       "      <td>18-24</td>\n",
       "      <td>7.368421</td>\n",
       "      <td>0.915751</td>\n",
       "      <td>4.464286</td>\n",
       "      <td>64</td>\n",
       "      <td>2.265625</td>\n",
       "      <td>0.821191</td>\n",
       "    </tr>\n",
       "  </tbody>\n",
       "</table>\n",
       "</div>"
      ],
      "text/plain": [
       "     age  conformity  non_conformity       all  count      mean       std\n",
       "0  25-34  -20.000000       21.333333  1.612903     35  2.085714  0.853072\n",
       "1  18-24    7.368421        0.915751  4.464286     64  2.265625  0.821191"
      ]
     },
     "execution_count": 113,
     "metadata": {},
     "output_type": "execute_result"
    }
   ],
   "source": [
    "\n",
    "data_dict = {'age':[], 'conformity':[], 'non_conformity':[], 'all':[], 'count':[], 'mean':[], 'std':[]}\n",
    "\n",
    "\n",
    "for age in data.age.unique():\n",
    "    # for each age group get the difference in means for each the male_lecturers question\n",
    "    direct = data.loc[(data['age'] == age) & (data['is_direct'] == 1), 'male_lecturers'].mean()\n",
    "    veiled = data.loc[(data['age'] == age) & (data['is_direct'] == 0), 'male_lecturers'].mean()\n",
    "\n",
    "    pct_diff_all = ((veiled - direct)/direct) * 100\n",
    "    \n",
    "\n",
    "\n",
    "    print(age_mapping[age])\n",
    "    direct = data.loc[(data['age'] == age) & (data['is_direct'] == 1)].groupby('has_conformity_trigger')['male_lecturers'].mean()\n",
    "    veiled = data.loc[(data['age'] == age) & (data['is_direct'] == 0)].groupby('has_conformity_trigger')['male_lecturers'].mean()\n",
    "    pct_diff = ((veiled - direct)/direct) * 100\n",
    "    \n",
    "    if len(pct_diff) > 1:\n",
    "        data_dict['age'].append(age_mapping[age])\n",
    "        data_dict['conformity'].append(pct_diff.iloc[1])\n",
    "        data_dict['non_conformity'].append(pct_diff.iloc[0])\n",
    "        data_dict['all'].append(pct_diff_all)\n",
    "        data_dict['count'].append(data.loc[(data['age'] == age), 'male_lecturers'].shape[0])\n",
    "        data_dict['mean'].append(data.loc[(data['age'] == age), 'male_lecturers'].mean())\n",
    "        data_dict['std'].append(data.loc[(data['age'] == age), 'male_lecturers'].std())\n",
    "    print(data_dict)\n",
    "\n",
    "plot_data = pd.DataFrame(data_dict)\n",
    "plot_data\n"
   ]
  },
  {
   "cell_type": "code",
   "execution_count": 114,
   "metadata": {},
   "outputs": [
    {
     "data": {
      "text/plain": [
       "array([4, 3, 2, 5, 6])"
      ]
     },
     "execution_count": 114,
     "metadata": {},
     "output_type": "execute_result"
    }
   ],
   "source": [
    "data.age.unique()"
   ]
  },
  {
   "cell_type": "code",
   "execution_count": 126,
   "metadata": {},
   "outputs": [
    {
     "name": "stdout",
     "output_type": "stream",
     "text": [
      "(64, 20)\n",
      "Index(['age', 'gender_identity', 'schooling', 'political_alignment', 'SDB'], dtype='object')\n",
      "                            OLS Regression Results                            \n",
      "==============================================================================\n",
      "Dep. Variable:                netflix   R-squared:                       0.007\n",
      "Model:                            OLS   Adj. R-squared:                 -0.060\n",
      "Method:                 Least Squares   F-statistic:                    0.1104\n",
      "Date:                Sun, 10 Mar 2024   Prob (F-statistic):              0.978\n",
      "Time:                        22:26:43   Log-Likelihood:                -74.504\n",
      "No. Observations:                  64   AIC:                             159.0\n",
      "Df Residuals:                      59   BIC:                             169.8\n",
      "Df Model:                           4                                         \n",
      "Covariance Type:            nonrobust                                         \n",
      "=======================================================================================\n",
      "                          coef    std err          t      P>|t|      [0.025      0.975]\n",
      "---------------------------------------------------------------------------------------\n",
      "age                     1.2780      0.256      4.992      0.000       0.766       1.790\n",
      "gender_identity         0.1220      0.222      0.550      0.584      -0.322       0.566\n",
      "schooling              -0.0127      0.104     -0.122      0.903      -0.221       0.195\n",
      "political_alignment     0.0030      0.005      0.562      0.576      -0.008       0.014\n",
      "SDB                    -0.4819      4.509     -0.107      0.915      -9.505       8.541\n",
      "==============================================================================\n",
      "Omnibus:                        2.676   Durbin-Watson:                   1.805\n",
      "Prob(Omnibus):                  0.262   Jarque-Bera (JB):                2.514\n",
      "Skew:                          -0.475   Prob(JB):                        0.284\n",
      "Kurtosis:                       2.804   Cond. No.                     1.14e+03\n",
      "==============================================================================\n",
      "\n",
      "Notes:\n",
      "[1] Standard Errors assume that the covariance matrix of the errors is correctly specified.\n",
      "[2] The condition number is large, 1.14e+03. This might indicate that there are\n",
      "strong multicollinearity or other numerical problems.\n"
     ]
    }
   ],
   "source": [
    "temp_data = data.loc[(data['age'] == 2) ]\n",
    "print(temp_data.shape)\n",
    "\n",
    "X = temp_data[ind_vars]\n",
    "X = sm.add_constant(X)\n",
    "X['SDB'] = temp_data[SDB_columns['male_lecturers']] * data['is_direct']\n",
    "print(X.columns)\n",
    "y = temp_data[column]\n",
    "model = sm.OLS(y, X).fit()\n",
    "print(model.summary())"
   ]
  },
  {
   "cell_type": "code",
   "execution_count": 125,
   "metadata": {},
   "outputs": [
    {
     "name": "stdout",
     "output_type": "stream",
     "text": [
      "(35, 20)\n",
      "                            OLS Regression Results                            \n",
      "==============================================================================\n",
      "Dep. Variable:                netflix   R-squared:                       0.299\n",
      "Model:                            OLS   Adj. R-squared:                  0.205\n",
      "Method:                 Least Squares   F-statistic:                     3.197\n",
      "Date:                Sun, 10 Mar 2024   Prob (F-statistic):             0.0267\n",
      "Time:                        22:26:31   Log-Likelihood:                -27.627\n",
      "No. Observations:                  35   AIC:                             65.25\n",
      "Df Residuals:                      30   BIC:                             73.03\n",
      "Df Model:                           4                                         \n",
      "Covariance Type:            nonrobust                                         \n",
      "=======================================================================================\n",
      "                          coef    std err          t      P>|t|      [0.025      0.975]\n",
      "---------------------------------------------------------------------------------------\n",
      "age                     0.5289      0.180      2.943      0.006       0.162       0.896\n",
      "gender_identity         0.6353      0.218      2.912      0.007       0.190       1.081\n",
      "schooling               0.0826      0.094      0.878      0.387      -0.110       0.275\n",
      "political_alignment     0.0121      0.004      2.748      0.010       0.003       0.021\n",
      "SDB                    -0.4256      4.613     -0.092      0.927      -9.846       8.994\n",
      "==============================================================================\n",
      "Omnibus:                        0.109   Durbin-Watson:                   1.921\n",
      "Prob(Omnibus):                  0.947   Jarque-Bera (JB):                0.306\n",
      "Skew:                          -0.083   Prob(JB):                        0.858\n",
      "Kurtosis:                       2.573   Cond. No.                     1.27e+03\n",
      "==============================================================================\n",
      "\n",
      "Notes:\n",
      "[1] Standard Errors assume that the covariance matrix of the errors is correctly specified.\n",
      "[2] The condition number is large, 1.27e+03. This might indicate that there are\n",
      "strong multicollinearity or other numerical problems.\n"
     ]
    }
   ],
   "source": [
    "temp_data = data.loc[(data['age'] == 3) ]\n",
    "print(temp_data.shape)\n",
    "\n",
    "X = temp_data[ind_vars]\n",
    "X = sm.add_constant(X)\n",
    "X['SDB'] = temp_data[SDB_columns['male_lecturers']] * data['is_direct']\n",
    "y = temp_data[column]\n",
    "model = sm.OLS(y, X).fit()\n",
    "print(model.summary())"
   ]
  },
  {
   "cell_type": "code",
   "execution_count": 92,
   "metadata": {},
   "outputs": [
    {
     "name": "stdout",
     "output_type": "stream",
     "text": [
      "Master's degree\n",
      "{'schooling': [\"Master's degree\"], 'conformity': [0.0], 'non_conformity': [12.5], 'all': [7.692307692307687], 'count': [17], 'mean': [2.1176470588235294], 'std': [0.48507125007266605]}\n",
      "Bachelor's degree\n",
      "{'schooling': [\"Master's degree\", \"Bachelor's degree\"], 'conformity': [0.0, -5.571847507331388], 'non_conformity': [12.5, 19.230769230769244], 'all': [7.692307692307687, 7.093821510297483], 'count': [17, 49], 'mean': [2.1176470588235294, 2.2653061224489797], 'std': [0.48507125007266605, 0.8107483735229252]}\n",
      "Doctoral degree\n",
      "{'schooling': [\"Master's degree\", \"Bachelor's degree\", 'Doctoral degree'], 'conformity': [0.0, -5.571847507331388, -50.0], 'non_conformity': [12.5, 19.230769230769244, 100.0], 'all': [7.692307692307687, 7.093821510297483, 0.0], 'count': [17, 49, 5], 'mean': [2.1176470588235294, 2.2653061224489797, 2.0], 'std': [0.48507125007266605, 0.8107483735229252, 1.4142135623730951]}\n",
      "High school\n",
      "{'schooling': [\"Master's degree\", \"Bachelor's degree\", 'Doctoral degree', 'High school'], 'conformity': [0.0, -5.571847507331388, -50.0, 22.22222222222223], 'non_conformity': [12.5, 19.230769230769244, 100.0, -40.0], 'all': [7.692307692307687, 7.093821510297483, 0.0, -10.344827586206899], 'count': [17, 49, 5, 20], 'mean': [2.1176470588235294, 2.2653061224489797, 2.0, 2.15], 'std': [0.48507125007266605, 0.8107483735229252, 1.4142135623730951, 0.9333020044867297]}\n",
      "Some college\n",
      "{'schooling': [\"Master's degree\", \"Bachelor's degree\", 'Doctoral degree', 'High school', 'Some college'], 'conformity': [0.0, -5.571847507331388, -50.0, 22.22222222222223, 20.0], 'non_conformity': [12.5, 19.230769230769244, 100.0, -40.0, -42.857142857142854], 'all': [7.692307692307687, 7.093821510297483, 0.0, -10.344827586206899, 16.666666666666675], 'count': [17, 49, 5, 20, 9], 'mean': [2.1176470588235294, 2.2653061224489797, 2.0, 2.15, 2.111111111111111], 'std': [0.48507125007266605, 0.8107483735229252, 1.4142135623730951, 0.9333020044867297, 0.927960727138337]}\n",
      "Professional degree\n",
      "{'schooling': [\"Master's degree\", \"Bachelor's degree\", 'Doctoral degree', 'High school', 'Some college'], 'conformity': [0.0, -5.571847507331388, -50.0, 22.22222222222223, 20.0], 'non_conformity': [12.5, 19.230769230769244, 100.0, -40.0, -42.857142857142854], 'all': [7.692307692307687, 7.093821510297483, 0.0, -10.344827586206899, 16.666666666666675], 'count': [17, 49, 5, 20, 9], 'mean': [2.1176470588235294, 2.2653061224489797, 2.0, 2.15, 2.111111111111111], 'std': [0.48507125007266605, 0.8107483735229252, 1.4142135623730951, 0.9333020044867297, 0.927960727138337]}\n"
     ]
    },
    {
     "data": {
      "text/html": [
       "<div>\n",
       "<style scoped>\n",
       "    .dataframe tbody tr th:only-of-type {\n",
       "        vertical-align: middle;\n",
       "    }\n",
       "\n",
       "    .dataframe tbody tr th {\n",
       "        vertical-align: top;\n",
       "    }\n",
       "\n",
       "    .dataframe thead th {\n",
       "        text-align: right;\n",
       "    }\n",
       "</style>\n",
       "<table border=\"1\" class=\"dataframe\">\n",
       "  <thead>\n",
       "    <tr style=\"text-align: right;\">\n",
       "      <th></th>\n",
       "      <th>schooling</th>\n",
       "      <th>conformity</th>\n",
       "      <th>non_conformity</th>\n",
       "      <th>all</th>\n",
       "      <th>count</th>\n",
       "      <th>mean</th>\n",
       "      <th>std</th>\n",
       "    </tr>\n",
       "  </thead>\n",
       "  <tbody>\n",
       "    <tr>\n",
       "      <th>0</th>\n",
       "      <td>Master's degree</td>\n",
       "      <td>0.000000</td>\n",
       "      <td>12.500000</td>\n",
       "      <td>7.692308</td>\n",
       "      <td>17</td>\n",
       "      <td>2.117647</td>\n",
       "      <td>0.485071</td>\n",
       "    </tr>\n",
       "    <tr>\n",
       "      <th>1</th>\n",
       "      <td>Bachelor's degree</td>\n",
       "      <td>-5.571848</td>\n",
       "      <td>19.230769</td>\n",
       "      <td>7.093822</td>\n",
       "      <td>49</td>\n",
       "      <td>2.265306</td>\n",
       "      <td>0.810748</td>\n",
       "    </tr>\n",
       "    <tr>\n",
       "      <th>2</th>\n",
       "      <td>Doctoral degree</td>\n",
       "      <td>-50.000000</td>\n",
       "      <td>100.000000</td>\n",
       "      <td>0.000000</td>\n",
       "      <td>5</td>\n",
       "      <td>2.000000</td>\n",
       "      <td>1.414214</td>\n",
       "    </tr>\n",
       "    <tr>\n",
       "      <th>3</th>\n",
       "      <td>High school</td>\n",
       "      <td>22.222222</td>\n",
       "      <td>-40.000000</td>\n",
       "      <td>-10.344828</td>\n",
       "      <td>20</td>\n",
       "      <td>2.150000</td>\n",
       "      <td>0.933302</td>\n",
       "    </tr>\n",
       "    <tr>\n",
       "      <th>4</th>\n",
       "      <td>Some college</td>\n",
       "      <td>20.000000</td>\n",
       "      <td>-42.857143</td>\n",
       "      <td>16.666667</td>\n",
       "      <td>9</td>\n",
       "      <td>2.111111</td>\n",
       "      <td>0.927961</td>\n",
       "    </tr>\n",
       "  </tbody>\n",
       "</table>\n",
       "</div>"
      ],
      "text/plain": [
       "           schooling  conformity  non_conformity        all  count      mean  \\\n",
       "0    Master's degree    0.000000       12.500000   7.692308     17  2.117647   \n",
       "1  Bachelor's degree   -5.571848       19.230769   7.093822     49  2.265306   \n",
       "2    Doctoral degree  -50.000000      100.000000   0.000000      5  2.000000   \n",
       "3        High school   22.222222      -40.000000 -10.344828     20  2.150000   \n",
       "4       Some college   20.000000      -42.857143  16.666667      9  2.111111   \n",
       "\n",
       "        std  \n",
       "0  0.485071  \n",
       "1  0.810748  \n",
       "2  1.414214  \n",
       "3  0.933302  \n",
       "4  0.927961  "
      ]
     },
     "execution_count": 92,
     "metadata": {},
     "output_type": "execute_result"
    }
   ],
   "source": [
    "\n",
    "data_dict = {'schooling':[], 'conformity':[], 'non_conformity':[], 'all':[], 'count':[], 'mean':[], 'std':[]}\n",
    "education_mapping = {1:'Less than high school', 2:'High school', 3:'Some college', 4:'Bachelor\\'s degree', 5:'Master\\'s degree', 6:'Doctoral degree', 7:'Professional degree'}\n",
    "\n",
    "for schooling in data.schooling.unique():\n",
    "    # for each age group get the difference in means for each the male_lecturers question\n",
    "    direct = data.loc[(data['schooling'] == schooling) & (data['is_direct'] == 1), 'male_lecturers'].mean()\n",
    "    veiled = data.loc[(data['schooling'] == schooling) & (data['is_direct'] == 0), 'male_lecturers'].mean()\n",
    "\n",
    "    pct_diff_all = ((veiled - direct)/direct) * 100\n",
    "    \n",
    "\n",
    "\n",
    "    print(education_mapping[schooling])\n",
    "    direct = data.loc[(data['schooling'] == schooling) & (data['is_direct'] == 1)].groupby('has_conformity_trigger')['male_lecturers'].mean()\n",
    "    veiled = data.loc[(data['schooling'] == schooling) & (data['is_direct'] == 0)].groupby('has_conformity_trigger')['male_lecturers'].mean()\n",
    "    pct_diff = ((veiled - direct)/direct) * 100\n",
    "    \n",
    "    if len(pct_diff) > 1:\n",
    "        data_dict['schooling'].append(education_mapping[schooling])\n",
    "        data_dict['conformity'].append(pct_diff.iloc[1])\n",
    "        data_dict['non_conformity'].append(pct_diff.iloc[0])\n",
    "        data_dict['all'].append(pct_diff_all)\n",
    "        data_dict['count'].append(data.loc[data['schooling'] == schooling].shape[0])\n",
    "        data_dict['mean'].append(data.loc[(data['schooling'] == schooling), 'male_lecturers'].mean())\n",
    "        data_dict['std'].append(data.loc[(data['schooling'] == schooling), 'male_lecturers'].std())\n",
    "    print(data_dict)\n",
    "\n",
    "plot_data = pd.DataFrame(data_dict)\n",
    "plot_data\n"
   ]
  },
  {
   "cell_type": "code",
   "execution_count": null,
   "metadata": {},
   "outputs": [],
   "source": [
    "\n",
    "data_dict = {'political_alignment':[], 'conformity':[], 'non_conformity':[], 'all':[], 'count':[], 'mean':[], 'std':[]}\n",
    "\n",
    "for schooling in data.schooling.unique():\n",
    "    # for each age group get the difference in means for each the male_lecturers question\n",
    "    direct = data.loc[(data['schooling'] == schooling) & (data['is_direct'] == 1), 'male_lecturers'].mean()\n",
    "    veiled = data.loc[(data['schooling'] == schooling) & (data['is_direct'] == 0), 'male_lecturers'].mean()\n",
    "\n",
    "    pct_diff_all = ((veiled - direct)/direct) * 100\n",
    "    \n",
    "\n",
    "\n",
    "    print(education_mapping[schooling])\n",
    "    direct = data.loc[(data['schooling'] == schooling) & (data['is_direct'] == 1)].groupby('has_conformity_trigger')['male_lecturers'].mean()\n",
    "    veiled = data.loc[(data['schooling'] == schooling) & (data['is_direct'] == 0)].groupby('has_conformity_trigger')['male_lecturers'].mean()\n",
    "    pct_diff = ((veiled - direct)/direct) * 100\n",
    "    \n",
    "    if len(pct_diff) > 1:\n",
    "        data_dict['schooling'].append(education_mapping[schooling])\n",
    "        data_dict['conformity'].append(pct_diff.iloc[1])\n",
    "        data_dict['non_conformity'].append(pct_diff.iloc[0])\n",
    "        data_dict['all'].append(pct_diff_all)\n",
    "        data_dict['count'].append(data.loc[data['schooling'] == schooling].shape[0])\n",
    "        data_dict['mean'].append(data.loc[(data['schooling'] == schooling), 'male_lecturers'].mean())\n",
    "        data_dict['std'].append(data.loc[(data['schooling'] == schooling), 'male_lecturers'].std())\n",
    "    print(data_dict)\n",
    "\n",
    "plot_data = pd.DataFrame(data_dict)\n",
    "plot_data\n"
   ]
  },
  {
   "cell_type": "code",
   "execution_count": 131,
   "metadata": {},
   "outputs": [
    {
     "name": "stdout",
     "output_type": "stream",
     "text": [
      "(102, 20)\n",
      "(54, 20)\n"
     ]
    },
    {
     "data": {
      "text/plain": [
       "male_lecturers             -2.649770\n",
       "university_gender_quota    16.611296\n",
       "workload_stress            -8.432540\n",
       "dei_policies               -8.593750\n",
       "netflix                    -4.489796\n",
       "dtype: float64"
      ]
     },
     "execution_count": 131,
     "metadata": {},
     "output_type": "execute_result"
    }
   ],
   "source": [
    "combined_gender = data.copy()\n",
    "\n",
    "print(combined_gender.shape)\n",
    "combined_gender = combined_gender.loc[combined_gender.gender_identity == 1]\n",
    "print(combined_gender.shape)\n",
    "\n",
    "combined_gender['gender_identity'] \n",
    "# for each question plot the distribution of responses in veiled and unveiled conditions\n",
    "\n",
    "\n",
    "combined_temp = combined_gender.copy()\n",
    "direct = combined_temp.loc[combined_temp['is_direct'] == 1, questions].mean()\n",
    "veiled = combined_temp.loc[combined_temp['is_direct'] == 0, questions].mean()\n",
    "\n",
    "# get pct diff between veiled and unveiled\n",
    "pct_diff = ((veiled - direct)/direct) * 100\n",
    "\n",
    "pct_diff\n",
    "\n",
    "# pct change formula is (new - old)/old * 100"
   ]
  },
  {
   "cell_type": "code",
   "execution_count": null,
   "metadata": {},
   "outputs": [],
   "source": []
  },
  {
   "cell_type": "code",
   "execution_count": 130,
   "metadata": {},
   "outputs": [
    {
     "name": "stdout",
     "output_type": "stream",
     "text": [
      "(102, 20)\n",
      "(48, 20)\n"
     ]
    },
    {
     "data": {
      "text/plain": [
       "male_lecturers              6.595365\n",
       "university_gender_quota    48.571429\n",
       "workload_stress            -8.450704\n",
       "dei_policies               18.181818\n",
       "netflix                     1.767677\n",
       "dtype: float64"
      ]
     },
     "execution_count": 130,
     "metadata": {},
     "output_type": "execute_result"
    }
   ],
   "source": [
    "combined_gender = data.copy()\n",
    "\n",
    "print(combined_gender.shape)\n",
    "combined_gender = combined_gender.loc[combined_gender.gender_identity == 2]\n",
    "print(combined_gender.shape)\n",
    "\n",
    "# for each question plot the distribution of responses in veiled and unveiled conditions\n",
    "\n",
    "\n",
    "combined_temp = combined_gender.copy()\n",
    "direct = combined_temp.loc[combined_temp['is_direct'] == 1, questions].mean()\n",
    "veiled = combined_temp.loc[combined_temp['is_direct'] == 0, questions].mean()\n",
    "\n",
    "# get pct diff between veiled and unveiled\n",
    "pct_diff = ((veiled - direct)/direct) * 100\n",
    "\n",
    "pct_diff\n",
    "\n",
    "# pct change formula is (new - old)/old * 100"
   ]
  },
  {
   "cell_type": "code",
   "execution_count": 133,
   "metadata": {},
   "outputs": [
    {
     "data": {
      "text/plain": [
       "is_direct  university_gender_quota\n",
       "0          2                          34\n",
       "           1                           8\n",
       "           3                           6\n",
       "           0                           1\n",
       "           4                           1\n",
       "1          2                          26\n",
       "           1                          17\n",
       "           0                           6\n",
       "           3                           3\n",
       "Name: count, dtype: int64"
      ]
     },
     "execution_count": 133,
     "metadata": {},
     "output_type": "execute_result"
    }
   ],
   "source": [
    "data.groupby('is_direct')['university_gender_quota'].value_counts()"
   ]
  },
  {
   "cell_type": "code",
   "execution_count": null,
   "metadata": {},
   "outputs": [],
   "source": []
  }
 ],
 "metadata": {
  "kernelspec": {
   "display_name": "base",
   "language": "python",
   "name": "python3"
  },
  "language_info": {
   "codemirror_mode": {
    "name": "ipython",
    "version": 3
   },
   "file_extension": ".py",
   "mimetype": "text/x-python",
   "name": "python",
   "nbconvert_exporter": "python",
   "pygments_lexer": "ipython3",
   "version": "3.11.8"
  },
  "orig_nbformat": 4
 },
 "nbformat": 4,
 "nbformat_minor": 2
}
