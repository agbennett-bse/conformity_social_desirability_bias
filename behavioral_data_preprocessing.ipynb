{
 "cells": [
  {
   "cell_type": "code",
   "execution_count": 106,
   "metadata": {},
   "outputs": [],
   "source": [
    "import pandas as pd"
   ]
  },
  {
   "cell_type": "code",
   "execution_count": 107,
   "metadata": {},
   "outputs": [
    {
     "data": {
      "text/html": [
       "<div>\n",
       "<style scoped>\n",
       "    .dataframe tbody tr th:only-of-type {\n",
       "        vertical-align: middle;\n",
       "    }\n",
       "\n",
       "    .dataframe tbody tr th {\n",
       "        vertical-align: top;\n",
       "    }\n",
       "\n",
       "    .dataframe thead th {\n",
       "        text-align: right;\n",
       "    }\n",
       "</style>\n",
       "<table border=\"1\" class=\"dataframe\">\n",
       "  <thead>\n",
       "    <tr style=\"text-align: right;\">\n",
       "      <th></th>\n",
       "      <th>StartDate</th>\n",
       "      <th>EndDate</th>\n",
       "      <th>Status</th>\n",
       "      <th>IPAddress</th>\n",
       "      <th>Progress</th>\n",
       "      <th>Duration (in seconds)</th>\n",
       "      <th>Finished</th>\n",
       "      <th>RecordedDate</th>\n",
       "      <th>ResponseId</th>\n",
       "      <th>RecipientLastName</th>\n",
       "      <th>...</th>\n",
       "      <th>Demographics: School</th>\n",
       "      <th>Q47_Browser</th>\n",
       "      <th>Q47_Version</th>\n",
       "      <th>Q47_Operating System</th>\n",
       "      <th>Q47_Resolution</th>\n",
       "      <th>Q10_1</th>\n",
       "      <th>Q45_First Click</th>\n",
       "      <th>Q45_Last Click</th>\n",
       "      <th>Q45_Page Submit</th>\n",
       "      <th>Q45_Click Count</th>\n",
       "    </tr>\n",
       "  </thead>\n",
       "  <tbody>\n",
       "    <tr>\n",
       "      <th>0</th>\n",
       "      <td>Start Date</td>\n",
       "      <td>End Date</td>\n",
       "      <td>Response Type</td>\n",
       "      <td>IP Address</td>\n",
       "      <td>Progress</td>\n",
       "      <td>Duration (in seconds)</td>\n",
       "      <td>Finished</td>\n",
       "      <td>Recorded Date</td>\n",
       "      <td>Response ID</td>\n",
       "      <td>Recipient Last Name</td>\n",
       "      <td>...</td>\n",
       "      <td>What is the highest level of school you have c...</td>\n",
       "      <td>Click to write the question text - Browser</td>\n",
       "      <td>Click to write the question text - Version</td>\n",
       "      <td>Click to write the question text - Operating S...</td>\n",
       "      <td>Click to write the question text - Resolution</td>\n",
       "      <td>In political matters, people talk of “the left...</td>\n",
       "      <td>Timing - First Click</td>\n",
       "      <td>Timing - Last Click</td>\n",
       "      <td>Timing - Page Submit</td>\n",
       "      <td>Timing - Click Count</td>\n",
       "    </tr>\n",
       "    <tr>\n",
       "      <th>1</th>\n",
       "      <td>{\"ImportId\":\"startDate\",\"timeZone\":\"America/Ne...</td>\n",
       "      <td>{\"ImportId\":\"endDate\",\"timeZone\":\"America/New_...</td>\n",
       "      <td>{\"ImportId\":\"status\"}</td>\n",
       "      <td>{\"ImportId\":\"ipAddress\"}</td>\n",
       "      <td>{\"ImportId\":\"progress\"}</td>\n",
       "      <td>{\"ImportId\":\"duration\"}</td>\n",
       "      <td>{\"ImportId\":\"finished\"}</td>\n",
       "      <td>{\"ImportId\":\"recordedDate\",\"timeZone\":\"America...</td>\n",
       "      <td>{\"ImportId\":\"_recordId\"}</td>\n",
       "      <td>{\"ImportId\":\"recipientLastName\"}</td>\n",
       "      <td>...</td>\n",
       "      <td>{\"ImportId\":\"QID4\"}</td>\n",
       "      <td>{\"ImportId\":\"QID47_BROWSER\"}</td>\n",
       "      <td>{\"ImportId\":\"QID47_VERSION\"}</td>\n",
       "      <td>{\"ImportId\":\"QID47_OS\"}</td>\n",
       "      <td>{\"ImportId\":\"QID47_RESOLUTION\"}</td>\n",
       "      <td>{\"ImportId\":\"QID10_1\"}</td>\n",
       "      <td>{\"ImportId\":\"QID45_FIRST_CLICK\"}</td>\n",
       "      <td>{\"ImportId\":\"QID45_LAST_CLICK\"}</td>\n",
       "      <td>{\"ImportId\":\"QID45_PAGE_SUBMIT\"}</td>\n",
       "      <td>{\"ImportId\":\"QID45_CLICK_COUNT\"}</td>\n",
       "    </tr>\n",
       "    <tr>\n",
       "      <th>2</th>\n",
       "      <td>2/29/24 11:41</td>\n",
       "      <td>2/29/24 11:47</td>\n",
       "      <td>1</td>\n",
       "      <td>NaN</td>\n",
       "      <td>100</td>\n",
       "      <td>397</td>\n",
       "      <td>1</td>\n",
       "      <td>2/29/24 11:47</td>\n",
       "      <td>R_3PZxbtkBkxF24OQ</td>\n",
       "      <td>NaN</td>\n",
       "      <td>...</td>\n",
       "      <td>5</td>\n",
       "      <td>Edge</td>\n",
       "      <td>122.0.0.0</td>\n",
       "      <td>Windows NT 10.0</td>\n",
       "      <td>1536x864</td>\n",
       "      <td>NaN</td>\n",
       "      <td>2.911</td>\n",
       "      <td>6.969</td>\n",
       "      <td>8.482</td>\n",
       "      <td>3</td>\n",
       "    </tr>\n",
       "    <tr>\n",
       "      <th>3</th>\n",
       "      <td>3/1/24 5:36</td>\n",
       "      <td>3/1/24 5:47</td>\n",
       "      <td>1</td>\n",
       "      <td>NaN</td>\n",
       "      <td>100</td>\n",
       "      <td>668</td>\n",
       "      <td>1</td>\n",
       "      <td>3/1/24 5:47</td>\n",
       "      <td>R_2mftJtg4Va1Ua7C</td>\n",
       "      <td>NaN</td>\n",
       "      <td>...</td>\n",
       "      <td>5</td>\n",
       "      <td>Chrome</td>\n",
       "      <td>120.0.0.0</td>\n",
       "      <td>Macintosh</td>\n",
       "      <td>1920x1080</td>\n",
       "      <td>NaN</td>\n",
       "      <td>14.261</td>\n",
       "      <td>27.772</td>\n",
       "      <td>32.233</td>\n",
       "      <td>2</td>\n",
       "    </tr>\n",
       "    <tr>\n",
       "      <th>4</th>\n",
       "      <td>3/3/24 6:07</td>\n",
       "      <td>3/3/24 6:13</td>\n",
       "      <td>1</td>\n",
       "      <td>NaN</td>\n",
       "      <td>100</td>\n",
       "      <td>400</td>\n",
       "      <td>1</td>\n",
       "      <td>3/3/24 6:13</td>\n",
       "      <td>R_2NBfNsJJcpH8uKl</td>\n",
       "      <td>NaN</td>\n",
       "      <td>...</td>\n",
       "      <td>4</td>\n",
       "      <td>Safari iPhone</td>\n",
       "      <td>17.3.1</td>\n",
       "      <td>iPhone</td>\n",
       "      <td>393x852</td>\n",
       "      <td>-44</td>\n",
       "      <td>1.662</td>\n",
       "      <td>10.851</td>\n",
       "      <td>11.917</td>\n",
       "      <td>4</td>\n",
       "    </tr>\n",
       "    <tr>\n",
       "      <th>...</th>\n",
       "      <td>...</td>\n",
       "      <td>...</td>\n",
       "      <td>...</td>\n",
       "      <td>...</td>\n",
       "      <td>...</td>\n",
       "      <td>...</td>\n",
       "      <td>...</td>\n",
       "      <td>...</td>\n",
       "      <td>...</td>\n",
       "      <td>...</td>\n",
       "      <td>...</td>\n",
       "      <td>...</td>\n",
       "      <td>...</td>\n",
       "      <td>...</td>\n",
       "      <td>...</td>\n",
       "      <td>...</td>\n",
       "      <td>...</td>\n",
       "      <td>...</td>\n",
       "      <td>...</td>\n",
       "      <td>...</td>\n",
       "      <td>...</td>\n",
       "    </tr>\n",
       "    <tr>\n",
       "      <th>114</th>\n",
       "      <td>3/7/24 13:13</td>\n",
       "      <td>3/7/24 13:30</td>\n",
       "      <td>0</td>\n",
       "      <td>206.87.99.147</td>\n",
       "      <td>100</td>\n",
       "      <td>1004</td>\n",
       "      <td>1</td>\n",
       "      <td>3/7/24 13:30</td>\n",
       "      <td>R_12rkBe1gJyA5QvZ</td>\n",
       "      <td>NaN</td>\n",
       "      <td>...</td>\n",
       "      <td>4</td>\n",
       "      <td>Chrome</td>\n",
       "      <td>117.0.0.0</td>\n",
       "      <td>Macintosh</td>\n",
       "      <td>1440x900</td>\n",
       "      <td>-34</td>\n",
       "      <td>83.162</td>\n",
       "      <td>93.138</td>\n",
       "      <td>94.872</td>\n",
       "      <td>2</td>\n",
       "    </tr>\n",
       "    <tr>\n",
       "      <th>115</th>\n",
       "      <td>3/7/24 17:34</td>\n",
       "      <td>3/7/24 17:37</td>\n",
       "      <td>0</td>\n",
       "      <td>5.90.239.32</td>\n",
       "      <td>100</td>\n",
       "      <td>233</td>\n",
       "      <td>1</td>\n",
       "      <td>3/7/24 17:37</td>\n",
       "      <td>R_8MyxVErYOFwgRQR</td>\n",
       "      <td>NaN</td>\n",
       "      <td>...</td>\n",
       "      <td>5</td>\n",
       "      <td>Safari iPhone</td>\n",
       "      <td>16.3</td>\n",
       "      <td>iPhone</td>\n",
       "      <td>375x667</td>\n",
       "      <td>-20</td>\n",
       "      <td>2.493</td>\n",
       "      <td>3.573</td>\n",
       "      <td>4.401</td>\n",
       "      <td>2</td>\n",
       "    </tr>\n",
       "    <tr>\n",
       "      <th>116</th>\n",
       "      <td>3/7/24 22:08</td>\n",
       "      <td>3/7/24 22:13</td>\n",
       "      <td>0</td>\n",
       "      <td>78.35.195.189</td>\n",
       "      <td>100</td>\n",
       "      <td>299</td>\n",
       "      <td>1</td>\n",
       "      <td>3/7/24 22:13</td>\n",
       "      <td>R_2dMm4DrRHArgZDv</td>\n",
       "      <td>NaN</td>\n",
       "      <td>...</td>\n",
       "      <td>2</td>\n",
       "      <td>Firefox</td>\n",
       "      <td>123</td>\n",
       "      <td>Windows NT 10.0</td>\n",
       "      <td>2560x1080</td>\n",
       "      <td>-16</td>\n",
       "      <td>4.314</td>\n",
       "      <td>6.896</td>\n",
       "      <td>7.481</td>\n",
       "      <td>4</td>\n",
       "    </tr>\n",
       "    <tr>\n",
       "      <th>117</th>\n",
       "      <td>3/8/24 12:17</td>\n",
       "      <td>3/8/24 12:19</td>\n",
       "      <td>0</td>\n",
       "      <td>108.217.218.35</td>\n",
       "      <td>100</td>\n",
       "      <td>152</td>\n",
       "      <td>1</td>\n",
       "      <td>3/8/24 12:19</td>\n",
       "      <td>R_5xJeRW71WXBmCyD</td>\n",
       "      <td>NaN</td>\n",
       "      <td>...</td>\n",
       "      <td>4</td>\n",
       "      <td>Safari iPhone</td>\n",
       "      <td>17.3.1</td>\n",
       "      <td>iPhone</td>\n",
       "      <td>390x844</td>\n",
       "      <td>50</td>\n",
       "      <td>5.111</td>\n",
       "      <td>5.761</td>\n",
       "      <td>6.315</td>\n",
       "      <td>2</td>\n",
       "    </tr>\n",
       "    <tr>\n",
       "      <th>118</th>\n",
       "      <td>3/8/24 13:38</td>\n",
       "      <td>3/8/24 13:46</td>\n",
       "      <td>0</td>\n",
       "      <td>93.131.107.157</td>\n",
       "      <td>100</td>\n",
       "      <td>514</td>\n",
       "      <td>1</td>\n",
       "      <td>3/8/24 13:46</td>\n",
       "      <td>R_8uwwGTWXZXcZXji</td>\n",
       "      <td>NaN</td>\n",
       "      <td>...</td>\n",
       "      <td>2</td>\n",
       "      <td>Chrome</td>\n",
       "      <td>122.0.0.0</td>\n",
       "      <td>Windows NT 10.0</td>\n",
       "      <td>1920x1080</td>\n",
       "      <td>17</td>\n",
       "      <td>7.041</td>\n",
       "      <td>7.041</td>\n",
       "      <td>9.329</td>\n",
       "      <td>1</td>\n",
       "    </tr>\n",
       "  </tbody>\n",
       "</table>\n",
       "<p>119 rows × 50 columns</p>\n",
       "</div>"
      ],
      "text/plain": [
       "                                             StartDate  \\\n",
       "0                                           Start Date   \n",
       "1    {\"ImportId\":\"startDate\",\"timeZone\":\"America/Ne...   \n",
       "2                                        2/29/24 11:41   \n",
       "3                                          3/1/24 5:36   \n",
       "4                                          3/3/24 6:07   \n",
       "..                                                 ...   \n",
       "114                                       3/7/24 13:13   \n",
       "115                                       3/7/24 17:34   \n",
       "116                                       3/7/24 22:08   \n",
       "117                                       3/8/24 12:17   \n",
       "118                                       3/8/24 13:38   \n",
       "\n",
       "                                               EndDate                 Status  \\\n",
       "0                                             End Date          Response Type   \n",
       "1    {\"ImportId\":\"endDate\",\"timeZone\":\"America/New_...  {\"ImportId\":\"status\"}   \n",
       "2                                        2/29/24 11:47                      1   \n",
       "3                                          3/1/24 5:47                      1   \n",
       "4                                          3/3/24 6:13                      1   \n",
       "..                                                 ...                    ...   \n",
       "114                                       3/7/24 13:30                      0   \n",
       "115                                       3/7/24 17:37                      0   \n",
       "116                                       3/7/24 22:13                      0   \n",
       "117                                       3/8/24 12:19                      0   \n",
       "118                                       3/8/24 13:46                      0   \n",
       "\n",
       "                    IPAddress                 Progress  \\\n",
       "0                  IP Address                 Progress   \n",
       "1    {\"ImportId\":\"ipAddress\"}  {\"ImportId\":\"progress\"}   \n",
       "2                         NaN                      100   \n",
       "3                         NaN                      100   \n",
       "4                         NaN                      100   \n",
       "..                        ...                      ...   \n",
       "114             206.87.99.147                      100   \n",
       "115               5.90.239.32                      100   \n",
       "116             78.35.195.189                      100   \n",
       "117            108.217.218.35                      100   \n",
       "118            93.131.107.157                      100   \n",
       "\n",
       "       Duration (in seconds)                 Finished  \\\n",
       "0      Duration (in seconds)                 Finished   \n",
       "1    {\"ImportId\":\"duration\"}  {\"ImportId\":\"finished\"}   \n",
       "2                        397                        1   \n",
       "3                        668                        1   \n",
       "4                        400                        1   \n",
       "..                       ...                      ...   \n",
       "114                     1004                        1   \n",
       "115                      233                        1   \n",
       "116                      299                        1   \n",
       "117                      152                        1   \n",
       "118                      514                        1   \n",
       "\n",
       "                                          RecordedDate  \\\n",
       "0                                        Recorded Date   \n",
       "1    {\"ImportId\":\"recordedDate\",\"timeZone\":\"America...   \n",
       "2                                        2/29/24 11:47   \n",
       "3                                          3/1/24 5:47   \n",
       "4                                          3/3/24 6:13   \n",
       "..                                                 ...   \n",
       "114                                       3/7/24 13:30   \n",
       "115                                       3/7/24 17:37   \n",
       "116                                       3/7/24 22:13   \n",
       "117                                       3/8/24 12:19   \n",
       "118                                       3/8/24 13:46   \n",
       "\n",
       "                   ResponseId                 RecipientLastName  ...  \\\n",
       "0                 Response ID               Recipient Last Name  ...   \n",
       "1    {\"ImportId\":\"_recordId\"}  {\"ImportId\":\"recipientLastName\"}  ...   \n",
       "2           R_3PZxbtkBkxF24OQ                               NaN  ...   \n",
       "3           R_2mftJtg4Va1Ua7C                               NaN  ...   \n",
       "4           R_2NBfNsJJcpH8uKl                               NaN  ...   \n",
       "..                        ...                               ...  ...   \n",
       "114         R_12rkBe1gJyA5QvZ                               NaN  ...   \n",
       "115         R_8MyxVErYOFwgRQR                               NaN  ...   \n",
       "116         R_2dMm4DrRHArgZDv                               NaN  ...   \n",
       "117         R_5xJeRW71WXBmCyD                               NaN  ...   \n",
       "118         R_8uwwGTWXZXcZXji                               NaN  ...   \n",
       "\n",
       "                                  Demographics: School  \\\n",
       "0    What is the highest level of school you have c...   \n",
       "1                                  {\"ImportId\":\"QID4\"}   \n",
       "2                                                    5   \n",
       "3                                                    5   \n",
       "4                                                    4   \n",
       "..                                                 ...   \n",
       "114                                                  4   \n",
       "115                                                  5   \n",
       "116                                                  2   \n",
       "117                                                  4   \n",
       "118                                                  2   \n",
       "\n",
       "                                    Q47_Browser  \\\n",
       "0    Click to write the question text - Browser   \n",
       "1                  {\"ImportId\":\"QID47_BROWSER\"}   \n",
       "2                                          Edge   \n",
       "3                                        Chrome   \n",
       "4                                 Safari iPhone   \n",
       "..                                          ...   \n",
       "114                                      Chrome   \n",
       "115                               Safari iPhone   \n",
       "116                                     Firefox   \n",
       "117                               Safari iPhone   \n",
       "118                                      Chrome   \n",
       "\n",
       "                                    Q47_Version  \\\n",
       "0    Click to write the question text - Version   \n",
       "1                  {\"ImportId\":\"QID47_VERSION\"}   \n",
       "2                                     122.0.0.0   \n",
       "3                                     120.0.0.0   \n",
       "4                                        17.3.1   \n",
       "..                                          ...   \n",
       "114                                   117.0.0.0   \n",
       "115                                        16.3   \n",
       "116                                         123   \n",
       "117                                      17.3.1   \n",
       "118                                   122.0.0.0   \n",
       "\n",
       "                                  Q47_Operating System  \\\n",
       "0    Click to write the question text - Operating S...   \n",
       "1                              {\"ImportId\":\"QID47_OS\"}   \n",
       "2                                      Windows NT 10.0   \n",
       "3                                            Macintosh   \n",
       "4                                               iPhone   \n",
       "..                                                 ...   \n",
       "114                                          Macintosh   \n",
       "115                                             iPhone   \n",
       "116                                    Windows NT 10.0   \n",
       "117                                             iPhone   \n",
       "118                                    Windows NT 10.0   \n",
       "\n",
       "                                    Q47_Resolution  \\\n",
       "0    Click to write the question text - Resolution   \n",
       "1                  {\"ImportId\":\"QID47_RESOLUTION\"}   \n",
       "2                                         1536x864   \n",
       "3                                        1920x1080   \n",
       "4                                          393x852   \n",
       "..                                             ...   \n",
       "114                                       1440x900   \n",
       "115                                        375x667   \n",
       "116                                      2560x1080   \n",
       "117                                        390x844   \n",
       "118                                      1920x1080   \n",
       "\n",
       "                                                 Q10_1  \\\n",
       "0    In political matters, people talk of “the left...   \n",
       "1                               {\"ImportId\":\"QID10_1\"}   \n",
       "2                                                  NaN   \n",
       "3                                                  NaN   \n",
       "4                                                  -44   \n",
       "..                                                 ...   \n",
       "114                                                -34   \n",
       "115                                                -20   \n",
       "116                                                -16   \n",
       "117                                                 50   \n",
       "118                                                 17   \n",
       "\n",
       "                      Q45_First Click                   Q45_Last Click  \\\n",
       "0                Timing - First Click              Timing - Last Click   \n",
       "1    {\"ImportId\":\"QID45_FIRST_CLICK\"}  {\"ImportId\":\"QID45_LAST_CLICK\"}   \n",
       "2                               2.911                            6.969   \n",
       "3                              14.261                           27.772   \n",
       "4                               1.662                           10.851   \n",
       "..                                ...                              ...   \n",
       "114                            83.162                           93.138   \n",
       "115                             2.493                            3.573   \n",
       "116                             4.314                            6.896   \n",
       "117                             5.111                            5.761   \n",
       "118                             7.041                            7.041   \n",
       "\n",
       "                      Q45_Page Submit                   Q45_Click Count  \n",
       "0                Timing - Page Submit              Timing - Click Count  \n",
       "1    {\"ImportId\":\"QID45_PAGE_SUBMIT\"}  {\"ImportId\":\"QID45_CLICK_COUNT\"}  \n",
       "2                               8.482                                 3  \n",
       "3                              32.233                                 2  \n",
       "4                              11.917                                 4  \n",
       "..                                ...                               ...  \n",
       "114                            94.872                                 2  \n",
       "115                             4.401                                 2  \n",
       "116                             7.481                                 4  \n",
       "117                             6.315                                 2  \n",
       "118                             9.329                                 1  \n",
       "\n",
       "[119 rows x 50 columns]"
      ]
     },
     "execution_count": 107,
     "metadata": {},
     "output_type": "execute_result"
    }
   ],
   "source": [
    "data = pd.read_csv('/Users/andrewbennett/Documents/bse/term2/behavioural_decision_making/Behavioral Conformity_March 9, 2024_09.20.csv')\n",
    "\n",
    "data"
   ]
  },
  {
   "cell_type": "code",
   "execution_count": 108,
   "metadata": {},
   "outputs": [
    {
     "data": {
      "text/plain": [
       "Index(['StartDate', 'EndDate', 'Status', 'IPAddress', 'Progress',\n",
       "       'Duration (in seconds)', 'Finished', 'RecordedDate', 'ResponseId',\n",
       "       'RecipientLastName', 'RecipientFirstName', 'RecipientEmail',\n",
       "       'ExternalReference', 'LocationLatitude', 'LocationLongitude',\n",
       "       'DistributionChannel', 'UserLanguage', 'Q8', 'Q6', 'Q35',\n",
       "       'Q41_Click Count', 'Q5', 'Q25', 'Q26', 'Q27', 'Q28', 'Q38', 'Q29',\n",
       "       'Q39', 'Q30', 'Q40', 'Q31', 'Q37', 'Q32', 'Q36', 'Q33', 'Q9',\n",
       "       'Demographics: Age', 'Demographics: Gender',\n",
       "       'Demographics: Gender_4_TEXT', 'Demographics: School', 'Q47_Browser',\n",
       "       'Q47_Version', 'Q47_Operating System', 'Q47_Resolution', 'Q10_1',\n",
       "       'Q45_First Click', 'Q45_Last Click', 'Q45_Page Submit',\n",
       "       'Q45_Click Count'],\n",
       "      dtype='object')"
      ]
     },
     "execution_count": 108,
     "metadata": {},
     "output_type": "execute_result"
    }
   ],
   "source": [
    "data.columns"
   ]
  },
  {
   "cell_type": "code",
   "execution_count": 109,
   "metadata": {},
   "outputs": [
    {
     "data": {
      "text/html": [
       "<div>\n",
       "<style scoped>\n",
       "    .dataframe tbody tr th:only-of-type {\n",
       "        vertical-align: middle;\n",
       "    }\n",
       "\n",
       "    .dataframe tbody tr th {\n",
       "        vertical-align: top;\n",
       "    }\n",
       "\n",
       "    .dataframe thead th {\n",
       "        text-align: right;\n",
       "    }\n",
       "</style>\n",
       "<table border=\"1\" class=\"dataframe\">\n",
       "  <thead>\n",
       "    <tr style=\"text-align: right;\">\n",
       "      <th></th>\n",
       "      <th>Start Date</th>\n",
       "      <th>End Date</th>\n",
       "      <th>Response Type</th>\n",
       "      <th>IP Address</th>\n",
       "      <th>Progress</th>\n",
       "      <th>Duration (in seconds)</th>\n",
       "      <th>Finished</th>\n",
       "      <th>Recorded Date</th>\n",
       "      <th>Response ID</th>\n",
       "      <th>Recipient Last Name</th>\n",
       "      <th>...</th>\n",
       "      <th>What is the highest level of school you have completed or the highest degree you have received?</th>\n",
       "      <th>Click to write the question text - Browser</th>\n",
       "      <th>Click to write the question text - Version</th>\n",
       "      <th>Click to write the question text - Operating System</th>\n",
       "      <th>Click to write the question text - Resolution</th>\n",
       "      <th>In political matters, people talk of “the left” and “the right”. Generally speaking, how would you place your views on this scale? - 1</th>\n",
       "      <th>Timing - First Click</th>\n",
       "      <th>Timing - Last Click</th>\n",
       "      <th>Timing - Page Submit</th>\n",
       "      <th>Timing - Click Count</th>\n",
       "    </tr>\n",
       "  </thead>\n",
       "  <tbody>\n",
       "    <tr>\n",
       "      <th>0</th>\n",
       "      <td>2/29/24 11:41</td>\n",
       "      <td>2/29/24 11:47</td>\n",
       "      <td>1</td>\n",
       "      <td>NaN</td>\n",
       "      <td>100</td>\n",
       "      <td>397</td>\n",
       "      <td>1</td>\n",
       "      <td>2/29/24 11:47</td>\n",
       "      <td>R_3PZxbtkBkxF24OQ</td>\n",
       "      <td>NaN</td>\n",
       "      <td>...</td>\n",
       "      <td>5</td>\n",
       "      <td>Edge</td>\n",
       "      <td>122.0.0.0</td>\n",
       "      <td>Windows NT 10.0</td>\n",
       "      <td>1536x864</td>\n",
       "      <td>NaN</td>\n",
       "      <td>2.911</td>\n",
       "      <td>6.969</td>\n",
       "      <td>8.482</td>\n",
       "      <td>3</td>\n",
       "    </tr>\n",
       "    <tr>\n",
       "      <th>1</th>\n",
       "      <td>3/1/24 5:36</td>\n",
       "      <td>3/1/24 5:47</td>\n",
       "      <td>1</td>\n",
       "      <td>NaN</td>\n",
       "      <td>100</td>\n",
       "      <td>668</td>\n",
       "      <td>1</td>\n",
       "      <td>3/1/24 5:47</td>\n",
       "      <td>R_2mftJtg4Va1Ua7C</td>\n",
       "      <td>NaN</td>\n",
       "      <td>...</td>\n",
       "      <td>5</td>\n",
       "      <td>Chrome</td>\n",
       "      <td>120.0.0.0</td>\n",
       "      <td>Macintosh</td>\n",
       "      <td>1920x1080</td>\n",
       "      <td>NaN</td>\n",
       "      <td>14.261</td>\n",
       "      <td>27.772</td>\n",
       "      <td>32.233</td>\n",
       "      <td>2</td>\n",
       "    </tr>\n",
       "    <tr>\n",
       "      <th>2</th>\n",
       "      <td>3/3/24 6:07</td>\n",
       "      <td>3/3/24 6:13</td>\n",
       "      <td>1</td>\n",
       "      <td>NaN</td>\n",
       "      <td>100</td>\n",
       "      <td>400</td>\n",
       "      <td>1</td>\n",
       "      <td>3/3/24 6:13</td>\n",
       "      <td>R_2NBfNsJJcpH8uKl</td>\n",
       "      <td>NaN</td>\n",
       "      <td>...</td>\n",
       "      <td>4</td>\n",
       "      <td>Safari iPhone</td>\n",
       "      <td>17.3.1</td>\n",
       "      <td>iPhone</td>\n",
       "      <td>393x852</td>\n",
       "      <td>-44</td>\n",
       "      <td>1.662</td>\n",
       "      <td>10.851</td>\n",
       "      <td>11.917</td>\n",
       "      <td>4</td>\n",
       "    </tr>\n",
       "    <tr>\n",
       "      <th>3</th>\n",
       "      <td>3/5/24 7:57</td>\n",
       "      <td>3/5/24 8:00</td>\n",
       "      <td>0</td>\n",
       "      <td>84.89.157.37</td>\n",
       "      <td>100</td>\n",
       "      <td>166</td>\n",
       "      <td>1</td>\n",
       "      <td>3/5/24 8:00</td>\n",
       "      <td>R_3HAh31m4rR9BtHr</td>\n",
       "      <td>NaN</td>\n",
       "      <td>...</td>\n",
       "      <td>5</td>\n",
       "      <td>Chrome</td>\n",
       "      <td>122.0.0.0</td>\n",
       "      <td>Macintosh</td>\n",
       "      <td>1800x1169</td>\n",
       "      <td>11</td>\n",
       "      <td>3.2</td>\n",
       "      <td>4.286</td>\n",
       "      <td>5.092</td>\n",
       "      <td>2</td>\n",
       "    </tr>\n",
       "    <tr>\n",
       "      <th>4</th>\n",
       "      <td>3/5/24 7:55</td>\n",
       "      <td>3/5/24 8:00</td>\n",
       "      <td>0</td>\n",
       "      <td>84.89.157.41</td>\n",
       "      <td>100</td>\n",
       "      <td>323</td>\n",
       "      <td>1</td>\n",
       "      <td>3/5/24 8:00</td>\n",
       "      <td>R_5X4H3ZfjujrAGUu</td>\n",
       "      <td>NaN</td>\n",
       "      <td>...</td>\n",
       "      <td>4</td>\n",
       "      <td>Chrome</td>\n",
       "      <td>122.0.0.0</td>\n",
       "      <td>Macintosh</td>\n",
       "      <td>1440x932</td>\n",
       "      <td>1</td>\n",
       "      <td>7.613</td>\n",
       "      <td>13.662</td>\n",
       "      <td>14.653</td>\n",
       "      <td>2</td>\n",
       "    </tr>\n",
       "    <tr>\n",
       "      <th>...</th>\n",
       "      <td>...</td>\n",
       "      <td>...</td>\n",
       "      <td>...</td>\n",
       "      <td>...</td>\n",
       "      <td>...</td>\n",
       "      <td>...</td>\n",
       "      <td>...</td>\n",
       "      <td>...</td>\n",
       "      <td>...</td>\n",
       "      <td>...</td>\n",
       "      <td>...</td>\n",
       "      <td>...</td>\n",
       "      <td>...</td>\n",
       "      <td>...</td>\n",
       "      <td>...</td>\n",
       "      <td>...</td>\n",
       "      <td>...</td>\n",
       "      <td>...</td>\n",
       "      <td>...</td>\n",
       "      <td>...</td>\n",
       "      <td>...</td>\n",
       "    </tr>\n",
       "    <tr>\n",
       "      <th>112</th>\n",
       "      <td>3/7/24 13:13</td>\n",
       "      <td>3/7/24 13:30</td>\n",
       "      <td>0</td>\n",
       "      <td>206.87.99.147</td>\n",
       "      <td>100</td>\n",
       "      <td>1004</td>\n",
       "      <td>1</td>\n",
       "      <td>3/7/24 13:30</td>\n",
       "      <td>R_12rkBe1gJyA5QvZ</td>\n",
       "      <td>NaN</td>\n",
       "      <td>...</td>\n",
       "      <td>4</td>\n",
       "      <td>Chrome</td>\n",
       "      <td>117.0.0.0</td>\n",
       "      <td>Macintosh</td>\n",
       "      <td>1440x900</td>\n",
       "      <td>-34</td>\n",
       "      <td>83.162</td>\n",
       "      <td>93.138</td>\n",
       "      <td>94.872</td>\n",
       "      <td>2</td>\n",
       "    </tr>\n",
       "    <tr>\n",
       "      <th>113</th>\n",
       "      <td>3/7/24 17:34</td>\n",
       "      <td>3/7/24 17:37</td>\n",
       "      <td>0</td>\n",
       "      <td>5.90.239.32</td>\n",
       "      <td>100</td>\n",
       "      <td>233</td>\n",
       "      <td>1</td>\n",
       "      <td>3/7/24 17:37</td>\n",
       "      <td>R_8MyxVErYOFwgRQR</td>\n",
       "      <td>NaN</td>\n",
       "      <td>...</td>\n",
       "      <td>5</td>\n",
       "      <td>Safari iPhone</td>\n",
       "      <td>16.3</td>\n",
       "      <td>iPhone</td>\n",
       "      <td>375x667</td>\n",
       "      <td>-20</td>\n",
       "      <td>2.493</td>\n",
       "      <td>3.573</td>\n",
       "      <td>4.401</td>\n",
       "      <td>2</td>\n",
       "    </tr>\n",
       "    <tr>\n",
       "      <th>114</th>\n",
       "      <td>3/7/24 22:08</td>\n",
       "      <td>3/7/24 22:13</td>\n",
       "      <td>0</td>\n",
       "      <td>78.35.195.189</td>\n",
       "      <td>100</td>\n",
       "      <td>299</td>\n",
       "      <td>1</td>\n",
       "      <td>3/7/24 22:13</td>\n",
       "      <td>R_2dMm4DrRHArgZDv</td>\n",
       "      <td>NaN</td>\n",
       "      <td>...</td>\n",
       "      <td>2</td>\n",
       "      <td>Firefox</td>\n",
       "      <td>123</td>\n",
       "      <td>Windows NT 10.0</td>\n",
       "      <td>2560x1080</td>\n",
       "      <td>-16</td>\n",
       "      <td>4.314</td>\n",
       "      <td>6.896</td>\n",
       "      <td>7.481</td>\n",
       "      <td>4</td>\n",
       "    </tr>\n",
       "    <tr>\n",
       "      <th>115</th>\n",
       "      <td>3/8/24 12:17</td>\n",
       "      <td>3/8/24 12:19</td>\n",
       "      <td>0</td>\n",
       "      <td>108.217.218.35</td>\n",
       "      <td>100</td>\n",
       "      <td>152</td>\n",
       "      <td>1</td>\n",
       "      <td>3/8/24 12:19</td>\n",
       "      <td>R_5xJeRW71WXBmCyD</td>\n",
       "      <td>NaN</td>\n",
       "      <td>...</td>\n",
       "      <td>4</td>\n",
       "      <td>Safari iPhone</td>\n",
       "      <td>17.3.1</td>\n",
       "      <td>iPhone</td>\n",
       "      <td>390x844</td>\n",
       "      <td>50</td>\n",
       "      <td>5.111</td>\n",
       "      <td>5.761</td>\n",
       "      <td>6.315</td>\n",
       "      <td>2</td>\n",
       "    </tr>\n",
       "    <tr>\n",
       "      <th>116</th>\n",
       "      <td>3/8/24 13:38</td>\n",
       "      <td>3/8/24 13:46</td>\n",
       "      <td>0</td>\n",
       "      <td>93.131.107.157</td>\n",
       "      <td>100</td>\n",
       "      <td>514</td>\n",
       "      <td>1</td>\n",
       "      <td>3/8/24 13:46</td>\n",
       "      <td>R_8uwwGTWXZXcZXji</td>\n",
       "      <td>NaN</td>\n",
       "      <td>...</td>\n",
       "      <td>2</td>\n",
       "      <td>Chrome</td>\n",
       "      <td>122.0.0.0</td>\n",
       "      <td>Windows NT 10.0</td>\n",
       "      <td>1920x1080</td>\n",
       "      <td>17</td>\n",
       "      <td>7.041</td>\n",
       "      <td>7.041</td>\n",
       "      <td>9.329</td>\n",
       "      <td>1</td>\n",
       "    </tr>\n",
       "  </tbody>\n",
       "</table>\n",
       "<p>117 rows × 50 columns</p>\n",
       "</div>"
      ],
      "text/plain": [
       "0       Start Date       End Date Response Type      IP Address Progress  \\\n",
       "0    2/29/24 11:41  2/29/24 11:47             1             NaN      100   \n",
       "1      3/1/24 5:36    3/1/24 5:47             1             NaN      100   \n",
       "2      3/3/24 6:07    3/3/24 6:13             1             NaN      100   \n",
       "3      3/5/24 7:57    3/5/24 8:00             0    84.89.157.37      100   \n",
       "4      3/5/24 7:55    3/5/24 8:00             0    84.89.157.41      100   \n",
       "..             ...            ...           ...             ...      ...   \n",
       "112   3/7/24 13:13   3/7/24 13:30             0   206.87.99.147      100   \n",
       "113   3/7/24 17:34   3/7/24 17:37             0     5.90.239.32      100   \n",
       "114   3/7/24 22:08   3/7/24 22:13             0   78.35.195.189      100   \n",
       "115   3/8/24 12:17   3/8/24 12:19             0  108.217.218.35      100   \n",
       "116   3/8/24 13:38   3/8/24 13:46             0  93.131.107.157      100   \n",
       "\n",
       "0   Duration (in seconds) Finished  Recorded Date        Response ID  \\\n",
       "0                     397        1  2/29/24 11:47  R_3PZxbtkBkxF24OQ   \n",
       "1                     668        1    3/1/24 5:47  R_2mftJtg4Va1Ua7C   \n",
       "2                     400        1    3/3/24 6:13  R_2NBfNsJJcpH8uKl   \n",
       "3                     166        1    3/5/24 8:00  R_3HAh31m4rR9BtHr   \n",
       "4                     323        1    3/5/24 8:00  R_5X4H3ZfjujrAGUu   \n",
       "..                    ...      ...            ...                ...   \n",
       "112                  1004        1   3/7/24 13:30  R_12rkBe1gJyA5QvZ   \n",
       "113                   233        1   3/7/24 17:37  R_8MyxVErYOFwgRQR   \n",
       "114                   299        1   3/7/24 22:13  R_2dMm4DrRHArgZDv   \n",
       "115                   152        1   3/8/24 12:19  R_5xJeRW71WXBmCyD   \n",
       "116                   514        1   3/8/24 13:46  R_8uwwGTWXZXcZXji   \n",
       "\n",
       "0   Recipient Last Name  ...  \\\n",
       "0                   NaN  ...   \n",
       "1                   NaN  ...   \n",
       "2                   NaN  ...   \n",
       "3                   NaN  ...   \n",
       "4                   NaN  ...   \n",
       "..                  ...  ...   \n",
       "112                 NaN  ...   \n",
       "113                 NaN  ...   \n",
       "114                 NaN  ...   \n",
       "115                 NaN  ...   \n",
       "116                 NaN  ...   \n",
       "\n",
       "0   What is the highest level of school you have completed or the highest degree you have received?  \\\n",
       "0                                                    5                                                \n",
       "1                                                    5                                                \n",
       "2                                                    4                                                \n",
       "3                                                    5                                                \n",
       "4                                                    4                                                \n",
       "..                                                 ...                                                \n",
       "112                                                  4                                                \n",
       "113                                                  5                                                \n",
       "114                                                  2                                                \n",
       "115                                                  4                                                \n",
       "116                                                  2                                                \n",
       "\n",
       "0   Click to write the question text - Browser  \\\n",
       "0                                         Edge   \n",
       "1                                       Chrome   \n",
       "2                                Safari iPhone   \n",
       "3                                       Chrome   \n",
       "4                                       Chrome   \n",
       "..                                         ...   \n",
       "112                                     Chrome   \n",
       "113                              Safari iPhone   \n",
       "114                                    Firefox   \n",
       "115                              Safari iPhone   \n",
       "116                                     Chrome   \n",
       "\n",
       "0   Click to write the question text - Version  \\\n",
       "0                                    122.0.0.0   \n",
       "1                                    120.0.0.0   \n",
       "2                                       17.3.1   \n",
       "3                                    122.0.0.0   \n",
       "4                                    122.0.0.0   \n",
       "..                                         ...   \n",
       "112                                  117.0.0.0   \n",
       "113                                       16.3   \n",
       "114                                        123   \n",
       "115                                     17.3.1   \n",
       "116                                  122.0.0.0   \n",
       "\n",
       "0   Click to write the question text - Operating System  \\\n",
       "0                                      Windows NT 10.0    \n",
       "1                                            Macintosh    \n",
       "2                                               iPhone    \n",
       "3                                            Macintosh    \n",
       "4                                            Macintosh    \n",
       "..                                                 ...    \n",
       "112                                          Macintosh    \n",
       "113                                             iPhone    \n",
       "114                                    Windows NT 10.0    \n",
       "115                                             iPhone    \n",
       "116                                    Windows NT 10.0    \n",
       "\n",
       "0   Click to write the question text - Resolution  \\\n",
       "0                                        1536x864   \n",
       "1                                       1920x1080   \n",
       "2                                         393x852   \n",
       "3                                       1800x1169   \n",
       "4                                        1440x932   \n",
       "..                                            ...   \n",
       "112                                      1440x900   \n",
       "113                                       375x667   \n",
       "114                                     2560x1080   \n",
       "115                                       390x844   \n",
       "116                                     1920x1080   \n",
       "\n",
       "0   In political matters, people talk of “the left” and “the right”. Generally speaking, how would you place your views on this scale? - 1  \\\n",
       "0                                                  NaN                                                                                       \n",
       "1                                                  NaN                                                                                       \n",
       "2                                                  -44                                                                                       \n",
       "3                                                   11                                                                                       \n",
       "4                                                    1                                                                                       \n",
       "..                                                 ...                                                                                       \n",
       "112                                                -34                                                                                       \n",
       "113                                                -20                                                                                       \n",
       "114                                                -16                                                                                       \n",
       "115                                                 50                                                                                       \n",
       "116                                                 17                                                                                       \n",
       "\n",
       "0   Timing - First Click Timing - Last Click Timing - Page Submit  \\\n",
       "0                  2.911               6.969                8.482   \n",
       "1                 14.261              27.772               32.233   \n",
       "2                  1.662              10.851               11.917   \n",
       "3                    3.2               4.286                5.092   \n",
       "4                  7.613              13.662               14.653   \n",
       "..                   ...                 ...                  ...   \n",
       "112               83.162              93.138               94.872   \n",
       "113                2.493               3.573                4.401   \n",
       "114                4.314               6.896                7.481   \n",
       "115                5.111               5.761                6.315   \n",
       "116                7.041               7.041                9.329   \n",
       "\n",
       "0   Timing - Click Count  \n",
       "0                      3  \n",
       "1                      2  \n",
       "2                      4  \n",
       "3                      2  \n",
       "4                      2  \n",
       "..                   ...  \n",
       "112                    2  \n",
       "113                    2  \n",
       "114                    4  \n",
       "115                    2  \n",
       "116                    1  \n",
       "\n",
       "[117 rows x 50 columns]"
      ]
     },
     "execution_count": 109,
     "metadata": {},
     "output_type": "execute_result"
    }
   ],
   "source": [
    "# drop the first row\n",
    "\n",
    "\n",
    "# change first row to column names\n",
    "data.columns = data.iloc[0]\n",
    "data = data.drop(0)\n",
    "data = data.drop(1)\n",
    "\n",
    "data = data.reset_index(drop=True)\n",
    "data"
   ]
  },
  {
   "cell_type": "code",
   "execution_count": 110,
   "metadata": {},
   "outputs": [],
   "source": [
    "dict_mappings = {\"male_lecturers\":\"Below are five statements. Please tell us with how many of them you agree. We do not need to know which ones, just how many.\\n\\n \\n\\n\\tHaving a majority of male lecturers leads to a more efficient and clear learning environment\\n\\tThe continuous use of fossil fuels is a sustainable, long-term option for the future.\\n\\tDeveloping countries should be given the resources to access internet.\\n\\tThe Death penalty should always be a viable punishment option.\\n\\tPrison rehabilitation needs to be adopted by more governments and given more resources.\\n\\n\\n\\nPlease indicate the total number of statements that you agree with.\",\n",
    "\"university_gender_quota\":\"Below are five statements. Please tell us with how many of them you agree. We do not need to know which ones, just how many.\\n\\n \\n\\n\\tThe government should legalize the medicinal use of cannabis.\\n\\tEveryone should generally do what they can to be more environmentally conscious.\\n\\tThe government should use harsher punishments for recreational cannabis use.\\n\\tWhen a woman gets a university offer instead of a man, it is likely due to a gender quota.\\n\\tAll countries worldwide should have access to nuclear weapons.\\n\\n\\n\\nPlease indicate the total number of statements that you agree with.\",\n",
    "\"workload_stress\":\"Below are five statements. Please tell us with how many of them you agree. We do not need to know which ones, just how many.\\n\\n \\n\\n\\tGuns should be more accessible to everyone worldwide.\\n\\tWomen can deal with workload stress as well as men.\\n\\tUniversities should have policies that maintain the discretion of their students' grades.\\n\\tThe consumption of animals is essential for the human diet.\\n\\tPeople should shift towards a plant-based diet to preserve the environment.\\n\\n\\n\\nPlease indicate the total number of statements that you agree with.\",\n",
    "\"dei_policies\":\"Below are five statements. Please tell us with how many of them you agree. We do not need to know which ones, just how many.\\n\\n \\n\\n\\tPrivate healthcare is justified by the deficiencies of state-provided healthcare.\\n\\tAI in the future should be incorporated into the university system rather than harshly trying to restrict it.\\n\\tAll movies and books should be government-reviewed and approved before public release.\\n\\tUniversal healthcare should be provided by the state.\\n\\tDiversity, Equity, and Inclusion policies give opportunities to people who deserve them and this is always fair.\\n\\n\\n\\nPlease indicate the total number of statements that you agree with.\",\n",
    "\"netflix\":\"Below are five statements. Please tell us with how many of them you agree. We do not need to know which ones, just how many.\\n\\n \\n\\n\\tA healthy diet can generally contribute, on average, to longer lifespan.\\n\\tUniversities should be able to monitor search histories on personal devices.\\n\\tVaccinations should be an international travel requirement.\\n\\tVaccinations should be left to the individual's discretion.\\n\\tI have a Netflix subscription.\\n\\n\\n\\nPlease indicate the total number of statements that you agree with.\",\n",
    "\n",
    "\n",
    "\"dei_policies_direct\":\"Do you agree with the following statement? \\n\\n\\n\\nDiversity, Equity, and Inclusion policies give opportunities to people who deserve them and this is always fair.\",\n",
    "\"dei_policies_4\":\"Below are five statements. Please tell us with how many of them you agree. We do not need to know which ones, just how many.\\n\\n \\n\\n\\tThe continuous use of fossil fuels is a sustainable, long-term option for the future.\\n\\tDeveloping countries should be given the resources to access internet.\\n\\tThe Death penalty should always be a viable punishment option.\\n\\tPrison rehabilitation needs to be adopted by more governments and given more resources.\\n\\n\\n\\nPlease indicate the total number of statements that you agree with.\",\n",
    "\n",
    "\n",
    "\"workload_stress_direct\":\"Do you agree with the following statement? \\n\\n\\n\\nWomen can deal with workload stress as well as men.\",\n",
    "\"workload_stress_4\":\"Below are five statements. Please tell us with how many of them you agree. We do not need to know which ones, just how many.\\n\\n \\n\\n\\tThe government should legalize the medicinal use of cannabis.\\n\\tEveryone should generally do what they can to be more environmentally conscious.\\n\\tThe government should use harsher punishments for recreational cannabis use.\\n\\tAll countries worldwide should have access to nuclear weapons.\\n\\n\\n\\nPlease indicate the total number of statements that you agree with.\",\n",
    "\n",
    "\n",
    "\"university_gender_quota_direct\":\"Do you agree with the following statement? \\n\\n\\n\\nWhen a woman gets a university offer instead of a man, it is likely due to a gender quota.\",\n",
    "\"university_gender_quota_4\":\"Below are five statements. Please tell us with how many of them you agree. We do not need to know which ones, just how many.\\n\\n \\n\\n\\tGuns should be more accessible to everyone worldwide.\\n\\tUniversities should have policies that maintain the discretion of their students' grades.\\n\\tThe consumption of animals is essential for the human diet.\\n\\tPeople should shift towards a plant-based diet to preserve the environment.\\n\\n\\n\\nPlease indicate the total number of statements that you agree with.\",\n",
    "\n",
    "\n",
    "\"netflix_direct\":\"Do you agree with the following statement? \\n\\n\\n\\nI have a Netflix subscription.\",\n",
    "\"netflix_4\":\"Below are five statements. Please tell us with how many of them you agree. We do not need to know which ones, just how many.\\n\\n \\n\\n\\tPrivate healthcare is justified by the deficiencies of state-provided healthcare.\\n\\tAI in the future should be incorporated into the university system rather than harshly trying to restrict it.\\n\\tAll movies and books should be government-reviewed and approved before public release.\\n\\tUniversal healthcare should be provided by the state.\\n\\n\\n\\nPlease indicate the total number of statements that you agree with.\",\n",
    "\n",
    "\n",
    "\"male_lecturers_direct\":\"Do you agree with the following statement? \\n\\n\\n\\nHaving a majority of male lecturers leads to a more efficient and clear learning environment.\",\n",
    "\"male_lecturers_4\":\"Below are five statements. Please tell us with how many of them you agree. We do not need to know which ones, just how many.\\n\\n \\n\\n\\tA healthy diet can generally contribute, on average, to longer lifespan.\\n\\tUniversities should be able to monitor search histories on personal devices.\\n\\tVaccinations should be an international travel requirement.\\n\\tVaccinations should be left to the individual's discretion.\\n\\n\\n\\nPlease indicate the total number of statements that you agree with.\",\n",
    "\n",
    "\n",
    "\"attention_test\":\"Which statement appeared in a previous question? \\n\\n\\tSalad is a healthy dinner option and typically consists of green vegetables.\\n\\tUniversities should be able to monitor search histories on personal devices.\\n\\tSoccer is a game played on a pitch for 90 minutes and is played around the world.\\n\\tUniversities are locations at which people study a wide variety of subjects.\",\n",
    "\"age\":\"How old are you?\",\n",
    "\"gender_identity\":\"How do you describe yourself? - Selected Choice\",\n",
    "\"gender_identity_self_describe\":\"How do you describe yourself? - Prefer to self-describe - Text\",\n",
    "\"schooling\":\"What is the highest level of school you have completed or the highest degree you have received?\",\n",
    "\"political_alignment\":'In political matters, people talk of “the left” and “the right”. Generally speaking, how would you place your views on this scale? - 1',\n",
    "\"lat\":'Location Latitude',\n",
    "\"lng\":'Location Longitude',\n",
    "'trigger_conforms':'Think about a time you aligned with the majority viewpoint and write 3-5 emotions that describe how you felt.',\n",
    "'trigger_does_not_conform':'Think about a time you opposed the majority viewpoint and write 3-5 emotions that describe how you felt.',\n",
    "'duration':'Duration (in seconds)'\n",
    "}\n",
    "    \n",
    "# reverse the dictionary\n",
    "dict_mappings = {v: k for k, v in dict_mappings.items()}"
   ]
  },
  {
   "cell_type": "code",
   "execution_count": 111,
   "metadata": {},
   "outputs": [],
   "source": [
    "veiled_questions = []\n",
    "unveiled_questions = []\n",
    "for value,key  in dict_mappings.items():\n",
    "    if '_4' in key:\n",
    "        unveiled_questions.append('\\n\\n unveiled question ' + key + '\\n ' + value)\n",
    "    elif '_direct' in key:\n",
    "        unveiled_questions.append('\\n\\ndirect question ' + key + '\\n ' + value)\n",
    "    else:\n",
    "        veiled_questions.append('\\n\\nveiled question ' + key + '\\n ' + value)"
   ]
  },
  {
   "cell_type": "code",
   "execution_count": 112,
   "metadata": {},
   "outputs": [
    {
     "data": {
      "text/html": [
       "<div>\n",
       "<style scoped>\n",
       "    .dataframe tbody tr th:only-of-type {\n",
       "        vertical-align: middle;\n",
       "    }\n",
       "\n",
       "    .dataframe tbody tr th {\n",
       "        vertical-align: top;\n",
       "    }\n",
       "\n",
       "    .dataframe thead th {\n",
       "        text-align: right;\n",
       "    }\n",
       "</style>\n",
       "<table border=\"1\" class=\"dataframe\">\n",
       "  <thead>\n",
       "    <tr style=\"text-align: right;\">\n",
       "      <th></th>\n",
       "      <th>male_lecturers</th>\n",
       "      <th>university_gender_quota</th>\n",
       "      <th>workload_stress</th>\n",
       "      <th>dei_policies</th>\n",
       "      <th>netflix</th>\n",
       "      <th>dei_policies_direct</th>\n",
       "      <th>dei_policies_4</th>\n",
       "      <th>workload_stress_direct</th>\n",
       "      <th>workload_stress_4</th>\n",
       "      <th>university_gender_quota_direct</th>\n",
       "      <th>...</th>\n",
       "      <th>age</th>\n",
       "      <th>gender_identity</th>\n",
       "      <th>gender_identity_self_describe</th>\n",
       "      <th>schooling</th>\n",
       "      <th>political_alignment</th>\n",
       "      <th>lat</th>\n",
       "      <th>lng</th>\n",
       "      <th>trigger_conforms</th>\n",
       "      <th>trigger_does_not_conform</th>\n",
       "      <th>duration</th>\n",
       "    </tr>\n",
       "  </thead>\n",
       "  <tbody>\n",
       "    <tr>\n",
       "      <th>0</th>\n",
       "      <td>3</td>\n",
       "      <td>4</td>\n",
       "      <td>4</td>\n",
       "      <td>4</td>\n",
       "      <td>4</td>\n",
       "      <td>NaN</td>\n",
       "      <td>NaN</td>\n",
       "      <td>NaN</td>\n",
       "      <td>NaN</td>\n",
       "      <td>NaN</td>\n",
       "      <td>...</td>\n",
       "      <td>2</td>\n",
       "      <td>1</td>\n",
       "      <td>NaN</td>\n",
       "      <td>5</td>\n",
       "      <td>NaN</td>\n",
       "      <td>41.4231</td>\n",
       "      <td>2.188</td>\n",
       "      <td>Comfortable, Proud, and confident</td>\n",
       "      <td>NaN</td>\n",
       "      <td>397</td>\n",
       "    </tr>\n",
       "    <tr>\n",
       "      <th>1</th>\n",
       "      <td>1</td>\n",
       "      <td>1</td>\n",
       "      <td>2</td>\n",
       "      <td>1</td>\n",
       "      <td>4</td>\n",
       "      <td>NaN</td>\n",
       "      <td>NaN</td>\n",
       "      <td>NaN</td>\n",
       "      <td>NaN</td>\n",
       "      <td>NaN</td>\n",
       "      <td>...</td>\n",
       "      <td>3</td>\n",
       "      <td>1</td>\n",
       "      <td>NaN</td>\n",
       "      <td>5</td>\n",
       "      <td>NaN</td>\n",
       "      <td>41.387</td>\n",
       "      <td>2.1701</td>\n",
       "      <td>NaN</td>\n",
       "      <td>brave, half confident</td>\n",
       "      <td>668</td>\n",
       "    </tr>\n",
       "    <tr>\n",
       "      <th>2</th>\n",
       "      <td>3</td>\n",
       "      <td>3</td>\n",
       "      <td>4</td>\n",
       "      <td>3</td>\n",
       "      <td>4</td>\n",
       "      <td>NaN</td>\n",
       "      <td>NaN</td>\n",
       "      <td>NaN</td>\n",
       "      <td>NaN</td>\n",
       "      <td>NaN</td>\n",
       "      <td>...</td>\n",
       "      <td>2</td>\n",
       "      <td>2</td>\n",
       "      <td>NaN</td>\n",
       "      <td>4</td>\n",
       "      <td>-44</td>\n",
       "      <td>40.4519</td>\n",
       "      <td>-3.711</td>\n",
       "      <td>NaN</td>\n",
       "      <td>Judged, uncomfortable, empowered, unsafe</td>\n",
       "      <td>400</td>\n",
       "    </tr>\n",
       "    <tr>\n",
       "      <th>3</th>\n",
       "      <td>3</td>\n",
       "      <td>2</td>\n",
       "      <td>3</td>\n",
       "      <td>2</td>\n",
       "      <td>4</td>\n",
       "      <td>NaN</td>\n",
       "      <td>NaN</td>\n",
       "      <td>NaN</td>\n",
       "      <td>NaN</td>\n",
       "      <td>NaN</td>\n",
       "      <td>...</td>\n",
       "      <td>4</td>\n",
       "      <td>1</td>\n",
       "      <td>NaN</td>\n",
       "      <td>5</td>\n",
       "      <td>11</td>\n",
       "      <td>41.387</td>\n",
       "      <td>2.1701</td>\n",
       "      <td>NaN</td>\n",
       "      <td>strong, independent, superior</td>\n",
       "      <td>166</td>\n",
       "    </tr>\n",
       "    <tr>\n",
       "      <th>4</th>\n",
       "      <td>3</td>\n",
       "      <td>3</td>\n",
       "      <td>4</td>\n",
       "      <td>5</td>\n",
       "      <td>4</td>\n",
       "      <td>NaN</td>\n",
       "      <td>NaN</td>\n",
       "      <td>NaN</td>\n",
       "      <td>NaN</td>\n",
       "      <td>NaN</td>\n",
       "      <td>...</td>\n",
       "      <td>3</td>\n",
       "      <td>2</td>\n",
       "      <td>NaN</td>\n",
       "      <td>4</td>\n",
       "      <td>1</td>\n",
       "      <td>41.387</td>\n",
       "      <td>2.1701</td>\n",
       "      <td>NaN</td>\n",
       "      <td>doubtful, alone, confused</td>\n",
       "      <td>323</td>\n",
       "    </tr>\n",
       "    <tr>\n",
       "      <th>...</th>\n",
       "      <td>...</td>\n",
       "      <td>...</td>\n",
       "      <td>...</td>\n",
       "      <td>...</td>\n",
       "      <td>...</td>\n",
       "      <td>...</td>\n",
       "      <td>...</td>\n",
       "      <td>...</td>\n",
       "      <td>...</td>\n",
       "      <td>...</td>\n",
       "      <td>...</td>\n",
       "      <td>...</td>\n",
       "      <td>...</td>\n",
       "      <td>...</td>\n",
       "      <td>...</td>\n",
       "      <td>...</td>\n",
       "      <td>...</td>\n",
       "      <td>...</td>\n",
       "      <td>...</td>\n",
       "      <td>...</td>\n",
       "      <td>...</td>\n",
       "    </tr>\n",
       "    <tr>\n",
       "      <th>112</th>\n",
       "      <td>NaN</td>\n",
       "      <td>NaN</td>\n",
       "      <td>NaN</td>\n",
       "      <td>NaN</td>\n",
       "      <td>NaN</td>\n",
       "      <td>1</td>\n",
       "      <td>3</td>\n",
       "      <td>1</td>\n",
       "      <td>3</td>\n",
       "      <td>2</td>\n",
       "      <td>...</td>\n",
       "      <td>2</td>\n",
       "      <td>2</td>\n",
       "      <td>NaN</td>\n",
       "      <td>4</td>\n",
       "      <td>-34</td>\n",
       "      <td>49.4645</td>\n",
       "      <td>-122.84</td>\n",
       "      <td>NaN</td>\n",
       "      <td>indifferent, understanding, calm, objective</td>\n",
       "      <td>1004</td>\n",
       "    </tr>\n",
       "    <tr>\n",
       "      <th>113</th>\n",
       "      <td>3</td>\n",
       "      <td>3</td>\n",
       "      <td>4</td>\n",
       "      <td>4</td>\n",
       "      <td>4</td>\n",
       "      <td>NaN</td>\n",
       "      <td>NaN</td>\n",
       "      <td>NaN</td>\n",
       "      <td>NaN</td>\n",
       "      <td>NaN</td>\n",
       "      <td>...</td>\n",
       "      <td>2</td>\n",
       "      <td>2</td>\n",
       "      <td>NaN</td>\n",
       "      <td>5</td>\n",
       "      <td>-20</td>\n",
       "      <td>40.8325</td>\n",
       "      <td>14.2548</td>\n",
       "      <td>satisfied cool fit</td>\n",
       "      <td>NaN</td>\n",
       "      <td>233</td>\n",
       "    </tr>\n",
       "    <tr>\n",
       "      <th>114</th>\n",
       "      <td>NaN</td>\n",
       "      <td>NaN</td>\n",
       "      <td>NaN</td>\n",
       "      <td>NaN</td>\n",
       "      <td>NaN</td>\n",
       "      <td>2</td>\n",
       "      <td>2</td>\n",
       "      <td>1</td>\n",
       "      <td>3</td>\n",
       "      <td>2</td>\n",
       "      <td>...</td>\n",
       "      <td>2</td>\n",
       "      <td>1</td>\n",
       "      <td>NaN</td>\n",
       "      <td>2</td>\n",
       "      <td>-16</td>\n",
       "      <td>51.0109</td>\n",
       "      <td>7.1032</td>\n",
       "      <td>Good, happy, in good company</td>\n",
       "      <td>NaN</td>\n",
       "      <td>299</td>\n",
       "    </tr>\n",
       "    <tr>\n",
       "      <th>115</th>\n",
       "      <td>6</td>\n",
       "      <td>3</td>\n",
       "      <td>4</td>\n",
       "      <td>5</td>\n",
       "      <td>4</td>\n",
       "      <td>NaN</td>\n",
       "      <td>NaN</td>\n",
       "      <td>NaN</td>\n",
       "      <td>NaN</td>\n",
       "      <td>NaN</td>\n",
       "      <td>...</td>\n",
       "      <td>3</td>\n",
       "      <td>1</td>\n",
       "      <td>NaN</td>\n",
       "      <td>4</td>\n",
       "      <td>50</td>\n",
       "      <td>32.8445</td>\n",
       "      <td>-79.8242</td>\n",
       "      <td>NaN</td>\n",
       "      <td>Vindicated, Alone, Minority.</td>\n",
       "      <td>152</td>\n",
       "    </tr>\n",
       "    <tr>\n",
       "      <th>116</th>\n",
       "      <td>4</td>\n",
       "      <td>4</td>\n",
       "      <td>5</td>\n",
       "      <td>3</td>\n",
       "      <td>4</td>\n",
       "      <td>NaN</td>\n",
       "      <td>NaN</td>\n",
       "      <td>NaN</td>\n",
       "      <td>NaN</td>\n",
       "      <td>NaN</td>\n",
       "      <td>...</td>\n",
       "      <td>2</td>\n",
       "      <td>1</td>\n",
       "      <td>NaN</td>\n",
       "      <td>2</td>\n",
       "      <td>17</td>\n",
       "      <td>51.3436</td>\n",
       "      <td>7.0607</td>\n",
       "      <td>defensiv, confused, sure of myself</td>\n",
       "      <td>NaN</td>\n",
       "      <td>514</td>\n",
       "    </tr>\n",
       "  </tbody>\n",
       "</table>\n",
       "<p>117 rows × 26 columns</p>\n",
       "</div>"
      ],
      "text/plain": [
       "0   male_lecturers university_gender_quota workload_stress dei_policies  \\\n",
       "0                3                       4               4            4   \n",
       "1                1                       1               2            1   \n",
       "2                3                       3               4            3   \n",
       "3                3                       2               3            2   \n",
       "4                3                       3               4            5   \n",
       "..             ...                     ...             ...          ...   \n",
       "112            NaN                     NaN             NaN          NaN   \n",
       "113              3                       3               4            4   \n",
       "114            NaN                     NaN             NaN          NaN   \n",
       "115              6                       3               4            5   \n",
       "116              4                       4               5            3   \n",
       "\n",
       "0   netflix dei_policies_direct dei_policies_4 workload_stress_direct  \\\n",
       "0         4                 NaN            NaN                    NaN   \n",
       "1         4                 NaN            NaN                    NaN   \n",
       "2         4                 NaN            NaN                    NaN   \n",
       "3         4                 NaN            NaN                    NaN   \n",
       "4         4                 NaN            NaN                    NaN   \n",
       "..      ...                 ...            ...                    ...   \n",
       "112     NaN                   1              3                      1   \n",
       "113       4                 NaN            NaN                    NaN   \n",
       "114     NaN                   2              2                      1   \n",
       "115       4                 NaN            NaN                    NaN   \n",
       "116       4                 NaN            NaN                    NaN   \n",
       "\n",
       "0   workload_stress_4 university_gender_quota_direct  ... age gender_identity  \\\n",
       "0                 NaN                            NaN  ...   2               1   \n",
       "1                 NaN                            NaN  ...   3               1   \n",
       "2                 NaN                            NaN  ...   2               2   \n",
       "3                 NaN                            NaN  ...   4               1   \n",
       "4                 NaN                            NaN  ...   3               2   \n",
       "..                ...                            ...  ...  ..             ...   \n",
       "112                 3                              2  ...   2               2   \n",
       "113               NaN                            NaN  ...   2               2   \n",
       "114                 3                              2  ...   2               1   \n",
       "115               NaN                            NaN  ...   3               1   \n",
       "116               NaN                            NaN  ...   2               1   \n",
       "\n",
       "0   gender_identity_self_describe schooling political_alignment      lat  \\\n",
       "0                             NaN         5                 NaN  41.4231   \n",
       "1                             NaN         5                 NaN   41.387   \n",
       "2                             NaN         4                 -44  40.4519   \n",
       "3                             NaN         5                  11   41.387   \n",
       "4                             NaN         4                   1   41.387   \n",
       "..                            ...       ...                 ...      ...   \n",
       "112                           NaN         4                 -34  49.4645   \n",
       "113                           NaN         5                 -20  40.8325   \n",
       "114                           NaN         2                 -16  51.0109   \n",
       "115                           NaN         4                  50  32.8445   \n",
       "116                           NaN         2                  17  51.3436   \n",
       "\n",
       "0         lng                    trigger_conforms  \\\n",
       "0       2.188   Comfortable, Proud, and confident   \n",
       "1      2.1701                                 NaN   \n",
       "2      -3.711                                 NaN   \n",
       "3      2.1701                                 NaN   \n",
       "4      2.1701                                 NaN   \n",
       "..        ...                                 ...   \n",
       "112   -122.84                                 NaN   \n",
       "113   14.2548                  satisfied cool fit   \n",
       "114    7.1032        Good, happy, in good company   \n",
       "115  -79.8242                                 NaN   \n",
       "116    7.0607  defensiv, confused, sure of myself   \n",
       "\n",
       "0                       trigger_does_not_conform duration  \n",
       "0                                            NaN      397  \n",
       "1                          brave, half confident      668  \n",
       "2       Judged, uncomfortable, empowered, unsafe      400  \n",
       "3                  strong, independent, superior      166  \n",
       "4                      doubtful, alone, confused      323  \n",
       "..                                           ...      ...  \n",
       "112  indifferent, understanding, calm, objective     1004  \n",
       "113                                          NaN      233  \n",
       "114                                          NaN      299  \n",
       "115                 Vindicated, Alone, Minority.      152  \n",
       "116                                          NaN      514  \n",
       "\n",
       "[117 rows x 26 columns]"
      ]
     },
     "execution_count": 112,
     "metadata": {},
     "output_type": "execute_result"
    }
   ],
   "source": [
    "# get only columns in the dictionary keys\n",
    "data = data[dict_mappings.keys()]\n",
    "\n",
    "# rename the columns\n",
    "data = data.rename(columns=dict_mappings)\n",
    "\n",
    "data"
   ]
  },
  {
   "cell_type": "code",
   "execution_count": 113,
   "metadata": {},
   "outputs": [
    {
     "name": "stdout",
     "output_type": "stream",
     "text": [
      "(117, 26)\n",
      "(115, 25)\n"
     ]
    }
   ],
   "source": [
    "# drop gender_identity_self_describe\n",
    "print(data.shape)\n",
    "data = data.drop(columns=[\"gender_identity_self_describe\"])\n",
    "data = data.loc[data.gender_identity.isin(['1','2'])]\n",
    "print(data.shape)\n"
   ]
  },
  {
   "cell_type": "markdown",
   "metadata": {},
   "source": [
    "Filter attention test"
   ]
  },
  {
   "cell_type": "code",
   "execution_count": 114,
   "metadata": {},
   "outputs": [
    {
     "name": "stdout",
     "output_type": "stream",
     "text": [
      "(115, 25)\n",
      "(105, 25)\n"
     ]
    }
   ],
   "source": [
    "# drop non 5 responses attention test\n",
    "print(data.shape)\n",
    "data = data[data.attention_test == '5']\n",
    "print(data.shape)"
   ]
  },
  {
   "cell_type": "markdown",
   "metadata": {},
   "source": [
    "Filter education response"
   ]
  },
  {
   "cell_type": "code",
   "execution_count": 115,
   "metadata": {},
   "outputs": [
    {
     "name": "stdout",
     "output_type": "stream",
     "text": [
      "(105, 25)\n",
      "(104, 25)\n"
     ]
    }
   ],
   "source": [
    "# drop those less than high school \n",
    "# only 4 groups \n",
    "print(data.shape)\n",
    "data.schooling = data.schooling.astype(int)\n",
    "data = data.loc[data.schooling>1]\n",
    "print(data.shape)"
   ]
  },
  {
   "cell_type": "markdown",
   "metadata": {},
   "source": [
    "Separate veiled and unveiled"
   ]
  },
  {
   "cell_type": "code",
   "execution_count": 116,
   "metadata": {},
   "outputs": [],
   "source": [
    "\n",
    "veiled_conditions = data.loc[data.dei_policies_direct.isna()]\n",
    "direct_conditions = data.loc[~(data.dei_policies_direct.isna())]"
   ]
  },
  {
   "cell_type": "code",
   "execution_count": 117,
   "metadata": {},
   "outputs": [
    {
     "data": {
      "text/plain": [
       "0\n",
       "male_lecturers               0\n",
       "university_gender_quota      0\n",
       "workload_stress              0\n",
       "dei_policies                 0\n",
       "netflix                      0\n",
       "attention_test               0\n",
       "age                          0\n",
       "gender_identity              0\n",
       "schooling                    0\n",
       "political_alignment          3\n",
       "lat                          0\n",
       "lng                          0\n",
       "trigger_conforms            25\n",
       "trigger_does_not_conform    26\n",
       "duration                     0\n",
       "dtype: int64"
      ]
     },
     "execution_count": 117,
     "metadata": {},
     "output_type": "execute_result"
    }
   ],
   "source": [
    "direct_columns = [col for col in data.columns if 'direct' in col or '_4' in col]\n",
    "veiled_conditions = veiled_conditions.drop(columns=direct_columns)\n",
    "veiled_conditions.isna().sum()"
   ]
  },
  {
   "cell_type": "code",
   "execution_count": 118,
   "metadata": {},
   "outputs": [
    {
     "data": {
      "text/plain": [
       "0\n",
       "dei_policies_direct                0\n",
       "dei_policies_4                     0\n",
       "workload_stress_direct             0\n",
       "workload_stress_4                  0\n",
       "university_gender_quota_direct     0\n",
       "university_gender_quota_4          0\n",
       "netflix_direct                     0\n",
       "netflix_4                          0\n",
       "male_lecturers_direct              0\n",
       "male_lecturers_4                   0\n",
       "trigger_conforms                  27\n",
       "trigger_does_not_conform          26\n",
       "attention_test                     0\n",
       "age                                0\n",
       "gender_identity                    0\n",
       "schooling                          0\n",
       "political_alignment                3\n",
       "lat                                0\n",
       "lng                                0\n",
       "dtype: int64"
      ]
     },
     "execution_count": 118,
     "metadata": {},
     "output_type": "execute_result"
    }
   ],
   "source": [
    "direct_columns = direct_columns + ['trigger_conforms','trigger_does_not_conform','attention_test', 'age', 'gender_identity', 'schooling', 'political_alignment', 'lat', 'lng']\n",
    "direct_conditions = direct_conditions[direct_columns]\n",
    "direct_conditions.isna().sum()"
   ]
  },
  {
   "cell_type": "code",
   "execution_count": 119,
   "metadata": {},
   "outputs": [
    {
     "name": "stdout",
     "output_type": "stream",
     "text": [
      "(53, 19)\n",
      "(51, 15)\n"
     ]
    }
   ],
   "source": [
    "print(direct_conditions.shape)\n",
    "print(veiled_conditions.shape)"
   ]
  },
  {
   "cell_type": "code",
   "execution_count": 120,
   "metadata": {},
   "outputs": [
    {
     "data": {
      "text/html": [
       "<div>\n",
       "<style scoped>\n",
       "    .dataframe tbody tr th:only-of-type {\n",
       "        vertical-align: middle;\n",
       "    }\n",
       "\n",
       "    .dataframe tbody tr th {\n",
       "        vertical-align: top;\n",
       "    }\n",
       "\n",
       "    .dataframe thead th {\n",
       "        text-align: right;\n",
       "    }\n",
       "</style>\n",
       "<table border=\"1\" class=\"dataframe\">\n",
       "  <thead>\n",
       "    <tr style=\"text-align: right;\">\n",
       "      <th></th>\n",
       "      <th>dei_policies_direct</th>\n",
       "      <th>dei_policies_4</th>\n",
       "      <th>workload_stress_direct</th>\n",
       "      <th>workload_stress_4</th>\n",
       "      <th>university_gender_quota_direct</th>\n",
       "      <th>university_gender_quota_4</th>\n",
       "      <th>netflix_direct</th>\n",
       "      <th>netflix_4</th>\n",
       "      <th>male_lecturers_direct</th>\n",
       "      <th>male_lecturers_4</th>\n",
       "      <th>trigger_conforms</th>\n",
       "      <th>trigger_does_not_conform</th>\n",
       "      <th>attention_test</th>\n",
       "      <th>age</th>\n",
       "      <th>gender_identity</th>\n",
       "      <th>schooling</th>\n",
       "      <th>political_alignment</th>\n",
       "      <th>lat</th>\n",
       "      <th>lng</th>\n",
       "    </tr>\n",
       "  </thead>\n",
       "  <tbody>\n",
       "    <tr>\n",
       "      <th>5</th>\n",
       "      <td>1</td>\n",
       "      <td>2</td>\n",
       "      <td>1</td>\n",
       "      <td>3</td>\n",
       "      <td>2</td>\n",
       "      <td>2</td>\n",
       "      <td>1</td>\n",
       "      <td>4</td>\n",
       "      <td>2</td>\n",
       "      <td>3</td>\n",
       "      <td>NaN</td>\n",
       "      <td>Misunderstood, judged, anxious</td>\n",
       "      <td>5</td>\n",
       "      <td>3</td>\n",
       "      <td>2</td>\n",
       "      <td>4</td>\n",
       "      <td>-8</td>\n",
       "      <td>41.387</td>\n",
       "      <td>2.1701</td>\n",
       "    </tr>\n",
       "    <tr>\n",
       "      <th>6</th>\n",
       "      <td>2</td>\n",
       "      <td>4</td>\n",
       "      <td>2</td>\n",
       "      <td>3</td>\n",
       "      <td>2</td>\n",
       "      <td>2</td>\n",
       "      <td>1</td>\n",
       "      <td>3</td>\n",
       "      <td>2</td>\n",
       "      <td>3</td>\n",
       "      <td>Exited, nervous, enthusiastic, happy</td>\n",
       "      <td>NaN</td>\n",
       "      <td>5</td>\n",
       "      <td>3</td>\n",
       "      <td>1</td>\n",
       "      <td>4</td>\n",
       "      <td>19</td>\n",
       "      <td>41.387</td>\n",
       "      <td>2.1701</td>\n",
       "    </tr>\n",
       "    <tr>\n",
       "      <th>7</th>\n",
       "      <td>1</td>\n",
       "      <td>3</td>\n",
       "      <td>1</td>\n",
       "      <td>3</td>\n",
       "      <td>2</td>\n",
       "      <td>2</td>\n",
       "      <td>1</td>\n",
       "      <td>3</td>\n",
       "      <td>2</td>\n",
       "      <td>3</td>\n",
       "      <td>NaN</td>\n",
       "      <td>challenged\\nassertive\\npatient</td>\n",
       "      <td>5</td>\n",
       "      <td>3</td>\n",
       "      <td>2</td>\n",
       "      <td>6</td>\n",
       "      <td>-15</td>\n",
       "      <td>50.8655</td>\n",
       "      <td>4.6891</td>\n",
       "    </tr>\n",
       "    <tr>\n",
       "      <th>8</th>\n",
       "      <td>2</td>\n",
       "      <td>3</td>\n",
       "      <td>1</td>\n",
       "      <td>4</td>\n",
       "      <td>2</td>\n",
       "      <td>2</td>\n",
       "      <td>1</td>\n",
       "      <td>2</td>\n",
       "      <td>2</td>\n",
       "      <td>4</td>\n",
       "      <td>Skeptical, trapped, apathetic</td>\n",
       "      <td>NaN</td>\n",
       "      <td>5</td>\n",
       "      <td>3</td>\n",
       "      <td>1</td>\n",
       "      <td>7</td>\n",
       "      <td>-9</td>\n",
       "      <td>40.0764</td>\n",
       "      <td>-75.1678</td>\n",
       "    </tr>\n",
       "    <tr>\n",
       "      <th>10</th>\n",
       "      <td>1</td>\n",
       "      <td>3</td>\n",
       "      <td>1</td>\n",
       "      <td>3</td>\n",
       "      <td>2</td>\n",
       "      <td>1</td>\n",
       "      <td>1</td>\n",
       "      <td>3</td>\n",
       "      <td>2</td>\n",
       "      <td>3</td>\n",
       "      <td>I felt validated in my mindset. I’ve also felt...</td>\n",
       "      <td>NaN</td>\n",
       "      <td>5</td>\n",
       "      <td>2</td>\n",
       "      <td>1</td>\n",
       "      <td>4</td>\n",
       "      <td>-50</td>\n",
       "      <td>33.8019</td>\n",
       "      <td>-84.3861</td>\n",
       "    </tr>\n",
       "  </tbody>\n",
       "</table>\n",
       "</div>"
      ],
      "text/plain": [
       "0  dei_policies_direct dei_policies_4 workload_stress_direct  \\\n",
       "5                    1              2                      1   \n",
       "6                    2              4                      2   \n",
       "7                    1              3                      1   \n",
       "8                    2              3                      1   \n",
       "10                   1              3                      1   \n",
       "\n",
       "0  workload_stress_4 university_gender_quota_direct university_gender_quota_4  \\\n",
       "5                  3                              2                         2   \n",
       "6                  3                              2                         2   \n",
       "7                  3                              2                         2   \n",
       "8                  4                              2                         2   \n",
       "10                 3                              2                         1   \n",
       "\n",
       "0  netflix_direct netflix_4 male_lecturers_direct male_lecturers_4  \\\n",
       "5               1         4                     2                3   \n",
       "6               1         3                     2                3   \n",
       "7               1         3                     2                3   \n",
       "8               1         2                     2                4   \n",
       "10              1         3                     2                3   \n",
       "\n",
       "0                                    trigger_conforms  \\\n",
       "5                                                 NaN   \n",
       "6                Exited, nervous, enthusiastic, happy   \n",
       "7                                                 NaN   \n",
       "8                      Skeptical, trapped, apathetic    \n",
       "10  I felt validated in my mindset. I’ve also felt...   \n",
       "\n",
       "0         trigger_does_not_conform attention_test age gender_identity  \\\n",
       "5   Misunderstood, judged, anxious              5   3               2   \n",
       "6                              NaN              5   3               1   \n",
       "7   challenged\\nassertive\\npatient              5   3               2   \n",
       "8                              NaN              5   3               1   \n",
       "10                             NaN              5   2               1   \n",
       "\n",
       "0   schooling political_alignment      lat       lng  \n",
       "5           4                  -8   41.387    2.1701  \n",
       "6           4                  19   41.387    2.1701  \n",
       "7           6                 -15  50.8655    4.6891  \n",
       "8           7                  -9  40.0764  -75.1678  \n",
       "10          4                 -50  33.8019  -84.3861  "
      ]
     },
     "execution_count": 120,
     "metadata": {},
     "output_type": "execute_result"
    }
   ],
   "source": [
    "direct_conditions.head()"
   ]
  },
  {
   "cell_type": "code",
   "execution_count": 121,
   "metadata": {},
   "outputs": [
    {
     "data": {
      "text/html": [
       "<div>\n",
       "<style scoped>\n",
       "    .dataframe tbody tr th:only-of-type {\n",
       "        vertical-align: middle;\n",
       "    }\n",
       "\n",
       "    .dataframe tbody tr th {\n",
       "        vertical-align: top;\n",
       "    }\n",
       "\n",
       "    .dataframe thead th {\n",
       "        text-align: right;\n",
       "    }\n",
       "</style>\n",
       "<table border=\"1\" class=\"dataframe\">\n",
       "  <thead>\n",
       "    <tr style=\"text-align: right;\">\n",
       "      <th></th>\n",
       "      <th>male_lecturers</th>\n",
       "      <th>university_gender_quota</th>\n",
       "      <th>workload_stress</th>\n",
       "      <th>dei_policies</th>\n",
       "      <th>netflix</th>\n",
       "      <th>attention_test</th>\n",
       "      <th>age</th>\n",
       "      <th>gender_identity</th>\n",
       "      <th>schooling</th>\n",
       "      <th>political_alignment</th>\n",
       "      <th>lat</th>\n",
       "      <th>lng</th>\n",
       "      <th>trigger_conforms</th>\n",
       "      <th>trigger_does_not_conform</th>\n",
       "      <th>duration</th>\n",
       "    </tr>\n",
       "  </thead>\n",
       "  <tbody>\n",
       "    <tr>\n",
       "      <th>3</th>\n",
       "      <td>3</td>\n",
       "      <td>2</td>\n",
       "      <td>3</td>\n",
       "      <td>2</td>\n",
       "      <td>4</td>\n",
       "      <td>5</td>\n",
       "      <td>4</td>\n",
       "      <td>1</td>\n",
       "      <td>5</td>\n",
       "      <td>11</td>\n",
       "      <td>41.387</td>\n",
       "      <td>2.1701</td>\n",
       "      <td>NaN</td>\n",
       "      <td>strong, independent, superior</td>\n",
       "      <td>166</td>\n",
       "    </tr>\n",
       "    <tr>\n",
       "      <th>4</th>\n",
       "      <td>3</td>\n",
       "      <td>3</td>\n",
       "      <td>4</td>\n",
       "      <td>5</td>\n",
       "      <td>4</td>\n",
       "      <td>5</td>\n",
       "      <td>3</td>\n",
       "      <td>2</td>\n",
       "      <td>4</td>\n",
       "      <td>1</td>\n",
       "      <td>41.387</td>\n",
       "      <td>2.1701</td>\n",
       "      <td>NaN</td>\n",
       "      <td>doubtful, alone, confused</td>\n",
       "      <td>323</td>\n",
       "    </tr>\n",
       "    <tr>\n",
       "      <th>9</th>\n",
       "      <td>3</td>\n",
       "      <td>3</td>\n",
       "      <td>3</td>\n",
       "      <td>4</td>\n",
       "      <td>4</td>\n",
       "      <td>5</td>\n",
       "      <td>2</td>\n",
       "      <td>2</td>\n",
       "      <td>4</td>\n",
       "      <td>-12</td>\n",
       "      <td>41.387</td>\n",
       "      <td>2.1701</td>\n",
       "      <td>Confident, good, secure</td>\n",
       "      <td>NaN</td>\n",
       "      <td>315</td>\n",
       "    </tr>\n",
       "    <tr>\n",
       "      <th>11</th>\n",
       "      <td>6</td>\n",
       "      <td>5</td>\n",
       "      <td>5</td>\n",
       "      <td>3</td>\n",
       "      <td>3</td>\n",
       "      <td>5</td>\n",
       "      <td>2</td>\n",
       "      <td>1</td>\n",
       "      <td>4</td>\n",
       "      <td>3</td>\n",
       "      <td>34.0034</td>\n",
       "      <td>-84.4605</td>\n",
       "      <td>NaN</td>\n",
       "      <td>Angry Confused Pissed</td>\n",
       "      <td>210</td>\n",
       "    </tr>\n",
       "    <tr>\n",
       "      <th>12</th>\n",
       "      <td>3</td>\n",
       "      <td>2</td>\n",
       "      <td>3</td>\n",
       "      <td>4</td>\n",
       "      <td>4</td>\n",
       "      <td>5</td>\n",
       "      <td>3</td>\n",
       "      <td>2</td>\n",
       "      <td>4</td>\n",
       "      <td>-41</td>\n",
       "      <td>40.4172</td>\n",
       "      <td>-3.684</td>\n",
       "      <td>NaN</td>\n",
       "      <td>When the Supreme Court of the United States ov...</td>\n",
       "      <td>572</td>\n",
       "    </tr>\n",
       "  </tbody>\n",
       "</table>\n",
       "</div>"
      ],
      "text/plain": [
       "0  male_lecturers university_gender_quota workload_stress dei_policies  \\\n",
       "3               3                       2               3            2   \n",
       "4               3                       3               4            5   \n",
       "9               3                       3               3            4   \n",
       "11              6                       5               5            3   \n",
       "12              3                       2               3            4   \n",
       "\n",
       "0  netflix attention_test age gender_identity  schooling political_alignment  \\\n",
       "3        4              5   4               1          5                  11   \n",
       "4        4              5   3               2          4                   1   \n",
       "9        4              5   2               2          4                 -12   \n",
       "11       3              5   2               1          4                   3   \n",
       "12       4              5   3               2          4                 -41   \n",
       "\n",
       "0       lat       lng         trigger_conforms  \\\n",
       "3    41.387    2.1701                      NaN   \n",
       "4    41.387    2.1701                      NaN   \n",
       "9    41.387    2.1701  Confident, good, secure   \n",
       "11  34.0034  -84.4605                      NaN   \n",
       "12  40.4172    -3.684                      NaN   \n",
       "\n",
       "0                            trigger_does_not_conform duration  \n",
       "3                       strong, independent, superior      166  \n",
       "4                           doubtful, alone, confused      323  \n",
       "9                                                 NaN      315  \n",
       "11                              Angry Confused Pissed      210  \n",
       "12  When the Supreme Court of the United States ov...      572  "
      ]
     },
     "execution_count": 121,
     "metadata": {},
     "output_type": "execute_result"
    }
   ],
   "source": [
    "veiled_conditions.head()"
   ]
  },
  {
   "cell_type": "code",
   "execution_count": 122,
   "metadata": {},
   "outputs": [],
   "source": [
    "data.lat = data.lat.astype(float)\n",
    "data.lng = data.lng.astype(float)"
   ]
  },
  {
   "cell_type": "code",
   "execution_count": 123,
   "metadata": {},
   "outputs": [
    {
     "data": {
      "application/vnd.plotly.v1+json": {
       "config": {
        "plotlyServerURL": "https://plot.ly"
       },
       "data": [
        {
         "coloraxis": "coloraxis",
         "hovertemplate": "lat=%{lat}<br>lng=%{lon}<extra></extra>",
         "lat": [
          41.387,
          41.387,
          41.387,
          41.387,
          50.8655,
          40.0764,
          41.387,
          33.8019,
          34.0034,
          40.4172,
          33.7485,
          64.0875,
          41.387,
          42.3914,
          33.8719,
          41.387,
          33.8019,
          34.0034,
          41.4044,
          33.9381,
          41.387,
          33.8775,
          41.3774,
          39.9792,
          41.387,
          33.7657,
          42.4618,
          41.387,
          50.7349,
          33.9721,
          51.2184,
          51.4444,
          41.4162,
          51.4423,
          50.8693,
          50.948,
          51.2993,
          51.4444,
          50.0027,
          51.2184,
          51.3575,
          50.6914,
          50.7617,
          50.7246,
          50.1188,
          41.387,
          41.387,
          51.2459,
          48.1254,
          33.8019,
          33.7838,
          34.0034,
          21.2817,
          51.3357,
          50.9298,
          51.22,
          43.7012,
          51.4133,
          41.387,
          50.7246,
          41.387,
          41.442,
          41.4231,
          50.7688,
          50.7617,
          50.9475,
          51.8434,
          44.6283,
          41.3994,
          34.0034,
          34.0034,
          41.4085,
          32.5484,
          51.2279,
          35.2369,
          34.0344,
          51.2993,
          50.9238,
          40.378,
          41.4085,
          41.387,
          41.8972,
          35.2426,
          50.939,
          51.2993,
          48.1535,
          41.387,
          41.4231,
          51.4771,
          33.7485,
          40.4172,
          33.7485,
          33.8019,
          40.7123,
          47.6034,
          30.4062,
          -19.9029,
          41.387,
          41.387,
          49.4645,
          40.8325,
          51.0109,
          32.8445,
          51.3436
         ],
         "lon": [
          2.1701,
          2.1701,
          2.1701,
          2.1701,
          4.6891,
          -75.1678,
          2.1701,
          -84.3861,
          -84.4605,
          -3.684,
          -84.3871,
          -21.9284,
          2.1701,
          -83.1493,
          -84.3912,
          2.1701,
          -84.3861,
          -84.4605,
          2.1754,
          -84.4633,
          2.1701,
          -84.5017,
          2.141,
          -75.1279,
          2.1701,
          -84.2951,
          14.2052,
          2.1701,
          7.1108,
          -84.4406,
          6.7734,
          7.0114,
          2.1543,
          6.9784,
          6.8728,
          6.9366,
          9.491,
          7.0114,
          8.2788,
          6.7734,
          6.5456,
          7.1719,
          7.0512,
          7.1178,
          8.6843,
          2.1701,
          2.1701,
          6.7989,
          11.6279,
          -84.3861,
          -84.4455,
          -84.4605,
          -157.825,
          7.0161,
          6.9489,
          6.763,
          -79.3877,
          6.99,
          2.1701,
          7.1178,
          2.1701,
          2.171,
          2.188,
          6.0758,
          7.0512,
          6.9288,
          6.8614,
          -63.5928,
          2.0995,
          -84.4605,
          -84.4605,
          2.1904,
          -85.4682,
          -2.5261,
          -80.8957,
          -84.6002,
          9.491,
          7.0825,
          -3.7242,
          2.1904,
          2.1701,
          -87.6196,
          -80.741,
          6.9644,
          9.491,
          16.3855,
          2.1701,
          2.188,
          -2.5531,
          -84.3871,
          -3.684,
          -84.3871,
          -84.3861,
          -74.0068,
          -122.3414,
          -87.2182,
          -43.9572,
          2.1701,
          2.1701,
          -122.84,
          14.2548,
          7.1032,
          -79.8242,
          7.0607
         ],
         "name": "",
         "radius": 15,
         "subplot": "mapbox",
         "type": "densitymapbox"
        }
       ],
       "layout": {
        "coloraxis": {
         "colorscale": [
          [
           0,
           "rgb(161, 105, 40)"
          ],
          [
           0.16666666666666666,
           "rgb(189, 146, 90)"
          ],
          [
           0.3333333333333333,
           "rgb(214, 189, 141)"
          ],
          [
           0.5,
           "rgb(237, 234, 194)"
          ],
          [
           0.6666666666666666,
           "rgb(181, 200, 184)"
          ],
          [
           0.8333333333333334,
           "rgb(121, 167, 172)"
          ],
          [
           1,
           "rgb(40, 135, 161)"
          ]
         ]
        },
        "legend": {
         "tracegroupgap": 0
        },
        "mapbox": {
         "accesstoken": "pk.eyJ1IjoiYWdiZW5uZSIsImEiOiJjbHRoZ2tyNGswNGkxMnFxbzdndDlma2NkIn0.M8iOQdPpDAk-7JXaL6fH8w",
         "center": {
          "lat": 42.50211346153847,
          "lon": -25.924351923076923
         },
         "domain": {
          "x": [
           0,
           1
          ],
          "y": [
           0,
           1
          ]
         },
         "style": "light",
         "zoom": 1
        },
        "margin": {
         "t": 60
        },
        "template": {
         "data": {
          "bar": [
           {
            "error_x": {
             "color": "#2a3f5f"
            },
            "error_y": {
             "color": "#2a3f5f"
            },
            "marker": {
             "line": {
              "color": "#E5ECF6",
              "width": 0.5
             },
             "pattern": {
              "fillmode": "overlay",
              "size": 10,
              "solidity": 0.2
             }
            },
            "type": "bar"
           }
          ],
          "barpolar": [
           {
            "marker": {
             "line": {
              "color": "#E5ECF6",
              "width": 0.5
             },
             "pattern": {
              "fillmode": "overlay",
              "size": 10,
              "solidity": 0.2
             }
            },
            "type": "barpolar"
           }
          ],
          "carpet": [
           {
            "aaxis": {
             "endlinecolor": "#2a3f5f",
             "gridcolor": "white",
             "linecolor": "white",
             "minorgridcolor": "white",
             "startlinecolor": "#2a3f5f"
            },
            "baxis": {
             "endlinecolor": "#2a3f5f",
             "gridcolor": "white",
             "linecolor": "white",
             "minorgridcolor": "white",
             "startlinecolor": "#2a3f5f"
            },
            "type": "carpet"
           }
          ],
          "choropleth": [
           {
            "colorbar": {
             "outlinewidth": 0,
             "ticks": ""
            },
            "type": "choropleth"
           }
          ],
          "contour": [
           {
            "colorbar": {
             "outlinewidth": 0,
             "ticks": ""
            },
            "colorscale": [
             [
              0,
              "#0d0887"
             ],
             [
              0.1111111111111111,
              "#46039f"
             ],
             [
              0.2222222222222222,
              "#7201a8"
             ],
             [
              0.3333333333333333,
              "#9c179e"
             ],
             [
              0.4444444444444444,
              "#bd3786"
             ],
             [
              0.5555555555555556,
              "#d8576b"
             ],
             [
              0.6666666666666666,
              "#ed7953"
             ],
             [
              0.7777777777777778,
              "#fb9f3a"
             ],
             [
              0.8888888888888888,
              "#fdca26"
             ],
             [
              1,
              "#f0f921"
             ]
            ],
            "type": "contour"
           }
          ],
          "contourcarpet": [
           {
            "colorbar": {
             "outlinewidth": 0,
             "ticks": ""
            },
            "type": "contourcarpet"
           }
          ],
          "heatmap": [
           {
            "colorbar": {
             "outlinewidth": 0,
             "ticks": ""
            },
            "colorscale": [
             [
              0,
              "#0d0887"
             ],
             [
              0.1111111111111111,
              "#46039f"
             ],
             [
              0.2222222222222222,
              "#7201a8"
             ],
             [
              0.3333333333333333,
              "#9c179e"
             ],
             [
              0.4444444444444444,
              "#bd3786"
             ],
             [
              0.5555555555555556,
              "#d8576b"
             ],
             [
              0.6666666666666666,
              "#ed7953"
             ],
             [
              0.7777777777777778,
              "#fb9f3a"
             ],
             [
              0.8888888888888888,
              "#fdca26"
             ],
             [
              1,
              "#f0f921"
             ]
            ],
            "type": "heatmap"
           }
          ],
          "heatmapgl": [
           {
            "colorbar": {
             "outlinewidth": 0,
             "ticks": ""
            },
            "colorscale": [
             [
              0,
              "#0d0887"
             ],
             [
              0.1111111111111111,
              "#46039f"
             ],
             [
              0.2222222222222222,
              "#7201a8"
             ],
             [
              0.3333333333333333,
              "#9c179e"
             ],
             [
              0.4444444444444444,
              "#bd3786"
             ],
             [
              0.5555555555555556,
              "#d8576b"
             ],
             [
              0.6666666666666666,
              "#ed7953"
             ],
             [
              0.7777777777777778,
              "#fb9f3a"
             ],
             [
              0.8888888888888888,
              "#fdca26"
             ],
             [
              1,
              "#f0f921"
             ]
            ],
            "type": "heatmapgl"
           }
          ],
          "histogram": [
           {
            "marker": {
             "pattern": {
              "fillmode": "overlay",
              "size": 10,
              "solidity": 0.2
             }
            },
            "type": "histogram"
           }
          ],
          "histogram2d": [
           {
            "colorbar": {
             "outlinewidth": 0,
             "ticks": ""
            },
            "colorscale": [
             [
              0,
              "#0d0887"
             ],
             [
              0.1111111111111111,
              "#46039f"
             ],
             [
              0.2222222222222222,
              "#7201a8"
             ],
             [
              0.3333333333333333,
              "#9c179e"
             ],
             [
              0.4444444444444444,
              "#bd3786"
             ],
             [
              0.5555555555555556,
              "#d8576b"
             ],
             [
              0.6666666666666666,
              "#ed7953"
             ],
             [
              0.7777777777777778,
              "#fb9f3a"
             ],
             [
              0.8888888888888888,
              "#fdca26"
             ],
             [
              1,
              "#f0f921"
             ]
            ],
            "type": "histogram2d"
           }
          ],
          "histogram2dcontour": [
           {
            "colorbar": {
             "outlinewidth": 0,
             "ticks": ""
            },
            "colorscale": [
             [
              0,
              "#0d0887"
             ],
             [
              0.1111111111111111,
              "#46039f"
             ],
             [
              0.2222222222222222,
              "#7201a8"
             ],
             [
              0.3333333333333333,
              "#9c179e"
             ],
             [
              0.4444444444444444,
              "#bd3786"
             ],
             [
              0.5555555555555556,
              "#d8576b"
             ],
             [
              0.6666666666666666,
              "#ed7953"
             ],
             [
              0.7777777777777778,
              "#fb9f3a"
             ],
             [
              0.8888888888888888,
              "#fdca26"
             ],
             [
              1,
              "#f0f921"
             ]
            ],
            "type": "histogram2dcontour"
           }
          ],
          "mesh3d": [
           {
            "colorbar": {
             "outlinewidth": 0,
             "ticks": ""
            },
            "type": "mesh3d"
           }
          ],
          "parcoords": [
           {
            "line": {
             "colorbar": {
              "outlinewidth": 0,
              "ticks": ""
             }
            },
            "type": "parcoords"
           }
          ],
          "pie": [
           {
            "automargin": true,
            "type": "pie"
           }
          ],
          "scatter": [
           {
            "fillpattern": {
             "fillmode": "overlay",
             "size": 10,
             "solidity": 0.2
            },
            "type": "scatter"
           }
          ],
          "scatter3d": [
           {
            "line": {
             "colorbar": {
              "outlinewidth": 0,
              "ticks": ""
             }
            },
            "marker": {
             "colorbar": {
              "outlinewidth": 0,
              "ticks": ""
             }
            },
            "type": "scatter3d"
           }
          ],
          "scattercarpet": [
           {
            "marker": {
             "colorbar": {
              "outlinewidth": 0,
              "ticks": ""
             }
            },
            "type": "scattercarpet"
           }
          ],
          "scattergeo": [
           {
            "marker": {
             "colorbar": {
              "outlinewidth": 0,
              "ticks": ""
             }
            },
            "type": "scattergeo"
           }
          ],
          "scattergl": [
           {
            "marker": {
             "colorbar": {
              "outlinewidth": 0,
              "ticks": ""
             }
            },
            "type": "scattergl"
           }
          ],
          "scattermapbox": [
           {
            "marker": {
             "colorbar": {
              "outlinewidth": 0,
              "ticks": ""
             }
            },
            "type": "scattermapbox"
           }
          ],
          "scatterpolar": [
           {
            "marker": {
             "colorbar": {
              "outlinewidth": 0,
              "ticks": ""
             }
            },
            "type": "scatterpolar"
           }
          ],
          "scatterpolargl": [
           {
            "marker": {
             "colorbar": {
              "outlinewidth": 0,
              "ticks": ""
             }
            },
            "type": "scatterpolargl"
           }
          ],
          "scatterternary": [
           {
            "marker": {
             "colorbar": {
              "outlinewidth": 0,
              "ticks": ""
             }
            },
            "type": "scatterternary"
           }
          ],
          "surface": [
           {
            "colorbar": {
             "outlinewidth": 0,
             "ticks": ""
            },
            "colorscale": [
             [
              0,
              "#0d0887"
             ],
             [
              0.1111111111111111,
              "#46039f"
             ],
             [
              0.2222222222222222,
              "#7201a8"
             ],
             [
              0.3333333333333333,
              "#9c179e"
             ],
             [
              0.4444444444444444,
              "#bd3786"
             ],
             [
              0.5555555555555556,
              "#d8576b"
             ],
             [
              0.6666666666666666,
              "#ed7953"
             ],
             [
              0.7777777777777778,
              "#fb9f3a"
             ],
             [
              0.8888888888888888,
              "#fdca26"
             ],
             [
              1,
              "#f0f921"
             ]
            ],
            "type": "surface"
           }
          ],
          "table": [
           {
            "cells": {
             "fill": {
              "color": "#EBF0F8"
             },
             "line": {
              "color": "white"
             }
            },
            "header": {
             "fill": {
              "color": "#C8D4E3"
             },
             "line": {
              "color": "white"
             }
            },
            "type": "table"
           }
          ]
         },
         "layout": {
          "annotationdefaults": {
           "arrowcolor": "#2a3f5f",
           "arrowhead": 0,
           "arrowwidth": 1
          },
          "autotypenumbers": "strict",
          "coloraxis": {
           "colorbar": {
            "outlinewidth": 0,
            "ticks": ""
           }
          },
          "colorscale": {
           "diverging": [
            [
             0,
             "#8e0152"
            ],
            [
             0.1,
             "#c51b7d"
            ],
            [
             0.2,
             "#de77ae"
            ],
            [
             0.3,
             "#f1b6da"
            ],
            [
             0.4,
             "#fde0ef"
            ],
            [
             0.5,
             "#f7f7f7"
            ],
            [
             0.6,
             "#e6f5d0"
            ],
            [
             0.7,
             "#b8e186"
            ],
            [
             0.8,
             "#7fbc41"
            ],
            [
             0.9,
             "#4d9221"
            ],
            [
             1,
             "#276419"
            ]
           ],
           "sequential": [
            [
             0,
             "#0d0887"
            ],
            [
             0.1111111111111111,
             "#46039f"
            ],
            [
             0.2222222222222222,
             "#7201a8"
            ],
            [
             0.3333333333333333,
             "#9c179e"
            ],
            [
             0.4444444444444444,
             "#bd3786"
            ],
            [
             0.5555555555555556,
             "#d8576b"
            ],
            [
             0.6666666666666666,
             "#ed7953"
            ],
            [
             0.7777777777777778,
             "#fb9f3a"
            ],
            [
             0.8888888888888888,
             "#fdca26"
            ],
            [
             1,
             "#f0f921"
            ]
           ],
           "sequentialminus": [
            [
             0,
             "#0d0887"
            ],
            [
             0.1111111111111111,
             "#46039f"
            ],
            [
             0.2222222222222222,
             "#7201a8"
            ],
            [
             0.3333333333333333,
             "#9c179e"
            ],
            [
             0.4444444444444444,
             "#bd3786"
            ],
            [
             0.5555555555555556,
             "#d8576b"
            ],
            [
             0.6666666666666666,
             "#ed7953"
            ],
            [
             0.7777777777777778,
             "#fb9f3a"
            ],
            [
             0.8888888888888888,
             "#fdca26"
            ],
            [
             1,
             "#f0f921"
            ]
           ]
          },
          "colorway": [
           "#636efa",
           "#EF553B",
           "#00cc96",
           "#ab63fa",
           "#FFA15A",
           "#19d3f3",
           "#FF6692",
           "#B6E880",
           "#FF97FF",
           "#FECB52"
          ],
          "font": {
           "color": "#2a3f5f"
          },
          "geo": {
           "bgcolor": "white",
           "lakecolor": "white",
           "landcolor": "#E5ECF6",
           "showlakes": true,
           "showland": true,
           "subunitcolor": "white"
          },
          "hoverlabel": {
           "align": "left"
          },
          "hovermode": "closest",
          "mapbox": {
           "style": "light"
          },
          "paper_bgcolor": "white",
          "plot_bgcolor": "#E5ECF6",
          "polar": {
           "angularaxis": {
            "gridcolor": "white",
            "linecolor": "white",
            "ticks": ""
           },
           "bgcolor": "#E5ECF6",
           "radialaxis": {
            "gridcolor": "white",
            "linecolor": "white",
            "ticks": ""
           }
          },
          "scene": {
           "xaxis": {
            "backgroundcolor": "#E5ECF6",
            "gridcolor": "white",
            "gridwidth": 2,
            "linecolor": "white",
            "showbackground": true,
            "ticks": "",
            "zerolinecolor": "white"
           },
           "yaxis": {
            "backgroundcolor": "#E5ECF6",
            "gridcolor": "white",
            "gridwidth": 2,
            "linecolor": "white",
            "showbackground": true,
            "ticks": "",
            "zerolinecolor": "white"
           },
           "zaxis": {
            "backgroundcolor": "#E5ECF6",
            "gridcolor": "white",
            "gridwidth": 2,
            "linecolor": "white",
            "showbackground": true,
            "ticks": "",
            "zerolinecolor": "white"
           }
          },
          "shapedefaults": {
           "line": {
            "color": "#2a3f5f"
           }
          },
          "ternary": {
           "aaxis": {
            "gridcolor": "white",
            "linecolor": "white",
            "ticks": ""
           },
           "baxis": {
            "gridcolor": "white",
            "linecolor": "white",
            "ticks": ""
           },
           "bgcolor": "#E5ECF6",
           "caxis": {
            "gridcolor": "white",
            "linecolor": "white",
            "ticks": ""
           }
          },
          "title": {
           "x": 0.05
          },
          "xaxis": {
           "automargin": true,
           "gridcolor": "white",
           "linecolor": "white",
           "ticks": "",
           "title": {
            "standoff": 15
           },
           "zerolinecolor": "white",
           "zerolinewidth": 2
          },
          "yaxis": {
           "automargin": true,
           "gridcolor": "white",
           "linecolor": "white",
           "ticks": "",
           "title": {
            "standoff": 15
           },
           "zerolinecolor": "white",
           "zerolinewidth": 2
          }
         }
        }
       }
      }
     },
     "metadata": {},
     "output_type": "display_data"
    }
   ],
   "source": [
    "import plotly.express as px\n",
    "px.set_mapbox_access_token(\"pk.eyJ1IjoiYWdiZW5uZSIsImEiOiJjbHRoZ2tyNGswNGkxMnFxbzdndDlma2NkIn0.M8iOQdPpDAk-7JXaL6fH8w\")\n",
    "fig = px.density_mapbox(data, lat=\"lat\", lon=\"lng\", \n",
    "                        mapbox_style=\"light\", \n",
    "                        radius=15,  # Adjust the radius of influence of each point\n",
    "                        color_continuous_scale=px.colors.diverging.Earth, \n",
    "                        zoom=1)\n",
    "\n",
    "fig.show()"
   ]
  },
  {
   "cell_type": "code",
   "execution_count": 124,
   "metadata": {},
   "outputs": [],
   "source": [
    "veiled_conditions.to_csv('veiled_conditions.csv', index=False)\n",
    "direct_conditions.to_csv('direct_conditions.csv', index=False)"
   ]
  },
  {
   "cell_type": "code",
   "execution_count": 125,
   "metadata": {},
   "outputs": [],
   "source": [
    "# fill political alignment with -1\n",
    "veiled_conditions['political_alignment'] = veiled_conditions['political_alignment'].fillna(-1)\n",
    "direct_conditions['political_alignment'] = direct_conditions['political_alignment'].fillna(-1)"
   ]
  },
  {
   "cell_type": "markdown",
   "metadata": {},
   "source": [
    "cast to integer"
   ]
  },
  {
   "cell_type": "code",
   "execution_count": 126,
   "metadata": {},
   "outputs": [],
   "source": [
    "veiled_conditions[['male_lecturers', 'university_gender_quota', 'workload_stress',\n",
    "       'dei_policies', 'netflix', 'attention_test', 'age', 'gender_identity',\n",
    "       'schooling', 'political_alignment']] = veiled_conditions[['male_lecturers', 'university_gender_quota', 'workload_stress',\n",
    "       'dei_policies', 'netflix', 'attention_test', 'age', 'gender_identity',\n",
    "       'schooling', 'political_alignment']].astype(int)\n",
    "\n",
    " "
   ]
  },
  {
   "cell_type": "code",
   "execution_count": 127,
   "metadata": {},
   "outputs": [],
   "source": [
    "direct_conditions[['dei_policies_direct', 'dei_policies_4', 'workload_stress_direct',\n",
    "       'workload_stress_4', 'university_gender_quota_direct', 'university_gender_quota_4',\n",
    "       'netflix_direct', 'netflix_4', 'male_lecturers_direct',\n",
    "       'male_lecturers_4', 'attention_test', 'age', 'gender_identity',\n",
    "       'schooling', 'political_alignment']] = direct_conditions[['dei_policies_direct', 'dei_policies_4', 'workload_stress_direct',\n",
    "       'workload_stress_4', 'university_gender_quota_direct', 'university_gender_quota_4',\n",
    "       'netflix_direct', 'netflix_4', 'male_lecturers_direct',\n",
    "       'male_lecturers_4', 'attention_test', 'age', 'gender_identity',\n",
    "       'schooling', 'political_alignment']].astype(int)\n"
   ]
  },
  {
   "cell_type": "markdown",
   "metadata": {},
   "source": [
    "yes and no for direct questions are 1,2 -> set to 0,1"
   ]
  },
  {
   "cell_type": "code",
   "execution_count": 128,
   "metadata": {},
   "outputs": [
    {
     "data": {
      "text/plain": [
       "array([1, 2])"
      ]
     },
     "execution_count": 128,
     "metadata": {},
     "output_type": "execute_result"
    }
   ],
   "source": [
    "direct_conditions['dei_policies_direct'].unique()"
   ]
  },
  {
   "cell_type": "code",
   "execution_count": 129,
   "metadata": {},
   "outputs": [],
   "source": [
    "\n",
    "direct_conditions['dei_policies_direct'] = direct_conditions['dei_policies_direct'] - 1\n",
    "direct_conditions['workload_stress_direct'] = direct_conditions['workload_stress_direct'] - 1\n",
    "direct_conditions['university_gender_quota_direct'] = direct_conditions['university_gender_quota_direct'] - 1\n",
    "direct_conditions['netflix_direct'] = direct_conditions['netflix_direct'] - 1\n",
    "direct_conditions['male_lecturers_direct'] = direct_conditions['male_lecturers_direct'] - 1\n",
    "\n",
    "# if 0 set to 1 and if 1 set to 0\n",
    "direct_conditions['dei_policies_direct'] = direct_conditions['dei_policies_direct'].replace({0:1,1:0})\n",
    "direct_conditions['workload_stress_direct'] = direct_conditions['workload_stress_direct'].replace({0:1,1:0})\n",
    "direct_conditions['university_gender_quota_direct'] = direct_conditions['university_gender_quota_direct'].replace({0:1,1:0})\n",
    "direct_conditions['netflix_direct'] = direct_conditions['netflix_direct'].replace({0:1,1:0})\n",
    "direct_conditions['male_lecturers_direct'] = direct_conditions['male_lecturers_direct'].replace({0:1,1:0})"
   ]
  },
  {
   "cell_type": "code",
   "execution_count": 130,
   "metadata": {},
   "outputs": [
    {
     "data": {
      "text/plain": [
       "array([1, 0])"
      ]
     },
     "execution_count": 130,
     "metadata": {},
     "output_type": "execute_result"
    }
   ],
   "source": [
    "direct_conditions['dei_policies_direct'].unique()"
   ]
  },
  {
   "cell_type": "markdown",
   "metadata": {},
   "source": [
    "similarly direct questions are not zero indexed"
   ]
  },
  {
   "cell_type": "code",
   "execution_count": 131,
   "metadata": {},
   "outputs": [],
   "source": [
    "direct_conditions_consolidated = direct_conditions.copy()\n",
    "\n",
    "direct_conditions_consolidated['dei_policies_4'] = direct_conditions_consolidated['dei_policies_4'] - 1\n",
    "direct_conditions_consolidated['workload_stress_4'] = direct_conditions_consolidated['workload_stress_4'] - 1\n",
    "direct_conditions_consolidated['university_gender_quota_4'] = direct_conditions_consolidated['university_gender_quota_4'] - 1\n",
    "direct_conditions_consolidated['netflix_4'] = direct_conditions_consolidated['netflix_4'] - 1\n",
    "direct_conditions_consolidated['male_lecturers_4'] = direct_conditions_consolidated['male_lecturers_4'] - 1"
   ]
  },
  {
   "cell_type": "markdown",
   "metadata": {},
   "source": [
    "lastly to the veiled conditions"
   ]
  },
  {
   "cell_type": "code",
   "execution_count": 132,
   "metadata": {},
   "outputs": [],
   "source": [
    "veiled_conditions['dei_policies'] = veiled_conditions['dei_policies'] - 1\n",
    "veiled_conditions['workload_stress'] = veiled_conditions['workload_stress'] - 1\n",
    "veiled_conditions['university_gender_quota'] = veiled_conditions['university_gender_quota'] - 1\n",
    "veiled_conditions['netflix'] = veiled_conditions['netflix'] - 1\n",
    "veiled_conditions['male_lecturers'] = veiled_conditions['male_lecturers'] - 1"
   ]
  },
  {
   "cell_type": "markdown",
   "metadata": {},
   "source": [
    "consolidate direct conditions into the same columns as the veiled conditions based on formula\n",
    "\n",
    "dqi be equal to 1 if the respondent agrees with the direct sensitive item and 0 otherwise\n",
    "\n",
    "cqi be the respondent’s answer to the number of remaining four statements she agrees with\n",
    "\n",
    "y(direct)qi = dqi + cqi"
   ]
  },
  {
   "cell_type": "code",
   "execution_count": 133,
   "metadata": {},
   "outputs": [],
   "source": [
    "\n",
    "# add similar columns together \n",
    "direct_conditions_consolidated['dei_policies'] = direct_conditions_consolidated['dei_policies_direct'] + direct_conditions_consolidated['dei_policies_4']\n",
    "direct_conditions_consolidated['workload_stress'] = direct_conditions_consolidated['workload_stress_direct'] + direct_conditions_consolidated['workload_stress_4']\n",
    "direct_conditions_consolidated['university_gender_quota'] = direct_conditions_consolidated['university_gender_quota_direct'] + direct_conditions_consolidated['university_gender_quota_4']\n",
    "direct_conditions_consolidated['netflix'] = direct_conditions_consolidated['netflix_direct'] + direct_conditions_consolidated['netflix_4']\n",
    "direct_conditions_consolidated['male_lecturers']  = direct_conditions_consolidated['male_lecturers_4'] + direct_conditions['male_lecturers_direct']\n",
    "\n",
    "direct_conditions_consolidated = direct_conditions_consolidated.drop(columns=['dei_policies_direct', 'dei_policies_4', 'workload_stress_direct', 'male_lecturers_direct', 'male_lecturers_4', 'workload_stress_4', 'university_gender_quota_direct', 'university_gender_quota_4', 'netflix_direct', 'netflix_4'])\n",
    "\n",
    "direct_conditions_consolidated['is_direct'] = 1"
   ]
  },
  {
   "cell_type": "code",
   "execution_count": 134,
   "metadata": {},
   "outputs": [],
   "source": [
    "veiled_conditions['is_direct'] = 0"
   ]
  },
  {
   "cell_type": "code",
   "execution_count": 135,
   "metadata": {},
   "outputs": [
    {
     "data": {
      "text/html": [
       "<div>\n",
       "<style scoped>\n",
       "    .dataframe tbody tr th:only-of-type {\n",
       "        vertical-align: middle;\n",
       "    }\n",
       "\n",
       "    .dataframe tbody tr th {\n",
       "        vertical-align: top;\n",
       "    }\n",
       "\n",
       "    .dataframe thead th {\n",
       "        text-align: right;\n",
       "    }\n",
       "</style>\n",
       "<table border=\"1\" class=\"dataframe\">\n",
       "  <thead>\n",
       "    <tr style=\"text-align: right;\">\n",
       "      <th></th>\n",
       "      <th>male_lecturers</th>\n",
       "      <th>university_gender_quota</th>\n",
       "      <th>workload_stress</th>\n",
       "      <th>dei_policies</th>\n",
       "      <th>netflix</th>\n",
       "      <th>attention_test</th>\n",
       "      <th>age</th>\n",
       "      <th>gender_identity</th>\n",
       "      <th>schooling</th>\n",
       "      <th>political_alignment</th>\n",
       "      <th>lat</th>\n",
       "      <th>lng</th>\n",
       "      <th>trigger_conforms</th>\n",
       "      <th>trigger_does_not_conform</th>\n",
       "      <th>duration</th>\n",
       "      <th>is_direct</th>\n",
       "    </tr>\n",
       "  </thead>\n",
       "  <tbody>\n",
       "    <tr>\n",
       "      <th>3</th>\n",
       "      <td>2</td>\n",
       "      <td>1</td>\n",
       "      <td>2</td>\n",
       "      <td>1</td>\n",
       "      <td>3</td>\n",
       "      <td>5</td>\n",
       "      <td>4</td>\n",
       "      <td>1</td>\n",
       "      <td>5</td>\n",
       "      <td>11</td>\n",
       "      <td>41.387</td>\n",
       "      <td>2.1701</td>\n",
       "      <td>NaN</td>\n",
       "      <td>strong, independent, superior</td>\n",
       "      <td>166</td>\n",
       "      <td>0</td>\n",
       "    </tr>\n",
       "    <tr>\n",
       "      <th>4</th>\n",
       "      <td>2</td>\n",
       "      <td>2</td>\n",
       "      <td>3</td>\n",
       "      <td>4</td>\n",
       "      <td>3</td>\n",
       "      <td>5</td>\n",
       "      <td>3</td>\n",
       "      <td>2</td>\n",
       "      <td>4</td>\n",
       "      <td>1</td>\n",
       "      <td>41.387</td>\n",
       "      <td>2.1701</td>\n",
       "      <td>NaN</td>\n",
       "      <td>doubtful, alone, confused</td>\n",
       "      <td>323</td>\n",
       "      <td>0</td>\n",
       "    </tr>\n",
       "    <tr>\n",
       "      <th>9</th>\n",
       "      <td>2</td>\n",
       "      <td>2</td>\n",
       "      <td>2</td>\n",
       "      <td>3</td>\n",
       "      <td>3</td>\n",
       "      <td>5</td>\n",
       "      <td>2</td>\n",
       "      <td>2</td>\n",
       "      <td>4</td>\n",
       "      <td>-12</td>\n",
       "      <td>41.387</td>\n",
       "      <td>2.1701</td>\n",
       "      <td>Confident, good, secure</td>\n",
       "      <td>NaN</td>\n",
       "      <td>315</td>\n",
       "      <td>0</td>\n",
       "    </tr>\n",
       "    <tr>\n",
       "      <th>11</th>\n",
       "      <td>5</td>\n",
       "      <td>4</td>\n",
       "      <td>4</td>\n",
       "      <td>2</td>\n",
       "      <td>2</td>\n",
       "      <td>5</td>\n",
       "      <td>2</td>\n",
       "      <td>1</td>\n",
       "      <td>4</td>\n",
       "      <td>3</td>\n",
       "      <td>34.0034</td>\n",
       "      <td>-84.4605</td>\n",
       "      <td>NaN</td>\n",
       "      <td>Angry Confused Pissed</td>\n",
       "      <td>210</td>\n",
       "      <td>0</td>\n",
       "    </tr>\n",
       "    <tr>\n",
       "      <th>12</th>\n",
       "      <td>2</td>\n",
       "      <td>1</td>\n",
       "      <td>2</td>\n",
       "      <td>3</td>\n",
       "      <td>3</td>\n",
       "      <td>5</td>\n",
       "      <td>3</td>\n",
       "      <td>2</td>\n",
       "      <td>4</td>\n",
       "      <td>-41</td>\n",
       "      <td>40.4172</td>\n",
       "      <td>-3.684</td>\n",
       "      <td>NaN</td>\n",
       "      <td>When the Supreme Court of the United States ov...</td>\n",
       "      <td>572</td>\n",
       "      <td>0</td>\n",
       "    </tr>\n",
       "    <tr>\n",
       "      <th>...</th>\n",
       "      <td>...</td>\n",
       "      <td>...</td>\n",
       "      <td>...</td>\n",
       "      <td>...</td>\n",
       "      <td>...</td>\n",
       "      <td>...</td>\n",
       "      <td>...</td>\n",
       "      <td>...</td>\n",
       "      <td>...</td>\n",
       "      <td>...</td>\n",
       "      <td>...</td>\n",
       "      <td>...</td>\n",
       "      <td>...</td>\n",
       "      <td>...</td>\n",
       "      <td>...</td>\n",
       "      <td>...</td>\n",
       "    </tr>\n",
       "    <tr>\n",
       "      <th>106</th>\n",
       "      <td>3</td>\n",
       "      <td>2</td>\n",
       "      <td>3</td>\n",
       "      <td>3</td>\n",
       "      <td>2</td>\n",
       "      <td>5</td>\n",
       "      <td>2</td>\n",
       "      <td>1</td>\n",
       "      <td>4</td>\n",
       "      <td>-2</td>\n",
       "      <td>40.7123</td>\n",
       "      <td>-74.0068</td>\n",
       "      <td>NaN</td>\n",
       "      <td>Uncomfortable, defensive, strange</td>\n",
       "      <td>NaN</td>\n",
       "      <td>1</td>\n",
       "    </tr>\n",
       "    <tr>\n",
       "      <th>108</th>\n",
       "      <td>3</td>\n",
       "      <td>3</td>\n",
       "      <td>3</td>\n",
       "      <td>3</td>\n",
       "      <td>2</td>\n",
       "      <td>5</td>\n",
       "      <td>2</td>\n",
       "      <td>1</td>\n",
       "      <td>4</td>\n",
       "      <td>26</td>\n",
       "      <td>30.4062</td>\n",
       "      <td>-87.2182</td>\n",
       "      <td>Comfortable, judgmental, introspective. In tha...</td>\n",
       "      <td>NaN</td>\n",
       "      <td>NaN</td>\n",
       "      <td>1</td>\n",
       "    </tr>\n",
       "    <tr>\n",
       "      <th>109</th>\n",
       "      <td>2</td>\n",
       "      <td>0</td>\n",
       "      <td>3</td>\n",
       "      <td>2</td>\n",
       "      <td>3</td>\n",
       "      <td>5</td>\n",
       "      <td>2</td>\n",
       "      <td>2</td>\n",
       "      <td>5</td>\n",
       "      <td>-25</td>\n",
       "      <td>-19.9029</td>\n",
       "      <td>-43.9572</td>\n",
       "      <td>quiescent; suspicious; unsure; hesitant</td>\n",
       "      <td>NaN</td>\n",
       "      <td>NaN</td>\n",
       "      <td>1</td>\n",
       "    </tr>\n",
       "    <tr>\n",
       "      <th>112</th>\n",
       "      <td>2</td>\n",
       "      <td>1</td>\n",
       "      <td>3</td>\n",
       "      <td>3</td>\n",
       "      <td>3</td>\n",
       "      <td>5</td>\n",
       "      <td>2</td>\n",
       "      <td>2</td>\n",
       "      <td>4</td>\n",
       "      <td>-34</td>\n",
       "      <td>49.4645</td>\n",
       "      <td>-122.84</td>\n",
       "      <td>NaN</td>\n",
       "      <td>indifferent, understanding, calm, objective</td>\n",
       "      <td>NaN</td>\n",
       "      <td>1</td>\n",
       "    </tr>\n",
       "    <tr>\n",
       "      <th>114</th>\n",
       "      <td>2</td>\n",
       "      <td>1</td>\n",
       "      <td>3</td>\n",
       "      <td>1</td>\n",
       "      <td>2</td>\n",
       "      <td>5</td>\n",
       "      <td>2</td>\n",
       "      <td>1</td>\n",
       "      <td>2</td>\n",
       "      <td>-16</td>\n",
       "      <td>51.0109</td>\n",
       "      <td>7.1032</td>\n",
       "      <td>Good, happy, in good company</td>\n",
       "      <td>NaN</td>\n",
       "      <td>NaN</td>\n",
       "      <td>1</td>\n",
       "    </tr>\n",
       "  </tbody>\n",
       "</table>\n",
       "<p>104 rows × 16 columns</p>\n",
       "</div>"
      ],
      "text/plain": [
       "0    male_lecturers  university_gender_quota  workload_stress  dei_policies  \\\n",
       "3                 2                        1                2             1   \n",
       "4                 2                        2                3             4   \n",
       "9                 2                        2                2             3   \n",
       "11                5                        4                4             2   \n",
       "12                2                        1                2             3   \n",
       "..              ...                      ...              ...           ...   \n",
       "106               3                        2                3             3   \n",
       "108               3                        3                3             3   \n",
       "109               2                        0                3             2   \n",
       "112               2                        1                3             3   \n",
       "114               2                        1                3             1   \n",
       "\n",
       "0    netflix  attention_test  age  gender_identity  schooling  \\\n",
       "3          3               5    4                1          5   \n",
       "4          3               5    3                2          4   \n",
       "9          3               5    2                2          4   \n",
       "11         2               5    2                1          4   \n",
       "12         3               5    3                2          4   \n",
       "..       ...             ...  ...              ...        ...   \n",
       "106        2               5    2                1          4   \n",
       "108        2               5    2                1          4   \n",
       "109        3               5    2                2          5   \n",
       "112        3               5    2                2          4   \n",
       "114        2               5    2                1          2   \n",
       "\n",
       "0    political_alignment       lat       lng  \\\n",
       "3                     11    41.387    2.1701   \n",
       "4                      1    41.387    2.1701   \n",
       "9                    -12    41.387    2.1701   \n",
       "11                     3   34.0034  -84.4605   \n",
       "12                   -41   40.4172    -3.684   \n",
       "..                   ...       ...       ...   \n",
       "106                   -2   40.7123  -74.0068   \n",
       "108                   26   30.4062  -87.2182   \n",
       "109                  -25  -19.9029  -43.9572   \n",
       "112                  -34   49.4645   -122.84   \n",
       "114                  -16   51.0109    7.1032   \n",
       "\n",
       "0                                     trigger_conforms  \\\n",
       "3                                                  NaN   \n",
       "4                                                  NaN   \n",
       "9                              Confident, good, secure   \n",
       "11                                                 NaN   \n",
       "12                                                 NaN   \n",
       "..                                                 ...   \n",
       "106                                                NaN   \n",
       "108  Comfortable, judgmental, introspective. In tha...   \n",
       "109           quiescent; suspicious; unsure; hesitant    \n",
       "112                                                NaN   \n",
       "114                       Good, happy, in good company   \n",
       "\n",
       "0                             trigger_does_not_conform duration  is_direct  \n",
       "3                        strong, independent, superior      166          0  \n",
       "4                            doubtful, alone, confused      323          0  \n",
       "9                                                  NaN      315          0  \n",
       "11                               Angry Confused Pissed      210          0  \n",
       "12   When the Supreme Court of the United States ov...      572          0  \n",
       "..                                                 ...      ...        ...  \n",
       "106                  Uncomfortable, defensive, strange      NaN          1  \n",
       "108                                                NaN      NaN          1  \n",
       "109                                                NaN      NaN          1  \n",
       "112        indifferent, understanding, calm, objective      NaN          1  \n",
       "114                                                NaN      NaN          1  \n",
       "\n",
       "[104 rows x 16 columns]"
      ]
     },
     "execution_count": 135,
     "metadata": {},
     "output_type": "execute_result"
    }
   ],
   "source": [
    "# combine the two dataframes\n",
    "combined = pd.concat([veiled_conditions, direct_conditions_consolidated])\n",
    "combined"
   ]
  },
  {
   "cell_type": "markdown",
   "metadata": {},
   "source": [
    "Find out if people just filled in gibberish for conformity trigger"
   ]
  },
  {
   "cell_type": "code",
   "execution_count": 136,
   "metadata": {},
   "outputs": [],
   "source": [
    "combined['trigger_conforms_length'] = combined['trigger_conforms'].str.len()\n",
    "combined['trigger_does_not_conform_length'] = combined['trigger_does_not_conform'].str.len()\n",
    "\n"
   ]
  },
  {
   "cell_type": "code",
   "execution_count": 138,
   "metadata": {},
   "outputs": [
    {
     "data": {
      "text/plain": [
       "trigger_does_not_conform_length\n",
       "1.0      1\n",
       "4.0      1\n",
       "17.0     1\n",
       "19.0     1\n",
       "21.0     2\n",
       "23.0     1\n",
       "24.0     1\n",
       "25.0     4\n",
       "26.0     1\n",
       "27.0     2\n",
       "28.0     8\n",
       "29.0     3\n",
       "30.0     2\n",
       "31.0     1\n",
       "32.0     2\n",
       "33.0     2\n",
       "34.0     2\n",
       "36.0     2\n",
       "38.0     3\n",
       "39.0     3\n",
       "40.0     1\n",
       "43.0     1\n",
       "44.0     2\n",
       "48.0     1\n",
       "49.0     1\n",
       "132.0    1\n",
       "146.0    1\n",
       "208.0    1\n",
       "Name: count, dtype: int64"
      ]
     },
     "execution_count": 138,
     "metadata": {},
     "output_type": "execute_result"
    }
   ],
   "source": [
    "combined.trigger_does_not_conform_length.value_counts().sort_index()"
   ]
  },
  {
   "cell_type": "code",
   "execution_count": 139,
   "metadata": {},
   "outputs": [
    {
     "data": {
      "text/plain": [
       "trigger_conforms_length\n",
       "17.0     1\n",
       "18.0     2\n",
       "20.0     4\n",
       "21.0     4\n",
       "22.0     2\n",
       "23.0     2\n",
       "24.0     1\n",
       "25.0     3\n",
       "26.0     3\n",
       "27.0     3\n",
       "28.0     2\n",
       "30.0     4\n",
       "31.0     1\n",
       "32.0     3\n",
       "33.0     3\n",
       "34.0     1\n",
       "35.0     1\n",
       "36.0     1\n",
       "37.0     1\n",
       "39.0     2\n",
       "40.0     1\n",
       "43.0     2\n",
       "47.0     1\n",
       "53.0     1\n",
       "54.0     1\n",
       "56.0     1\n",
       "338.0    1\n",
       "Name: count, dtype: int64"
      ]
     },
     "execution_count": 139,
     "metadata": {},
     "output_type": "execute_result"
    }
   ],
   "source": [
    "combined.trigger_conforms_length.value_counts().sort_index()"
   ]
  },
  {
   "cell_type": "markdown",
   "metadata": {},
   "source": [
    "Investigating duration metrics"
   ]
  },
  {
   "cell_type": "code",
   "execution_count": 140,
   "metadata": {},
   "outputs": [],
   "source": [
    "combined.duration = combined.duration.fillna(0)\n",
    "combined.duration = combined.duration.astype(int)"
   ]
  },
  {
   "cell_type": "code",
   "execution_count": 141,
   "metadata": {},
   "outputs": [
    {
     "data": {
      "application/vnd.plotly.v1+json": {
       "config": {
        "plotlyServerURL": "https://plot.ly"
       },
       "data": [
        {
         "alignmentgroup": "True",
         "bingroup": "x",
         "hovertemplate": "duration=%{x}<br>count=%{y}<extra></extra>",
         "legendgroup": "",
         "marker": {
          "color": "#636efa",
          "pattern": {
           "shape": ""
          }
         },
         "name": "",
         "nbinsx": 5,
         "offsetgroup": "",
         "orientation": "v",
         "showlegend": false,
         "type": "histogram",
         "x": [
          166,
          323,
          315,
          210,
          572,
          1702,
          514,
          323,
          306,
          324,
          1662,
          398,
          336,
          196,
          370,
          152,
          251,
          410,
          411,
          402,
          350,
          534,
          369,
          367,
          371,
          488,
          395,
          441,
          189,
          467,
          306,
          1236,
          309,
          366,
          475,
          283,
          537,
          752,
          280,
          248,
          300,
          210,
          248,
          335,
          223,
          330,
          310,
          1283,
          233,
          152,
          514,
          0,
          0,
          0,
          0,
          0,
          0,
          0,
          0,
          0,
          0,
          0,
          0,
          0,
          0,
          0,
          0,
          0,
          0,
          0,
          0,
          0,
          0,
          0,
          0,
          0,
          0,
          0,
          0,
          0,
          0,
          0,
          0,
          0,
          0,
          0,
          0,
          0,
          0,
          0,
          0,
          0,
          0,
          0,
          0,
          0,
          0,
          0,
          0,
          0,
          0,
          0,
          0,
          0
         ],
         "xaxis": "x",
         "yaxis": "y"
        }
       ],
       "layout": {
        "barmode": "relative",
        "legend": {
         "tracegroupgap": 0
        },
        "margin": {
         "t": 60
        },
        "template": {
         "data": {
          "bar": [
           {
            "error_x": {
             "color": "#2a3f5f"
            },
            "error_y": {
             "color": "#2a3f5f"
            },
            "marker": {
             "line": {
              "color": "#E5ECF6",
              "width": 0.5
             },
             "pattern": {
              "fillmode": "overlay",
              "size": 10,
              "solidity": 0.2
             }
            },
            "type": "bar"
           }
          ],
          "barpolar": [
           {
            "marker": {
             "line": {
              "color": "#E5ECF6",
              "width": 0.5
             },
             "pattern": {
              "fillmode": "overlay",
              "size": 10,
              "solidity": 0.2
             }
            },
            "type": "barpolar"
           }
          ],
          "carpet": [
           {
            "aaxis": {
             "endlinecolor": "#2a3f5f",
             "gridcolor": "white",
             "linecolor": "white",
             "minorgridcolor": "white",
             "startlinecolor": "#2a3f5f"
            },
            "baxis": {
             "endlinecolor": "#2a3f5f",
             "gridcolor": "white",
             "linecolor": "white",
             "minorgridcolor": "white",
             "startlinecolor": "#2a3f5f"
            },
            "type": "carpet"
           }
          ],
          "choropleth": [
           {
            "colorbar": {
             "outlinewidth": 0,
             "ticks": ""
            },
            "type": "choropleth"
           }
          ],
          "contour": [
           {
            "colorbar": {
             "outlinewidth": 0,
             "ticks": ""
            },
            "colorscale": [
             [
              0,
              "#0d0887"
             ],
             [
              0.1111111111111111,
              "#46039f"
             ],
             [
              0.2222222222222222,
              "#7201a8"
             ],
             [
              0.3333333333333333,
              "#9c179e"
             ],
             [
              0.4444444444444444,
              "#bd3786"
             ],
             [
              0.5555555555555556,
              "#d8576b"
             ],
             [
              0.6666666666666666,
              "#ed7953"
             ],
             [
              0.7777777777777778,
              "#fb9f3a"
             ],
             [
              0.8888888888888888,
              "#fdca26"
             ],
             [
              1,
              "#f0f921"
             ]
            ],
            "type": "contour"
           }
          ],
          "contourcarpet": [
           {
            "colorbar": {
             "outlinewidth": 0,
             "ticks": ""
            },
            "type": "contourcarpet"
           }
          ],
          "heatmap": [
           {
            "colorbar": {
             "outlinewidth": 0,
             "ticks": ""
            },
            "colorscale": [
             [
              0,
              "#0d0887"
             ],
             [
              0.1111111111111111,
              "#46039f"
             ],
             [
              0.2222222222222222,
              "#7201a8"
             ],
             [
              0.3333333333333333,
              "#9c179e"
             ],
             [
              0.4444444444444444,
              "#bd3786"
             ],
             [
              0.5555555555555556,
              "#d8576b"
             ],
             [
              0.6666666666666666,
              "#ed7953"
             ],
             [
              0.7777777777777778,
              "#fb9f3a"
             ],
             [
              0.8888888888888888,
              "#fdca26"
             ],
             [
              1,
              "#f0f921"
             ]
            ],
            "type": "heatmap"
           }
          ],
          "heatmapgl": [
           {
            "colorbar": {
             "outlinewidth": 0,
             "ticks": ""
            },
            "colorscale": [
             [
              0,
              "#0d0887"
             ],
             [
              0.1111111111111111,
              "#46039f"
             ],
             [
              0.2222222222222222,
              "#7201a8"
             ],
             [
              0.3333333333333333,
              "#9c179e"
             ],
             [
              0.4444444444444444,
              "#bd3786"
             ],
             [
              0.5555555555555556,
              "#d8576b"
             ],
             [
              0.6666666666666666,
              "#ed7953"
             ],
             [
              0.7777777777777778,
              "#fb9f3a"
             ],
             [
              0.8888888888888888,
              "#fdca26"
             ],
             [
              1,
              "#f0f921"
             ]
            ],
            "type": "heatmapgl"
           }
          ],
          "histogram": [
           {
            "marker": {
             "pattern": {
              "fillmode": "overlay",
              "size": 10,
              "solidity": 0.2
             }
            },
            "type": "histogram"
           }
          ],
          "histogram2d": [
           {
            "colorbar": {
             "outlinewidth": 0,
             "ticks": ""
            },
            "colorscale": [
             [
              0,
              "#0d0887"
             ],
             [
              0.1111111111111111,
              "#46039f"
             ],
             [
              0.2222222222222222,
              "#7201a8"
             ],
             [
              0.3333333333333333,
              "#9c179e"
             ],
             [
              0.4444444444444444,
              "#bd3786"
             ],
             [
              0.5555555555555556,
              "#d8576b"
             ],
             [
              0.6666666666666666,
              "#ed7953"
             ],
             [
              0.7777777777777778,
              "#fb9f3a"
             ],
             [
              0.8888888888888888,
              "#fdca26"
             ],
             [
              1,
              "#f0f921"
             ]
            ],
            "type": "histogram2d"
           }
          ],
          "histogram2dcontour": [
           {
            "colorbar": {
             "outlinewidth": 0,
             "ticks": ""
            },
            "colorscale": [
             [
              0,
              "#0d0887"
             ],
             [
              0.1111111111111111,
              "#46039f"
             ],
             [
              0.2222222222222222,
              "#7201a8"
             ],
             [
              0.3333333333333333,
              "#9c179e"
             ],
             [
              0.4444444444444444,
              "#bd3786"
             ],
             [
              0.5555555555555556,
              "#d8576b"
             ],
             [
              0.6666666666666666,
              "#ed7953"
             ],
             [
              0.7777777777777778,
              "#fb9f3a"
             ],
             [
              0.8888888888888888,
              "#fdca26"
             ],
             [
              1,
              "#f0f921"
             ]
            ],
            "type": "histogram2dcontour"
           }
          ],
          "mesh3d": [
           {
            "colorbar": {
             "outlinewidth": 0,
             "ticks": ""
            },
            "type": "mesh3d"
           }
          ],
          "parcoords": [
           {
            "line": {
             "colorbar": {
              "outlinewidth": 0,
              "ticks": ""
             }
            },
            "type": "parcoords"
           }
          ],
          "pie": [
           {
            "automargin": true,
            "type": "pie"
           }
          ],
          "scatter": [
           {
            "fillpattern": {
             "fillmode": "overlay",
             "size": 10,
             "solidity": 0.2
            },
            "type": "scatter"
           }
          ],
          "scatter3d": [
           {
            "line": {
             "colorbar": {
              "outlinewidth": 0,
              "ticks": ""
             }
            },
            "marker": {
             "colorbar": {
              "outlinewidth": 0,
              "ticks": ""
             }
            },
            "type": "scatter3d"
           }
          ],
          "scattercarpet": [
           {
            "marker": {
             "colorbar": {
              "outlinewidth": 0,
              "ticks": ""
             }
            },
            "type": "scattercarpet"
           }
          ],
          "scattergeo": [
           {
            "marker": {
             "colorbar": {
              "outlinewidth": 0,
              "ticks": ""
             }
            },
            "type": "scattergeo"
           }
          ],
          "scattergl": [
           {
            "marker": {
             "colorbar": {
              "outlinewidth": 0,
              "ticks": ""
             }
            },
            "type": "scattergl"
           }
          ],
          "scattermapbox": [
           {
            "marker": {
             "colorbar": {
              "outlinewidth": 0,
              "ticks": ""
             }
            },
            "type": "scattermapbox"
           }
          ],
          "scatterpolar": [
           {
            "marker": {
             "colorbar": {
              "outlinewidth": 0,
              "ticks": ""
             }
            },
            "type": "scatterpolar"
           }
          ],
          "scatterpolargl": [
           {
            "marker": {
             "colorbar": {
              "outlinewidth": 0,
              "ticks": ""
             }
            },
            "type": "scatterpolargl"
           }
          ],
          "scatterternary": [
           {
            "marker": {
             "colorbar": {
              "outlinewidth": 0,
              "ticks": ""
             }
            },
            "type": "scatterternary"
           }
          ],
          "surface": [
           {
            "colorbar": {
             "outlinewidth": 0,
             "ticks": ""
            },
            "colorscale": [
             [
              0,
              "#0d0887"
             ],
             [
              0.1111111111111111,
              "#46039f"
             ],
             [
              0.2222222222222222,
              "#7201a8"
             ],
             [
              0.3333333333333333,
              "#9c179e"
             ],
             [
              0.4444444444444444,
              "#bd3786"
             ],
             [
              0.5555555555555556,
              "#d8576b"
             ],
             [
              0.6666666666666666,
              "#ed7953"
             ],
             [
              0.7777777777777778,
              "#fb9f3a"
             ],
             [
              0.8888888888888888,
              "#fdca26"
             ],
             [
              1,
              "#f0f921"
             ]
            ],
            "type": "surface"
           }
          ],
          "table": [
           {
            "cells": {
             "fill": {
              "color": "#EBF0F8"
             },
             "line": {
              "color": "white"
             }
            },
            "header": {
             "fill": {
              "color": "#C8D4E3"
             },
             "line": {
              "color": "white"
             }
            },
            "type": "table"
           }
          ]
         },
         "layout": {
          "annotationdefaults": {
           "arrowcolor": "#2a3f5f",
           "arrowhead": 0,
           "arrowwidth": 1
          },
          "autotypenumbers": "strict",
          "coloraxis": {
           "colorbar": {
            "outlinewidth": 0,
            "ticks": ""
           }
          },
          "colorscale": {
           "diverging": [
            [
             0,
             "#8e0152"
            ],
            [
             0.1,
             "#c51b7d"
            ],
            [
             0.2,
             "#de77ae"
            ],
            [
             0.3,
             "#f1b6da"
            ],
            [
             0.4,
             "#fde0ef"
            ],
            [
             0.5,
             "#f7f7f7"
            ],
            [
             0.6,
             "#e6f5d0"
            ],
            [
             0.7,
             "#b8e186"
            ],
            [
             0.8,
             "#7fbc41"
            ],
            [
             0.9,
             "#4d9221"
            ],
            [
             1,
             "#276419"
            ]
           ],
           "sequential": [
            [
             0,
             "#0d0887"
            ],
            [
             0.1111111111111111,
             "#46039f"
            ],
            [
             0.2222222222222222,
             "#7201a8"
            ],
            [
             0.3333333333333333,
             "#9c179e"
            ],
            [
             0.4444444444444444,
             "#bd3786"
            ],
            [
             0.5555555555555556,
             "#d8576b"
            ],
            [
             0.6666666666666666,
             "#ed7953"
            ],
            [
             0.7777777777777778,
             "#fb9f3a"
            ],
            [
             0.8888888888888888,
             "#fdca26"
            ],
            [
             1,
             "#f0f921"
            ]
           ],
           "sequentialminus": [
            [
             0,
             "#0d0887"
            ],
            [
             0.1111111111111111,
             "#46039f"
            ],
            [
             0.2222222222222222,
             "#7201a8"
            ],
            [
             0.3333333333333333,
             "#9c179e"
            ],
            [
             0.4444444444444444,
             "#bd3786"
            ],
            [
             0.5555555555555556,
             "#d8576b"
            ],
            [
             0.6666666666666666,
             "#ed7953"
            ],
            [
             0.7777777777777778,
             "#fb9f3a"
            ],
            [
             0.8888888888888888,
             "#fdca26"
            ],
            [
             1,
             "#f0f921"
            ]
           ]
          },
          "colorway": [
           "#636efa",
           "#EF553B",
           "#00cc96",
           "#ab63fa",
           "#FFA15A",
           "#19d3f3",
           "#FF6692",
           "#B6E880",
           "#FF97FF",
           "#FECB52"
          ],
          "font": {
           "color": "#2a3f5f"
          },
          "geo": {
           "bgcolor": "white",
           "lakecolor": "white",
           "landcolor": "#E5ECF6",
           "showlakes": true,
           "showland": true,
           "subunitcolor": "white"
          },
          "hoverlabel": {
           "align": "left"
          },
          "hovermode": "closest",
          "mapbox": {
           "style": "light"
          },
          "paper_bgcolor": "white",
          "plot_bgcolor": "#E5ECF6",
          "polar": {
           "angularaxis": {
            "gridcolor": "white",
            "linecolor": "white",
            "ticks": ""
           },
           "bgcolor": "#E5ECF6",
           "radialaxis": {
            "gridcolor": "white",
            "linecolor": "white",
            "ticks": ""
           }
          },
          "scene": {
           "xaxis": {
            "backgroundcolor": "#E5ECF6",
            "gridcolor": "white",
            "gridwidth": 2,
            "linecolor": "white",
            "showbackground": true,
            "ticks": "",
            "zerolinecolor": "white"
           },
           "yaxis": {
            "backgroundcolor": "#E5ECF6",
            "gridcolor": "white",
            "gridwidth": 2,
            "linecolor": "white",
            "showbackground": true,
            "ticks": "",
            "zerolinecolor": "white"
           },
           "zaxis": {
            "backgroundcolor": "#E5ECF6",
            "gridcolor": "white",
            "gridwidth": 2,
            "linecolor": "white",
            "showbackground": true,
            "ticks": "",
            "zerolinecolor": "white"
           }
          },
          "shapedefaults": {
           "line": {
            "color": "#2a3f5f"
           }
          },
          "ternary": {
           "aaxis": {
            "gridcolor": "white",
            "linecolor": "white",
            "ticks": ""
           },
           "baxis": {
            "gridcolor": "white",
            "linecolor": "white",
            "ticks": ""
           },
           "bgcolor": "#E5ECF6",
           "caxis": {
            "gridcolor": "white",
            "linecolor": "white",
            "ticks": ""
           }
          },
          "title": {
           "x": 0.05
          },
          "xaxis": {
           "automargin": true,
           "gridcolor": "white",
           "linecolor": "white",
           "ticks": "",
           "title": {
            "standoff": 15
           },
           "zerolinecolor": "white",
           "zerolinewidth": 2
          },
          "yaxis": {
           "automargin": true,
           "gridcolor": "white",
           "linecolor": "white",
           "ticks": "",
           "title": {
            "standoff": 15
           },
           "zerolinecolor": "white",
           "zerolinewidth": 2
          }
         }
        },
        "xaxis": {
         "anchor": "y",
         "domain": [
          0,
          1
         ],
         "title": {
          "text": "duration"
         }
        },
        "yaxis": {
         "anchor": "x",
         "domain": [
          0,
          1
         ],
         "title": {
          "text": "count"
         }
        }
       }
      }
     },
     "metadata": {},
     "output_type": "display_data"
    }
   ],
   "source": [
    "# plot duration with px\n",
    "fig = px.histogram(combined, x=\"duration\", nbins=5)\n",
    "fig.show()"
   ]
  },
  {
   "cell_type": "code",
   "execution_count": 142,
   "metadata": {},
   "outputs": [
    {
     "data": {
      "application/vnd.plotly.v1+json": {
       "config": {
        "plotlyServerURL": "https://plot.ly"
       },
       "data": [
        {
         "alignmentgroup": "True",
         "bingroup": "x",
         "hovertemplate": "duration=%{x}<br>count=%{y}<extra></extra>",
         "legendgroup": "",
         "marker": {
          "color": "#636efa",
          "pattern": {
           "shape": ""
          }
         },
         "name": "",
         "nbinsx": 5,
         "offsetgroup": "",
         "orientation": "v",
         "showlegend": false,
         "type": "histogram",
         "x": [
          166,
          323,
          315,
          210,
          323,
          306,
          324,
          398,
          336,
          196,
          370,
          152,
          251,
          410,
          411,
          402,
          350,
          369,
          367,
          371,
          488,
          395,
          441,
          189,
          467,
          306,
          309,
          366,
          475,
          283,
          280,
          248,
          300,
          210,
          248,
          335,
          223,
          330,
          310,
          233,
          152,
          0,
          0,
          0,
          0,
          0,
          0,
          0,
          0,
          0,
          0,
          0,
          0,
          0,
          0,
          0,
          0,
          0,
          0,
          0,
          0,
          0,
          0,
          0,
          0,
          0,
          0,
          0,
          0,
          0,
          0,
          0,
          0,
          0,
          0,
          0,
          0,
          0,
          0,
          0,
          0,
          0,
          0,
          0,
          0,
          0,
          0,
          0,
          0,
          0,
          0,
          0,
          0,
          0
         ],
         "xaxis": "x",
         "yaxis": "y"
        }
       ],
       "layout": {
        "barmode": "relative",
        "legend": {
         "tracegroupgap": 0
        },
        "margin": {
         "t": 60
        },
        "template": {
         "data": {
          "bar": [
           {
            "error_x": {
             "color": "#2a3f5f"
            },
            "error_y": {
             "color": "#2a3f5f"
            },
            "marker": {
             "line": {
              "color": "#E5ECF6",
              "width": 0.5
             },
             "pattern": {
              "fillmode": "overlay",
              "size": 10,
              "solidity": 0.2
             }
            },
            "type": "bar"
           }
          ],
          "barpolar": [
           {
            "marker": {
             "line": {
              "color": "#E5ECF6",
              "width": 0.5
             },
             "pattern": {
              "fillmode": "overlay",
              "size": 10,
              "solidity": 0.2
             }
            },
            "type": "barpolar"
           }
          ],
          "carpet": [
           {
            "aaxis": {
             "endlinecolor": "#2a3f5f",
             "gridcolor": "white",
             "linecolor": "white",
             "minorgridcolor": "white",
             "startlinecolor": "#2a3f5f"
            },
            "baxis": {
             "endlinecolor": "#2a3f5f",
             "gridcolor": "white",
             "linecolor": "white",
             "minorgridcolor": "white",
             "startlinecolor": "#2a3f5f"
            },
            "type": "carpet"
           }
          ],
          "choropleth": [
           {
            "colorbar": {
             "outlinewidth": 0,
             "ticks": ""
            },
            "type": "choropleth"
           }
          ],
          "contour": [
           {
            "colorbar": {
             "outlinewidth": 0,
             "ticks": ""
            },
            "colorscale": [
             [
              0,
              "#0d0887"
             ],
             [
              0.1111111111111111,
              "#46039f"
             ],
             [
              0.2222222222222222,
              "#7201a8"
             ],
             [
              0.3333333333333333,
              "#9c179e"
             ],
             [
              0.4444444444444444,
              "#bd3786"
             ],
             [
              0.5555555555555556,
              "#d8576b"
             ],
             [
              0.6666666666666666,
              "#ed7953"
             ],
             [
              0.7777777777777778,
              "#fb9f3a"
             ],
             [
              0.8888888888888888,
              "#fdca26"
             ],
             [
              1,
              "#f0f921"
             ]
            ],
            "type": "contour"
           }
          ],
          "contourcarpet": [
           {
            "colorbar": {
             "outlinewidth": 0,
             "ticks": ""
            },
            "type": "contourcarpet"
           }
          ],
          "heatmap": [
           {
            "colorbar": {
             "outlinewidth": 0,
             "ticks": ""
            },
            "colorscale": [
             [
              0,
              "#0d0887"
             ],
             [
              0.1111111111111111,
              "#46039f"
             ],
             [
              0.2222222222222222,
              "#7201a8"
             ],
             [
              0.3333333333333333,
              "#9c179e"
             ],
             [
              0.4444444444444444,
              "#bd3786"
             ],
             [
              0.5555555555555556,
              "#d8576b"
             ],
             [
              0.6666666666666666,
              "#ed7953"
             ],
             [
              0.7777777777777778,
              "#fb9f3a"
             ],
             [
              0.8888888888888888,
              "#fdca26"
             ],
             [
              1,
              "#f0f921"
             ]
            ],
            "type": "heatmap"
           }
          ],
          "heatmapgl": [
           {
            "colorbar": {
             "outlinewidth": 0,
             "ticks": ""
            },
            "colorscale": [
             [
              0,
              "#0d0887"
             ],
             [
              0.1111111111111111,
              "#46039f"
             ],
             [
              0.2222222222222222,
              "#7201a8"
             ],
             [
              0.3333333333333333,
              "#9c179e"
             ],
             [
              0.4444444444444444,
              "#bd3786"
             ],
             [
              0.5555555555555556,
              "#d8576b"
             ],
             [
              0.6666666666666666,
              "#ed7953"
             ],
             [
              0.7777777777777778,
              "#fb9f3a"
             ],
             [
              0.8888888888888888,
              "#fdca26"
             ],
             [
              1,
              "#f0f921"
             ]
            ],
            "type": "heatmapgl"
           }
          ],
          "histogram": [
           {
            "marker": {
             "pattern": {
              "fillmode": "overlay",
              "size": 10,
              "solidity": 0.2
             }
            },
            "type": "histogram"
           }
          ],
          "histogram2d": [
           {
            "colorbar": {
             "outlinewidth": 0,
             "ticks": ""
            },
            "colorscale": [
             [
              0,
              "#0d0887"
             ],
             [
              0.1111111111111111,
              "#46039f"
             ],
             [
              0.2222222222222222,
              "#7201a8"
             ],
             [
              0.3333333333333333,
              "#9c179e"
             ],
             [
              0.4444444444444444,
              "#bd3786"
             ],
             [
              0.5555555555555556,
              "#d8576b"
             ],
             [
              0.6666666666666666,
              "#ed7953"
             ],
             [
              0.7777777777777778,
              "#fb9f3a"
             ],
             [
              0.8888888888888888,
              "#fdca26"
             ],
             [
              1,
              "#f0f921"
             ]
            ],
            "type": "histogram2d"
           }
          ],
          "histogram2dcontour": [
           {
            "colorbar": {
             "outlinewidth": 0,
             "ticks": ""
            },
            "colorscale": [
             [
              0,
              "#0d0887"
             ],
             [
              0.1111111111111111,
              "#46039f"
             ],
             [
              0.2222222222222222,
              "#7201a8"
             ],
             [
              0.3333333333333333,
              "#9c179e"
             ],
             [
              0.4444444444444444,
              "#bd3786"
             ],
             [
              0.5555555555555556,
              "#d8576b"
             ],
             [
              0.6666666666666666,
              "#ed7953"
             ],
             [
              0.7777777777777778,
              "#fb9f3a"
             ],
             [
              0.8888888888888888,
              "#fdca26"
             ],
             [
              1,
              "#f0f921"
             ]
            ],
            "type": "histogram2dcontour"
           }
          ],
          "mesh3d": [
           {
            "colorbar": {
             "outlinewidth": 0,
             "ticks": ""
            },
            "type": "mesh3d"
           }
          ],
          "parcoords": [
           {
            "line": {
             "colorbar": {
              "outlinewidth": 0,
              "ticks": ""
             }
            },
            "type": "parcoords"
           }
          ],
          "pie": [
           {
            "automargin": true,
            "type": "pie"
           }
          ],
          "scatter": [
           {
            "fillpattern": {
             "fillmode": "overlay",
             "size": 10,
             "solidity": 0.2
            },
            "type": "scatter"
           }
          ],
          "scatter3d": [
           {
            "line": {
             "colorbar": {
              "outlinewidth": 0,
              "ticks": ""
             }
            },
            "marker": {
             "colorbar": {
              "outlinewidth": 0,
              "ticks": ""
             }
            },
            "type": "scatter3d"
           }
          ],
          "scattercarpet": [
           {
            "marker": {
             "colorbar": {
              "outlinewidth": 0,
              "ticks": ""
             }
            },
            "type": "scattercarpet"
           }
          ],
          "scattergeo": [
           {
            "marker": {
             "colorbar": {
              "outlinewidth": 0,
              "ticks": ""
             }
            },
            "type": "scattergeo"
           }
          ],
          "scattergl": [
           {
            "marker": {
             "colorbar": {
              "outlinewidth": 0,
              "ticks": ""
             }
            },
            "type": "scattergl"
           }
          ],
          "scattermapbox": [
           {
            "marker": {
             "colorbar": {
              "outlinewidth": 0,
              "ticks": ""
             }
            },
            "type": "scattermapbox"
           }
          ],
          "scatterpolar": [
           {
            "marker": {
             "colorbar": {
              "outlinewidth": 0,
              "ticks": ""
             }
            },
            "type": "scatterpolar"
           }
          ],
          "scatterpolargl": [
           {
            "marker": {
             "colorbar": {
              "outlinewidth": 0,
              "ticks": ""
             }
            },
            "type": "scatterpolargl"
           }
          ],
          "scatterternary": [
           {
            "marker": {
             "colorbar": {
              "outlinewidth": 0,
              "ticks": ""
             }
            },
            "type": "scatterternary"
           }
          ],
          "surface": [
           {
            "colorbar": {
             "outlinewidth": 0,
             "ticks": ""
            },
            "colorscale": [
             [
              0,
              "#0d0887"
             ],
             [
              0.1111111111111111,
              "#46039f"
             ],
             [
              0.2222222222222222,
              "#7201a8"
             ],
             [
              0.3333333333333333,
              "#9c179e"
             ],
             [
              0.4444444444444444,
              "#bd3786"
             ],
             [
              0.5555555555555556,
              "#d8576b"
             ],
             [
              0.6666666666666666,
              "#ed7953"
             ],
             [
              0.7777777777777778,
              "#fb9f3a"
             ],
             [
              0.8888888888888888,
              "#fdca26"
             ],
             [
              1,
              "#f0f921"
             ]
            ],
            "type": "surface"
           }
          ],
          "table": [
           {
            "cells": {
             "fill": {
              "color": "#EBF0F8"
             },
             "line": {
              "color": "white"
             }
            },
            "header": {
             "fill": {
              "color": "#C8D4E3"
             },
             "line": {
              "color": "white"
             }
            },
            "type": "table"
           }
          ]
         },
         "layout": {
          "annotationdefaults": {
           "arrowcolor": "#2a3f5f",
           "arrowhead": 0,
           "arrowwidth": 1
          },
          "autotypenumbers": "strict",
          "coloraxis": {
           "colorbar": {
            "outlinewidth": 0,
            "ticks": ""
           }
          },
          "colorscale": {
           "diverging": [
            [
             0,
             "#8e0152"
            ],
            [
             0.1,
             "#c51b7d"
            ],
            [
             0.2,
             "#de77ae"
            ],
            [
             0.3,
             "#f1b6da"
            ],
            [
             0.4,
             "#fde0ef"
            ],
            [
             0.5,
             "#f7f7f7"
            ],
            [
             0.6,
             "#e6f5d0"
            ],
            [
             0.7,
             "#b8e186"
            ],
            [
             0.8,
             "#7fbc41"
            ],
            [
             0.9,
             "#4d9221"
            ],
            [
             1,
             "#276419"
            ]
           ],
           "sequential": [
            [
             0,
             "#0d0887"
            ],
            [
             0.1111111111111111,
             "#46039f"
            ],
            [
             0.2222222222222222,
             "#7201a8"
            ],
            [
             0.3333333333333333,
             "#9c179e"
            ],
            [
             0.4444444444444444,
             "#bd3786"
            ],
            [
             0.5555555555555556,
             "#d8576b"
            ],
            [
             0.6666666666666666,
             "#ed7953"
            ],
            [
             0.7777777777777778,
             "#fb9f3a"
            ],
            [
             0.8888888888888888,
             "#fdca26"
            ],
            [
             1,
             "#f0f921"
            ]
           ],
           "sequentialminus": [
            [
             0,
             "#0d0887"
            ],
            [
             0.1111111111111111,
             "#46039f"
            ],
            [
             0.2222222222222222,
             "#7201a8"
            ],
            [
             0.3333333333333333,
             "#9c179e"
            ],
            [
             0.4444444444444444,
             "#bd3786"
            ],
            [
             0.5555555555555556,
             "#d8576b"
            ],
            [
             0.6666666666666666,
             "#ed7953"
            ],
            [
             0.7777777777777778,
             "#fb9f3a"
            ],
            [
             0.8888888888888888,
             "#fdca26"
            ],
            [
             1,
             "#f0f921"
            ]
           ]
          },
          "colorway": [
           "#636efa",
           "#EF553B",
           "#00cc96",
           "#ab63fa",
           "#FFA15A",
           "#19d3f3",
           "#FF6692",
           "#B6E880",
           "#FF97FF",
           "#FECB52"
          ],
          "font": {
           "color": "#2a3f5f"
          },
          "geo": {
           "bgcolor": "white",
           "lakecolor": "white",
           "landcolor": "#E5ECF6",
           "showlakes": true,
           "showland": true,
           "subunitcolor": "white"
          },
          "hoverlabel": {
           "align": "left"
          },
          "hovermode": "closest",
          "mapbox": {
           "style": "light"
          },
          "paper_bgcolor": "white",
          "plot_bgcolor": "#E5ECF6",
          "polar": {
           "angularaxis": {
            "gridcolor": "white",
            "linecolor": "white",
            "ticks": ""
           },
           "bgcolor": "#E5ECF6",
           "radialaxis": {
            "gridcolor": "white",
            "linecolor": "white",
            "ticks": ""
           }
          },
          "scene": {
           "xaxis": {
            "backgroundcolor": "#E5ECF6",
            "gridcolor": "white",
            "gridwidth": 2,
            "linecolor": "white",
            "showbackground": true,
            "ticks": "",
            "zerolinecolor": "white"
           },
           "yaxis": {
            "backgroundcolor": "#E5ECF6",
            "gridcolor": "white",
            "gridwidth": 2,
            "linecolor": "white",
            "showbackground": true,
            "ticks": "",
            "zerolinecolor": "white"
           },
           "zaxis": {
            "backgroundcolor": "#E5ECF6",
            "gridcolor": "white",
            "gridwidth": 2,
            "linecolor": "white",
            "showbackground": true,
            "ticks": "",
            "zerolinecolor": "white"
           }
          },
          "shapedefaults": {
           "line": {
            "color": "#2a3f5f"
           }
          },
          "ternary": {
           "aaxis": {
            "gridcolor": "white",
            "linecolor": "white",
            "ticks": ""
           },
           "baxis": {
            "gridcolor": "white",
            "linecolor": "white",
            "ticks": ""
           },
           "bgcolor": "#E5ECF6",
           "caxis": {
            "gridcolor": "white",
            "linecolor": "white",
            "ticks": ""
           }
          },
          "title": {
           "x": 0.05
          },
          "xaxis": {
           "automargin": true,
           "gridcolor": "white",
           "linecolor": "white",
           "ticks": "",
           "title": {
            "standoff": 15
           },
           "zerolinecolor": "white",
           "zerolinewidth": 2
          },
          "yaxis": {
           "automargin": true,
           "gridcolor": "white",
           "linecolor": "white",
           "ticks": "",
           "title": {
            "standoff": 15
           },
           "zerolinecolor": "white",
           "zerolinewidth": 2
          }
         }
        },
        "xaxis": {
         "anchor": "y",
         "domain": [
          0,
          1
         ],
         "title": {
          "text": "duration"
         }
        },
        "yaxis": {
         "anchor": "x",
         "domain": [
          0,
          1
         ],
         "title": {
          "text": "count"
         }
        }
       }
      }
     },
     "metadata": {},
     "output_type": "display_data"
    }
   ],
   "source": [
    "# plot durations less than 500\n",
    "fig = px.histogram(combined.loc[combined.duration<500], x=\"duration\", nbins=5)\n",
    "fig.show()"
   ]
  },
  {
   "cell_type": "markdown",
   "metadata": {},
   "source": [
    "Dropping rows where conformity trigger response is less than 5 chars"
   ]
  },
  {
   "cell_type": "code",
   "execution_count": 143,
   "metadata": {},
   "outputs": [
    {
     "name": "stdout",
     "output_type": "stream",
     "text": [
      "(104, 18)\n",
      "(102, 18)\n"
     ]
    }
   ],
   "source": [
    "print(combined.shape)\n",
    "combined = combined.loc[(combined.trigger_conforms_length > 5) | (combined.trigger_does_not_conform_length > 5)]\n",
    "print(combined.shape)"
   ]
  },
  {
   "cell_type": "code",
   "execution_count": 144,
   "metadata": {},
   "outputs": [
    {
     "data": {
      "text/plain": [
       "is_direct\n",
       "1    52\n",
       "0    50\n",
       "Name: count, dtype: int64"
      ]
     },
     "execution_count": 144,
     "metadata": {},
     "output_type": "execute_result"
    }
   ],
   "source": [
    "combined.is_direct.value_counts()"
   ]
  },
  {
   "cell_type": "markdown",
   "metadata": {},
   "source": [
    "reformatting conformity so that there is a boolean if they got a conformity or non conformity prompt"
   ]
  },
  {
   "cell_type": "code",
   "execution_count": 145,
   "metadata": {},
   "outputs": [],
   "source": [
    "# drop length columns\n",
    "combined = combined.drop(columns=['trigger_conforms_length', 'trigger_does_not_conform_length'])\n",
    "\n",
    "combined['has_conformity_trigger'] = combined['trigger_conforms'].notna()\n",
    "combined['has_conformity_trigger'] = combined['has_conformity_trigger'].fillna(0)\n",
    "combined['has_conformity_trigger'] = combined['has_conformity_trigger'].astype(int)\n",
    "combined['has_conformity_trigger'].value_counts()\n",
    "\n",
    "combined.drop(columns=['trigger_conforms', 'trigger_does_not_conform'], inplace=True)"
   ]
  },
  {
   "cell_type": "code",
   "execution_count": 146,
   "metadata": {},
   "outputs": [],
   "source": [
    "# create questions cols \n",
    "questions = ['male_lecturers',\t'university_gender_quota',\t'workload_stress',\t'dei_policies',\t'netflix']"
   ]
  },
  {
   "cell_type": "markdown",
   "metadata": {},
   "source": [
    "Questions are scaled 1-6, so subtract 1 to get 0-5"
   ]
  },
  {
   "cell_type": "code",
   "execution_count": 147,
   "metadata": {},
   "outputs": [
    {
     "data": {
      "text/html": [
       "<div>\n",
       "<style scoped>\n",
       "    .dataframe tbody tr th:only-of-type {\n",
       "        vertical-align: middle;\n",
       "    }\n",
       "\n",
       "    .dataframe tbody tr th {\n",
       "        vertical-align: top;\n",
       "    }\n",
       "\n",
       "    .dataframe thead th {\n",
       "        text-align: right;\n",
       "    }\n",
       "</style>\n",
       "<table border=\"1\" class=\"dataframe\">\n",
       "  <thead>\n",
       "    <tr style=\"text-align: right;\">\n",
       "      <th></th>\n",
       "      <th>male_lecturers</th>\n",
       "      <th>university_gender_quota</th>\n",
       "      <th>workload_stress</th>\n",
       "      <th>dei_policies</th>\n",
       "      <th>netflix</th>\n",
       "    </tr>\n",
       "  </thead>\n",
       "  <tbody>\n",
       "    <tr>\n",
       "      <th>count</th>\n",
       "      <td>102.000000</td>\n",
       "      <td>102.000000</td>\n",
       "      <td>102.000000</td>\n",
       "      <td>102.000000</td>\n",
       "      <td>102.000000</td>\n",
       "    </tr>\n",
       "    <tr>\n",
       "      <th>mean</th>\n",
       "      <td>2.196078</td>\n",
       "      <td>1.725490</td>\n",
       "      <td>2.637255</td>\n",
       "      <td>2.441176</td>\n",
       "      <td>2.705882</td>\n",
       "    </tr>\n",
       "    <tr>\n",
       "      <th>std</th>\n",
       "      <td>0.821002</td>\n",
       "      <td>0.759844</td>\n",
       "      <td>0.793404</td>\n",
       "      <td>0.862572</td>\n",
       "      <td>0.739122</td>\n",
       "    </tr>\n",
       "    <tr>\n",
       "      <th>min</th>\n",
       "      <td>0.000000</td>\n",
       "      <td>0.000000</td>\n",
       "      <td>0.000000</td>\n",
       "      <td>0.000000</td>\n",
       "      <td>1.000000</td>\n",
       "    </tr>\n",
       "    <tr>\n",
       "      <th>25%</th>\n",
       "      <td>2.000000</td>\n",
       "      <td>1.000000</td>\n",
       "      <td>2.000000</td>\n",
       "      <td>2.000000</td>\n",
       "      <td>2.000000</td>\n",
       "    </tr>\n",
       "    <tr>\n",
       "      <th>50%</th>\n",
       "      <td>2.000000</td>\n",
       "      <td>2.000000</td>\n",
       "      <td>3.000000</td>\n",
       "      <td>2.000000</td>\n",
       "      <td>3.000000</td>\n",
       "    </tr>\n",
       "    <tr>\n",
       "      <th>75%</th>\n",
       "      <td>2.000000</td>\n",
       "      <td>2.000000</td>\n",
       "      <td>3.000000</td>\n",
       "      <td>3.000000</td>\n",
       "      <td>3.000000</td>\n",
       "    </tr>\n",
       "    <tr>\n",
       "      <th>max</th>\n",
       "      <td>5.000000</td>\n",
       "      <td>4.000000</td>\n",
       "      <td>5.000000</td>\n",
       "      <td>5.000000</td>\n",
       "      <td>4.000000</td>\n",
       "    </tr>\n",
       "  </tbody>\n",
       "</table>\n",
       "</div>"
      ],
      "text/plain": [
       "0      male_lecturers  university_gender_quota  workload_stress  dei_policies  \\\n",
       "count      102.000000               102.000000       102.000000    102.000000   \n",
       "mean         2.196078                 1.725490         2.637255      2.441176   \n",
       "std          0.821002                 0.759844         0.793404      0.862572   \n",
       "min          0.000000                 0.000000         0.000000      0.000000   \n",
       "25%          2.000000                 1.000000         2.000000      2.000000   \n",
       "50%          2.000000                 2.000000         3.000000      2.000000   \n",
       "75%          2.000000                 2.000000         3.000000      3.000000   \n",
       "max          5.000000                 4.000000         5.000000      5.000000   \n",
       "\n",
       "0         netflix  \n",
       "count  102.000000  \n",
       "mean     2.705882  \n",
       "std      0.739122  \n",
       "min      1.000000  \n",
       "25%      2.000000  \n",
       "50%      3.000000  \n",
       "75%      3.000000  \n",
       "max      4.000000  "
      ]
     },
     "execution_count": 147,
     "metadata": {},
     "output_type": "execute_result"
    }
   ],
   "source": [
    "combined[questions].describe()"
   ]
  },
  {
   "cell_type": "markdown",
   "metadata": {},
   "source": [
    "Create SDB calculation based on the formula: \n",
    "µq = E(y(veiled)qi) − E(y(direct)qi)"
   ]
  },
  {
   "cell_type": "code",
   "execution_count": 148,
   "metadata": {},
   "outputs": [
    {
     "data": {
      "text/html": [
       "<div>\n",
       "<style scoped>\n",
       "    .dataframe tbody tr th:only-of-type {\n",
       "        vertical-align: middle;\n",
       "    }\n",
       "\n",
       "    .dataframe tbody tr th {\n",
       "        vertical-align: top;\n",
       "    }\n",
       "\n",
       "    .dataframe thead th {\n",
       "        text-align: right;\n",
       "    }\n",
       "</style>\n",
       "<table border=\"1\" class=\"dataframe\">\n",
       "  <thead>\n",
       "    <tr style=\"text-align: right;\">\n",
       "      <th></th>\n",
       "      <th>male_lecturers</th>\n",
       "      <th>university_gender_quota</th>\n",
       "      <th>workload_stress</th>\n",
       "      <th>dei_policies</th>\n",
       "      <th>netflix</th>\n",
       "      <th>attention_test</th>\n",
       "      <th>age</th>\n",
       "      <th>gender_identity</th>\n",
       "      <th>schooling</th>\n",
       "      <th>political_alignment</th>\n",
       "      <th>lat</th>\n",
       "      <th>lng</th>\n",
       "      <th>duration</th>\n",
       "      <th>is_direct</th>\n",
       "      <th>has_conformity_trigger</th>\n",
       "      <th>male_lecturers_SDB</th>\n",
       "      <th>university_gender_quota_SDB</th>\n",
       "      <th>workload_stress_SDB</th>\n",
       "      <th>dei_policies_SDB</th>\n",
       "      <th>netflix_SDB</th>\n",
       "    </tr>\n",
       "  </thead>\n",
       "  <tbody>\n",
       "    <tr>\n",
       "      <th>3</th>\n",
       "      <td>2</td>\n",
       "      <td>1</td>\n",
       "      <td>2</td>\n",
       "      <td>1</td>\n",
       "      <td>3</td>\n",
       "      <td>5</td>\n",
       "      <td>4</td>\n",
       "      <td>1</td>\n",
       "      <td>5</td>\n",
       "      <td>11</td>\n",
       "      <td>41.387</td>\n",
       "      <td>2.1701</td>\n",
       "      <td>166</td>\n",
       "      <td>0</td>\n",
       "      <td>0</td>\n",
       "      <td>0.046923</td>\n",
       "      <td>0.46</td>\n",
       "      <td>-0.23</td>\n",
       "      <td>0.076154</td>\n",
       "      <td>-0.050769</td>\n",
       "    </tr>\n",
       "    <tr>\n",
       "      <th>4</th>\n",
       "      <td>2</td>\n",
       "      <td>2</td>\n",
       "      <td>3</td>\n",
       "      <td>4</td>\n",
       "      <td>3</td>\n",
       "      <td>5</td>\n",
       "      <td>3</td>\n",
       "      <td>2</td>\n",
       "      <td>4</td>\n",
       "      <td>1</td>\n",
       "      <td>41.387</td>\n",
       "      <td>2.1701</td>\n",
       "      <td>323</td>\n",
       "      <td>0</td>\n",
       "      <td>0</td>\n",
       "      <td>0.046923</td>\n",
       "      <td>0.46</td>\n",
       "      <td>-0.23</td>\n",
       "      <td>0.076154</td>\n",
       "      <td>-0.050769</td>\n",
       "    </tr>\n",
       "    <tr>\n",
       "      <th>9</th>\n",
       "      <td>2</td>\n",
       "      <td>2</td>\n",
       "      <td>2</td>\n",
       "      <td>3</td>\n",
       "      <td>3</td>\n",
       "      <td>5</td>\n",
       "      <td>2</td>\n",
       "      <td>2</td>\n",
       "      <td>4</td>\n",
       "      <td>-12</td>\n",
       "      <td>41.387</td>\n",
       "      <td>2.1701</td>\n",
       "      <td>315</td>\n",
       "      <td>0</td>\n",
       "      <td>1</td>\n",
       "      <td>0.046923</td>\n",
       "      <td>0.46</td>\n",
       "      <td>-0.23</td>\n",
       "      <td>0.076154</td>\n",
       "      <td>-0.050769</td>\n",
       "    </tr>\n",
       "    <tr>\n",
       "      <th>11</th>\n",
       "      <td>5</td>\n",
       "      <td>4</td>\n",
       "      <td>4</td>\n",
       "      <td>2</td>\n",
       "      <td>2</td>\n",
       "      <td>5</td>\n",
       "      <td>2</td>\n",
       "      <td>1</td>\n",
       "      <td>4</td>\n",
       "      <td>3</td>\n",
       "      <td>34.0034</td>\n",
       "      <td>-84.4605</td>\n",
       "      <td>210</td>\n",
       "      <td>0</td>\n",
       "      <td>0</td>\n",
       "      <td>0.046923</td>\n",
       "      <td>0.46</td>\n",
       "      <td>-0.23</td>\n",
       "      <td>0.076154</td>\n",
       "      <td>-0.050769</td>\n",
       "    </tr>\n",
       "    <tr>\n",
       "      <th>12</th>\n",
       "      <td>2</td>\n",
       "      <td>1</td>\n",
       "      <td>2</td>\n",
       "      <td>3</td>\n",
       "      <td>3</td>\n",
       "      <td>5</td>\n",
       "      <td>3</td>\n",
       "      <td>2</td>\n",
       "      <td>4</td>\n",
       "      <td>-41</td>\n",
       "      <td>40.4172</td>\n",
       "      <td>-3.684</td>\n",
       "      <td>572</td>\n",
       "      <td>0</td>\n",
       "      <td>0</td>\n",
       "      <td>0.046923</td>\n",
       "      <td>0.46</td>\n",
       "      <td>-0.23</td>\n",
       "      <td>0.076154</td>\n",
       "      <td>-0.050769</td>\n",
       "    </tr>\n",
       "    <tr>\n",
       "      <th>...</th>\n",
       "      <td>...</td>\n",
       "      <td>...</td>\n",
       "      <td>...</td>\n",
       "      <td>...</td>\n",
       "      <td>...</td>\n",
       "      <td>...</td>\n",
       "      <td>...</td>\n",
       "      <td>...</td>\n",
       "      <td>...</td>\n",
       "      <td>...</td>\n",
       "      <td>...</td>\n",
       "      <td>...</td>\n",
       "      <td>...</td>\n",
       "      <td>...</td>\n",
       "      <td>...</td>\n",
       "      <td>...</td>\n",
       "      <td>...</td>\n",
       "      <td>...</td>\n",
       "      <td>...</td>\n",
       "      <td>...</td>\n",
       "    </tr>\n",
       "    <tr>\n",
       "      <th>106</th>\n",
       "      <td>3</td>\n",
       "      <td>2</td>\n",
       "      <td>3</td>\n",
       "      <td>3</td>\n",
       "      <td>2</td>\n",
       "      <td>5</td>\n",
       "      <td>2</td>\n",
       "      <td>1</td>\n",
       "      <td>4</td>\n",
       "      <td>-2</td>\n",
       "      <td>40.7123</td>\n",
       "      <td>-74.0068</td>\n",
       "      <td>0</td>\n",
       "      <td>1</td>\n",
       "      <td>0</td>\n",
       "      <td>0.046923</td>\n",
       "      <td>0.46</td>\n",
       "      <td>-0.23</td>\n",
       "      <td>0.076154</td>\n",
       "      <td>-0.050769</td>\n",
       "    </tr>\n",
       "    <tr>\n",
       "      <th>108</th>\n",
       "      <td>3</td>\n",
       "      <td>3</td>\n",
       "      <td>3</td>\n",
       "      <td>3</td>\n",
       "      <td>2</td>\n",
       "      <td>5</td>\n",
       "      <td>2</td>\n",
       "      <td>1</td>\n",
       "      <td>4</td>\n",
       "      <td>26</td>\n",
       "      <td>30.4062</td>\n",
       "      <td>-87.2182</td>\n",
       "      <td>0</td>\n",
       "      <td>1</td>\n",
       "      <td>1</td>\n",
       "      <td>0.046923</td>\n",
       "      <td>0.46</td>\n",
       "      <td>-0.23</td>\n",
       "      <td>0.076154</td>\n",
       "      <td>-0.050769</td>\n",
       "    </tr>\n",
       "    <tr>\n",
       "      <th>109</th>\n",
       "      <td>2</td>\n",
       "      <td>0</td>\n",
       "      <td>3</td>\n",
       "      <td>2</td>\n",
       "      <td>3</td>\n",
       "      <td>5</td>\n",
       "      <td>2</td>\n",
       "      <td>2</td>\n",
       "      <td>5</td>\n",
       "      <td>-25</td>\n",
       "      <td>-19.9029</td>\n",
       "      <td>-43.9572</td>\n",
       "      <td>0</td>\n",
       "      <td>1</td>\n",
       "      <td>1</td>\n",
       "      <td>0.046923</td>\n",
       "      <td>0.46</td>\n",
       "      <td>-0.23</td>\n",
       "      <td>0.076154</td>\n",
       "      <td>-0.050769</td>\n",
       "    </tr>\n",
       "    <tr>\n",
       "      <th>112</th>\n",
       "      <td>2</td>\n",
       "      <td>1</td>\n",
       "      <td>3</td>\n",
       "      <td>3</td>\n",
       "      <td>3</td>\n",
       "      <td>5</td>\n",
       "      <td>2</td>\n",
       "      <td>2</td>\n",
       "      <td>4</td>\n",
       "      <td>-34</td>\n",
       "      <td>49.4645</td>\n",
       "      <td>-122.84</td>\n",
       "      <td>0</td>\n",
       "      <td>1</td>\n",
       "      <td>0</td>\n",
       "      <td>0.046923</td>\n",
       "      <td>0.46</td>\n",
       "      <td>-0.23</td>\n",
       "      <td>0.076154</td>\n",
       "      <td>-0.050769</td>\n",
       "    </tr>\n",
       "    <tr>\n",
       "      <th>114</th>\n",
       "      <td>2</td>\n",
       "      <td>1</td>\n",
       "      <td>3</td>\n",
       "      <td>1</td>\n",
       "      <td>2</td>\n",
       "      <td>5</td>\n",
       "      <td>2</td>\n",
       "      <td>1</td>\n",
       "      <td>2</td>\n",
       "      <td>-16</td>\n",
       "      <td>51.0109</td>\n",
       "      <td>7.1032</td>\n",
       "      <td>0</td>\n",
       "      <td>1</td>\n",
       "      <td>1</td>\n",
       "      <td>0.046923</td>\n",
       "      <td>0.46</td>\n",
       "      <td>-0.23</td>\n",
       "      <td>0.076154</td>\n",
       "      <td>-0.050769</td>\n",
       "    </tr>\n",
       "  </tbody>\n",
       "</table>\n",
       "<p>102 rows × 20 columns</p>\n",
       "</div>"
      ],
      "text/plain": [
       "0    male_lecturers  university_gender_quota  workload_stress  dei_policies  \\\n",
       "3                 2                        1                2             1   \n",
       "4                 2                        2                3             4   \n",
       "9                 2                        2                2             3   \n",
       "11                5                        4                4             2   \n",
       "12                2                        1                2             3   \n",
       "..              ...                      ...              ...           ...   \n",
       "106               3                        2                3             3   \n",
       "108               3                        3                3             3   \n",
       "109               2                        0                3             2   \n",
       "112               2                        1                3             3   \n",
       "114               2                        1                3             1   \n",
       "\n",
       "0    netflix  attention_test  age  gender_identity  schooling  \\\n",
       "3          3               5    4                1          5   \n",
       "4          3               5    3                2          4   \n",
       "9          3               5    2                2          4   \n",
       "11         2               5    2                1          4   \n",
       "12         3               5    3                2          4   \n",
       "..       ...             ...  ...              ...        ...   \n",
       "106        2               5    2                1          4   \n",
       "108        2               5    2                1          4   \n",
       "109        3               5    2                2          5   \n",
       "112        3               5    2                2          4   \n",
       "114        2               5    2                1          2   \n",
       "\n",
       "0    political_alignment       lat       lng  duration  is_direct  \\\n",
       "3                     11    41.387    2.1701       166          0   \n",
       "4                      1    41.387    2.1701       323          0   \n",
       "9                    -12    41.387    2.1701       315          0   \n",
       "11                     3   34.0034  -84.4605       210          0   \n",
       "12                   -41   40.4172    -3.684       572          0   \n",
       "..                   ...       ...       ...       ...        ...   \n",
       "106                   -2   40.7123  -74.0068         0          1   \n",
       "108                   26   30.4062  -87.2182         0          1   \n",
       "109                  -25  -19.9029  -43.9572         0          1   \n",
       "112                  -34   49.4645   -122.84         0          1   \n",
       "114                  -16   51.0109    7.1032         0          1   \n",
       "\n",
       "0    has_conformity_trigger  male_lecturers_SDB  university_gender_quota_SDB  \\\n",
       "3                         0            0.046923                         0.46   \n",
       "4                         0            0.046923                         0.46   \n",
       "9                         1            0.046923                         0.46   \n",
       "11                        0            0.046923                         0.46   \n",
       "12                        0            0.046923                         0.46   \n",
       "..                      ...                 ...                          ...   \n",
       "106                       0            0.046923                         0.46   \n",
       "108                       1            0.046923                         0.46   \n",
       "109                       1            0.046923                         0.46   \n",
       "112                       0            0.046923                         0.46   \n",
       "114                       1            0.046923                         0.46   \n",
       "\n",
       "0    workload_stress_SDB  dei_policies_SDB  netflix_SDB  \n",
       "3                  -0.23          0.076154    -0.050769  \n",
       "4                  -0.23          0.076154    -0.050769  \n",
       "9                  -0.23          0.076154    -0.050769  \n",
       "11                 -0.23          0.076154    -0.050769  \n",
       "12                 -0.23          0.076154    -0.050769  \n",
       "..                   ...               ...          ...  \n",
       "106                -0.23          0.076154    -0.050769  \n",
       "108                -0.23          0.076154    -0.050769  \n",
       "109                -0.23          0.076154    -0.050769  \n",
       "112                -0.23          0.076154    -0.050769  \n",
       "114                -0.23          0.076154    -0.050769  \n",
       "\n",
       "[102 rows x 20 columns]"
      ]
     },
     "execution_count": 148,
     "metadata": {},
     "output_type": "execute_result"
    }
   ],
   "source": [
    "SDB_columns = {}\n",
    "\n",
    "for question in questions: \n",
    "    col_name = question + '_SDB'\n",
    "    # expectation (mean) veiled - mean direct\n",
    "    combined[col_name] = combined.loc[combined['is_direct'] == 0, question].mean() - combined.loc[combined['is_direct'] == 1, question].mean()\n",
    "    # store column mapping {question_col: question_SDB_col}\n",
    "    SDB_columns[question] = col_name\n",
    "combined\n"
   ]
  },
  {
   "cell_type": "code",
   "execution_count": 149,
   "metadata": {},
   "outputs": [],
   "source": [
    "combined.to_csv('data/preprocessed_data.csv', index=False)"
   ]
  },
  {
   "cell_type": "markdown",
   "metadata": {},
   "source": [
    "Run the regressions"
   ]
  },
  {
   "cell_type": "code",
   "execution_count": 150,
   "metadata": {},
   "outputs": [],
   "source": [
    "ind_vars = ['age', 'gender_identity',\n",
    "       'schooling', 'political_alignment', 'has_conformity_trigger']"
   ]
  },
  {
   "cell_type": "code",
   "execution_count": 151,
   "metadata": {},
   "outputs": [
    {
     "name": "stdout",
     "output_type": "stream",
     "text": [
      "male_lecturers\n",
      "                            OLS Regression Results                            \n",
      "==============================================================================\n",
      "Dep. Variable:         male_lecturers   R-squared:                       0.121\n",
      "Model:                            OLS   Adj. R-squared:                  0.066\n",
      "Method:                 Least Squares   F-statistic:                     2.183\n",
      "Date:                Thu, 28 Mar 2024   Prob (F-statistic):             0.0513\n",
      "Time:                        20:16:37   Log-Likelihood:                -117.53\n",
      "No. Observations:                 102   AIC:                             249.1\n",
      "Df Residuals:                      95   BIC:                             267.4\n",
      "Df Model:                           6                                         \n",
      "Covariance Type:            nonrobust                                         \n",
      "==========================================================================================\n",
      "                             coef    std err          t      P>|t|      [0.025      0.975]\n",
      "------------------------------------------------------------------------------------------\n",
      "const                      3.1487      0.452      6.968      0.000       2.252       4.046\n",
      "age                       -0.2225      0.133     -1.678      0.097      -0.486       0.041\n",
      "gender_identity           -0.2363      0.173     -1.369      0.174      -0.579       0.106\n",
      "schooling                  0.0492      0.075      0.655      0.514      -0.100       0.198\n",
      "political_alignment        0.0084      0.004      2.207      0.030       0.001       0.016\n",
      "has_conformity_trigger    -0.2240      0.159     -1.406      0.163      -0.540       0.092\n",
      "SDB                       -1.8098      3.477     -0.520      0.604      -8.713       5.093\n",
      "==============================================================================\n",
      "Omnibus:                       13.477   Durbin-Watson:                   1.819\n",
      "Prob(Omnibus):                  0.001   Jarque-Bera (JB):               19.734\n",
      "Skew:                           0.612   Prob(JB):                     5.18e-05\n",
      "Kurtosis:                       4.774   Cond. No.                     1.14e+03\n",
      "==============================================================================\n",
      "\n",
      "Notes:\n",
      "[1] Standard Errors assume that the covariance matrix of the errors is correctly specified.\n",
      "[2] The condition number is large, 1.14e+03. This might indicate that there are\n",
      "strong multicollinearity or other numerical problems.\n",
      "university_gender_quota\n",
      "                               OLS Regression Results                              \n",
      "===================================================================================\n",
      "Dep. Variable:     university_gender_quota   R-squared:                       0.182\n",
      "Model:                                 OLS   Adj. R-squared:                  0.131\n",
      "Method:                      Least Squares   F-statistic:                     3.533\n",
      "Date:                     Thu, 28 Mar 2024   Prob (F-statistic):            0.00336\n",
      "Time:                             20:16:37   Log-Likelihood:                -105.94\n",
      "No. Observations:                      102   AIC:                             225.9\n",
      "Df Residuals:                           95   BIC:                             244.3\n",
      "Df Model:                                6                                         \n",
      "Covariance Type:                 nonrobust                                         \n",
      "==========================================================================================\n",
      "                             coef    std err          t      P>|t|      [0.025      0.975]\n",
      "------------------------------------------------------------------------------------------\n",
      "const                      2.9076      0.403      7.208      0.000       2.107       3.708\n",
      "age                       -0.2497      0.118     -2.110      0.038      -0.485      -0.015\n",
      "gender_identity           -0.0407      0.154     -0.264      0.792      -0.347       0.265\n",
      "schooling                 -0.0409      0.067     -0.610      0.543      -0.174       0.092\n",
      "political_alignment        0.0067      0.003      1.975      0.051   -3.44e-05       0.013\n",
      "has_conformity_trigger    -0.0057      0.142     -0.040      0.968      -0.288       0.277\n",
      "SDB                       -1.1867      0.317     -3.748      0.000      -1.815      -0.558\n",
      "==============================================================================\n",
      "Omnibus:                        3.585   Durbin-Watson:                   1.955\n",
      "Prob(Omnibus):                  0.167   Jarque-Bera (JB):                3.035\n",
      "Skew:                          -0.294   Prob(JB):                        0.219\n",
      "Kurtosis:                       3.606   Cond. No.                         159.\n",
      "==============================================================================\n",
      "\n",
      "Notes:\n",
      "[1] Standard Errors assume that the covariance matrix of the errors is correctly specified.\n",
      "workload_stress\n",
      "                            OLS Regression Results                            \n",
      "==============================================================================\n",
      "Dep. Variable:        workload_stress   R-squared:                       0.058\n",
      "Model:                            OLS   Adj. R-squared:                 -0.001\n",
      "Method:                 Least Squares   F-statistic:                    0.9809\n",
      "Date:                Thu, 28 Mar 2024   Prob (F-statistic):              0.443\n",
      "Time:                        20:16:37   Log-Likelihood:                -117.56\n",
      "No. Observations:                 102   AIC:                             249.1\n",
      "Df Residuals:                      95   BIC:                             267.5\n",
      "Df Model:                           6                                         \n",
      "Covariance Type:            nonrobust                                         \n",
      "==========================================================================================\n",
      "                             coef    std err          t      P>|t|      [0.025      0.975]\n",
      "------------------------------------------------------------------------------------------\n",
      "const                      3.0509      0.452      6.749      0.000       2.153       3.948\n",
      "age                       -0.0303      0.133     -0.228      0.820      -0.294       0.233\n",
      "gender_identity            0.0037      0.173      0.022      0.983      -0.339       0.346\n",
      "schooling                 -0.1157      0.075     -1.540      0.127      -0.265       0.033\n",
      "political_alignment        0.0023      0.004      0.597      0.552      -0.005       0.010\n",
      "has_conformity_trigger     0.0878      0.159      0.551      0.583      -0.229       0.404\n",
      "SDB                       -0.6854      0.710     -0.966      0.337      -2.094       0.723\n",
      "==============================================================================\n",
      "Omnibus:                        5.719   Durbin-Watson:                   2.146\n",
      "Prob(Omnibus):                  0.057   Jarque-Bera (JB):                5.165\n",
      "Skew:                          -0.454   Prob(JB):                       0.0756\n",
      "Kurtosis:                       3.626   Cond. No.                         238.\n",
      "==============================================================================\n",
      "\n",
      "Notes:\n",
      "[1] Standard Errors assume that the covariance matrix of the errors is correctly specified.\n",
      "dei_policies\n",
      "                            OLS Regression Results                            \n",
      "==============================================================================\n",
      "Dep. Variable:           dei_policies   R-squared:                       0.072\n",
      "Model:                            OLS   Adj. R-squared:                  0.014\n",
      "Method:                 Least Squares   F-statistic:                     1.233\n",
      "Date:                Thu, 28 Mar 2024   Prob (F-statistic):              0.296\n",
      "Time:                        20:16:37   Log-Likelihood:                -125.33\n",
      "No. Observations:                 102   AIC:                             264.7\n",
      "Df Residuals:                      95   BIC:                             283.0\n",
      "Df Model:                           6                                         \n",
      "Covariance Type:            nonrobust                                         \n",
      "==========================================================================================\n",
      "                             coef    std err          t      P>|t|      [0.025      0.975]\n",
      "------------------------------------------------------------------------------------------\n",
      "const                      2.1709      0.488      4.450      0.000       1.203       3.139\n",
      "age                       -0.0417      0.143     -0.291      0.771      -0.326       0.242\n",
      "gender_identity            0.0936      0.186      0.503      0.616      -0.276       0.464\n",
      "schooling                  0.0997      0.081      1.229      0.222      -0.061       0.261\n",
      "political_alignment       -0.0032      0.004     -0.770      0.443      -0.011       0.005\n",
      "has_conformity_trigger    -0.3356      0.172     -1.952      0.054      -0.677       0.006\n",
      "SDB                       -0.3657      2.313     -0.158      0.875      -4.957       4.226\n",
      "==============================================================================\n",
      "Omnibus:                        3.327   Durbin-Watson:                   1.882\n",
      "Prob(Omnibus):                  0.189   Jarque-Bera (JB):                3.479\n",
      "Skew:                          -0.088   Prob(JB):                        0.176\n",
      "Kurtosis:                       3.887   Cond. No.                         703.\n",
      "==============================================================================\n",
      "\n",
      "Notes:\n",
      "[1] Standard Errors assume that the covariance matrix of the errors is correctly specified.\n",
      "netflix\n",
      "                            OLS Regression Results                            \n",
      "==============================================================================\n",
      "Dep. Variable:                netflix   R-squared:                       0.081\n",
      "Model:                            OLS   Adj. R-squared:                  0.022\n",
      "Method:                 Least Squares   F-statistic:                     1.387\n",
      "Date:                Thu, 28 Mar 2024   Prob (F-statistic):              0.228\n",
      "Time:                        20:16:37   Log-Likelihood:                -109.11\n",
      "No. Observations:                 102   AIC:                             232.2\n",
      "Df Residuals:                      95   BIC:                             250.6\n",
      "Df Model:                           6                                         \n",
      "Covariance Type:            nonrobust                                         \n",
      "==========================================================================================\n",
      "                             coef    std err          t      P>|t|      [0.025      0.975]\n",
      "------------------------------------------------------------------------------------------\n",
      "const                      1.8565      0.416      4.461      0.000       1.030       2.683\n",
      "age                        0.1894      0.122      1.551      0.124      -0.053       0.432\n",
      "gender_identity            0.2955      0.159      1.859      0.066      -0.020       0.611\n",
      "schooling                  0.0018      0.069      0.026      0.979      -0.136       0.139\n",
      "political_alignment        0.0061      0.003      1.732      0.086      -0.001       0.013\n",
      "has_conformity_trigger     0.0041      0.147      0.028      0.978      -0.287       0.295\n",
      "SDB                       -0.5666      2.959     -0.191      0.849      -6.442       5.308\n",
      "==============================================================================\n",
      "Omnibus:                        3.198   Durbin-Watson:                   1.741\n",
      "Prob(Omnibus):                  0.202   Jarque-Bera (JB):                2.972\n",
      "Skew:                          -0.418   Prob(JB):                        0.226\n",
      "Kurtosis:                       2.965   Cond. No.                     1.05e+03\n",
      "==============================================================================\n",
      "\n",
      "Notes:\n",
      "[1] Standard Errors assume that the covariance matrix of the errors is correctly specified.\n",
      "[2] The condition number is large, 1.05e+03. This might indicate that there are\n",
      "strong multicollinearity or other numerical problems.\n"
     ]
    }
   ],
   "source": [
    "# run OLS regression\n",
    "import statsmodels.api as sm\n",
    "\n",
    "for column in questions:\n",
    "    print(column)\n",
    "    \n",
    "    X = combined[ind_vars]\n",
    "    X = sm.add_constant(X)\n",
    "    X['SDB'] = combined[SDB_columns[column]] * combined['is_direct']\n",
    "    y = combined[column]\n",
    "    model = sm.OLS(y, X).fit()\n",
    "    print(model.summary())\n",
    "    # print summaries into excel like format \n",
    "    with open('model_summaries.txt', 'a') as f:\n",
    "        f.write(model.summary().as_text())\n",
    "\n",
    "    # # print model summary to latex\n",
    "    # with open('model_summaries.txt', 'a') as f:\n",
    "    #     f.write(model.summary().as_latex())\n"
   ]
  },
  {
   "cell_type": "code",
   "execution_count": 152,
   "metadata": {},
   "outputs": [
    {
     "name": "stdout",
     "output_type": "stream",
     "text": [
      "male_lecturers\n",
      "                            OLS Regression Results                            \n",
      "==============================================================================\n",
      "Dep. Variable:         male_lecturers   R-squared:                       0.080\n",
      "Model:                            OLS   Adj. R-squared:                 -0.020\n",
      "Method:                 Least Squares   F-statistic:                    0.8044\n",
      "Date:                Thu, 28 Mar 2024   Prob (F-statistic):              0.552\n",
      "Time:                        20:16:37   Log-Likelihood:                -54.859\n",
      "No. Observations:                  52   AIC:                             121.7\n",
      "Df Residuals:                      46   BIC:                             133.4\n",
      "Df Model:                           5                                         \n",
      "Covariance Type:            nonrobust                                         \n",
      "==========================================================================================\n",
      "                             coef    std err          t      P>|t|      [0.025      0.975]\n",
      "------------------------------------------------------------------------------------------\n",
      "age                       -0.2654      0.149     -1.787      0.081      -0.564       0.034\n",
      "gender_identity           -0.0022      0.224     -0.010      0.992      -0.454       0.449\n",
      "schooling                  0.0271      0.090      0.301      0.765      -0.154       0.208\n",
      "political_alignment        0.0046      0.005      0.973      0.336      -0.005       0.014\n",
      "has_conformity_trigger     2.6880      0.524      5.128      0.000       1.633       3.743\n",
      "SDB                        1.0543      4.410      0.239      0.812      -7.823       9.932\n",
      "==============================================================================\n",
      "Omnibus:                        2.560   Durbin-Watson:                   2.043\n",
      "Prob(Omnibus):                  0.278   Jarque-Bera (JB):                1.864\n",
      "Skew:                           0.093   Prob(JB):                        0.394\n",
      "Kurtosis:                       3.909   Cond. No.                     1.10e+03\n",
      "==============================================================================\n",
      "\n",
      "Notes:\n",
      "[1] Standard Errors assume that the covariance matrix of the errors is correctly specified.\n",
      "[2] The condition number is large, 1.1e+03. This might indicate that there are\n",
      "strong multicollinearity or other numerical problems.\n",
      "male_lecturers\n",
      "                            OLS Regression Results                            \n",
      "==============================================================================\n",
      "Dep. Variable:         male_lecturers   R-squared:                       0.239\n",
      "Model:                            OLS   Adj. R-squared:                  0.153\n",
      "Method:                 Least Squares   F-statistic:                     2.767\n",
      "Date:                Thu, 28 Mar 2024   Prob (F-statistic):             0.0294\n",
      "Time:                        20:16:37   Log-Likelihood:                -58.583\n",
      "No. Observations:                  50   AIC:                             129.2\n",
      "Df Residuals:                      44   BIC:                             140.6\n",
      "Df Model:                           5                                         \n",
      "Covariance Type:            nonrobust                                         \n",
      "==========================================================================================\n",
      "                             coef    std err          t      P>|t|      [0.025      0.975]\n",
      "------------------------------------------------------------------------------------------\n",
      "const                      3.3463      0.781      4.284      0.000       1.772       4.920\n",
      "age                       -0.0257      0.256     -0.100      0.920      -0.541       0.490\n",
      "gender_identity           -0.4388      0.260     -1.684      0.099      -0.964       0.086\n",
      "schooling                 -0.0051      0.133     -0.038      0.970      -0.273       0.263\n",
      "political_alignment        0.0135      0.006      2.207      0.033       0.001       0.026\n",
      "has_conformity_trigger          0          0        nan        nan           0           0\n",
      "SDB                       -5.0404      5.653     -0.892      0.377     -16.433       6.353\n",
      "==============================================================================\n",
      "Omnibus:                       10.461   Durbin-Watson:                   2.004\n",
      "Prob(Omnibus):                  0.005   Jarque-Bera (JB):               10.841\n",
      "Skew:                           0.848   Prob(JB):                      0.00443\n",
      "Kurtosis:                       4.525   Cond. No.                          inf\n",
      "==============================================================================\n",
      "\n",
      "Notes:\n",
      "[1] Standard Errors assume that the covariance matrix of the errors is correctly specified.\n",
      "[2] The smallest eigenvalue is      0. This might indicate that there are\n",
      "strong multicollinearity problems or that the design matrix is singular.\n",
      "university_gender_quota\n",
      "                               OLS Regression Results                              \n",
      "===================================================================================\n",
      "Dep. Variable:     university_gender_quota   R-squared:                       0.208\n",
      "Model:                                 OLS   Adj. R-squared:                  0.122\n",
      "Method:                      Least Squares   F-statistic:                     2.421\n",
      "Date:                     Thu, 28 Mar 2024   Prob (F-statistic):             0.0497\n",
      "Time:                             20:16:37   Log-Likelihood:                -49.920\n",
      "No. Observations:                       52   AIC:                             111.8\n",
      "Df Residuals:                           46   BIC:                             123.5\n",
      "Df Model:                                5                                         \n",
      "Covariance Type:                 nonrobust                                         \n",
      "==========================================================================================\n",
      "                             coef    std err          t      P>|t|      [0.025      0.975]\n",
      "------------------------------------------------------------------------------------------\n",
      "age                       -0.1862      0.135     -1.378      0.175      -0.458       0.086\n",
      "gender_identity            0.1973      0.204      0.967      0.338      -0.213       0.608\n",
      "schooling                  0.0023      0.082      0.028      0.978      -0.162       0.167\n",
      "political_alignment        0.0091      0.004      2.101      0.041       0.000       0.018\n",
      "has_conformity_trigger     2.2483      0.477      4.716      0.000       1.289       3.208\n",
      "SDB                       -1.1264      0.409     -2.753      0.008      -1.950      -0.303\n",
      "==============================================================================\n",
      "Omnibus:                        0.993   Durbin-Watson:                   1.981\n",
      "Prob(Omnibus):                  0.609   Jarque-Bera (JB):                0.487\n",
      "Skew:                          -0.219   Prob(JB):                        0.784\n",
      "Kurtosis:                       3.179   Cond. No.                         140.\n",
      "==============================================================================\n",
      "\n",
      "Notes:\n",
      "[1] Standard Errors assume that the covariance matrix of the errors is correctly specified.\n",
      "university_gender_quota\n",
      "                               OLS Regression Results                              \n",
      "===================================================================================\n",
      "Dep. Variable:     university_gender_quota   R-squared:                       0.239\n",
      "Model:                                 OLS   Adj. R-squared:                  0.153\n",
      "Method:                      Least Squares   F-statistic:                     2.766\n",
      "Date:                     Thu, 28 Mar 2024   Prob (F-statistic):             0.0294\n",
      "Time:                             20:16:37   Log-Likelihood:                -53.019\n",
      "No. Observations:                       50   AIC:                             118.0\n",
      "Df Residuals:                           44   BIC:                             129.5\n",
      "Df Model:                                5                                         \n",
      "Covariance Type:                 nonrobust                                         \n",
      "==========================================================================================\n",
      "                             coef    std err          t      P>|t|      [0.025      0.975]\n",
      "------------------------------------------------------------------------------------------\n",
      "const                      3.9618      0.699      5.669      0.000       2.553       5.370\n",
      "age                       -0.4203      0.229     -1.837      0.073      -0.881       0.041\n",
      "gender_identity           -0.2936      0.233     -1.260      0.214      -0.763       0.176\n",
      "schooling                 -0.1040      0.119     -0.874      0.387      -0.344       0.136\n",
      "political_alignment        0.0044      0.005      0.812      0.421      -0.007       0.015\n",
      "has_conformity_trigger          0          0        nan        nan           0           0\n",
      "SDB                       -1.4083      0.516     -2.730      0.009      -2.448      -0.369\n",
      "==============================================================================\n",
      "Omnibus:                        5.580   Durbin-Watson:                   1.931\n",
      "Prob(Omnibus):                  0.061   Jarque-Bera (JB):                4.987\n",
      "Skew:                          -0.477   Prob(JB):                       0.0826\n",
      "Kurtosis:                       4.218   Cond. No.                          inf\n",
      "==============================================================================\n",
      "\n",
      "Notes:\n",
      "[1] Standard Errors assume that the covariance matrix of the errors is correctly specified.\n",
      "[2] The smallest eigenvalue is      0. This might indicate that there are\n",
      "strong multicollinearity problems or that the design matrix is singular.\n",
      "workload_stress\n",
      "                            OLS Regression Results                            \n",
      "==============================================================================\n",
      "Dep. Variable:        workload_stress   R-squared:                       0.034\n",
      "Model:                            OLS   Adj. R-squared:                 -0.071\n",
      "Method:                 Least Squares   F-statistic:                    0.3240\n",
      "Date:                Thu, 28 Mar 2024   Prob (F-statistic):              0.896\n",
      "Time:                        20:16:37   Log-Likelihood:                -59.805\n",
      "No. Observations:                  52   AIC:                             131.6\n",
      "Df Residuals:                      46   BIC:                             143.3\n",
      "Df Model:                           5                                         \n",
      "Covariance Type:            nonrobust                                         \n",
      "==========================================================================================\n",
      "                             coef    std err          t      P>|t|      [0.025      0.975]\n",
      "------------------------------------------------------------------------------------------\n",
      "age                        0.0791      0.163      0.484      0.631      -0.250       0.408\n",
      "gender_identity           -0.2213      0.247     -0.897      0.374      -0.718       0.275\n",
      "schooling                 -0.0441      0.099     -0.445      0.658      -0.243       0.155\n",
      "political_alignment        0.0009      0.005      0.170      0.866      -0.010       0.011\n",
      "has_conformity_trigger     2.9490      0.577      5.115      0.000       1.789       4.109\n",
      "SDB                       -0.1701      0.990     -0.172      0.864      -2.162       1.822\n",
      "==============================================================================\n",
      "Omnibus:                        2.041   Durbin-Watson:                   2.050\n",
      "Prob(Omnibus):                  0.360   Jarque-Bera (JB):                1.212\n",
      "Skew:                          -0.314   Prob(JB):                        0.545\n",
      "Kurtosis:                       3.406   Cond. No.                         226.\n",
      "==============================================================================\n",
      "\n",
      "Notes:\n",
      "[1] Standard Errors assume that the covariance matrix of the errors is correctly specified.\n",
      "workload_stress\n",
      "                            OLS Regression Results                            \n",
      "==============================================================================\n",
      "Dep. Variable:        workload_stress   R-squared:                       0.223\n",
      "Model:                            OLS   Adj. R-squared:                  0.135\n",
      "Method:                 Least Squares   F-statistic:                     2.531\n",
      "Date:                Thu, 28 Mar 2024   Prob (F-statistic):             0.0425\n",
      "Time:                        20:16:37   Log-Likelihood:                -53.471\n",
      "No. Observations:                  50   AIC:                             118.9\n",
      "Df Residuals:                      44   BIC:                             130.4\n",
      "Df Model:                           5                                         \n",
      "Covariance Type:            nonrobust                                         \n",
      "==========================================================================================\n",
      "                             coef    std err          t      P>|t|      [0.025      0.975]\n",
      "------------------------------------------------------------------------------------------\n",
      "const                      3.7128      0.705      5.265      0.000       2.292       5.134\n",
      "age                       -0.3234      0.231     -1.401      0.168      -0.789       0.142\n",
      "gender_identity            0.2318      0.235      0.986      0.330      -0.242       0.706\n",
      "schooling                 -0.1880      0.120     -1.566      0.124      -0.430       0.054\n",
      "political_alignment        0.0051      0.006      0.921      0.362      -0.006       0.016\n",
      "has_conformity_trigger          0          0        nan        nan           0           0\n",
      "SDB                       -0.6479      1.041     -0.622      0.537      -2.746       1.451\n",
      "==============================================================================\n",
      "Omnibus:                        2.613   Durbin-Watson:                   1.604\n",
      "Prob(Omnibus):                  0.271   Jarque-Bera (JB):                1.741\n",
      "Skew:                          -0.221   Prob(JB):                        0.419\n",
      "Kurtosis:                       3.800   Cond. No.                          inf\n",
      "==============================================================================\n",
      "\n",
      "Notes:\n",
      "[1] Standard Errors assume that the covariance matrix of the errors is correctly specified.\n",
      "[2] The smallest eigenvalue is      0. This might indicate that there are\n",
      "strong multicollinearity problems or that the design matrix is singular.\n",
      "dei_policies\n",
      "                            OLS Regression Results                            \n",
      "==============================================================================\n",
      "Dep. Variable:           dei_policies   R-squared:                       0.056\n",
      "Model:                            OLS   Adj. R-squared:                 -0.046\n",
      "Method:                 Least Squares   F-statistic:                    0.5485\n",
      "Date:                Thu, 28 Mar 2024   Prob (F-statistic):              0.739\n",
      "Time:                        20:16:37   Log-Likelihood:                -59.843\n",
      "No. Observations:                  52   AIC:                             131.7\n",
      "Df Residuals:                      46   BIC:                             143.4\n",
      "Df Model:                           5                                         \n",
      "Covariance Type:            nonrobust                                         \n",
      "==========================================================================================\n",
      "                             coef    std err          t      P>|t|      [0.025      0.975]\n",
      "------------------------------------------------------------------------------------------\n",
      "age                        0.0877      0.164      0.536      0.594      -0.241       0.417\n",
      "gender_identity           -0.1416      0.247     -0.573      0.569      -0.639       0.355\n",
      "schooling                  0.0660      0.099      0.666      0.509      -0.133       0.265\n",
      "political_alignment       -0.0054      0.005     -1.035      0.306      -0.016       0.005\n",
      "has_conformity_trigger     1.8435      0.577      3.195      0.003       0.682       3.005\n",
      "SDB                        2.5998      2.991      0.869      0.389      -3.420       8.620\n",
      "==============================================================================\n",
      "Omnibus:                        1.251   Durbin-Watson:                   2.184\n",
      "Prob(Omnibus):                  0.535   Jarque-Bera (JB):                0.785\n",
      "Skew:                          -0.297   Prob(JB):                        0.675\n",
      "Kurtosis:                       3.102   Cond. No.                         676.\n",
      "==============================================================================\n",
      "\n",
      "Notes:\n",
      "[1] Standard Errors assume that the covariance matrix of the errors is correctly specified.\n",
      "dei_policies\n",
      "                            OLS Regression Results                            \n",
      "==============================================================================\n",
      "Dep. Variable:           dei_policies   R-squared:                       0.116\n",
      "Model:                            OLS   Adj. R-squared:                  0.016\n",
      "Method:                 Least Squares   F-statistic:                     1.156\n",
      "Date:                Thu, 28 Mar 2024   Prob (F-statistic):              0.346\n",
      "Time:                        20:16:37   Log-Likelihood:                -62.145\n",
      "No. Observations:                  50   AIC:                             136.3\n",
      "Df Residuals:                      44   BIC:                             147.8\n",
      "Df Model:                           5                                         \n",
      "Covariance Type:            nonrobust                                         \n",
      "==========================================================================================\n",
      "                             coef    std err          t      P>|t|      [0.025      0.975]\n",
      "------------------------------------------------------------------------------------------\n",
      "const                      2.6164      0.839      3.119      0.003       0.926       4.307\n",
      "age                       -0.3669      0.275     -1.337      0.188      -0.920       0.186\n",
      "gender_identity            0.3535      0.280      1.264      0.213      -0.210       0.917\n",
      "schooling                  0.1326      0.143      0.929      0.358      -0.155       0.420\n",
      "political_alignment       -0.0003      0.007     -0.038      0.970      -0.013       0.013\n",
      "has_conformity_trigger          0          0        nan        nan           0           0\n",
      "SDB                       -4.2837      3.740     -1.145      0.258     -11.822       3.255\n",
      "==============================================================================\n",
      "Omnibus:                        7.178   Durbin-Watson:                   1.906\n",
      "Prob(Omnibus):                  0.028   Jarque-Bera (JB):                6.927\n",
      "Skew:                           0.593   Prob(JB):                       0.0313\n",
      "Kurtosis:                       4.385   Cond. No.                          inf\n",
      "==============================================================================\n",
      "\n",
      "Notes:\n",
      "[1] Standard Errors assume that the covariance matrix of the errors is correctly specified.\n",
      "[2] The smallest eigenvalue is      0. This might indicate that there are\n",
      "strong multicollinearity problems or that the design matrix is singular.\n",
      "netflix\n",
      "                            OLS Regression Results                            \n",
      "==============================================================================\n",
      "Dep. Variable:                netflix   R-squared:                       0.051\n",
      "Model:                            OLS   Adj. R-squared:                 -0.052\n",
      "Method:                 Least Squares   F-statistic:                    0.4944\n",
      "Date:                Thu, 28 Mar 2024   Prob (F-statistic):              0.779\n",
      "Time:                        20:16:37   Log-Likelihood:                -53.040\n",
      "No. Observations:                  52   AIC:                             118.1\n",
      "Df Residuals:                      46   BIC:                             129.8\n",
      "Df Model:                           5                                         \n",
      "Covariance Type:            nonrobust                                         \n",
      "==========================================================================================\n",
      "                             coef    std err          t      P>|t|      [0.025      0.975]\n",
      "------------------------------------------------------------------------------------------\n",
      "age                        0.0733      0.143      0.511      0.612      -0.215       0.362\n",
      "gender_identity            0.0873      0.217      0.403      0.689      -0.349       0.523\n",
      "schooling                  0.0681      0.087      0.784      0.437      -0.107       0.243\n",
      "political_alignment        0.0042      0.005      0.913      0.366      -0.005       0.013\n",
      "has_conformity_trigger     2.2020      0.506      4.350      0.000       1.183       3.221\n",
      "SDB                        0.9452      3.936      0.240      0.811      -6.978       8.868\n",
      "==============================================================================\n",
      "Omnibus:                        3.941   Durbin-Watson:                   2.100\n",
      "Prob(Omnibus):                  0.139   Jarque-Bera (JB):                3.205\n",
      "Skew:                          -0.602   Prob(JB):                        0.201\n",
      "Kurtosis:                       3.166   Cond. No.                     1.01e+03\n",
      "==============================================================================\n",
      "\n",
      "Notes:\n",
      "[1] Standard Errors assume that the covariance matrix of the errors is correctly specified.\n",
      "[2] The condition number is large, 1.01e+03. This might indicate that there are\n",
      "strong multicollinearity or other numerical problems.\n",
      "netflix\n",
      "                            OLS Regression Results                            \n",
      "==============================================================================\n",
      "Dep. Variable:                netflix   R-squared:                       0.191\n",
      "Model:                            OLS   Adj. R-squared:                  0.099\n",
      "Method:                 Least Squares   F-statistic:                     2.080\n",
      "Date:                Thu, 28 Mar 2024   Prob (F-statistic):             0.0859\n",
      "Time:                        20:16:37   Log-Likelihood:                -53.285\n",
      "No. Observations:                  50   AIC:                             118.6\n",
      "Df Residuals:                      44   BIC:                             130.0\n",
      "Df Model:                           5                                         \n",
      "Covariance Type:            nonrobust                                         \n",
      "==========================================================================================\n",
      "                             coef    std err          t      P>|t|      [0.025      0.975]\n",
      "------------------------------------------------------------------------------------------\n",
      "const                      1.3192      0.703      1.878      0.067      -0.097       2.735\n",
      "age                        0.4666      0.230      2.029      0.049       0.003       0.930\n",
      "gender_identity            0.5215      0.234      2.226      0.031       0.049       0.994\n",
      "schooling                 -0.1135      0.120     -0.949      0.348      -0.355       0.128\n",
      "political_alignment        0.0098      0.006      1.786      0.081      -0.001       0.021\n",
      "has_conformity_trigger          0          0        nan        nan           0           0\n",
      "SDB                       -1.1374      4.699     -0.242      0.810     -10.609       8.334\n",
      "==============================================================================\n",
      "Omnibus:                        0.826   Durbin-Watson:                   2.315\n",
      "Prob(Omnibus):                  0.662   Jarque-Bera (JB):                0.917\n",
      "Skew:                          -0.246   Prob(JB):                        0.632\n",
      "Kurtosis:                       2.556   Cond. No.                          inf\n",
      "==============================================================================\n",
      "\n",
      "Notes:\n",
      "[1] Standard Errors assume that the covariance matrix of the errors is correctly specified.\n",
      "[2] The smallest eigenvalue is      0. This might indicate that there are\n",
      "strong multicollinearity problems or that the design matrix is singular.\n"
     ]
    },
    {
     "name": "stderr",
     "output_type": "stream",
     "text": [
      "/Users/andrewbennett/Library/Python/3.9/lib/python/site-packages/statsmodels/regression/linear_model.py:1966: RuntimeWarning:\n",
      "\n",
      "divide by zero encountered in scalar divide\n",
      "\n",
      "/Users/andrewbennett/Library/Python/3.9/lib/python/site-packages/statsmodels/regression/linear_model.py:1966: RuntimeWarning:\n",
      "\n",
      "divide by zero encountered in scalar divide\n",
      "\n",
      "/Users/andrewbennett/Library/Python/3.9/lib/python/site-packages/statsmodels/regression/linear_model.py:1966: RuntimeWarning:\n",
      "\n",
      "divide by zero encountered in scalar divide\n",
      "\n",
      "/Users/andrewbennett/Library/Python/3.9/lib/python/site-packages/statsmodels/regression/linear_model.py:1966: RuntimeWarning:\n",
      "\n",
      "divide by zero encountered in scalar divide\n",
      "\n",
      "/Users/andrewbennett/Library/Python/3.9/lib/python/site-packages/statsmodels/regression/linear_model.py:1966: RuntimeWarning:\n",
      "\n",
      "divide by zero encountered in scalar divide\n",
      "\n"
     ]
    }
   ],
   "source": [
    "# run OLS regression\n",
    "import statsmodels.api as sm\n",
    "\n",
    "for column in questions:\n",
    "    print(column)\n",
    "    combined_conformity = combined.loc[combined.has_conformity_trigger == 1]\n",
    "    X = combined_conformity[ind_vars]\n",
    "    X = sm.add_constant(X)\n",
    "    X['SDB'] = combined_conformity[SDB_columns[column]] * combined_conformity['is_direct']\n",
    "    y = combined_conformity[column]\n",
    "    model = sm.OLS(y, X).fit()\n",
    "    print(model.summary())\n",
    "    # print summaries into excel like format \n",
    "    with open('model_summaries_2.txt', 'a') as f:\n",
    "        f.write(model.summary().as_text())\n",
    "\n",
    "    print(column)\n",
    "    combined_conformity = combined.loc[combined.has_conformity_trigger == 0]\n",
    "    X = combined_conformity[ind_vars]\n",
    "    X = sm.add_constant(X)\n",
    "    X['SDB'] = combined_conformity[SDB_columns[column]] * combined_conformity['is_direct']\n",
    "    y = combined_conformity[column]\n",
    "    model = sm.OLS(y, X).fit()\n",
    "    print(model.summary())\n",
    "    # print summaries into excel like format \n",
    "    with open('model_summaries_2.txt', 'a') as f:\n",
    "        f.write(model.summary().as_text())\n",
    "\n",
    "    # # print model summary to latex\n",
    "    # with open('model_summaries.txt', 'a') as f:\n",
    "    #     f.write(model.summary().as_latex())\n"
   ]
  },
  {
   "cell_type": "code",
   "execution_count": 153,
   "metadata": {},
   "outputs": [
    {
     "data": {
      "application/vnd.plotly.v1+json": {
       "config": {
        "plotlyServerURL": "https://plot.ly"
       },
       "data": [
        {
         "domain": {
          "x": [
           0,
           1
          ],
          "y": [
           0,
           1
          ]
         },
         "hovertemplate": "gender_identity=%{label}<extra></extra>",
         "labels": [
          "Male",
          "Female",
          "Female",
          "Male",
          "Female",
          "Female",
          "Female",
          "Female",
          "Male",
          "Female",
          "Female",
          "Male",
          "Male",
          "Female",
          "Male",
          "Male",
          "Female",
          "Female",
          "Male",
          "Male",
          "Female",
          "Male",
          "Male",
          "Male",
          "Male",
          "Male",
          "Female",
          "Female",
          "Female",
          "Female",
          "Male",
          "Male",
          "Male",
          "Male",
          "Female",
          "Male",
          "Female",
          "Male",
          "Female",
          "Male",
          "Female",
          "Male",
          "Male",
          "Male",
          "Male",
          "Female",
          "Male",
          "Female",
          "Male",
          "Male",
          "Female",
          "Male",
          "Female",
          "Male",
          "Male",
          "Female",
          "Male",
          "Female",
          "Female",
          "Female",
          "Female",
          "Female",
          "Male",
          "Male",
          "Female",
          "Male",
          "Female",
          "Male",
          "Female",
          "Female",
          "Female",
          "Female",
          "Female",
          "Male",
          "Female",
          "Male",
          "Male",
          "Female",
          "Male",
          "Female",
          "Female",
          "Female",
          "Female",
          "Male",
          "Male",
          "Male",
          "Female",
          "Male",
          "Female",
          "Male",
          "Male",
          "Male",
          "Male",
          "Female",
          "Male",
          "Male",
          "Male",
          "Male",
          "Male",
          "Female",
          "Female",
          "Male"
         ],
         "legendgroup": "",
         "name": "",
         "showlegend": true,
         "type": "pie"
        }
       ],
       "layout": {
        "legend": {
         "tracegroupgap": 0
        },
        "piecolorway": [
         "#0097a7",
         "#c19965"
        ],
        "template": {
         "data": {
          "bar": [
           {
            "error_x": {
             "color": "#2a3f5f"
            },
            "error_y": {
             "color": "#2a3f5f"
            },
            "marker": {
             "line": {
              "color": "#E5ECF6",
              "width": 0.5
             },
             "pattern": {
              "fillmode": "overlay",
              "size": 10,
              "solidity": 0.2
             }
            },
            "type": "bar"
           }
          ],
          "barpolar": [
           {
            "marker": {
             "line": {
              "color": "#E5ECF6",
              "width": 0.5
             },
             "pattern": {
              "fillmode": "overlay",
              "size": 10,
              "solidity": 0.2
             }
            },
            "type": "barpolar"
           }
          ],
          "carpet": [
           {
            "aaxis": {
             "endlinecolor": "#2a3f5f",
             "gridcolor": "white",
             "linecolor": "white",
             "minorgridcolor": "white",
             "startlinecolor": "#2a3f5f"
            },
            "baxis": {
             "endlinecolor": "#2a3f5f",
             "gridcolor": "white",
             "linecolor": "white",
             "minorgridcolor": "white",
             "startlinecolor": "#2a3f5f"
            },
            "type": "carpet"
           }
          ],
          "choropleth": [
           {
            "colorbar": {
             "outlinewidth": 0,
             "ticks": ""
            },
            "type": "choropleth"
           }
          ],
          "contour": [
           {
            "colorbar": {
             "outlinewidth": 0,
             "ticks": ""
            },
            "colorscale": [
             [
              0,
              "#0d0887"
             ],
             [
              0.1111111111111111,
              "#46039f"
             ],
             [
              0.2222222222222222,
              "#7201a8"
             ],
             [
              0.3333333333333333,
              "#9c179e"
             ],
             [
              0.4444444444444444,
              "#bd3786"
             ],
             [
              0.5555555555555556,
              "#d8576b"
             ],
             [
              0.6666666666666666,
              "#ed7953"
             ],
             [
              0.7777777777777778,
              "#fb9f3a"
             ],
             [
              0.8888888888888888,
              "#fdca26"
             ],
             [
              1,
              "#f0f921"
             ]
            ],
            "type": "contour"
           }
          ],
          "contourcarpet": [
           {
            "colorbar": {
             "outlinewidth": 0,
             "ticks": ""
            },
            "type": "contourcarpet"
           }
          ],
          "heatmap": [
           {
            "colorbar": {
             "outlinewidth": 0,
             "ticks": ""
            },
            "colorscale": [
             [
              0,
              "#0d0887"
             ],
             [
              0.1111111111111111,
              "#46039f"
             ],
             [
              0.2222222222222222,
              "#7201a8"
             ],
             [
              0.3333333333333333,
              "#9c179e"
             ],
             [
              0.4444444444444444,
              "#bd3786"
             ],
             [
              0.5555555555555556,
              "#d8576b"
             ],
             [
              0.6666666666666666,
              "#ed7953"
             ],
             [
              0.7777777777777778,
              "#fb9f3a"
             ],
             [
              0.8888888888888888,
              "#fdca26"
             ],
             [
              1,
              "#f0f921"
             ]
            ],
            "type": "heatmap"
           }
          ],
          "heatmapgl": [
           {
            "colorbar": {
             "outlinewidth": 0,
             "ticks": ""
            },
            "colorscale": [
             [
              0,
              "#0d0887"
             ],
             [
              0.1111111111111111,
              "#46039f"
             ],
             [
              0.2222222222222222,
              "#7201a8"
             ],
             [
              0.3333333333333333,
              "#9c179e"
             ],
             [
              0.4444444444444444,
              "#bd3786"
             ],
             [
              0.5555555555555556,
              "#d8576b"
             ],
             [
              0.6666666666666666,
              "#ed7953"
             ],
             [
              0.7777777777777778,
              "#fb9f3a"
             ],
             [
              0.8888888888888888,
              "#fdca26"
             ],
             [
              1,
              "#f0f921"
             ]
            ],
            "type": "heatmapgl"
           }
          ],
          "histogram": [
           {
            "marker": {
             "pattern": {
              "fillmode": "overlay",
              "size": 10,
              "solidity": 0.2
             }
            },
            "type": "histogram"
           }
          ],
          "histogram2d": [
           {
            "colorbar": {
             "outlinewidth": 0,
             "ticks": ""
            },
            "colorscale": [
             [
              0,
              "#0d0887"
             ],
             [
              0.1111111111111111,
              "#46039f"
             ],
             [
              0.2222222222222222,
              "#7201a8"
             ],
             [
              0.3333333333333333,
              "#9c179e"
             ],
             [
              0.4444444444444444,
              "#bd3786"
             ],
             [
              0.5555555555555556,
              "#d8576b"
             ],
             [
              0.6666666666666666,
              "#ed7953"
             ],
             [
              0.7777777777777778,
              "#fb9f3a"
             ],
             [
              0.8888888888888888,
              "#fdca26"
             ],
             [
              1,
              "#f0f921"
             ]
            ],
            "type": "histogram2d"
           }
          ],
          "histogram2dcontour": [
           {
            "colorbar": {
             "outlinewidth": 0,
             "ticks": ""
            },
            "colorscale": [
             [
              0,
              "#0d0887"
             ],
             [
              0.1111111111111111,
              "#46039f"
             ],
             [
              0.2222222222222222,
              "#7201a8"
             ],
             [
              0.3333333333333333,
              "#9c179e"
             ],
             [
              0.4444444444444444,
              "#bd3786"
             ],
             [
              0.5555555555555556,
              "#d8576b"
             ],
             [
              0.6666666666666666,
              "#ed7953"
             ],
             [
              0.7777777777777778,
              "#fb9f3a"
             ],
             [
              0.8888888888888888,
              "#fdca26"
             ],
             [
              1,
              "#f0f921"
             ]
            ],
            "type": "histogram2dcontour"
           }
          ],
          "mesh3d": [
           {
            "colorbar": {
             "outlinewidth": 0,
             "ticks": ""
            },
            "type": "mesh3d"
           }
          ],
          "parcoords": [
           {
            "line": {
             "colorbar": {
              "outlinewidth": 0,
              "ticks": ""
             }
            },
            "type": "parcoords"
           }
          ],
          "pie": [
           {
            "automargin": true,
            "type": "pie"
           }
          ],
          "scatter": [
           {
            "fillpattern": {
             "fillmode": "overlay",
             "size": 10,
             "solidity": 0.2
            },
            "type": "scatter"
           }
          ],
          "scatter3d": [
           {
            "line": {
             "colorbar": {
              "outlinewidth": 0,
              "ticks": ""
             }
            },
            "marker": {
             "colorbar": {
              "outlinewidth": 0,
              "ticks": ""
             }
            },
            "type": "scatter3d"
           }
          ],
          "scattercarpet": [
           {
            "marker": {
             "colorbar": {
              "outlinewidth": 0,
              "ticks": ""
             }
            },
            "type": "scattercarpet"
           }
          ],
          "scattergeo": [
           {
            "marker": {
             "colorbar": {
              "outlinewidth": 0,
              "ticks": ""
             }
            },
            "type": "scattergeo"
           }
          ],
          "scattergl": [
           {
            "marker": {
             "colorbar": {
              "outlinewidth": 0,
              "ticks": ""
             }
            },
            "type": "scattergl"
           }
          ],
          "scattermapbox": [
           {
            "marker": {
             "colorbar": {
              "outlinewidth": 0,
              "ticks": ""
             }
            },
            "type": "scattermapbox"
           }
          ],
          "scatterpolar": [
           {
            "marker": {
             "colorbar": {
              "outlinewidth": 0,
              "ticks": ""
             }
            },
            "type": "scatterpolar"
           }
          ],
          "scatterpolargl": [
           {
            "marker": {
             "colorbar": {
              "outlinewidth": 0,
              "ticks": ""
             }
            },
            "type": "scatterpolargl"
           }
          ],
          "scatterternary": [
           {
            "marker": {
             "colorbar": {
              "outlinewidth": 0,
              "ticks": ""
             }
            },
            "type": "scatterternary"
           }
          ],
          "surface": [
           {
            "colorbar": {
             "outlinewidth": 0,
             "ticks": ""
            },
            "colorscale": [
             [
              0,
              "#0d0887"
             ],
             [
              0.1111111111111111,
              "#46039f"
             ],
             [
              0.2222222222222222,
              "#7201a8"
             ],
             [
              0.3333333333333333,
              "#9c179e"
             ],
             [
              0.4444444444444444,
              "#bd3786"
             ],
             [
              0.5555555555555556,
              "#d8576b"
             ],
             [
              0.6666666666666666,
              "#ed7953"
             ],
             [
              0.7777777777777778,
              "#fb9f3a"
             ],
             [
              0.8888888888888888,
              "#fdca26"
             ],
             [
              1,
              "#f0f921"
             ]
            ],
            "type": "surface"
           }
          ],
          "table": [
           {
            "cells": {
             "fill": {
              "color": "#EBF0F8"
             },
             "line": {
              "color": "white"
             }
            },
            "header": {
             "fill": {
              "color": "#C8D4E3"
             },
             "line": {
              "color": "white"
             }
            },
            "type": "table"
           }
          ]
         },
         "layout": {
          "annotationdefaults": {
           "arrowcolor": "#2a3f5f",
           "arrowhead": 0,
           "arrowwidth": 1
          },
          "autotypenumbers": "strict",
          "coloraxis": {
           "colorbar": {
            "outlinewidth": 0,
            "ticks": ""
           }
          },
          "colorscale": {
           "diverging": [
            [
             0,
             "#8e0152"
            ],
            [
             0.1,
             "#c51b7d"
            ],
            [
             0.2,
             "#de77ae"
            ],
            [
             0.3,
             "#f1b6da"
            ],
            [
             0.4,
             "#fde0ef"
            ],
            [
             0.5,
             "#f7f7f7"
            ],
            [
             0.6,
             "#e6f5d0"
            ],
            [
             0.7,
             "#b8e186"
            ],
            [
             0.8,
             "#7fbc41"
            ],
            [
             0.9,
             "#4d9221"
            ],
            [
             1,
             "#276419"
            ]
           ],
           "sequential": [
            [
             0,
             "#0d0887"
            ],
            [
             0.1111111111111111,
             "#46039f"
            ],
            [
             0.2222222222222222,
             "#7201a8"
            ],
            [
             0.3333333333333333,
             "#9c179e"
            ],
            [
             0.4444444444444444,
             "#bd3786"
            ],
            [
             0.5555555555555556,
             "#d8576b"
            ],
            [
             0.6666666666666666,
             "#ed7953"
            ],
            [
             0.7777777777777778,
             "#fb9f3a"
            ],
            [
             0.8888888888888888,
             "#fdca26"
            ],
            [
             1,
             "#f0f921"
            ]
           ],
           "sequentialminus": [
            [
             0,
             "#0d0887"
            ],
            [
             0.1111111111111111,
             "#46039f"
            ],
            [
             0.2222222222222222,
             "#7201a8"
            ],
            [
             0.3333333333333333,
             "#9c179e"
            ],
            [
             0.4444444444444444,
             "#bd3786"
            ],
            [
             0.5555555555555556,
             "#d8576b"
            ],
            [
             0.6666666666666666,
             "#ed7953"
            ],
            [
             0.7777777777777778,
             "#fb9f3a"
            ],
            [
             0.8888888888888888,
             "#fdca26"
            ],
            [
             1,
             "#f0f921"
            ]
           ]
          },
          "colorway": [
           "#636efa",
           "#EF553B",
           "#00cc96",
           "#ab63fa",
           "#FFA15A",
           "#19d3f3",
           "#FF6692",
           "#B6E880",
           "#FF97FF",
           "#FECB52"
          ],
          "font": {
           "color": "#2a3f5f"
          },
          "geo": {
           "bgcolor": "white",
           "lakecolor": "white",
           "landcolor": "#E5ECF6",
           "showlakes": true,
           "showland": true,
           "subunitcolor": "white"
          },
          "hoverlabel": {
           "align": "left"
          },
          "hovermode": "closest",
          "mapbox": {
           "style": "light"
          },
          "paper_bgcolor": "white",
          "plot_bgcolor": "#E5ECF6",
          "polar": {
           "angularaxis": {
            "gridcolor": "white",
            "linecolor": "white",
            "ticks": ""
           },
           "bgcolor": "#E5ECF6",
           "radialaxis": {
            "gridcolor": "white",
            "linecolor": "white",
            "ticks": ""
           }
          },
          "scene": {
           "xaxis": {
            "backgroundcolor": "#E5ECF6",
            "gridcolor": "white",
            "gridwidth": 2,
            "linecolor": "white",
            "showbackground": true,
            "ticks": "",
            "zerolinecolor": "white"
           },
           "yaxis": {
            "backgroundcolor": "#E5ECF6",
            "gridcolor": "white",
            "gridwidth": 2,
            "linecolor": "white",
            "showbackground": true,
            "ticks": "",
            "zerolinecolor": "white"
           },
           "zaxis": {
            "backgroundcolor": "#E5ECF6",
            "gridcolor": "white",
            "gridwidth": 2,
            "linecolor": "white",
            "showbackground": true,
            "ticks": "",
            "zerolinecolor": "white"
           }
          },
          "shapedefaults": {
           "line": {
            "color": "#2a3f5f"
           }
          },
          "ternary": {
           "aaxis": {
            "gridcolor": "white",
            "linecolor": "white",
            "ticks": ""
           },
           "baxis": {
            "gridcolor": "white",
            "linecolor": "white",
            "ticks": ""
           },
           "bgcolor": "#E5ECF6",
           "caxis": {
            "gridcolor": "white",
            "linecolor": "white",
            "ticks": ""
           }
          },
          "title": {
           "x": 0.05
          },
          "xaxis": {
           "automargin": true,
           "gridcolor": "white",
           "linecolor": "white",
           "ticks": "",
           "title": {
            "standoff": 15
           },
           "zerolinecolor": "white",
           "zerolinewidth": 2
          },
          "yaxis": {
           "automargin": true,
           "gridcolor": "white",
           "linecolor": "white",
           "ticks": "",
           "title": {
            "standoff": 15
           },
           "zerolinecolor": "white",
           "zerolinewidth": 2
          }
         }
        },
        "title": {
         "text": "Gender Distribution of Respondents"
        }
       }
      }
     },
     "metadata": {},
     "output_type": "display_data"
    }
   ],
   "source": [
    "# plot gender count in plotly express with pie chart and label the categories\n",
    "\n",
    "combined_temp = combined.copy()\n",
    "combined_temp.gender_identity = combined_temp.gender_identity.map({1:'Male',2:'Female'})\n",
    "\n",
    "fig = px.pie(combined_temp, names='gender_identity', title='Gender Distribution of Respondents', color_discrete_sequence=['#0097a7', '#c19965'])\n",
    "fig.show()"
   ]
  },
  {
   "cell_type": "code",
   "execution_count": 154,
   "metadata": {},
   "outputs": [
    {
     "data": {
      "application/vnd.plotly.v1+json": {
       "config": {
        "plotlyServerURL": "https://plot.ly"
       },
       "data": [
        {
         "alignmentgroup": "True",
         "bingroup": "x",
         "hovertemplate": "age=%{x}<br>count=%{y}<extra></extra>",
         "legendgroup": "",
         "marker": {
          "color": "#0097a7",
          "pattern": {
           "shape": ""
          }
         },
         "name": "",
         "offsetgroup": "",
         "orientation": "v",
         "showlegend": false,
         "type": "histogram",
         "x": [
          "35-44",
          "25-34",
          "18-24",
          "18-24",
          "25-34",
          "18-24",
          "18-24",
          "25-34",
          "25-34",
          "18-24",
          "18-24",
          "25-34",
          "25-34",
          "25-34",
          "25-34",
          "25-34",
          "18-24",
          "18-24",
          "45-54",
          "18-24",
          "18-24",
          "25-34",
          "18-24",
          "18-24",
          "18-24",
          "25-34",
          "18-24",
          "18-24",
          "25-34",
          "25-34",
          "18-24",
          "18-24",
          "25-34",
          "25-34",
          "18-24",
          "18-24",
          "18-24",
          "25-34",
          "25-34",
          "18-24",
          "18-24",
          "18-24",
          "18-24",
          "18-24",
          "25-34",
          "18-24",
          "25-34",
          "18-24",
          "25-34",
          "18-24",
          "25-34",
          "25-34",
          "25-34",
          "25-34",
          "18-24",
          "18-24",
          "18-24",
          "25-34",
          "18-24",
          "25-34",
          "25-34",
          "25-34",
          "18-24",
          "18-24",
          "18-24",
          "25-34",
          "25-34",
          "25-34",
          "18-24",
          "18-24",
          "18-24",
          "25-34",
          "18-24",
          "18-24",
          "18-24",
          "25-34",
          "18-24",
          "25-34",
          "55-64",
          "18-24",
          "18-24",
          "18-24",
          "18-24",
          "18-24",
          "18-24",
          "18-24",
          "18-24",
          "18-24",
          "18-24",
          "18-24",
          "18-24",
          "18-24",
          "18-24",
          "25-34",
          "18-24",
          "18-24",
          "18-24",
          "18-24",
          "18-24",
          "18-24",
          "18-24",
          "18-24"
         ],
         "xaxis": "x",
         "yaxis": "y"
        }
       ],
       "layout": {
        "barmode": "relative",
        "legend": {
         "tracegroupgap": 0
        },
        "template": {
         "data": {
          "bar": [
           {
            "error_x": {
             "color": "#2a3f5f"
            },
            "error_y": {
             "color": "#2a3f5f"
            },
            "marker": {
             "line": {
              "color": "#E5ECF6",
              "width": 0.5
             },
             "pattern": {
              "fillmode": "overlay",
              "size": 10,
              "solidity": 0.2
             }
            },
            "type": "bar"
           }
          ],
          "barpolar": [
           {
            "marker": {
             "line": {
              "color": "#E5ECF6",
              "width": 0.5
             },
             "pattern": {
              "fillmode": "overlay",
              "size": 10,
              "solidity": 0.2
             }
            },
            "type": "barpolar"
           }
          ],
          "carpet": [
           {
            "aaxis": {
             "endlinecolor": "#2a3f5f",
             "gridcolor": "white",
             "linecolor": "white",
             "minorgridcolor": "white",
             "startlinecolor": "#2a3f5f"
            },
            "baxis": {
             "endlinecolor": "#2a3f5f",
             "gridcolor": "white",
             "linecolor": "white",
             "minorgridcolor": "white",
             "startlinecolor": "#2a3f5f"
            },
            "type": "carpet"
           }
          ],
          "choropleth": [
           {
            "colorbar": {
             "outlinewidth": 0,
             "ticks": ""
            },
            "type": "choropleth"
           }
          ],
          "contour": [
           {
            "colorbar": {
             "outlinewidth": 0,
             "ticks": ""
            },
            "colorscale": [
             [
              0,
              "#0d0887"
             ],
             [
              0.1111111111111111,
              "#46039f"
             ],
             [
              0.2222222222222222,
              "#7201a8"
             ],
             [
              0.3333333333333333,
              "#9c179e"
             ],
             [
              0.4444444444444444,
              "#bd3786"
             ],
             [
              0.5555555555555556,
              "#d8576b"
             ],
             [
              0.6666666666666666,
              "#ed7953"
             ],
             [
              0.7777777777777778,
              "#fb9f3a"
             ],
             [
              0.8888888888888888,
              "#fdca26"
             ],
             [
              1,
              "#f0f921"
             ]
            ],
            "type": "contour"
           }
          ],
          "contourcarpet": [
           {
            "colorbar": {
             "outlinewidth": 0,
             "ticks": ""
            },
            "type": "contourcarpet"
           }
          ],
          "heatmap": [
           {
            "colorbar": {
             "outlinewidth": 0,
             "ticks": ""
            },
            "colorscale": [
             [
              0,
              "#0d0887"
             ],
             [
              0.1111111111111111,
              "#46039f"
             ],
             [
              0.2222222222222222,
              "#7201a8"
             ],
             [
              0.3333333333333333,
              "#9c179e"
             ],
             [
              0.4444444444444444,
              "#bd3786"
             ],
             [
              0.5555555555555556,
              "#d8576b"
             ],
             [
              0.6666666666666666,
              "#ed7953"
             ],
             [
              0.7777777777777778,
              "#fb9f3a"
             ],
             [
              0.8888888888888888,
              "#fdca26"
             ],
             [
              1,
              "#f0f921"
             ]
            ],
            "type": "heatmap"
           }
          ],
          "heatmapgl": [
           {
            "colorbar": {
             "outlinewidth": 0,
             "ticks": ""
            },
            "colorscale": [
             [
              0,
              "#0d0887"
             ],
             [
              0.1111111111111111,
              "#46039f"
             ],
             [
              0.2222222222222222,
              "#7201a8"
             ],
             [
              0.3333333333333333,
              "#9c179e"
             ],
             [
              0.4444444444444444,
              "#bd3786"
             ],
             [
              0.5555555555555556,
              "#d8576b"
             ],
             [
              0.6666666666666666,
              "#ed7953"
             ],
             [
              0.7777777777777778,
              "#fb9f3a"
             ],
             [
              0.8888888888888888,
              "#fdca26"
             ],
             [
              1,
              "#f0f921"
             ]
            ],
            "type": "heatmapgl"
           }
          ],
          "histogram": [
           {
            "marker": {
             "pattern": {
              "fillmode": "overlay",
              "size": 10,
              "solidity": 0.2
             }
            },
            "type": "histogram"
           }
          ],
          "histogram2d": [
           {
            "colorbar": {
             "outlinewidth": 0,
             "ticks": ""
            },
            "colorscale": [
             [
              0,
              "#0d0887"
             ],
             [
              0.1111111111111111,
              "#46039f"
             ],
             [
              0.2222222222222222,
              "#7201a8"
             ],
             [
              0.3333333333333333,
              "#9c179e"
             ],
             [
              0.4444444444444444,
              "#bd3786"
             ],
             [
              0.5555555555555556,
              "#d8576b"
             ],
             [
              0.6666666666666666,
              "#ed7953"
             ],
             [
              0.7777777777777778,
              "#fb9f3a"
             ],
             [
              0.8888888888888888,
              "#fdca26"
             ],
             [
              1,
              "#f0f921"
             ]
            ],
            "type": "histogram2d"
           }
          ],
          "histogram2dcontour": [
           {
            "colorbar": {
             "outlinewidth": 0,
             "ticks": ""
            },
            "colorscale": [
             [
              0,
              "#0d0887"
             ],
             [
              0.1111111111111111,
              "#46039f"
             ],
             [
              0.2222222222222222,
              "#7201a8"
             ],
             [
              0.3333333333333333,
              "#9c179e"
             ],
             [
              0.4444444444444444,
              "#bd3786"
             ],
             [
              0.5555555555555556,
              "#d8576b"
             ],
             [
              0.6666666666666666,
              "#ed7953"
             ],
             [
              0.7777777777777778,
              "#fb9f3a"
             ],
             [
              0.8888888888888888,
              "#fdca26"
             ],
             [
              1,
              "#f0f921"
             ]
            ],
            "type": "histogram2dcontour"
           }
          ],
          "mesh3d": [
           {
            "colorbar": {
             "outlinewidth": 0,
             "ticks": ""
            },
            "type": "mesh3d"
           }
          ],
          "parcoords": [
           {
            "line": {
             "colorbar": {
              "outlinewidth": 0,
              "ticks": ""
             }
            },
            "type": "parcoords"
           }
          ],
          "pie": [
           {
            "automargin": true,
            "type": "pie"
           }
          ],
          "scatter": [
           {
            "fillpattern": {
             "fillmode": "overlay",
             "size": 10,
             "solidity": 0.2
            },
            "type": "scatter"
           }
          ],
          "scatter3d": [
           {
            "line": {
             "colorbar": {
              "outlinewidth": 0,
              "ticks": ""
             }
            },
            "marker": {
             "colorbar": {
              "outlinewidth": 0,
              "ticks": ""
             }
            },
            "type": "scatter3d"
           }
          ],
          "scattercarpet": [
           {
            "marker": {
             "colorbar": {
              "outlinewidth": 0,
              "ticks": ""
             }
            },
            "type": "scattercarpet"
           }
          ],
          "scattergeo": [
           {
            "marker": {
             "colorbar": {
              "outlinewidth": 0,
              "ticks": ""
             }
            },
            "type": "scattergeo"
           }
          ],
          "scattergl": [
           {
            "marker": {
             "colorbar": {
              "outlinewidth": 0,
              "ticks": ""
             }
            },
            "type": "scattergl"
           }
          ],
          "scattermapbox": [
           {
            "marker": {
             "colorbar": {
              "outlinewidth": 0,
              "ticks": ""
             }
            },
            "type": "scattermapbox"
           }
          ],
          "scatterpolar": [
           {
            "marker": {
             "colorbar": {
              "outlinewidth": 0,
              "ticks": ""
             }
            },
            "type": "scatterpolar"
           }
          ],
          "scatterpolargl": [
           {
            "marker": {
             "colorbar": {
              "outlinewidth": 0,
              "ticks": ""
             }
            },
            "type": "scatterpolargl"
           }
          ],
          "scatterternary": [
           {
            "marker": {
             "colorbar": {
              "outlinewidth": 0,
              "ticks": ""
             }
            },
            "type": "scatterternary"
           }
          ],
          "surface": [
           {
            "colorbar": {
             "outlinewidth": 0,
             "ticks": ""
            },
            "colorscale": [
             [
              0,
              "#0d0887"
             ],
             [
              0.1111111111111111,
              "#46039f"
             ],
             [
              0.2222222222222222,
              "#7201a8"
             ],
             [
              0.3333333333333333,
              "#9c179e"
             ],
             [
              0.4444444444444444,
              "#bd3786"
             ],
             [
              0.5555555555555556,
              "#d8576b"
             ],
             [
              0.6666666666666666,
              "#ed7953"
             ],
             [
              0.7777777777777778,
              "#fb9f3a"
             ],
             [
              0.8888888888888888,
              "#fdca26"
             ],
             [
              1,
              "#f0f921"
             ]
            ],
            "type": "surface"
           }
          ],
          "table": [
           {
            "cells": {
             "fill": {
              "color": "#EBF0F8"
             },
             "line": {
              "color": "white"
             }
            },
            "header": {
             "fill": {
              "color": "#C8D4E3"
             },
             "line": {
              "color": "white"
             }
            },
            "type": "table"
           }
          ]
         },
         "layout": {
          "annotationdefaults": {
           "arrowcolor": "#2a3f5f",
           "arrowhead": 0,
           "arrowwidth": 1
          },
          "autotypenumbers": "strict",
          "coloraxis": {
           "colorbar": {
            "outlinewidth": 0,
            "ticks": ""
           }
          },
          "colorscale": {
           "diverging": [
            [
             0,
             "#8e0152"
            ],
            [
             0.1,
             "#c51b7d"
            ],
            [
             0.2,
             "#de77ae"
            ],
            [
             0.3,
             "#f1b6da"
            ],
            [
             0.4,
             "#fde0ef"
            ],
            [
             0.5,
             "#f7f7f7"
            ],
            [
             0.6,
             "#e6f5d0"
            ],
            [
             0.7,
             "#b8e186"
            ],
            [
             0.8,
             "#7fbc41"
            ],
            [
             0.9,
             "#4d9221"
            ],
            [
             1,
             "#276419"
            ]
           ],
           "sequential": [
            [
             0,
             "#0d0887"
            ],
            [
             0.1111111111111111,
             "#46039f"
            ],
            [
             0.2222222222222222,
             "#7201a8"
            ],
            [
             0.3333333333333333,
             "#9c179e"
            ],
            [
             0.4444444444444444,
             "#bd3786"
            ],
            [
             0.5555555555555556,
             "#d8576b"
            ],
            [
             0.6666666666666666,
             "#ed7953"
            ],
            [
             0.7777777777777778,
             "#fb9f3a"
            ],
            [
             0.8888888888888888,
             "#fdca26"
            ],
            [
             1,
             "#f0f921"
            ]
           ],
           "sequentialminus": [
            [
             0,
             "#0d0887"
            ],
            [
             0.1111111111111111,
             "#46039f"
            ],
            [
             0.2222222222222222,
             "#7201a8"
            ],
            [
             0.3333333333333333,
             "#9c179e"
            ],
            [
             0.4444444444444444,
             "#bd3786"
            ],
            [
             0.5555555555555556,
             "#d8576b"
            ],
            [
             0.6666666666666666,
             "#ed7953"
            ],
            [
             0.7777777777777778,
             "#fb9f3a"
            ],
            [
             0.8888888888888888,
             "#fdca26"
            ],
            [
             1,
             "#f0f921"
            ]
           ]
          },
          "colorway": [
           "#636efa",
           "#EF553B",
           "#00cc96",
           "#ab63fa",
           "#FFA15A",
           "#19d3f3",
           "#FF6692",
           "#B6E880",
           "#FF97FF",
           "#FECB52"
          ],
          "font": {
           "color": "#2a3f5f"
          },
          "geo": {
           "bgcolor": "white",
           "lakecolor": "white",
           "landcolor": "#E5ECF6",
           "showlakes": true,
           "showland": true,
           "subunitcolor": "white"
          },
          "hoverlabel": {
           "align": "left"
          },
          "hovermode": "closest",
          "mapbox": {
           "style": "light"
          },
          "paper_bgcolor": "white",
          "plot_bgcolor": "#E5ECF6",
          "polar": {
           "angularaxis": {
            "gridcolor": "white",
            "linecolor": "white",
            "ticks": ""
           },
           "bgcolor": "#E5ECF6",
           "radialaxis": {
            "gridcolor": "white",
            "linecolor": "white",
            "ticks": ""
           }
          },
          "scene": {
           "xaxis": {
            "backgroundcolor": "#E5ECF6",
            "gridcolor": "white",
            "gridwidth": 2,
            "linecolor": "white",
            "showbackground": true,
            "ticks": "",
            "zerolinecolor": "white"
           },
           "yaxis": {
            "backgroundcolor": "#E5ECF6",
            "gridcolor": "white",
            "gridwidth": 2,
            "linecolor": "white",
            "showbackground": true,
            "ticks": "",
            "zerolinecolor": "white"
           },
           "zaxis": {
            "backgroundcolor": "#E5ECF6",
            "gridcolor": "white",
            "gridwidth": 2,
            "linecolor": "white",
            "showbackground": true,
            "ticks": "",
            "zerolinecolor": "white"
           }
          },
          "shapedefaults": {
           "line": {
            "color": "#2a3f5f"
           }
          },
          "ternary": {
           "aaxis": {
            "gridcolor": "white",
            "linecolor": "white",
            "ticks": ""
           },
           "baxis": {
            "gridcolor": "white",
            "linecolor": "white",
            "ticks": ""
           },
           "bgcolor": "#E5ECF6",
           "caxis": {
            "gridcolor": "white",
            "linecolor": "white",
            "ticks": ""
           }
          },
          "title": {
           "x": 0.05
          },
          "xaxis": {
           "automargin": true,
           "gridcolor": "white",
           "linecolor": "white",
           "ticks": "",
           "title": {
            "standoff": 15
           },
           "zerolinecolor": "white",
           "zerolinewidth": 2
          },
          "yaxis": {
           "automargin": true,
           "gridcolor": "white",
           "linecolor": "white",
           "ticks": "",
           "title": {
            "standoff": 15
           },
           "zerolinecolor": "white",
           "zerolinewidth": 2
          }
         }
        },
        "title": {
         "text": "Age Distribution of Participants"
        },
        "xaxis": {
         "anchor": "y",
         "categoryarray": [
          "Under 18",
          "18-24",
          "25-34",
          "35-44",
          "45-54",
          "55-64",
          "65+"
         ],
         "categoryorder": "array",
         "domain": [
          0,
          1
         ],
         "title": {
          "text": "age"
         }
        },
        "yaxis": {
         "anchor": "x",
         "domain": [
          0,
          1
         ],
         "title": {
          "text": "count"
         }
        }
       }
      }
     },
     "metadata": {},
     "output_type": "display_data"
    }
   ],
   "source": [
    "# plot age distribution of participants\n",
    "combined_temp = combined.copy()\n",
    "combined_temp.age = combined_temp.age.map({1:'Under 18',2:'18-24',3:'25-34',4:'35-44',5:'45-54',6:'55-64',7:'65+'})\n",
    "\n",
    "# sort by age\n",
    "combined_temp.age = pd.Categorical(combined_temp.age, categories=['Under 18', '18-24', '25-34', '35-44', '45-54', '55-64', '65+'], ordered=True)\n",
    "\n",
    "fig = px.histogram(combined_temp, x=\"age\", title='Age Distribution of Participants', category_orders={'age':['Under 18', '18-24', '25-34', '35-44', '45-54', '55-64', '65+']}, color_discrete_sequence=['#0097a7'])\n",
    "fig.show()"
   ]
  },
  {
   "cell_type": "code",
   "execution_count": 155,
   "metadata": {},
   "outputs": [
    {
     "data": {
      "application/vnd.plotly.v1+json": {
       "config": {
        "plotlyServerURL": "https://plot.ly"
       },
       "data": [
        {
         "alignmentgroup": "True",
         "bingroup": "x",
         "hovertemplate": "schooling=%{x}<br>count=%{y}<extra></extra>",
         "legendgroup": "",
         "marker": {
          "color": "#0097a7",
          "pattern": {
           "shape": ""
          }
         },
         "name": "",
         "offsetgroup": "",
         "orientation": "v",
         "showlegend": false,
         "type": "histogram",
         "x": [
          "Master's degree",
          "Bachelor's degree",
          "Bachelor's degree",
          "Bachelor's degree",
          "Bachelor's degree",
          "Bachelor's degree",
          "Bachelor's degree",
          "Master's degree",
          "Master's degree",
          "Bachelor's degree",
          "Master's degree",
          "Doctoral degree",
          "Master's degree",
          "Master's degree",
          "Master's degree",
          "Master's degree",
          "High school",
          "High school",
          "Bachelor's degree",
          "High school",
          "High school",
          "Bachelor's degree",
          "Bachelor's degree",
          "Master's degree",
          "Some college",
          "Master's degree",
          "High school",
          "Bachelor's degree",
          "Bachelor's degree",
          "Bachelor's degree",
          "Bachelor's degree",
          "Some college",
          "Bachelor's degree",
          "Doctoral degree",
          "Bachelor's degree",
          "High school",
          "Bachelor's degree",
          "Master's degree",
          "Professional degree",
          "Bachelor's degree",
          "Bachelor's degree",
          "Bachelor's degree",
          "Some college",
          "Doctoral degree",
          "Bachelor's degree",
          "Master's degree",
          "Bachelor's degree",
          "Master's degree",
          "Bachelor's degree",
          "High school",
          "Bachelor's degree",
          "Bachelor's degree",
          "Doctoral degree",
          "Professional degree",
          "Bachelor's degree",
          "Bachelor's degree",
          "Bachelor's degree",
          "Master's degree",
          "High school",
          "Bachelor's degree",
          "Bachelor's degree",
          "Master's degree",
          "Bachelor's degree",
          "Some college",
          "Bachelor's degree",
          "High school",
          "Bachelor's degree",
          "Bachelor's degree",
          "High school",
          "Some college",
          "Some college",
          "High school",
          "Some college",
          "High school",
          "Bachelor's degree",
          "High school",
          "Bachelor's degree",
          "Master's degree",
          "Doctoral degree",
          "High school",
          "Bachelor's degree",
          "High school",
          "High school",
          "Some college",
          "Bachelor's degree",
          "Bachelor's degree",
          "Some college",
          "Bachelor's degree",
          "Bachelor's degree",
          "High school",
          "Bachelor's degree",
          "Bachelor's degree",
          "High school",
          "Bachelor's degree",
          "High school",
          "Bachelor's degree",
          "Bachelor's degree",
          "Bachelor's degree",
          "Bachelor's degree",
          "Master's degree",
          "Bachelor's degree",
          "High school"
         ],
         "xaxis": "x",
         "yaxis": "y"
        }
       ],
       "layout": {
        "barmode": "relative",
        "legend": {
         "tracegroupgap": 0
        },
        "template": {
         "data": {
          "bar": [
           {
            "error_x": {
             "color": "#2a3f5f"
            },
            "error_y": {
             "color": "#2a3f5f"
            },
            "marker": {
             "line": {
              "color": "#E5ECF6",
              "width": 0.5
             },
             "pattern": {
              "fillmode": "overlay",
              "size": 10,
              "solidity": 0.2
             }
            },
            "type": "bar"
           }
          ],
          "barpolar": [
           {
            "marker": {
             "line": {
              "color": "#E5ECF6",
              "width": 0.5
             },
             "pattern": {
              "fillmode": "overlay",
              "size": 10,
              "solidity": 0.2
             }
            },
            "type": "barpolar"
           }
          ],
          "carpet": [
           {
            "aaxis": {
             "endlinecolor": "#2a3f5f",
             "gridcolor": "white",
             "linecolor": "white",
             "minorgridcolor": "white",
             "startlinecolor": "#2a3f5f"
            },
            "baxis": {
             "endlinecolor": "#2a3f5f",
             "gridcolor": "white",
             "linecolor": "white",
             "minorgridcolor": "white",
             "startlinecolor": "#2a3f5f"
            },
            "type": "carpet"
           }
          ],
          "choropleth": [
           {
            "colorbar": {
             "outlinewidth": 0,
             "ticks": ""
            },
            "type": "choropleth"
           }
          ],
          "contour": [
           {
            "colorbar": {
             "outlinewidth": 0,
             "ticks": ""
            },
            "colorscale": [
             [
              0,
              "#0d0887"
             ],
             [
              0.1111111111111111,
              "#46039f"
             ],
             [
              0.2222222222222222,
              "#7201a8"
             ],
             [
              0.3333333333333333,
              "#9c179e"
             ],
             [
              0.4444444444444444,
              "#bd3786"
             ],
             [
              0.5555555555555556,
              "#d8576b"
             ],
             [
              0.6666666666666666,
              "#ed7953"
             ],
             [
              0.7777777777777778,
              "#fb9f3a"
             ],
             [
              0.8888888888888888,
              "#fdca26"
             ],
             [
              1,
              "#f0f921"
             ]
            ],
            "type": "contour"
           }
          ],
          "contourcarpet": [
           {
            "colorbar": {
             "outlinewidth": 0,
             "ticks": ""
            },
            "type": "contourcarpet"
           }
          ],
          "heatmap": [
           {
            "colorbar": {
             "outlinewidth": 0,
             "ticks": ""
            },
            "colorscale": [
             [
              0,
              "#0d0887"
             ],
             [
              0.1111111111111111,
              "#46039f"
             ],
             [
              0.2222222222222222,
              "#7201a8"
             ],
             [
              0.3333333333333333,
              "#9c179e"
             ],
             [
              0.4444444444444444,
              "#bd3786"
             ],
             [
              0.5555555555555556,
              "#d8576b"
             ],
             [
              0.6666666666666666,
              "#ed7953"
             ],
             [
              0.7777777777777778,
              "#fb9f3a"
             ],
             [
              0.8888888888888888,
              "#fdca26"
             ],
             [
              1,
              "#f0f921"
             ]
            ],
            "type": "heatmap"
           }
          ],
          "heatmapgl": [
           {
            "colorbar": {
             "outlinewidth": 0,
             "ticks": ""
            },
            "colorscale": [
             [
              0,
              "#0d0887"
             ],
             [
              0.1111111111111111,
              "#46039f"
             ],
             [
              0.2222222222222222,
              "#7201a8"
             ],
             [
              0.3333333333333333,
              "#9c179e"
             ],
             [
              0.4444444444444444,
              "#bd3786"
             ],
             [
              0.5555555555555556,
              "#d8576b"
             ],
             [
              0.6666666666666666,
              "#ed7953"
             ],
             [
              0.7777777777777778,
              "#fb9f3a"
             ],
             [
              0.8888888888888888,
              "#fdca26"
             ],
             [
              1,
              "#f0f921"
             ]
            ],
            "type": "heatmapgl"
           }
          ],
          "histogram": [
           {
            "marker": {
             "pattern": {
              "fillmode": "overlay",
              "size": 10,
              "solidity": 0.2
             }
            },
            "type": "histogram"
           }
          ],
          "histogram2d": [
           {
            "colorbar": {
             "outlinewidth": 0,
             "ticks": ""
            },
            "colorscale": [
             [
              0,
              "#0d0887"
             ],
             [
              0.1111111111111111,
              "#46039f"
             ],
             [
              0.2222222222222222,
              "#7201a8"
             ],
             [
              0.3333333333333333,
              "#9c179e"
             ],
             [
              0.4444444444444444,
              "#bd3786"
             ],
             [
              0.5555555555555556,
              "#d8576b"
             ],
             [
              0.6666666666666666,
              "#ed7953"
             ],
             [
              0.7777777777777778,
              "#fb9f3a"
             ],
             [
              0.8888888888888888,
              "#fdca26"
             ],
             [
              1,
              "#f0f921"
             ]
            ],
            "type": "histogram2d"
           }
          ],
          "histogram2dcontour": [
           {
            "colorbar": {
             "outlinewidth": 0,
             "ticks": ""
            },
            "colorscale": [
             [
              0,
              "#0d0887"
             ],
             [
              0.1111111111111111,
              "#46039f"
             ],
             [
              0.2222222222222222,
              "#7201a8"
             ],
             [
              0.3333333333333333,
              "#9c179e"
             ],
             [
              0.4444444444444444,
              "#bd3786"
             ],
             [
              0.5555555555555556,
              "#d8576b"
             ],
             [
              0.6666666666666666,
              "#ed7953"
             ],
             [
              0.7777777777777778,
              "#fb9f3a"
             ],
             [
              0.8888888888888888,
              "#fdca26"
             ],
             [
              1,
              "#f0f921"
             ]
            ],
            "type": "histogram2dcontour"
           }
          ],
          "mesh3d": [
           {
            "colorbar": {
             "outlinewidth": 0,
             "ticks": ""
            },
            "type": "mesh3d"
           }
          ],
          "parcoords": [
           {
            "line": {
             "colorbar": {
              "outlinewidth": 0,
              "ticks": ""
             }
            },
            "type": "parcoords"
           }
          ],
          "pie": [
           {
            "automargin": true,
            "type": "pie"
           }
          ],
          "scatter": [
           {
            "fillpattern": {
             "fillmode": "overlay",
             "size": 10,
             "solidity": 0.2
            },
            "type": "scatter"
           }
          ],
          "scatter3d": [
           {
            "line": {
             "colorbar": {
              "outlinewidth": 0,
              "ticks": ""
             }
            },
            "marker": {
             "colorbar": {
              "outlinewidth": 0,
              "ticks": ""
             }
            },
            "type": "scatter3d"
           }
          ],
          "scattercarpet": [
           {
            "marker": {
             "colorbar": {
              "outlinewidth": 0,
              "ticks": ""
             }
            },
            "type": "scattercarpet"
           }
          ],
          "scattergeo": [
           {
            "marker": {
             "colorbar": {
              "outlinewidth": 0,
              "ticks": ""
             }
            },
            "type": "scattergeo"
           }
          ],
          "scattergl": [
           {
            "marker": {
             "colorbar": {
              "outlinewidth": 0,
              "ticks": ""
             }
            },
            "type": "scattergl"
           }
          ],
          "scattermapbox": [
           {
            "marker": {
             "colorbar": {
              "outlinewidth": 0,
              "ticks": ""
             }
            },
            "type": "scattermapbox"
           }
          ],
          "scatterpolar": [
           {
            "marker": {
             "colorbar": {
              "outlinewidth": 0,
              "ticks": ""
             }
            },
            "type": "scatterpolar"
           }
          ],
          "scatterpolargl": [
           {
            "marker": {
             "colorbar": {
              "outlinewidth": 0,
              "ticks": ""
             }
            },
            "type": "scatterpolargl"
           }
          ],
          "scatterternary": [
           {
            "marker": {
             "colorbar": {
              "outlinewidth": 0,
              "ticks": ""
             }
            },
            "type": "scatterternary"
           }
          ],
          "surface": [
           {
            "colorbar": {
             "outlinewidth": 0,
             "ticks": ""
            },
            "colorscale": [
             [
              0,
              "#0d0887"
             ],
             [
              0.1111111111111111,
              "#46039f"
             ],
             [
              0.2222222222222222,
              "#7201a8"
             ],
             [
              0.3333333333333333,
              "#9c179e"
             ],
             [
              0.4444444444444444,
              "#bd3786"
             ],
             [
              0.5555555555555556,
              "#d8576b"
             ],
             [
              0.6666666666666666,
              "#ed7953"
             ],
             [
              0.7777777777777778,
              "#fb9f3a"
             ],
             [
              0.8888888888888888,
              "#fdca26"
             ],
             [
              1,
              "#f0f921"
             ]
            ],
            "type": "surface"
           }
          ],
          "table": [
           {
            "cells": {
             "fill": {
              "color": "#EBF0F8"
             },
             "line": {
              "color": "white"
             }
            },
            "header": {
             "fill": {
              "color": "#C8D4E3"
             },
             "line": {
              "color": "white"
             }
            },
            "type": "table"
           }
          ]
         },
         "layout": {
          "annotationdefaults": {
           "arrowcolor": "#2a3f5f",
           "arrowhead": 0,
           "arrowwidth": 1
          },
          "autotypenumbers": "strict",
          "coloraxis": {
           "colorbar": {
            "outlinewidth": 0,
            "ticks": ""
           }
          },
          "colorscale": {
           "diverging": [
            [
             0,
             "#8e0152"
            ],
            [
             0.1,
             "#c51b7d"
            ],
            [
             0.2,
             "#de77ae"
            ],
            [
             0.3,
             "#f1b6da"
            ],
            [
             0.4,
             "#fde0ef"
            ],
            [
             0.5,
             "#f7f7f7"
            ],
            [
             0.6,
             "#e6f5d0"
            ],
            [
             0.7,
             "#b8e186"
            ],
            [
             0.8,
             "#7fbc41"
            ],
            [
             0.9,
             "#4d9221"
            ],
            [
             1,
             "#276419"
            ]
           ],
           "sequential": [
            [
             0,
             "#0d0887"
            ],
            [
             0.1111111111111111,
             "#46039f"
            ],
            [
             0.2222222222222222,
             "#7201a8"
            ],
            [
             0.3333333333333333,
             "#9c179e"
            ],
            [
             0.4444444444444444,
             "#bd3786"
            ],
            [
             0.5555555555555556,
             "#d8576b"
            ],
            [
             0.6666666666666666,
             "#ed7953"
            ],
            [
             0.7777777777777778,
             "#fb9f3a"
            ],
            [
             0.8888888888888888,
             "#fdca26"
            ],
            [
             1,
             "#f0f921"
            ]
           ],
           "sequentialminus": [
            [
             0,
             "#0d0887"
            ],
            [
             0.1111111111111111,
             "#46039f"
            ],
            [
             0.2222222222222222,
             "#7201a8"
            ],
            [
             0.3333333333333333,
             "#9c179e"
            ],
            [
             0.4444444444444444,
             "#bd3786"
            ],
            [
             0.5555555555555556,
             "#d8576b"
            ],
            [
             0.6666666666666666,
             "#ed7953"
            ],
            [
             0.7777777777777778,
             "#fb9f3a"
            ],
            [
             0.8888888888888888,
             "#fdca26"
            ],
            [
             1,
             "#f0f921"
            ]
           ]
          },
          "colorway": [
           "#636efa",
           "#EF553B",
           "#00cc96",
           "#ab63fa",
           "#FFA15A",
           "#19d3f3",
           "#FF6692",
           "#B6E880",
           "#FF97FF",
           "#FECB52"
          ],
          "font": {
           "color": "#2a3f5f"
          },
          "geo": {
           "bgcolor": "white",
           "lakecolor": "white",
           "landcolor": "#E5ECF6",
           "showlakes": true,
           "showland": true,
           "subunitcolor": "white"
          },
          "hoverlabel": {
           "align": "left"
          },
          "hovermode": "closest",
          "mapbox": {
           "style": "light"
          },
          "paper_bgcolor": "white",
          "plot_bgcolor": "#E5ECF6",
          "polar": {
           "angularaxis": {
            "gridcolor": "white",
            "linecolor": "white",
            "ticks": ""
           },
           "bgcolor": "#E5ECF6",
           "radialaxis": {
            "gridcolor": "white",
            "linecolor": "white",
            "ticks": ""
           }
          },
          "scene": {
           "xaxis": {
            "backgroundcolor": "#E5ECF6",
            "gridcolor": "white",
            "gridwidth": 2,
            "linecolor": "white",
            "showbackground": true,
            "ticks": "",
            "zerolinecolor": "white"
           },
           "yaxis": {
            "backgroundcolor": "#E5ECF6",
            "gridcolor": "white",
            "gridwidth": 2,
            "linecolor": "white",
            "showbackground": true,
            "ticks": "",
            "zerolinecolor": "white"
           },
           "zaxis": {
            "backgroundcolor": "#E5ECF6",
            "gridcolor": "white",
            "gridwidth": 2,
            "linecolor": "white",
            "showbackground": true,
            "ticks": "",
            "zerolinecolor": "white"
           }
          },
          "shapedefaults": {
           "line": {
            "color": "#2a3f5f"
           }
          },
          "ternary": {
           "aaxis": {
            "gridcolor": "white",
            "linecolor": "white",
            "ticks": ""
           },
           "baxis": {
            "gridcolor": "white",
            "linecolor": "white",
            "ticks": ""
           },
           "bgcolor": "#E5ECF6",
           "caxis": {
            "gridcolor": "white",
            "linecolor": "white",
            "ticks": ""
           }
          },
          "title": {
           "x": 0.05
          },
          "xaxis": {
           "automargin": true,
           "gridcolor": "white",
           "linecolor": "white",
           "ticks": "",
           "title": {
            "standoff": 15
           },
           "zerolinecolor": "white",
           "zerolinewidth": 2
          },
          "yaxis": {
           "automargin": true,
           "gridcolor": "white",
           "linecolor": "white",
           "ticks": "",
           "title": {
            "standoff": 15
           },
           "zerolinecolor": "white",
           "zerolinewidth": 2
          }
         }
        },
        "title": {
         "text": "Education Level of Participants"
        },
        "xaxis": {
         "anchor": "y",
         "categoryarray": [
          "Less than high school",
          "High school",
          "Some college",
          "Bachelor's degree",
          "Master's degree",
          "Doctoral degree",
          "Professional degree"
         ],
         "categoryorder": "array",
         "domain": [
          0,
          1
         ],
         "title": {
          "text": "schooling"
         }
        },
        "yaxis": {
         "anchor": "x",
         "domain": [
          0,
          1
         ],
         "title": {
          "text": "count"
         }
        }
       }
      }
     },
     "metadata": {},
     "output_type": "display_data"
    }
   ],
   "source": [
    "education_mapping = {1:'Less than high school', 2:'High school', 3:'Some college', 4:'Bachelor\\'s degree', 5:'Master\\'s degree', 6:'Doctoral degree', 7:'Professional degree'}\n",
    "\n",
    "combined_temp = combined.copy()\n",
    "combined_temp.schooling = combined_temp.schooling.map(education_mapping)\n",
    "\n",
    "fig = px.histogram(combined_temp, x=\"schooling\", title='Education Level of Participants', color_discrete_sequence=['#0097a7'], category_orders={'schooling':list(education_mapping.values())})\n",
    "fig.show()"
   ]
  },
  {
   "cell_type": "code",
   "execution_count": 156,
   "metadata": {},
   "outputs": [
    {
     "data": {
      "text/html": [
       "<div>\n",
       "<style scoped>\n",
       "    .dataframe tbody tr th:only-of-type {\n",
       "        vertical-align: middle;\n",
       "    }\n",
       "\n",
       "    .dataframe tbody tr th {\n",
       "        vertical-align: top;\n",
       "    }\n",
       "\n",
       "    .dataframe thead th {\n",
       "        text-align: right;\n",
       "    }\n",
       "</style>\n",
       "<table border=\"1\" class=\"dataframe\">\n",
       "  <thead>\n",
       "    <tr style=\"text-align: right;\">\n",
       "      <th></th>\n",
       "      <th>male_lecturers</th>\n",
       "      <th>university_gender_quota</th>\n",
       "      <th>workload_stress</th>\n",
       "      <th>dei_policies</th>\n",
       "      <th>netflix</th>\n",
       "      <th>attention_test</th>\n",
       "      <th>age</th>\n",
       "      <th>gender_identity</th>\n",
       "      <th>schooling</th>\n",
       "      <th>political_alignment</th>\n",
       "      <th>lat</th>\n",
       "      <th>lng</th>\n",
       "      <th>duration</th>\n",
       "      <th>is_direct</th>\n",
       "      <th>has_conformity_trigger</th>\n",
       "      <th>male_lecturers_SDB</th>\n",
       "      <th>university_gender_quota_SDB</th>\n",
       "      <th>workload_stress_SDB</th>\n",
       "      <th>dei_policies_SDB</th>\n",
       "      <th>netflix_SDB</th>\n",
       "    </tr>\n",
       "  </thead>\n",
       "  <tbody>\n",
       "    <tr>\n",
       "      <th>3</th>\n",
       "      <td>2</td>\n",
       "      <td>1</td>\n",
       "      <td>2</td>\n",
       "      <td>1</td>\n",
       "      <td>3</td>\n",
       "      <td>5</td>\n",
       "      <td>35-44</td>\n",
       "      <td>Male</td>\n",
       "      <td>Master's degree</td>\n",
       "      <td>11</td>\n",
       "      <td>41.387</td>\n",
       "      <td>2.1701</td>\n",
       "      <td>166</td>\n",
       "      <td>0</td>\n",
       "      <td>0</td>\n",
       "      <td>0.046923</td>\n",
       "      <td>0.46</td>\n",
       "      <td>-0.23</td>\n",
       "      <td>0.076154</td>\n",
       "      <td>-0.050769</td>\n",
       "    </tr>\n",
       "    <tr>\n",
       "      <th>4</th>\n",
       "      <td>2</td>\n",
       "      <td>2</td>\n",
       "      <td>3</td>\n",
       "      <td>4</td>\n",
       "      <td>3</td>\n",
       "      <td>5</td>\n",
       "      <td>25-34</td>\n",
       "      <td>Female</td>\n",
       "      <td>Bachelor's degree</td>\n",
       "      <td>1</td>\n",
       "      <td>41.387</td>\n",
       "      <td>2.1701</td>\n",
       "      <td>323</td>\n",
       "      <td>0</td>\n",
       "      <td>0</td>\n",
       "      <td>0.046923</td>\n",
       "      <td>0.46</td>\n",
       "      <td>-0.23</td>\n",
       "      <td>0.076154</td>\n",
       "      <td>-0.050769</td>\n",
       "    </tr>\n",
       "    <tr>\n",
       "      <th>9</th>\n",
       "      <td>2</td>\n",
       "      <td>2</td>\n",
       "      <td>2</td>\n",
       "      <td>3</td>\n",
       "      <td>3</td>\n",
       "      <td>5</td>\n",
       "      <td>18-24</td>\n",
       "      <td>Female</td>\n",
       "      <td>Bachelor's degree</td>\n",
       "      <td>-12</td>\n",
       "      <td>41.387</td>\n",
       "      <td>2.1701</td>\n",
       "      <td>315</td>\n",
       "      <td>0</td>\n",
       "      <td>1</td>\n",
       "      <td>0.046923</td>\n",
       "      <td>0.46</td>\n",
       "      <td>-0.23</td>\n",
       "      <td>0.076154</td>\n",
       "      <td>-0.050769</td>\n",
       "    </tr>\n",
       "    <tr>\n",
       "      <th>11</th>\n",
       "      <td>5</td>\n",
       "      <td>4</td>\n",
       "      <td>4</td>\n",
       "      <td>2</td>\n",
       "      <td>2</td>\n",
       "      <td>5</td>\n",
       "      <td>18-24</td>\n",
       "      <td>Male</td>\n",
       "      <td>Bachelor's degree</td>\n",
       "      <td>3</td>\n",
       "      <td>34.0034</td>\n",
       "      <td>-84.4605</td>\n",
       "      <td>210</td>\n",
       "      <td>0</td>\n",
       "      <td>0</td>\n",
       "      <td>0.046923</td>\n",
       "      <td>0.46</td>\n",
       "      <td>-0.23</td>\n",
       "      <td>0.076154</td>\n",
       "      <td>-0.050769</td>\n",
       "    </tr>\n",
       "    <tr>\n",
       "      <th>12</th>\n",
       "      <td>2</td>\n",
       "      <td>1</td>\n",
       "      <td>2</td>\n",
       "      <td>3</td>\n",
       "      <td>3</td>\n",
       "      <td>5</td>\n",
       "      <td>25-34</td>\n",
       "      <td>Female</td>\n",
       "      <td>Bachelor's degree</td>\n",
       "      <td>-41</td>\n",
       "      <td>40.4172</td>\n",
       "      <td>-3.684</td>\n",
       "      <td>572</td>\n",
       "      <td>0</td>\n",
       "      <td>0</td>\n",
       "      <td>0.046923</td>\n",
       "      <td>0.46</td>\n",
       "      <td>-0.23</td>\n",
       "      <td>0.076154</td>\n",
       "      <td>-0.050769</td>\n",
       "    </tr>\n",
       "    <tr>\n",
       "      <th>...</th>\n",
       "      <td>...</td>\n",
       "      <td>...</td>\n",
       "      <td>...</td>\n",
       "      <td>...</td>\n",
       "      <td>...</td>\n",
       "      <td>...</td>\n",
       "      <td>...</td>\n",
       "      <td>...</td>\n",
       "      <td>...</td>\n",
       "      <td>...</td>\n",
       "      <td>...</td>\n",
       "      <td>...</td>\n",
       "      <td>...</td>\n",
       "      <td>...</td>\n",
       "      <td>...</td>\n",
       "      <td>...</td>\n",
       "      <td>...</td>\n",
       "      <td>...</td>\n",
       "      <td>...</td>\n",
       "      <td>...</td>\n",
       "    </tr>\n",
       "    <tr>\n",
       "      <th>106</th>\n",
       "      <td>3</td>\n",
       "      <td>2</td>\n",
       "      <td>3</td>\n",
       "      <td>3</td>\n",
       "      <td>2</td>\n",
       "      <td>5</td>\n",
       "      <td>18-24</td>\n",
       "      <td>Male</td>\n",
       "      <td>Bachelor's degree</td>\n",
       "      <td>-2</td>\n",
       "      <td>40.7123</td>\n",
       "      <td>-74.0068</td>\n",
       "      <td>0</td>\n",
       "      <td>1</td>\n",
       "      <td>0</td>\n",
       "      <td>0.046923</td>\n",
       "      <td>0.46</td>\n",
       "      <td>-0.23</td>\n",
       "      <td>0.076154</td>\n",
       "      <td>-0.050769</td>\n",
       "    </tr>\n",
       "    <tr>\n",
       "      <th>108</th>\n",
       "      <td>3</td>\n",
       "      <td>3</td>\n",
       "      <td>3</td>\n",
       "      <td>3</td>\n",
       "      <td>2</td>\n",
       "      <td>5</td>\n",
       "      <td>18-24</td>\n",
       "      <td>Male</td>\n",
       "      <td>Bachelor's degree</td>\n",
       "      <td>26</td>\n",
       "      <td>30.4062</td>\n",
       "      <td>-87.2182</td>\n",
       "      <td>0</td>\n",
       "      <td>1</td>\n",
       "      <td>1</td>\n",
       "      <td>0.046923</td>\n",
       "      <td>0.46</td>\n",
       "      <td>-0.23</td>\n",
       "      <td>0.076154</td>\n",
       "      <td>-0.050769</td>\n",
       "    </tr>\n",
       "    <tr>\n",
       "      <th>109</th>\n",
       "      <td>2</td>\n",
       "      <td>0</td>\n",
       "      <td>3</td>\n",
       "      <td>2</td>\n",
       "      <td>3</td>\n",
       "      <td>5</td>\n",
       "      <td>18-24</td>\n",
       "      <td>Female</td>\n",
       "      <td>Master's degree</td>\n",
       "      <td>-25</td>\n",
       "      <td>-19.9029</td>\n",
       "      <td>-43.9572</td>\n",
       "      <td>0</td>\n",
       "      <td>1</td>\n",
       "      <td>1</td>\n",
       "      <td>0.046923</td>\n",
       "      <td>0.46</td>\n",
       "      <td>-0.23</td>\n",
       "      <td>0.076154</td>\n",
       "      <td>-0.050769</td>\n",
       "    </tr>\n",
       "    <tr>\n",
       "      <th>112</th>\n",
       "      <td>2</td>\n",
       "      <td>1</td>\n",
       "      <td>3</td>\n",
       "      <td>3</td>\n",
       "      <td>3</td>\n",
       "      <td>5</td>\n",
       "      <td>18-24</td>\n",
       "      <td>Female</td>\n",
       "      <td>Bachelor's degree</td>\n",
       "      <td>-34</td>\n",
       "      <td>49.4645</td>\n",
       "      <td>-122.84</td>\n",
       "      <td>0</td>\n",
       "      <td>1</td>\n",
       "      <td>0</td>\n",
       "      <td>0.046923</td>\n",
       "      <td>0.46</td>\n",
       "      <td>-0.23</td>\n",
       "      <td>0.076154</td>\n",
       "      <td>-0.050769</td>\n",
       "    </tr>\n",
       "    <tr>\n",
       "      <th>114</th>\n",
       "      <td>2</td>\n",
       "      <td>1</td>\n",
       "      <td>3</td>\n",
       "      <td>1</td>\n",
       "      <td>2</td>\n",
       "      <td>5</td>\n",
       "      <td>18-24</td>\n",
       "      <td>Male</td>\n",
       "      <td>High school</td>\n",
       "      <td>-16</td>\n",
       "      <td>51.0109</td>\n",
       "      <td>7.1032</td>\n",
       "      <td>0</td>\n",
       "      <td>1</td>\n",
       "      <td>1</td>\n",
       "      <td>0.046923</td>\n",
       "      <td>0.46</td>\n",
       "      <td>-0.23</td>\n",
       "      <td>0.076154</td>\n",
       "      <td>-0.050769</td>\n",
       "    </tr>\n",
       "  </tbody>\n",
       "</table>\n",
       "<p>102 rows × 20 columns</p>\n",
       "</div>"
      ],
      "text/plain": [
       "0    male_lecturers  university_gender_quota  workload_stress  dei_policies  \\\n",
       "3                 2                        1                2             1   \n",
       "4                 2                        2                3             4   \n",
       "9                 2                        2                2             3   \n",
       "11                5                        4                4             2   \n",
       "12                2                        1                2             3   \n",
       "..              ...                      ...              ...           ...   \n",
       "106               3                        2                3             3   \n",
       "108               3                        3                3             3   \n",
       "109               2                        0                3             2   \n",
       "112               2                        1                3             3   \n",
       "114               2                        1                3             1   \n",
       "\n",
       "0    netflix  attention_test    age gender_identity          schooling  \\\n",
       "3          3               5  35-44            Male    Master's degree   \n",
       "4          3               5  25-34          Female  Bachelor's degree   \n",
       "9          3               5  18-24          Female  Bachelor's degree   \n",
       "11         2               5  18-24            Male  Bachelor's degree   \n",
       "12         3               5  25-34          Female  Bachelor's degree   \n",
       "..       ...             ...    ...             ...                ...   \n",
       "106        2               5  18-24            Male  Bachelor's degree   \n",
       "108        2               5  18-24            Male  Bachelor's degree   \n",
       "109        3               5  18-24          Female    Master's degree   \n",
       "112        3               5  18-24          Female  Bachelor's degree   \n",
       "114        2               5  18-24            Male        High school   \n",
       "\n",
       "0    political_alignment       lat       lng  duration  is_direct  \\\n",
       "3                     11    41.387    2.1701       166          0   \n",
       "4                      1    41.387    2.1701       323          0   \n",
       "9                    -12    41.387    2.1701       315          0   \n",
       "11                     3   34.0034  -84.4605       210          0   \n",
       "12                   -41   40.4172    -3.684       572          0   \n",
       "..                   ...       ...       ...       ...        ...   \n",
       "106                   -2   40.7123  -74.0068         0          1   \n",
       "108                   26   30.4062  -87.2182         0          1   \n",
       "109                  -25  -19.9029  -43.9572         0          1   \n",
       "112                  -34   49.4645   -122.84         0          1   \n",
       "114                  -16   51.0109    7.1032         0          1   \n",
       "\n",
       "0    has_conformity_trigger  male_lecturers_SDB  university_gender_quota_SDB  \\\n",
       "3                         0            0.046923                         0.46   \n",
       "4                         0            0.046923                         0.46   \n",
       "9                         1            0.046923                         0.46   \n",
       "11                        0            0.046923                         0.46   \n",
       "12                        0            0.046923                         0.46   \n",
       "..                      ...                 ...                          ...   \n",
       "106                       0            0.046923                         0.46   \n",
       "108                       1            0.046923                         0.46   \n",
       "109                       1            0.046923                         0.46   \n",
       "112                       0            0.046923                         0.46   \n",
       "114                       1            0.046923                         0.46   \n",
       "\n",
       "0    workload_stress_SDB  dei_policies_SDB  netflix_SDB  \n",
       "3                  -0.23          0.076154    -0.050769  \n",
       "4                  -0.23          0.076154    -0.050769  \n",
       "9                  -0.23          0.076154    -0.050769  \n",
       "11                 -0.23          0.076154    -0.050769  \n",
       "12                 -0.23          0.076154    -0.050769  \n",
       "..                   ...               ...          ...  \n",
       "106                -0.23          0.076154    -0.050769  \n",
       "108                -0.23          0.076154    -0.050769  \n",
       "109                -0.23          0.076154    -0.050769  \n",
       "112                -0.23          0.076154    -0.050769  \n",
       "114                -0.23          0.076154    -0.050769  \n",
       "\n",
       "[102 rows x 20 columns]"
      ]
     },
     "execution_count": 156,
     "metadata": {},
     "output_type": "execute_result"
    }
   ],
   "source": [
    "combined_temp = combined.copy()\n",
    "\n",
    "combined_temp.gender_identity = combined_temp.gender_identity.map({1:'Male',2:'Female'})\n",
    "combined_temp.age = combined_temp.age.map({1:'Under 18',2:'18-24',3:'25-34',4:'35-44',5:'45-54',6:'55-64',7:'65+'})\n",
    "combined_temp.schooling = combined_temp.schooling.map(education_mapping)\n",
    "combined_temp"
   ]
  },
  {
   "cell_type": "code",
   "execution_count": 157,
   "metadata": {},
   "outputs": [
    {
     "data": {
      "text/plain": [
       "gender_identity  age    schooling          \n",
       "Female           18-24  Bachelor's degree      14\n",
       "                        High school             9\n",
       "                        Master's degree         4\n",
       "                        Some college            4\n",
       "                 25-34  Bachelor's degree       9\n",
       "                        Doctoral degree         1\n",
       "                        High school             1\n",
       "                        Master's degree         5\n",
       "                        Professional degree     1\n",
       "Male             18-24  Bachelor's degree      18\n",
       "                        Doctoral degree         1\n",
       "                        High school             8\n",
       "                        Master's degree         1\n",
       "                        Some college            5\n",
       "                 25-34  Bachelor's degree       7\n",
       "                        Doctoral degree         2\n",
       "                        High school             2\n",
       "                        Master's degree         6\n",
       "                        Professional degree     1\n",
       "                 35-44  Master's degree         1\n",
       "                 45-54  Bachelor's degree       1\n",
       "                 55-64  Doctoral degree         1\n",
       "dtype: int64"
      ]
     },
     "execution_count": 157,
     "metadata": {},
     "output_type": "execute_result"
    }
   ],
   "source": [
    "combined_temp.groupby(['gender_identity','age','schooling']).size()"
   ]
  },
  {
   "cell_type": "code",
   "execution_count": 792,
   "metadata": {},
   "outputs": [
    {
     "data": {
      "text/plain": [
       "0\n",
       "male_lecturers              2.159292\n",
       "university_gender_quota    30.666667\n",
       "workload_stress            -8.363636\n",
       "dei_policies                3.168000\n",
       "netflix                    -1.859155\n",
       "dtype: float64"
      ]
     },
     "execution_count": 792,
     "metadata": {},
     "output_type": "execute_result"
    }
   ],
   "source": [
    "# for each question plot the distribution of responses in veiled and unveiled conditions\n",
    "\n",
    "\n",
    "combined_temp = combined.copy()\n",
    "direct = combined_temp.loc[combined_temp['is_direct'] == 1, questions].mean()\n",
    "veiled = combined_temp.loc[combined_temp['is_direct'] == 0, questions].mean()\n",
    "\n",
    "# get pct diff between veiled and unveiled\n",
    "pct_diff = ((veiled - direct)/direct) * 100\n",
    "\n",
    "pct_diff\n",
    "\n",
    "# pct change formula is (new - old)/old * 100"
   ]
  },
  {
   "cell_type": "code",
   "execution_count": 674,
   "metadata": {},
   "outputs": [
    {
     "name": "stdout",
     "output_type": "stream",
     "text": [
      "male_lecturers\n",
      "(102, 20)\n",
      "(99, 20)\n",
      "-26.96426088165763\n",
      "university_gender_quota\n",
      "(99, 20)\n",
      "(99, 20)\n",
      "-15.614857554994584\n",
      "workload_stress\n",
      "(99, 20)\n",
      "(99, 20)\n",
      "19.77357017372632\n",
      "dei_policies\n",
      "(99, 20)\n",
      "(99, 20)\n",
      "-10.251450676982591\n",
      "netflix\n",
      "(99, 20)\n",
      "(99, 20)\n",
      "24.46808510638299\n"
     ]
    }
   ],
   "source": [
    "# for each question plot the distribution of responses in veiled and unveiled conditions\n",
    "\n",
    "\n",
    "combined_temp = combined.copy()\n",
    "for question in questions:\n",
    "    print(question)\n",
    "    print(combined_temp.shape)\n",
    "    combined_temp = combined_temp[(combined_temp[column] > 0) & (combined_temp[column] < 5)]\n",
    "    print(combined_temp.shape)\n",
    "    direct = combined_temp.loc[combined_temp['is_direct'] == 1, question].mean()\n",
    "    veiled = combined_temp.loc[combined_temp['is_direct'] == 0, question].mean()\n",
    "\n",
    "    # get pct diff between veiled and unveiled\n",
    "    pct_diff = ((veiled - direct)/direct) * 100\n",
    "\n",
    "    print(pct_diff)\n",
    "\n",
    "# pct change formula is (new - old)/old * 100"
   ]
  },
  {
   "cell_type": "code",
   "execution_count": 607,
   "metadata": {},
   "outputs": [
    {
     "data": {
      "text/plain": [
       "is_direct  gender_identity\n",
       "0          1                  28\n",
       "           2                  22\n",
       "1          1                  26\n",
       "           2                  26\n",
       "dtype: int64"
      ]
     },
     "execution_count": 607,
     "metadata": {},
     "output_type": "execute_result"
    }
   ],
   "source": [
    "combined.groupby(['is_direct','gender_identity']).size()"
   ]
  },
  {
   "cell_type": "markdown",
   "metadata": {},
   "source": [
    "The expectation is that in the veiled scenario there is a higher number of statements agreed with than in the direct statements\n",
    "\n",
    "32.5% decrease "
   ]
  },
  {
   "cell_type": "code",
   "execution_count": 608,
   "metadata": {},
   "outputs": [
    {
     "data": {
      "text/plain": [
       "gender_identity  workload_stress\n",
       "1                2                  0.500000\n",
       "                 3                  0.307692\n",
       "                 1                  0.076923\n",
       "                 4                  0.076923\n",
       "                 0                  0.038462\n",
       "2                2                  0.769231\n",
       "                 1                  0.115385\n",
       "                 3                  0.076923\n",
       "                 0                  0.038462\n",
       "Name: proportion, dtype: float64"
      ]
     },
     "execution_count": 608,
     "metadata": {},
     "output_type": "execute_result"
    }
   ],
   "source": [
    "combined_temp.loc[combined_temp['is_direct'] == 1].groupby('gender_identity')['workload_stress'].value_counts(normalize=True)"
   ]
  },
  {
   "cell_type": "code",
   "execution_count": 609,
   "metadata": {},
   "outputs": [],
   "source": [
    "combined_temp.gender_identity = combined_temp.gender_identity.map({1:'Male',2:'Female'})\n",
    "combined_temp.is_direct = combined_temp.is_direct.map({0:'Veiled',1:'Direct'})"
   ]
  },
  {
   "cell_type": "code",
   "execution_count": 610,
   "metadata": {},
   "outputs": [],
   "source": [
    "from tabulate import tabulate\n"
   ]
  },
  {
   "cell_type": "code",
   "execution_count": 611,
   "metadata": {},
   "outputs": [],
   "source": [
    "for question in questions:\n",
    "    table = combined_temp.groupby(['is_direct','gender_identity'])[question].value_counts(normalize=True)\n",
    "    table = pd.DataFrame(table)\n",
    "    table = table.rename(columns={'proportion':'percentage'})\n",
    "    table = table.reset_index()\n",
    "    table = table.pivot_table(index=['is_direct','gender_identity'], columns=question, values='percentage')\n",
    "    table.to_csv(f'{question}_table.csv')\n"
   ]
  },
  {
   "cell_type": "code",
   "execution_count": 660,
   "metadata": {},
   "outputs": [
    {
     "name": "stdout",
     "output_type": "stream",
     "text": [
      "(102, 20)\n",
      "(24, 20)\n"
     ]
    }
   ],
   "source": [
    "combined_educ = combined.copy()\n",
    "combined_educ.schooling = combined_educ.schooling.map(education_mapping)\n",
    "\n",
    "print(combined_educ.shape)\n",
    "combined_educ = combined_educ.loc[combined_educ.schooling.isin([\"Master's degree\",\"Doctoral degree\",\"Professional degree\"])]\n",
    "print(combined_educ.shape)"
   ]
  },
  {
   "cell_type": "code",
   "execution_count": 661,
   "metadata": {},
   "outputs": [
    {
     "data": {
      "text/html": [
       "<div>\n",
       "<style scoped>\n",
       "    .dataframe tbody tr th:only-of-type {\n",
       "        vertical-align: middle;\n",
       "    }\n",
       "\n",
       "    .dataframe tbody tr th {\n",
       "        vertical-align: top;\n",
       "    }\n",
       "\n",
       "    .dataframe thead th {\n",
       "        text-align: right;\n",
       "    }\n",
       "</style>\n",
       "<table border=\"1\" class=\"dataframe\">\n",
       "  <thead>\n",
       "    <tr style=\"text-align: right;\">\n",
       "      <th></th>\n",
       "      <th>male_lecturers</th>\n",
       "      <th>university_gender_quota</th>\n",
       "      <th>workload_stress</th>\n",
       "      <th>dei_policies</th>\n",
       "      <th>netflix</th>\n",
       "      <th>attention_test</th>\n",
       "      <th>age</th>\n",
       "      <th>gender_identity</th>\n",
       "      <th>schooling</th>\n",
       "      <th>political_alignment</th>\n",
       "      <th>lat</th>\n",
       "      <th>lng</th>\n",
       "      <th>duration</th>\n",
       "      <th>is_direct</th>\n",
       "      <th>has_conformity_trigger</th>\n",
       "      <th>male_lecturers_SDB</th>\n",
       "      <th>university_gender_quota_SDB</th>\n",
       "      <th>workload_stress_SDB</th>\n",
       "      <th>dei_policies_SDB</th>\n",
       "      <th>netflix_SDB</th>\n",
       "    </tr>\n",
       "  </thead>\n",
       "  <tbody>\n",
       "    <tr>\n",
       "      <th>3</th>\n",
       "      <td>2</td>\n",
       "      <td>1</td>\n",
       "      <td>2</td>\n",
       "      <td>1</td>\n",
       "      <td>3</td>\n",
       "      <td>5</td>\n",
       "      <td>4</td>\n",
       "      <td>1</td>\n",
       "      <td>Master's degree</td>\n",
       "      <td>11</td>\n",
       "      <td>41.387</td>\n",
       "      <td>2.1701</td>\n",
       "      <td>166</td>\n",
       "      <td>0</td>\n",
       "      <td>0</td>\n",
       "      <td>-0.722308</td>\n",
       "      <td>-0.309231</td>\n",
       "      <td>0.423846</td>\n",
       "      <td>-0.27</td>\n",
       "      <td>0.526154</td>\n",
       "    </tr>\n",
       "    <tr>\n",
       "      <th>17</th>\n",
       "      <td>2</td>\n",
       "      <td>2</td>\n",
       "      <td>2</td>\n",
       "      <td>3</td>\n",
       "      <td>2</td>\n",
       "      <td>5</td>\n",
       "      <td>3</td>\n",
       "      <td>2</td>\n",
       "      <td>Master's degree</td>\n",
       "      <td>-43</td>\n",
       "      <td>42.3914</td>\n",
       "      <td>-83.1493</td>\n",
       "      <td>323</td>\n",
       "      <td>0</td>\n",
       "      <td>0</td>\n",
       "      <td>-0.722308</td>\n",
       "      <td>-0.309231</td>\n",
       "      <td>0.423846</td>\n",
       "      <td>-0.27</td>\n",
       "      <td>0.526154</td>\n",
       "    </tr>\n",
       "    <tr>\n",
       "      <th>19</th>\n",
       "      <td>2</td>\n",
       "      <td>2</td>\n",
       "      <td>3</td>\n",
       "      <td>2</td>\n",
       "      <td>1</td>\n",
       "      <td>5</td>\n",
       "      <td>3</td>\n",
       "      <td>1</td>\n",
       "      <td>Master's degree</td>\n",
       "      <td>-33</td>\n",
       "      <td>41.387</td>\n",
       "      <td>2.1701</td>\n",
       "      <td>306</td>\n",
       "      <td>0</td>\n",
       "      <td>1</td>\n",
       "      <td>-0.722308</td>\n",
       "      <td>-0.309231</td>\n",
       "      <td>0.423846</td>\n",
       "      <td>-0.27</td>\n",
       "      <td>0.526154</td>\n",
       "    </tr>\n",
       "    <tr>\n",
       "      <th>24</th>\n",
       "      <td>2</td>\n",
       "      <td>3</td>\n",
       "      <td>3</td>\n",
       "      <td>3</td>\n",
       "      <td>3</td>\n",
       "      <td>5</td>\n",
       "      <td>2</td>\n",
       "      <td>2</td>\n",
       "      <td>Master's degree</td>\n",
       "      <td>7</td>\n",
       "      <td>41.387</td>\n",
       "      <td>2.1701</td>\n",
       "      <td>1662</td>\n",
       "      <td>0</td>\n",
       "      <td>0</td>\n",
       "      <td>-0.722308</td>\n",
       "      <td>-0.309231</td>\n",
       "      <td>0.423846</td>\n",
       "      <td>-0.27</td>\n",
       "      <td>0.526154</td>\n",
       "    </tr>\n",
       "    <tr>\n",
       "      <th>26</th>\n",
       "      <td>0</td>\n",
       "      <td>2</td>\n",
       "      <td>1</td>\n",
       "      <td>2</td>\n",
       "      <td>3</td>\n",
       "      <td>5</td>\n",
       "      <td>3</td>\n",
       "      <td>1</td>\n",
       "      <td>Doctoral degree</td>\n",
       "      <td>-29</td>\n",
       "      <td>41.3774</td>\n",
       "      <td>2.141</td>\n",
       "      <td>398</td>\n",
       "      <td>0</td>\n",
       "      <td>1</td>\n",
       "      <td>-0.722308</td>\n",
       "      <td>-0.309231</td>\n",
       "      <td>0.423846</td>\n",
       "      <td>-0.27</td>\n",
       "      <td>0.526154</td>\n",
       "    </tr>\n",
       "    <tr>\n",
       "      <th>28</th>\n",
       "      <td>2</td>\n",
       "      <td>2</td>\n",
       "      <td>0</td>\n",
       "      <td>3</td>\n",
       "      <td>3</td>\n",
       "      <td>5</td>\n",
       "      <td>3</td>\n",
       "      <td>1</td>\n",
       "      <td>Master's degree</td>\n",
       "      <td>-13</td>\n",
       "      <td>41.387</td>\n",
       "      <td>2.1701</td>\n",
       "      <td>336</td>\n",
       "      <td>0</td>\n",
       "      <td>0</td>\n",
       "      <td>-0.722308</td>\n",
       "      <td>-0.309231</td>\n",
       "      <td>0.423846</td>\n",
       "      <td>-0.27</td>\n",
       "      <td>0.526154</td>\n",
       "    </tr>\n",
       "    <tr>\n",
       "      <th>29</th>\n",
       "      <td>3</td>\n",
       "      <td>2</td>\n",
       "      <td>3</td>\n",
       "      <td>4</td>\n",
       "      <td>3</td>\n",
       "      <td>5</td>\n",
       "      <td>3</td>\n",
       "      <td>2</td>\n",
       "      <td>Master's degree</td>\n",
       "      <td>-41</td>\n",
       "      <td>33.7657</td>\n",
       "      <td>-84.2951</td>\n",
       "      <td>196</td>\n",
       "      <td>0</td>\n",
       "      <td>1</td>\n",
       "      <td>-0.722308</td>\n",
       "      <td>-0.309231</td>\n",
       "      <td>0.423846</td>\n",
       "      <td>-0.27</td>\n",
       "      <td>0.526154</td>\n",
       "    </tr>\n",
       "    <tr>\n",
       "      <th>30</th>\n",
       "      <td>2</td>\n",
       "      <td>2</td>\n",
       "      <td>1</td>\n",
       "      <td>3</td>\n",
       "      <td>2</td>\n",
       "      <td>5</td>\n",
       "      <td>3</td>\n",
       "      <td>1</td>\n",
       "      <td>Master's degree</td>\n",
       "      <td>-46</td>\n",
       "      <td>42.4618</td>\n",
       "      <td>14.2052</td>\n",
       "      <td>370</td>\n",
       "      <td>0</td>\n",
       "      <td>0</td>\n",
       "      <td>-0.722308</td>\n",
       "      <td>-0.309231</td>\n",
       "      <td>0.423846</td>\n",
       "      <td>-0.27</td>\n",
       "      <td>0.526154</td>\n",
       "    </tr>\n",
       "    <tr>\n",
       "      <th>35</th>\n",
       "      <td>1</td>\n",
       "      <td>2</td>\n",
       "      <td>4</td>\n",
       "      <td>2</td>\n",
       "      <td>4</td>\n",
       "      <td>5</td>\n",
       "      <td>3</td>\n",
       "      <td>1</td>\n",
       "      <td>Master's degree</td>\n",
       "      <td>50</td>\n",
       "      <td>51.2184</td>\n",
       "      <td>6.7734</td>\n",
       "      <td>152</td>\n",
       "      <td>0</td>\n",
       "      <td>1</td>\n",
       "      <td>-0.722308</td>\n",
       "      <td>-0.309231</td>\n",
       "      <td>0.423846</td>\n",
       "      <td>-0.27</td>\n",
       "      <td>0.526154</td>\n",
       "    </tr>\n",
       "    <tr>\n",
       "      <th>60</th>\n",
       "      <td>3</td>\n",
       "      <td>0</td>\n",
       "      <td>2</td>\n",
       "      <td>2</td>\n",
       "      <td>2</td>\n",
       "      <td>5</td>\n",
       "      <td>2</td>\n",
       "      <td>1</td>\n",
       "      <td>Master's degree</td>\n",
       "      <td>-31</td>\n",
       "      <td>33.7838</td>\n",
       "      <td>-84.4455</td>\n",
       "      <td>371</td>\n",
       "      <td>0</td>\n",
       "      <td>0</td>\n",
       "      <td>-0.722308</td>\n",
       "      <td>-0.309231</td>\n",
       "      <td>0.423846</td>\n",
       "      <td>-0.27</td>\n",
       "      <td>0.526154</td>\n",
       "    </tr>\n",
       "    <tr>\n",
       "      <th>64</th>\n",
       "      <td>3</td>\n",
       "      <td>2</td>\n",
       "      <td>1</td>\n",
       "      <td>2</td>\n",
       "      <td>3</td>\n",
       "      <td>5</td>\n",
       "      <td>3</td>\n",
       "      <td>1</td>\n",
       "      <td>Master's degree</td>\n",
       "      <td>7</td>\n",
       "      <td>50.9298</td>\n",
       "      <td>6.9489</td>\n",
       "      <td>395</td>\n",
       "      <td>0</td>\n",
       "      <td>0</td>\n",
       "      <td>-0.722308</td>\n",
       "      <td>-0.309231</td>\n",
       "      <td>0.423846</td>\n",
       "      <td>-0.27</td>\n",
       "      <td>0.526154</td>\n",
       "    </tr>\n",
       "    <tr>\n",
       "      <th>81</th>\n",
       "      <td>4</td>\n",
       "      <td>2</td>\n",
       "      <td>2</td>\n",
       "      <td>1</td>\n",
       "      <td>3</td>\n",
       "      <td>5</td>\n",
       "      <td>3</td>\n",
       "      <td>1</td>\n",
       "      <td>Doctoral degree</td>\n",
       "      <td>-1</td>\n",
       "      <td>34.0034</td>\n",
       "      <td>-84.4605</td>\n",
       "      <td>475</td>\n",
       "      <td>0</td>\n",
       "      <td>0</td>\n",
       "      <td>-0.722308</td>\n",
       "      <td>-0.309231</td>\n",
       "      <td>0.423846</td>\n",
       "      <td>-0.27</td>\n",
       "      <td>0.526154</td>\n",
       "    </tr>\n",
       "    <tr>\n",
       "      <th>92</th>\n",
       "      <td>2</td>\n",
       "      <td>2</td>\n",
       "      <td>3</td>\n",
       "      <td>2</td>\n",
       "      <td>2</td>\n",
       "      <td>5</td>\n",
       "      <td>3</td>\n",
       "      <td>1</td>\n",
       "      <td>Master's degree</td>\n",
       "      <td>-19</td>\n",
       "      <td>41.387</td>\n",
       "      <td>2.1701</td>\n",
       "      <td>280</td>\n",
       "      <td>0</td>\n",
       "      <td>1</td>\n",
       "      <td>-0.722308</td>\n",
       "      <td>-0.309231</td>\n",
       "      <td>0.423846</td>\n",
       "      <td>-0.27</td>\n",
       "      <td>0.526154</td>\n",
       "    </tr>\n",
       "    <tr>\n",
       "      <th>93</th>\n",
       "      <td>2</td>\n",
       "      <td>2</td>\n",
       "      <td>3</td>\n",
       "      <td>2</td>\n",
       "      <td>3</td>\n",
       "      <td>5</td>\n",
       "      <td>3</td>\n",
       "      <td>2</td>\n",
       "      <td>Professional degree</td>\n",
       "      <td>-19</td>\n",
       "      <td>41.8972</td>\n",
       "      <td>-87.6196</td>\n",
       "      <td>248</td>\n",
       "      <td>0</td>\n",
       "      <td>1</td>\n",
       "      <td>-0.722308</td>\n",
       "      <td>-0.309231</td>\n",
       "      <td>0.423846</td>\n",
       "      <td>-0.27</td>\n",
       "      <td>0.526154</td>\n",
       "    </tr>\n",
       "    <tr>\n",
       "      <th>105</th>\n",
       "      <td>2</td>\n",
       "      <td>2</td>\n",
       "      <td>2</td>\n",
       "      <td>2</td>\n",
       "      <td>3</td>\n",
       "      <td>5</td>\n",
       "      <td>2</td>\n",
       "      <td>1</td>\n",
       "      <td>Doctoral degree</td>\n",
       "      <td>-1</td>\n",
       "      <td>33.8019</td>\n",
       "      <td>-84.3861</td>\n",
       "      <td>223</td>\n",
       "      <td>0</td>\n",
       "      <td>1</td>\n",
       "      <td>-0.722308</td>\n",
       "      <td>-0.309231</td>\n",
       "      <td>0.423846</td>\n",
       "      <td>-0.27</td>\n",
       "      <td>0.526154</td>\n",
       "    </tr>\n",
       "    <tr>\n",
       "      <th>110</th>\n",
       "      <td>2</td>\n",
       "      <td>2</td>\n",
       "      <td>3</td>\n",
       "      <td>4</td>\n",
       "      <td>3</td>\n",
       "      <td>5</td>\n",
       "      <td>2</td>\n",
       "      <td>2</td>\n",
       "      <td>Master's degree</td>\n",
       "      <td>-30</td>\n",
       "      <td>41.387</td>\n",
       "      <td>2.1701</td>\n",
       "      <td>310</td>\n",
       "      <td>0</td>\n",
       "      <td>0</td>\n",
       "      <td>-0.722308</td>\n",
       "      <td>-0.309231</td>\n",
       "      <td>0.423846</td>\n",
       "      <td>-0.27</td>\n",
       "      <td>0.526154</td>\n",
       "    </tr>\n",
       "    <tr>\n",
       "      <th>113</th>\n",
       "      <td>2</td>\n",
       "      <td>2</td>\n",
       "      <td>3</td>\n",
       "      <td>3</td>\n",
       "      <td>3</td>\n",
       "      <td>5</td>\n",
       "      <td>2</td>\n",
       "      <td>2</td>\n",
       "      <td>Master's degree</td>\n",
       "      <td>-20</td>\n",
       "      <td>40.8325</td>\n",
       "      <td>14.2548</td>\n",
       "      <td>233</td>\n",
       "      <td>0</td>\n",
       "      <td>1</td>\n",
       "      <td>-0.722308</td>\n",
       "      <td>-0.309231</td>\n",
       "      <td>0.423846</td>\n",
       "      <td>-0.27</td>\n",
       "      <td>0.526154</td>\n",
       "    </tr>\n",
       "    <tr>\n",
       "      <th>7</th>\n",
       "      <td>3</td>\n",
       "      <td>2</td>\n",
       "      <td>2</td>\n",
       "      <td>2</td>\n",
       "      <td>2</td>\n",
       "      <td>5</td>\n",
       "      <td>3</td>\n",
       "      <td>2</td>\n",
       "      <td>Doctoral degree</td>\n",
       "      <td>-15</td>\n",
       "      <td>50.8655</td>\n",
       "      <td>4.6891</td>\n",
       "      <td>0</td>\n",
       "      <td>1</td>\n",
       "      <td>0</td>\n",
       "      <td>-0.722308</td>\n",
       "      <td>-0.309231</td>\n",
       "      <td>0.423846</td>\n",
       "      <td>-0.27</td>\n",
       "      <td>0.526154</td>\n",
       "    </tr>\n",
       "    <tr>\n",
       "      <th>8</th>\n",
       "      <td>4</td>\n",
       "      <td>2</td>\n",
       "      <td>3</td>\n",
       "      <td>3</td>\n",
       "      <td>1</td>\n",
       "      <td>5</td>\n",
       "      <td>3</td>\n",
       "      <td>1</td>\n",
       "      <td>Professional degree</td>\n",
       "      <td>-9</td>\n",
       "      <td>40.0764</td>\n",
       "      <td>-75.1678</td>\n",
       "      <td>0</td>\n",
       "      <td>1</td>\n",
       "      <td>1</td>\n",
       "      <td>-0.722308</td>\n",
       "      <td>-0.309231</td>\n",
       "      <td>0.423846</td>\n",
       "      <td>-0.27</td>\n",
       "      <td>0.526154</td>\n",
       "    </tr>\n",
       "    <tr>\n",
       "      <th>20</th>\n",
       "      <td>3</td>\n",
       "      <td>2</td>\n",
       "      <td>2</td>\n",
       "      <td>3</td>\n",
       "      <td>2</td>\n",
       "      <td>5</td>\n",
       "      <td>3</td>\n",
       "      <td>2</td>\n",
       "      <td>Master's degree</td>\n",
       "      <td>-34</td>\n",
       "      <td>33.8019</td>\n",
       "      <td>-84.3861</td>\n",
       "      <td>0</td>\n",
       "      <td>1</td>\n",
       "      <td>1</td>\n",
       "      <td>-0.722308</td>\n",
       "      <td>-0.309231</td>\n",
       "      <td>0.423846</td>\n",
       "      <td>-0.27</td>\n",
       "      <td>0.526154</td>\n",
       "    </tr>\n",
       "    <tr>\n",
       "      <th>27</th>\n",
       "      <td>3</td>\n",
       "      <td>1</td>\n",
       "      <td>2</td>\n",
       "      <td>2</td>\n",
       "      <td>3</td>\n",
       "      <td>5</td>\n",
       "      <td>3</td>\n",
       "      <td>2</td>\n",
       "      <td>Master's degree</td>\n",
       "      <td>-24</td>\n",
       "      <td>39.9792</td>\n",
       "      <td>-75.1279</td>\n",
       "      <td>0</td>\n",
       "      <td>1</td>\n",
       "      <td>0</td>\n",
       "      <td>-0.722308</td>\n",
       "      <td>-0.309231</td>\n",
       "      <td>0.423846</td>\n",
       "      <td>-0.27</td>\n",
       "      <td>0.526154</td>\n",
       "    </tr>\n",
       "    <tr>\n",
       "      <th>63</th>\n",
       "      <td>3</td>\n",
       "      <td>2</td>\n",
       "      <td>2</td>\n",
       "      <td>2</td>\n",
       "      <td>4</td>\n",
       "      <td>5</td>\n",
       "      <td>3</td>\n",
       "      <td>2</td>\n",
       "      <td>Master's degree</td>\n",
       "      <td>-16</td>\n",
       "      <td>51.3357</td>\n",
       "      <td>7.0161</td>\n",
       "      <td>0</td>\n",
       "      <td>1</td>\n",
       "      <td>1</td>\n",
       "      <td>-0.722308</td>\n",
       "      <td>-0.309231</td>\n",
       "      <td>0.423846</td>\n",
       "      <td>-0.27</td>\n",
       "      <td>0.526154</td>\n",
       "    </tr>\n",
       "    <tr>\n",
       "      <th>65</th>\n",
       "      <td>3</td>\n",
       "      <td>3</td>\n",
       "      <td>2</td>\n",
       "      <td>2</td>\n",
       "      <td>3</td>\n",
       "      <td>5</td>\n",
       "      <td>6</td>\n",
       "      <td>1</td>\n",
       "      <td>Doctoral degree</td>\n",
       "      <td>3</td>\n",
       "      <td>51.22</td>\n",
       "      <td>6.763</td>\n",
       "      <td>0</td>\n",
       "      <td>1</td>\n",
       "      <td>1</td>\n",
       "      <td>-0.722308</td>\n",
       "      <td>-0.309231</td>\n",
       "      <td>0.423846</td>\n",
       "      <td>-0.27</td>\n",
       "      <td>0.526154</td>\n",
       "    </tr>\n",
       "    <tr>\n",
       "      <th>109</th>\n",
       "      <td>3</td>\n",
       "      <td>1</td>\n",
       "      <td>2</td>\n",
       "      <td>1</td>\n",
       "      <td>2</td>\n",
       "      <td>5</td>\n",
       "      <td>2</td>\n",
       "      <td>2</td>\n",
       "      <td>Master's degree</td>\n",
       "      <td>-25</td>\n",
       "      <td>-19.9029</td>\n",
       "      <td>-43.9572</td>\n",
       "      <td>0</td>\n",
       "      <td>1</td>\n",
       "      <td>1</td>\n",
       "      <td>-0.722308</td>\n",
       "      <td>-0.309231</td>\n",
       "      <td>0.423846</td>\n",
       "      <td>-0.27</td>\n",
       "      <td>0.526154</td>\n",
       "    </tr>\n",
       "  </tbody>\n",
       "</table>\n",
       "</div>"
      ],
      "text/plain": [
       "0    male_lecturers  university_gender_quota  workload_stress  dei_policies  \\\n",
       "3                 2                        1                2             1   \n",
       "17                2                        2                2             3   \n",
       "19                2                        2                3             2   \n",
       "24                2                        3                3             3   \n",
       "26                0                        2                1             2   \n",
       "28                2                        2                0             3   \n",
       "29                3                        2                3             4   \n",
       "30                2                        2                1             3   \n",
       "35                1                        2                4             2   \n",
       "60                3                        0                2             2   \n",
       "64                3                        2                1             2   \n",
       "81                4                        2                2             1   \n",
       "92                2                        2                3             2   \n",
       "93                2                        2                3             2   \n",
       "105               2                        2                2             2   \n",
       "110               2                        2                3             4   \n",
       "113               2                        2                3             3   \n",
       "7                 3                        2                2             2   \n",
       "8                 4                        2                3             3   \n",
       "20                3                        2                2             3   \n",
       "27                3                        1                2             2   \n",
       "63                3                        2                2             2   \n",
       "65                3                        3                2             2   \n",
       "109               3                        1                2             1   \n",
       "\n",
       "0    netflix  attention_test  age  gender_identity            schooling  \\\n",
       "3          3               5    4                1      Master's degree   \n",
       "17         2               5    3                2      Master's degree   \n",
       "19         1               5    3                1      Master's degree   \n",
       "24         3               5    2                2      Master's degree   \n",
       "26         3               5    3                1      Doctoral degree   \n",
       "28         3               5    3                1      Master's degree   \n",
       "29         3               5    3                2      Master's degree   \n",
       "30         2               5    3                1      Master's degree   \n",
       "35         4               5    3                1      Master's degree   \n",
       "60         2               5    2                1      Master's degree   \n",
       "64         3               5    3                1      Master's degree   \n",
       "81         3               5    3                1      Doctoral degree   \n",
       "92         2               5    3                1      Master's degree   \n",
       "93         3               5    3                2  Professional degree   \n",
       "105        3               5    2                1      Doctoral degree   \n",
       "110        3               5    2                2      Master's degree   \n",
       "113        3               5    2                2      Master's degree   \n",
       "7          2               5    3                2      Doctoral degree   \n",
       "8          1               5    3                1  Professional degree   \n",
       "20         2               5    3                2      Master's degree   \n",
       "27         3               5    3                2      Master's degree   \n",
       "63         4               5    3                2      Master's degree   \n",
       "65         3               5    6                1      Doctoral degree   \n",
       "109        2               5    2                2      Master's degree   \n",
       "\n",
       "0    political_alignment       lat       lng  duration  is_direct  \\\n",
       "3                     11    41.387    2.1701       166          0   \n",
       "17                   -43   42.3914  -83.1493       323          0   \n",
       "19                   -33    41.387    2.1701       306          0   \n",
       "24                     7    41.387    2.1701      1662          0   \n",
       "26                   -29   41.3774     2.141       398          0   \n",
       "28                   -13    41.387    2.1701       336          0   \n",
       "29                   -41   33.7657  -84.2951       196          0   \n",
       "30                   -46   42.4618   14.2052       370          0   \n",
       "35                    50   51.2184    6.7734       152          0   \n",
       "60                   -31   33.7838  -84.4455       371          0   \n",
       "64                     7   50.9298    6.9489       395          0   \n",
       "81                    -1   34.0034  -84.4605       475          0   \n",
       "92                   -19    41.387    2.1701       280          0   \n",
       "93                   -19   41.8972  -87.6196       248          0   \n",
       "105                   -1   33.8019  -84.3861       223          0   \n",
       "110                  -30    41.387    2.1701       310          0   \n",
       "113                  -20   40.8325   14.2548       233          0   \n",
       "7                    -15   50.8655    4.6891         0          1   \n",
       "8                     -9   40.0764  -75.1678         0          1   \n",
       "20                   -34   33.8019  -84.3861         0          1   \n",
       "27                   -24   39.9792  -75.1279         0          1   \n",
       "63                   -16   51.3357    7.0161         0          1   \n",
       "65                     3     51.22     6.763         0          1   \n",
       "109                  -25  -19.9029  -43.9572         0          1   \n",
       "\n",
       "0    has_conformity_trigger  male_lecturers_SDB  university_gender_quota_SDB  \\\n",
       "3                         0           -0.722308                    -0.309231   \n",
       "17                        0           -0.722308                    -0.309231   \n",
       "19                        1           -0.722308                    -0.309231   \n",
       "24                        0           -0.722308                    -0.309231   \n",
       "26                        1           -0.722308                    -0.309231   \n",
       "28                        0           -0.722308                    -0.309231   \n",
       "29                        1           -0.722308                    -0.309231   \n",
       "30                        0           -0.722308                    -0.309231   \n",
       "35                        1           -0.722308                    -0.309231   \n",
       "60                        0           -0.722308                    -0.309231   \n",
       "64                        0           -0.722308                    -0.309231   \n",
       "81                        0           -0.722308                    -0.309231   \n",
       "92                        1           -0.722308                    -0.309231   \n",
       "93                        1           -0.722308                    -0.309231   \n",
       "105                       1           -0.722308                    -0.309231   \n",
       "110                       0           -0.722308                    -0.309231   \n",
       "113                       1           -0.722308                    -0.309231   \n",
       "7                         0           -0.722308                    -0.309231   \n",
       "8                         1           -0.722308                    -0.309231   \n",
       "20                        1           -0.722308                    -0.309231   \n",
       "27                        0           -0.722308                    -0.309231   \n",
       "63                        1           -0.722308                    -0.309231   \n",
       "65                        1           -0.722308                    -0.309231   \n",
       "109                       1           -0.722308                    -0.309231   \n",
       "\n",
       "0    workload_stress_SDB  dei_policies_SDB  netflix_SDB  \n",
       "3               0.423846             -0.27     0.526154  \n",
       "17              0.423846             -0.27     0.526154  \n",
       "19              0.423846             -0.27     0.526154  \n",
       "24              0.423846             -0.27     0.526154  \n",
       "26              0.423846             -0.27     0.526154  \n",
       "28              0.423846             -0.27     0.526154  \n",
       "29              0.423846             -0.27     0.526154  \n",
       "30              0.423846             -0.27     0.526154  \n",
       "35              0.423846             -0.27     0.526154  \n",
       "60              0.423846             -0.27     0.526154  \n",
       "64              0.423846             -0.27     0.526154  \n",
       "81              0.423846             -0.27     0.526154  \n",
       "92              0.423846             -0.27     0.526154  \n",
       "93              0.423846             -0.27     0.526154  \n",
       "105             0.423846             -0.27     0.526154  \n",
       "110             0.423846             -0.27     0.526154  \n",
       "113             0.423846             -0.27     0.526154  \n",
       "7               0.423846             -0.27     0.526154  \n",
       "8               0.423846             -0.27     0.526154  \n",
       "20              0.423846             -0.27     0.526154  \n",
       "27              0.423846             -0.27     0.526154  \n",
       "63              0.423846             -0.27     0.526154  \n",
       "65              0.423846             -0.27     0.526154  \n",
       "109             0.423846             -0.27     0.526154  "
      ]
     },
     "execution_count": 661,
     "metadata": {},
     "output_type": "execute_result"
    }
   ],
   "source": [
    "combined_educ"
   ]
  },
  {
   "cell_type": "code",
   "execution_count": 662,
   "metadata": {},
   "outputs": [
    {
     "data": {
      "text/plain": [
       "0\n",
       "male_lecturers            -32.620321\n",
       "university_gender_quota     1.357466\n",
       "workload_stress             4.313725\n",
       "dei_policies               12.549020\n",
       "netflix                    11.418685\n",
       "dtype: float64"
      ]
     },
     "execution_count": 662,
     "metadata": {},
     "output_type": "execute_result"
    }
   ],
   "source": [
    "# for each question plot the distribution of responses in veiled and unveiled conditions\n",
    "\n",
    "\n",
    "combined_temp = combined_educ.copy()\n",
    "direct = combined_temp.loc[combined_temp['is_direct'] == 1, questions].mean()\n",
    "veiled = combined_temp.loc[combined_temp['is_direct'] == 0, questions].mean()\n",
    "\n",
    "# get pct diff between veiled and unveiled\n",
    "pct_diff = ((veiled - direct)/direct) * 100\n",
    "\n",
    "pct_diff\n",
    "\n",
    "# pct change formula is (new - old)/old * 100"
   ]
  },
  {
   "cell_type": "code",
   "execution_count": 622,
   "metadata": {},
   "outputs": [
    {
     "data": {
      "text/plain": [
       "array([1, 2])"
      ]
     },
     "execution_count": 622,
     "metadata": {},
     "output_type": "execute_result"
    }
   ],
   "source": [
    "combined.gender_identity.unique()"
   ]
  },
  {
   "cell_type": "code",
   "execution_count": 624,
   "metadata": {},
   "outputs": [
    {
     "name": "stdout",
     "output_type": "stream",
     "text": [
      "(102, 20)\n",
      "(48, 20)\n"
     ]
    }
   ],
   "source": [
    "combined_gender = combined.copy()\n",
    "\n",
    "print(combined_gender.shape)\n",
    "combined_gender = combined_gender.loc[combined_gender.gender_identity == 2]\n",
    "print(combined_gender.shape)"
   ]
  },
  {
   "cell_type": "code",
   "execution_count": 626,
   "metadata": {},
   "outputs": [
    {
     "data": {
      "text/plain": [
       "0\n",
       "male_lecturers            -27.515152\n",
       "university_gender_quota    -8.771930\n",
       "workload_stress            32.653061\n",
       "dei_policies               14.430014\n",
       "netflix                    26.332288\n",
       "dtype: float64"
      ]
     },
     "execution_count": 626,
     "metadata": {},
     "output_type": "execute_result"
    }
   ],
   "source": [
    "# for each question plot the distribution of responses in veiled and unveiled conditions\n",
    "\n",
    "\n",
    "combined_temp = combined_gender.copy()\n",
    "direct = combined_temp.loc[combined_temp['is_direct'] == 1, questions].mean()\n",
    "veiled = combined_temp.loc[combined_temp['is_direct'] == 0, questions].mean()\n",
    "\n",
    "# get pct diff between veiled and unveiled\n",
    "pct_diff = ((veiled - direct)/direct) * 100\n",
    "\n",
    "pct_diff\n",
    "\n",
    "# pct change formula is (new - old)/old * 100"
   ]
  },
  {
   "cell_type": "code",
   "execution_count": 627,
   "metadata": {},
   "outputs": [
    {
     "name": "stdout",
     "output_type": "stream",
     "text": [
      "(102, 20)\n",
      "(54, 20)\n"
     ]
    },
    {
     "data": {
      "text/plain": [
       "0\n",
       "male_lecturers            -22.619048\n",
       "university_gender_quota   -17.798595\n",
       "workload_stress             9.880952\n",
       "dei_policies              -26.875000\n",
       "netflix                    23.809524\n",
       "dtype: float64"
      ]
     },
     "execution_count": 627,
     "metadata": {},
     "output_type": "execute_result"
    }
   ],
   "source": [
    "combined_gender = combined.copy()\n",
    "\n",
    "print(combined_gender.shape)\n",
    "combined_gender = combined_gender.loc[combined_gender.gender_identity == 1]\n",
    "print(combined_gender.shape)\n",
    "\n",
    "# for each question plot the distribution of responses in veiled and unveiled conditions\n",
    "\n",
    "\n",
    "combined_temp = combined_gender.copy()\n",
    "direct = combined_temp.loc[combined_temp['is_direct'] == 1, questions].mean()\n",
    "veiled = combined_temp.loc[combined_temp['is_direct'] == 0, questions].mean()\n",
    "\n",
    "# get pct diff between veiled and unveiled\n",
    "pct_diff = ((veiled - direct)/direct) * 100\n",
    "\n",
    "pct_diff\n",
    "\n",
    "# pct change formula is (new - old)/old * 100"
   ]
  },
  {
   "cell_type": "code",
   "execution_count": 663,
   "metadata": {},
   "outputs": [
    {
     "name": "stdout",
     "output_type": "stream",
     "text": [
      "(102, 20)\n",
      "(64, 20)\n"
     ]
    },
    {
     "data": {
      "text/plain": [
       "0\n",
       "male_lecturers            -19.642857\n",
       "university_gender_quota   -10.299003\n",
       "workload_stress            26.901670\n",
       "dei_policies              -15.510204\n",
       "netflix                    23.562152\n",
       "dtype: float64"
      ]
     },
     "execution_count": 663,
     "metadata": {},
     "output_type": "execute_result"
    }
   ],
   "source": [
    "combined_age = combined.copy()\n",
    "\n",
    "print(combined_age.shape)\n",
    "combined_age = combined_age.loc[combined_age.age == 2]\n",
    "print(combined_age.shape)\n",
    "\n",
    "# for each question plot the distribution of responses in veiled and unveiled conditions\n",
    "\n",
    "\n",
    "combined_temp = combined_age.copy()\n",
    "direct = combined_temp.loc[combined_temp['is_direct'] == 1, questions].mean()\n",
    "veiled = combined_temp.loc[combined_temp['is_direct'] == 0, questions].mean()\n",
    "\n",
    "# get pct diff between veiled and unveiled\n",
    "pct_diff = ((veiled - direct)/direct) * 100\n",
    "\n",
    "pct_diff\n",
    "\n",
    "# pct change formula is (new - old)/old * 100"
   ]
  },
  {
   "cell_type": "code",
   "execution_count": 668,
   "metadata": {},
   "outputs": [
    {
     "name": "stdout",
     "output_type": "stream",
     "text": [
      "(102, 20)\n",
      "(35, 20)\n"
     ]
    },
    {
     "data": {
      "text/plain": [
       "0\n",
       "male_lecturers            -31.521739\n",
       "university_gender_quota    -6.896552\n",
       "workload_stress            12.500000\n",
       "dei_policies                6.250000\n",
       "netflix                    26.562500\n",
       "dtype: float64"
      ]
     },
     "execution_count": 668,
     "metadata": {},
     "output_type": "execute_result"
    }
   ],
   "source": [
    "combined_age = combined.copy()\n",
    "\n",
    "print(combined_age.shape)\n",
    "combined_age = combined_age.loc[combined_age.age == 3]\n",
    "print(combined_age.shape)\n",
    "\n",
    "# for each question plot the distribution of responses in veiled and unveiled conditions\n",
    "\n",
    "\n",
    "combined_temp = combined_age.copy()\n",
    "direct = combined_temp.loc[combined_temp['is_direct'] == 1, questions].mean()\n",
    "veiled = combined_temp.loc[combined_temp['is_direct'] == 0, questions].mean()\n",
    "\n",
    "# get pct diff between veiled and unveiled\n",
    "pct_diff = ((veiled - direct)/direct) * 100\n",
    "\n",
    "pct_diff\n",
    "\n",
    "# pct change formula is (new - old)/old * 100"
   ]
  },
  {
   "cell_type": "code",
   "execution_count": null,
   "metadata": {},
   "outputs": [],
   "source": []
  },
  {
   "cell_type": "code",
   "execution_count": null,
   "metadata": {},
   "outputs": [],
   "source": []
  },
  {
   "cell_type": "code",
   "execution_count": 659,
   "metadata": {},
   "outputs": [
    {
     "ename": "JSONDecodeError",
     "evalue": "Expecting value: line 1 column 1 (char 0)",
     "output_type": "error",
     "traceback": [
      "\u001b[0;31m---------------------------------------------------------------------------\u001b[0m",
      "\u001b[0;31mJSONDecodeError\u001b[0m                           Traceback (most recent call last)",
      "\u001b[1;32m/Users/andrewbennett/Documents/bse/term2/behavioural_decision_making/behavioral_cleanup.ipynb Cell 77\u001b[0m line \u001b[0;36m3\n\u001b[1;32m      <a href='vscode-notebook-cell:/Users/andrewbennett/Documents/bse/term2/behavioural_decision_making/behavioral_cleanup.ipynb#Y153sZmlsZQ%3D%3D?line=0'>1</a>\u001b[0m \u001b[39m# read in geojson file\u001b[39;00m\n\u001b[1;32m      <a href='vscode-notebook-cell:/Users/andrewbennett/Documents/bse/term2/behavioural_decision_making/behavioral_cleanup.ipynb#Y153sZmlsZQ%3D%3D?line=1'>2</a>\u001b[0m \u001b[39mimport\u001b[39;00m \u001b[39mjson\u001b[39;00m\n\u001b[0;32m----> <a href='vscode-notebook-cell:/Users/andrewbennett/Documents/bse/term2/behavioural_decision_making/behavioral_cleanup.ipynb#Y153sZmlsZQ%3D%3D?line=2'>3</a>\u001b[0m spain \u001b[39m=\u001b[39m json\u001b[39m.\u001b[39mloads((\u001b[39m'\u001b[39m\u001b[39mspain-detailed-boundary_1037.geojson\u001b[39m\u001b[39m'\u001b[39m))\n\u001b[1;32m      <a href='vscode-notebook-cell:/Users/andrewbennett/Documents/bse/term2/behavioural_decision_making/behavioral_cleanup.ipynb#Y153sZmlsZQ%3D%3D?line=4'>5</a>\u001b[0m \u001b[39m# get boundary coords\u001b[39;00m\n\u001b[1;32m      <a href='vscode-notebook-cell:/Users/andrewbennett/Documents/bse/term2/behavioural_decision_making/behavioral_cleanup.ipynb#Y153sZmlsZQ%3D%3D?line=5'>6</a>\u001b[0m spain\u001b[39m.\u001b[39mkeys()\n",
      "File \u001b[0;32m~/anaconda3/lib/python3.11/json/__init__.py:346\u001b[0m, in \u001b[0;36mloads\u001b[0;34m(s, cls, object_hook, parse_float, parse_int, parse_constant, object_pairs_hook, **kw)\u001b[0m\n\u001b[1;32m    341\u001b[0m     s \u001b[39m=\u001b[39m s\u001b[39m.\u001b[39mdecode(detect_encoding(s), \u001b[39m'\u001b[39m\u001b[39msurrogatepass\u001b[39m\u001b[39m'\u001b[39m)\n\u001b[1;32m    343\u001b[0m \u001b[39mif\u001b[39;00m (\u001b[39mcls\u001b[39m \u001b[39mis\u001b[39;00m \u001b[39mNone\u001b[39;00m \u001b[39mand\u001b[39;00m object_hook \u001b[39mis\u001b[39;00m \u001b[39mNone\u001b[39;00m \u001b[39mand\u001b[39;00m\n\u001b[1;32m    344\u001b[0m         parse_int \u001b[39mis\u001b[39;00m \u001b[39mNone\u001b[39;00m \u001b[39mand\u001b[39;00m parse_float \u001b[39mis\u001b[39;00m \u001b[39mNone\u001b[39;00m \u001b[39mand\u001b[39;00m\n\u001b[1;32m    345\u001b[0m         parse_constant \u001b[39mis\u001b[39;00m \u001b[39mNone\u001b[39;00m \u001b[39mand\u001b[39;00m object_pairs_hook \u001b[39mis\u001b[39;00m \u001b[39mNone\u001b[39;00m \u001b[39mand\u001b[39;00m \u001b[39mnot\u001b[39;00m kw):\n\u001b[0;32m--> 346\u001b[0m     \u001b[39mreturn\u001b[39;00m _default_decoder\u001b[39m.\u001b[39mdecode(s)\n\u001b[1;32m    347\u001b[0m \u001b[39mif\u001b[39;00m \u001b[39mcls\u001b[39m \u001b[39mis\u001b[39;00m \u001b[39mNone\u001b[39;00m:\n\u001b[1;32m    348\u001b[0m     \u001b[39mcls\u001b[39m \u001b[39m=\u001b[39m JSONDecoder\n",
      "File \u001b[0;32m~/anaconda3/lib/python3.11/json/decoder.py:337\u001b[0m, in \u001b[0;36mJSONDecoder.decode\u001b[0;34m(self, s, _w)\u001b[0m\n\u001b[1;32m    332\u001b[0m \u001b[39mdef\u001b[39;00m \u001b[39mdecode\u001b[39m(\u001b[39mself\u001b[39m, s, _w\u001b[39m=\u001b[39mWHITESPACE\u001b[39m.\u001b[39mmatch):\n\u001b[1;32m    333\u001b[0m \u001b[39m    \u001b[39m\u001b[39m\"\"\"Return the Python representation of ``s`` (a ``str`` instance\u001b[39;00m\n\u001b[1;32m    334\u001b[0m \u001b[39m    containing a JSON document).\u001b[39;00m\n\u001b[1;32m    335\u001b[0m \n\u001b[1;32m    336\u001b[0m \u001b[39m    \"\"\"\u001b[39;00m\n\u001b[0;32m--> 337\u001b[0m     obj, end \u001b[39m=\u001b[39m \u001b[39mself\u001b[39m\u001b[39m.\u001b[39mraw_decode(s, idx\u001b[39m=\u001b[39m_w(s, \u001b[39m0\u001b[39m)\u001b[39m.\u001b[39mend())\n\u001b[1;32m    338\u001b[0m     end \u001b[39m=\u001b[39m _w(s, end)\u001b[39m.\u001b[39mend()\n\u001b[1;32m    339\u001b[0m     \u001b[39mif\u001b[39;00m end \u001b[39m!=\u001b[39m \u001b[39mlen\u001b[39m(s):\n",
      "File \u001b[0;32m~/anaconda3/lib/python3.11/json/decoder.py:355\u001b[0m, in \u001b[0;36mJSONDecoder.raw_decode\u001b[0;34m(self, s, idx)\u001b[0m\n\u001b[1;32m    353\u001b[0m     obj, end \u001b[39m=\u001b[39m \u001b[39mself\u001b[39m\u001b[39m.\u001b[39mscan_once(s, idx)\n\u001b[1;32m    354\u001b[0m \u001b[39mexcept\u001b[39;00m \u001b[39mStopIteration\u001b[39;00m \u001b[39mas\u001b[39;00m err:\n\u001b[0;32m--> 355\u001b[0m     \u001b[39mraise\u001b[39;00m JSONDecodeError(\u001b[39m\"\u001b[39m\u001b[39mExpecting value\u001b[39m\u001b[39m\"\u001b[39m, s, err\u001b[39m.\u001b[39mvalue) \u001b[39mfrom\u001b[39;00m \u001b[39mNone\u001b[39;00m\n\u001b[1;32m    356\u001b[0m \u001b[39mreturn\u001b[39;00m obj, end\n",
      "\u001b[0;31mJSONDecodeError\u001b[0m: Expecting value: line 1 column 1 (char 0)"
     ]
    }
   ],
   "source": [
    "# read in geojson file\n",
    "import json\n",
    "spain = json.loads(('spain-detailed-boundary_1037.geojson'))\n",
    "\n",
    "# get boundary coords\n",
    "spain.keys()\n",
    "\n"
   ]
  },
  {
   "cell_type": "code",
   "execution_count": 656,
   "metadata": {},
   "outputs": [
    {
     "data": {
      "text/plain": [
       "0    MULTIPOLYGON (((-5.34073 35.84736, -5.36290 35...\n",
       "Name: geometry, dtype: geometry"
      ]
     },
     "execution_count": 656,
     "metadata": {},
     "output_type": "execute_result"
    }
   ],
   "source": [
    "spain.geometry"
   ]
  },
  {
   "cell_type": "code",
   "execution_count": 657,
   "metadata": {},
   "outputs": [
    {
     "ename": "AttributeError",
     "evalue": "'MultiPolygon' object has no attribute 'exterior'",
     "output_type": "error",
     "traceback": [
      "\u001b[0;31m---------------------------------------------------------------------------\u001b[0m",
      "\u001b[0;31mAttributeError\u001b[0m                            Traceback (most recent call last)",
      "\u001b[1;32m/Users/andrewbennett/Documents/bse/term2/behavioural_decision_making/behavioral_cleanup.ipynb Cell 79\u001b[0m line \u001b[0;36m6\n\u001b[1;32m      <a href='vscode-notebook-cell:/Users/andrewbennett/Documents/bse/term2/behavioural_decision_making/behavioral_cleanup.ipynb#Y154sZmlsZQ%3D%3D?line=3'>4</a>\u001b[0m points \u001b[39m=\u001b[39m []\n\u001b[1;32m      <a href='vscode-notebook-cell:/Users/andrewbennett/Documents/bse/term2/behavioural_decision_making/behavioral_cleanup.ipynb#Y154sZmlsZQ%3D%3D?line=4'>5</a>\u001b[0m \u001b[39mfor\u001b[39;00m polygon \u001b[39min\u001b[39;00m spain\u001b[39m.\u001b[39mgeometry:\n\u001b[0;32m----> <a href='vscode-notebook-cell:/Users/andrewbennett/Documents/bse/term2/behavioural_decision_making/behavioral_cleanup.ipynb#Y154sZmlsZQ%3D%3D?line=5'>6</a>\u001b[0m     points\u001b[39m.\u001b[39mextend(polygon\u001b[39m.\u001b[39mexterior\u001b[39m.\u001b[39mcoords[:\u001b[39m-\u001b[39m\u001b[39m1\u001b[39m])\n",
      "\u001b[0;31mAttributeError\u001b[0m: 'MultiPolygon' object has no attribute 'exterior'"
     ]
    }
   ],
   "source": [
    "# convert spain.geometry.boundary to iterable list\n",
    "\n",
    "# convert spain.geometry.boundary to iterable list\n",
    "points = []\n",
    "for polygon in spain.geometry:\n",
    "    points.extend(polygon.exterior.coords[:-1])\n"
   ]
  },
  {
   "cell_type": "code",
   "execution_count": null,
   "metadata": {},
   "outputs": [],
   "source": []
  },
  {
   "cell_type": "code",
   "execution_count": null,
   "metadata": {},
   "outputs": [],
   "source": []
  },
  {
   "cell_type": "code",
   "execution_count": 633,
   "metadata": {},
   "outputs": [
    {
     "ename": "TypeError",
     "evalue": "'MultiLineString' object is not iterable",
     "output_type": "error",
     "traceback": [
      "\u001b[0;31m---------------------------------------------------------------------------\u001b[0m",
      "\u001b[0;31mTypeError\u001b[0m                                 Traceback (most recent call last)",
      "\u001b[1;32m/Users/andrewbennett/Documents/bse/term2/behavioural_decision_making/behavioral_cleanup.ipynb Cell 78\u001b[0m line \u001b[0;36m3\n\u001b[1;32m     <a href='vscode-notebook-cell:/Users/andrewbennett/Documents/bse/term2/behavioural_decision_making/behavioral_cleanup.ipynb#Y106sZmlsZQ%3D%3D?line=26'>27</a>\u001b[0m combined_spain\u001b[39m.\u001b[39mlng \u001b[39m=\u001b[39m combined_spain\u001b[39m.\u001b[39mlng\u001b[39m.\u001b[39mastype(\u001b[39mfloat\u001b[39m)\n\u001b[1;32m     <a href='vscode-notebook-cell:/Users/andrewbennett/Documents/bse/term2/behavioural_decision_making/behavioral_cleanup.ipynb#Y106sZmlsZQ%3D%3D?line=28'>29</a>\u001b[0m \u001b[39m# Call the function with the entire columns\u001b[39;00m\n\u001b[0;32m---> <a href='vscode-notebook-cell:/Users/andrewbennett/Documents/bse/term2/behavioural_decision_making/behavioral_cleanup.ipynb#Y106sZmlsZQ%3D%3D?line=29'>30</a>\u001b[0m result_gdf \u001b[39m=\u001b[39m check_points_in_spain(combined_spain[\u001b[39m'\u001b[39m\u001b[39mlat\u001b[39m\u001b[39m'\u001b[39m]\u001b[39m.\u001b[39mtolist(), combined_spain[\u001b[39m'\u001b[39m\u001b[39mlng\u001b[39m\u001b[39m'\u001b[39m]\u001b[39m.\u001b[39mtolist())\n\u001b[1;32m     <a href='vscode-notebook-cell:/Users/andrewbennett/Documents/bse/term2/behavioural_decision_making/behavioral_cleanup.ipynb#Y106sZmlsZQ%3D%3D?line=31'>32</a>\u001b[0m \u001b[39m# Assuming result_gdf now contains a 'in_spain' column indicating whether each point is in Spain\u001b[39;00m\n\u001b[1;32m     <a href='vscode-notebook-cell:/Users/andrewbennett/Documents/bse/term2/behavioural_decision_making/behavioral_cleanup.ipynb#Y106sZmlsZQ%3D%3D?line=32'>33</a>\u001b[0m \u001b[39m# You can then merge this result back into your original DataFrame, here's a simple way to add just the 'in_spain' column\u001b[39;00m\n\u001b[1;32m     <a href='vscode-notebook-cell:/Users/andrewbennett/Documents/bse/term2/behavioural_decision_making/behavioral_cleanup.ipynb#Y106sZmlsZQ%3D%3D?line=33'>34</a>\u001b[0m combined_spain[\u001b[39m'\u001b[39m\u001b[39min_spain\u001b[39m\u001b[39m'\u001b[39m] \u001b[39m=\u001b[39m result_gdf[\u001b[39m'\u001b[39m\u001b[39min_spain\u001b[39m\u001b[39m'\u001b[39m]\u001b[39m.\u001b[39mvalues\n",
      "\u001b[1;32m/Users/andrewbennett/Documents/bse/term2/behavioural_decision_making/behavioral_cleanup.ipynb Cell 78\u001b[0m line \u001b[0;36m1\n\u001b[1;32m      <a href='vscode-notebook-cell:/Users/andrewbennett/Documents/bse/term2/behavioural_decision_making/behavioral_cleanup.ipynb#Y106sZmlsZQ%3D%3D?line=6'>7</a>\u001b[0m spain_boundary_coords \u001b[39m=\u001b[39m spain\u001b[39m.\u001b[39mgeometry\u001b[39m.\u001b[39mboundary\n\u001b[1;32m      <a href='vscode-notebook-cell:/Users/andrewbennett/Documents/bse/term2/behavioural_decision_making/behavioral_cleanup.ipynb#Y106sZmlsZQ%3D%3D?line=8'>9</a>\u001b[0m \u001b[39m# Create a Polygon for Spain\u001b[39;00m\n\u001b[0;32m---> <a href='vscode-notebook-cell:/Users/andrewbennett/Documents/bse/term2/behavioural_decision_making/behavioral_cleanup.ipynb#Y106sZmlsZQ%3D%3D?line=9'>10</a>\u001b[0m spain_polygon \u001b[39m=\u001b[39m Polygon(spain_boundary_coords)\n\u001b[1;32m     <a href='vscode-notebook-cell:/Users/andrewbennett/Documents/bse/term2/behavioural_decision_making/behavioral_cleanup.ipynb#Y106sZmlsZQ%3D%3D?line=12'>13</a>\u001b[0m \u001b[39m# Convert input lat and lng to a GeoDataFrame\u001b[39;00m\n\u001b[1;32m     <a href='vscode-notebook-cell:/Users/andrewbennett/Documents/bse/term2/behavioural_decision_making/behavioral_cleanup.ipynb#Y106sZmlsZQ%3D%3D?line=13'>14</a>\u001b[0m points_gdf \u001b[39m=\u001b[39m gpd\u001b[39m.\u001b[39mGeoDataFrame({\u001b[39m'\u001b[39m\u001b[39mlatitude\u001b[39m\u001b[39m'\u001b[39m: lat, \u001b[39m'\u001b[39m\u001b[39mlongitude\u001b[39m\u001b[39m'\u001b[39m: lng},\n\u001b[1;32m     <a href='vscode-notebook-cell:/Users/andrewbennett/Documents/bse/term2/behavioural_decision_making/behavioral_cleanup.ipynb#Y106sZmlsZQ%3D%3D?line=14'>15</a>\u001b[0m                               geometry\u001b[39m=\u001b[39m[Point(xy) \u001b[39mfor\u001b[39;00m xy \u001b[39min\u001b[39;00m \u001b[39mzip\u001b[39m(lng, lat)],\n\u001b[1;32m     <a href='vscode-notebook-cell:/Users/andrewbennett/Documents/bse/term2/behavioural_decision_making/behavioral_cleanup.ipynb#Y106sZmlsZQ%3D%3D?line=15'>16</a>\u001b[0m                               crs\u001b[39m=\u001b[39m\u001b[39m\"\u001b[39m\u001b[39mEPSG:4326\u001b[39m\u001b[39m\"\u001b[39m)\n",
      "File \u001b[0;32m~/anaconda3/lib/python3.11/site-packages/shapely/geometry/polygon.py:230\u001b[0m, in \u001b[0;36mPolygon.__new__\u001b[0;34m(self, shell, holes)\u001b[0m\n\u001b[1;32m    228\u001b[0m     \u001b[39mreturn\u001b[39;00m shell\n\u001b[1;32m    229\u001b[0m \u001b[39melse\u001b[39;00m:\n\u001b[0;32m--> 230\u001b[0m     shell \u001b[39m=\u001b[39m LinearRing(shell)\n\u001b[1;32m    232\u001b[0m \u001b[39mif\u001b[39;00m holes \u001b[39mis\u001b[39;00m \u001b[39mnot\u001b[39;00m \u001b[39mNone\u001b[39;00m:\n\u001b[1;32m    233\u001b[0m     \u001b[39mif\u001b[39;00m \u001b[39mlen\u001b[39m(holes) \u001b[39m==\u001b[39m \u001b[39m0\u001b[39m:\n\u001b[1;32m    234\u001b[0m         \u001b[39m# shapely constructor cannot handle holes=[]\u001b[39;00m\n",
      "File \u001b[0;32m~/anaconda3/lib/python3.11/site-packages/shapely/geometry/polygon.py:93\u001b[0m, in \u001b[0;36mLinearRing.__new__\u001b[0;34m(self, coordinates)\u001b[0m\n\u001b[1;32m     90\u001b[0m     \u001b[39melse\u001b[39;00m:\n\u001b[1;32m     91\u001b[0m         \u001b[39mreturn\u001b[39;00m [\u001b[39mfloat\u001b[39m(c) \u001b[39mfor\u001b[39;00m c \u001b[39min\u001b[39;00m o]\n\u001b[0;32m---> 93\u001b[0m coordinates \u001b[39m=\u001b[39m np\u001b[39m.\u001b[39marray([_coords(o) \u001b[39mfor\u001b[39;00m o \u001b[39min\u001b[39;00m coordinates])\n\u001b[1;32m     94\u001b[0m \u001b[39mif\u001b[39;00m \u001b[39mnot\u001b[39;00m np\u001b[39m.\u001b[39missubdtype(coordinates\u001b[39m.\u001b[39mdtype, np\u001b[39m.\u001b[39mnumber):\n\u001b[1;32m     95\u001b[0m     \u001b[39m# conversion of coords to 2D array failed, this might be due\u001b[39;00m\n\u001b[1;32m     96\u001b[0m     \u001b[39m# to inconsistent coordinate dimensionality\u001b[39;00m\n\u001b[1;32m     97\u001b[0m     \u001b[39mraise\u001b[39;00m \u001b[39mValueError\u001b[39;00m(\u001b[39m\"\u001b[39m\u001b[39mInconsistent coordinate dimensionality\u001b[39m\u001b[39m\"\u001b[39m)\n",
      "File \u001b[0;32m~/anaconda3/lib/python3.11/site-packages/shapely/geometry/polygon.py:93\u001b[0m, in \u001b[0;36m<listcomp>\u001b[0;34m(.0)\u001b[0m\n\u001b[1;32m     90\u001b[0m     \u001b[39melse\u001b[39;00m:\n\u001b[1;32m     91\u001b[0m         \u001b[39mreturn\u001b[39;00m [\u001b[39mfloat\u001b[39m(c) \u001b[39mfor\u001b[39;00m c \u001b[39min\u001b[39;00m o]\n\u001b[0;32m---> 93\u001b[0m coordinates \u001b[39m=\u001b[39m np\u001b[39m.\u001b[39marray([_coords(o) \u001b[39mfor\u001b[39;00m o \u001b[39min\u001b[39;00m coordinates])\n\u001b[1;32m     94\u001b[0m \u001b[39mif\u001b[39;00m \u001b[39mnot\u001b[39;00m np\u001b[39m.\u001b[39missubdtype(coordinates\u001b[39m.\u001b[39mdtype, np\u001b[39m.\u001b[39mnumber):\n\u001b[1;32m     95\u001b[0m     \u001b[39m# conversion of coords to 2D array failed, this might be due\u001b[39;00m\n\u001b[1;32m     96\u001b[0m     \u001b[39m# to inconsistent coordinate dimensionality\u001b[39;00m\n\u001b[1;32m     97\u001b[0m     \u001b[39mraise\u001b[39;00m \u001b[39mValueError\u001b[39;00m(\u001b[39m\"\u001b[39m\u001b[39mInconsistent coordinate dimensionality\u001b[39m\u001b[39m\"\u001b[39m)\n",
      "File \u001b[0;32m~/anaconda3/lib/python3.11/site-packages/shapely/geometry/polygon.py:91\u001b[0m, in \u001b[0;36mLinearRing.__new__.<locals>._coords\u001b[0;34m(o)\u001b[0m\n\u001b[1;32m     89\u001b[0m     \u001b[39mreturn\u001b[39;00m o\u001b[39m.\u001b[39mcoords[\u001b[39m0\u001b[39m]\n\u001b[1;32m     90\u001b[0m \u001b[39melse\u001b[39;00m:\n\u001b[0;32m---> 91\u001b[0m     \u001b[39mreturn\u001b[39;00m [\u001b[39mfloat\u001b[39m(c) \u001b[39mfor\u001b[39;00m c \u001b[39min\u001b[39;00m o]\n",
      "\u001b[0;31mTypeError\u001b[0m: 'MultiLineString' object is not iterable"
     ]
    }
   ],
   "source": [
    "import geopandas as gpd\n",
    "from shapely.geometry import Point, Polygon\n",
    "\n",
    "def check_points_in_spain(lat, lng):\n",
    "    # Define a rough approximation of Spain's boundary (Example coordinates)\n",
    "    # In practice, replace this with accurate Spain geometry, e.g., loaded from a GeoJSON file\n",
    "    spain_boundary_coords = spain.geometry.boundary\n",
    "    \n",
    "    # Create a Polygon for Spain\n",
    "    spain_polygon = Polygon(spain_boundary_coords)\n",
    "    \n",
    "   \n",
    "    # Convert input lat and lng to a GeoDataFrame\n",
    "    points_gdf = gpd.GeoDataFrame({'latitude': lat, 'longitude': lng},\n",
    "                                  geometry=[Point(xy) for xy in zip(lng, lat)],\n",
    "                                  crs=\"EPSG:4326\")\n",
    "    \n",
    "    # Check if each point is within the Spain polygon\n",
    "    points_gdf['in_spain'] = points_gdf.apply(lambda row: row['geometry'].within(spain_polygon), axis=1)\n",
    "    \n",
    "    return points_gdf\n",
    "\n",
    "\n",
    "# apply the function to the lat and lng columns\n",
    "combined_spain = combined.copy()\n",
    "combined_spain.lat = combined_spain.lat.astype(float)\n",
    "combined_spain.lng = combined_spain.lng.astype(float)\n",
    "\n",
    "# Call the function with the entire columns\n",
    "result_gdf = check_points_in_spain(combined_spain['lat'].tolist(), combined_spain['lng'].tolist())\n",
    "\n",
    "# Assuming result_gdf now contains a 'in_spain' column indicating whether each point is in Spain\n",
    "# You can then merge this result back into your original DataFrame, here's a simple way to add just the 'in_spain' column\n",
    "combined_spain['in_spain'] = result_gdf['in_spain'].values\n",
    "\n",
    "combined_spain.in_spain.value_counts()\n"
   ]
  },
  {
   "cell_type": "code",
   "execution_count": null,
   "metadata": {},
   "outputs": [],
   "source": []
  }
 ],
 "metadata": {
  "kernelspec": {
   "display_name": "base",
   "language": "python",
   "name": "python3"
  },
  "language_info": {
   "codemirror_mode": {
    "name": "ipython",
    "version": 3
   },
   "file_extension": ".py",
   "mimetype": "text/x-python",
   "name": "python",
   "nbconvert_exporter": "python",
   "pygments_lexer": "ipython3",
   "version": "3.9.6"
  },
  "orig_nbformat": 4
 },
 "nbformat": 4,
 "nbformat_minor": 2
}
